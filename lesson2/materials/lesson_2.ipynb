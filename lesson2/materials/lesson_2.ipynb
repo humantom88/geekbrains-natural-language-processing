{
  "nbformat": 4,
  "nbformat_minor": 0,
  "metadata": {
    "kernelspec": {
      "display_name": "Python 3",
      "language": "python",
      "name": "python3"
    },
    "language_info": {
      "codemirror_mode": {
        "name": "ipython",
        "version": 3
      },
      "file_extension": ".py",
      "mimetype": "text/x-python",
      "name": "python",
      "nbconvert_exporter": "python",
      "pygments_lexer": "ipython3",
      "version": "3.8.3"
    },
    "colab": {
      "name": "lesson_2.ipynb",
      "provenance": []
    }
  },
  "cells": [
    {
      "cell_type": "markdown",
      "metadata": {
        "id": "jJZrKF7shRB-"
      },
      "source": [
        "### 1. Создание признакового пространства "
      ]
    },
    {
      "cell_type": "markdown",
      "metadata": {
        "id": "TEyYBTWMhRCH"
      },
      "source": [
        "Алгоритмы машинного обучения не могут напрямую работать с сырым текстом, поэтому необходимо конвертировать текст в наборы цифр (векторы). Это называется извлечением признаков.\n",
        "\n",
        "##### Мешок слов\n",
        "– это популярная и простая техника извлечения признаков, используемая при работе с текстом. Она описывает вхождения каждого слова в текст.\n",
        "\n",
        "Чтобы использовать модель, нам нужно:\n",
        "\n",
        "- Определить словарь известных слов (токенов).\n",
        "- Выбрать степень присутствия известных слов.\n",
        "\n",
        "Любая информация о порядке или структуре слов игнорируется. Вот почему это называется МЕШКОМ слов. Эта модель пытается понять, встречается ли знакомое слово в документе, но не знает, где именно оно встречается.\n",
        "\n",
        "Интуиция подсказывает, что схожие документы имеют схожее содержимое. Также, благодаря содержимому, мы можем узнать кое-что о смысле документа.\n",
        "\n",
        "Пример:\n",
        "Рассмотрим шаги создания этой модели. Мы используем только 4 предложения, чтобы понять, как работает модель. В реальной жизни вы столкнетесь с бОльшими объемами данных."
      ]
    },
    {
      "cell_type": "code",
      "metadata": {
        "id": "E_Q5_j3xhRCJ"
      },
      "source": [
        "documents = [\"I like this movie, it's it's it's funny.\", 'I hate this movie.', 'This was awesome! I like it.', 'Nice one. I love it.']"
      ],
      "execution_count": null,
      "outputs": []
    },
    {
      "cell_type": "markdown",
      "metadata": {
        "id": "fPBeK8BhhRCL"
      },
      "source": [
        "Определяем словарь и создаем векторы документа. Соберем все уникальные слова из 4 загруженных предложений, игнорируя регистр, пунктуацию и односимвольные токены. Это и будет наш словарь (известные слова).\n",
        "\n",
        "Для создания словаря можно использовать класс CountVectorizer из библиотеки sklearn."
      ]
    },
    {
      "cell_type": "code",
      "metadata": {
        "id": "mZ7wxsxqhRCM"
      },
      "source": [
        "import warnings\n",
        "warnings.filterwarnings(\"ignore\")"
      ],
      "execution_count": null,
      "outputs": []
    },
    {
      "cell_type": "code",
      "metadata": {
        "id": "LY-Se876hRCN",
        "outputId": "c08abc14-9637-436e-9599-26702ec46b3a"
      },
      "source": [
        "documents"
      ],
      "execution_count": null,
      "outputs": [
        {
          "output_type": "execute_result",
          "data": {
            "text/plain": [
              "[\"I like this movie, it's it's it's funny.\",\n",
              " 'I hate this movie.',\n",
              " 'This was awesome! I like it.',\n",
              " 'Nice one. I love it.']"
            ]
          },
          "metadata": {
            "tags": []
          },
          "execution_count": 7
        }
      ]
    },
    {
      "cell_type": "code",
      "metadata": {
        "id": "tSHmSwFDhRCP",
        "outputId": "987c46bc-a286-4811-995b-06debfeb786c"
      },
      "source": [
        "from sklearn.feature_extraction.text import CountVectorizer\n",
        "import pandas as pd\n",
        "\n",
        "count_vectorizer = CountVectorizer(ngram_range=(1, 2), analyzer='word', binary=False,)\n",
        "\n",
        "# Создаем the Bag-of-Words модель\n",
        "bag_of_words = count_vectorizer.fit_transform(documents)\n",
        "\n",
        "# Отобразим Bag-of-Words модель как DataFrame\n",
        "feature_names = count_vectorizer.get_feature_names()\n",
        "pd.DataFrame(bag_of_words.toarray(), columns = feature_names)"
      ],
      "execution_count": null,
      "outputs": [
        {
          "output_type": "execute_result",
          "data": {
            "text/html": [
              "<div>\n",
              "<style scoped>\n",
              "    .dataframe tbody tr th:only-of-type {\n",
              "        vertical-align: middle;\n",
              "    }\n",
              "\n",
              "    .dataframe tbody tr th {\n",
              "        vertical-align: top;\n",
              "    }\n",
              "\n",
              "    .dataframe thead th {\n",
              "        text-align: right;\n",
              "    }\n",
              "</style>\n",
              "<table border=\"1\" class=\"dataframe\">\n",
              "  <thead>\n",
              "    <tr style=\"text-align: right;\">\n",
              "      <th></th>\n",
              "      <th>awesome</th>\n",
              "      <th>awesome like</th>\n",
              "      <th>funny</th>\n",
              "      <th>hate</th>\n",
              "      <th>hate this</th>\n",
              "      <th>it</th>\n",
              "      <th>it funny</th>\n",
              "      <th>it it</th>\n",
              "      <th>like</th>\n",
              "      <th>like it</th>\n",
              "      <th>...</th>\n",
              "      <th>movie it</th>\n",
              "      <th>nice</th>\n",
              "      <th>nice one</th>\n",
              "      <th>one</th>\n",
              "      <th>one love</th>\n",
              "      <th>this</th>\n",
              "      <th>this movie</th>\n",
              "      <th>this was</th>\n",
              "      <th>was</th>\n",
              "      <th>was awesome</th>\n",
              "    </tr>\n",
              "  </thead>\n",
              "  <tbody>\n",
              "    <tr>\n",
              "      <th>0</th>\n",
              "      <td>0</td>\n",
              "      <td>0</td>\n",
              "      <td>1</td>\n",
              "      <td>0</td>\n",
              "      <td>0</td>\n",
              "      <td>1</td>\n",
              "      <td>1</td>\n",
              "      <td>1</td>\n",
              "      <td>1</td>\n",
              "      <td>0</td>\n",
              "      <td>...</td>\n",
              "      <td>1</td>\n",
              "      <td>0</td>\n",
              "      <td>0</td>\n",
              "      <td>0</td>\n",
              "      <td>0</td>\n",
              "      <td>1</td>\n",
              "      <td>1</td>\n",
              "      <td>0</td>\n",
              "      <td>0</td>\n",
              "      <td>0</td>\n",
              "    </tr>\n",
              "    <tr>\n",
              "      <th>1</th>\n",
              "      <td>0</td>\n",
              "      <td>0</td>\n",
              "      <td>0</td>\n",
              "      <td>1</td>\n",
              "      <td>1</td>\n",
              "      <td>0</td>\n",
              "      <td>0</td>\n",
              "      <td>0</td>\n",
              "      <td>0</td>\n",
              "      <td>0</td>\n",
              "      <td>...</td>\n",
              "      <td>0</td>\n",
              "      <td>0</td>\n",
              "      <td>0</td>\n",
              "      <td>0</td>\n",
              "      <td>0</td>\n",
              "      <td>1</td>\n",
              "      <td>1</td>\n",
              "      <td>0</td>\n",
              "      <td>0</td>\n",
              "      <td>0</td>\n",
              "    </tr>\n",
              "    <tr>\n",
              "      <th>2</th>\n",
              "      <td>1</td>\n",
              "      <td>1</td>\n",
              "      <td>0</td>\n",
              "      <td>0</td>\n",
              "      <td>0</td>\n",
              "      <td>1</td>\n",
              "      <td>0</td>\n",
              "      <td>0</td>\n",
              "      <td>1</td>\n",
              "      <td>1</td>\n",
              "      <td>...</td>\n",
              "      <td>0</td>\n",
              "      <td>0</td>\n",
              "      <td>0</td>\n",
              "      <td>0</td>\n",
              "      <td>0</td>\n",
              "      <td>1</td>\n",
              "      <td>0</td>\n",
              "      <td>1</td>\n",
              "      <td>1</td>\n",
              "      <td>1</td>\n",
              "    </tr>\n",
              "    <tr>\n",
              "      <th>3</th>\n",
              "      <td>0</td>\n",
              "      <td>0</td>\n",
              "      <td>0</td>\n",
              "      <td>0</td>\n",
              "      <td>0</td>\n",
              "      <td>1</td>\n",
              "      <td>0</td>\n",
              "      <td>0</td>\n",
              "      <td>0</td>\n",
              "      <td>0</td>\n",
              "      <td>...</td>\n",
              "      <td>0</td>\n",
              "      <td>1</td>\n",
              "      <td>1</td>\n",
              "      <td>1</td>\n",
              "      <td>1</td>\n",
              "      <td>0</td>\n",
              "      <td>0</td>\n",
              "      <td>0</td>\n",
              "      <td>0</td>\n",
              "      <td>0</td>\n",
              "    </tr>\n",
              "  </tbody>\n",
              "</table>\n",
              "<p>4 rows × 24 columns</p>\n",
              "</div>"
            ],
            "text/plain": [
              "   awesome  awesome like  funny  hate  hate this  it  it funny  it it  like  \\\n",
              "0        0             0      1     0          0   1         1      1     1   \n",
              "1        0             0      0     1          1   0         0      0     0   \n",
              "2        1             1      0     0          0   1         0      0     1   \n",
              "3        0             0      0     0          0   1         0      0     0   \n",
              "\n",
              "   like it  ...  movie it  nice  nice one  one  one love  this  this movie  \\\n",
              "0        0  ...         1     0         0    0         0     1           1   \n",
              "1        0  ...         0     0         0    0         0     1           1   \n",
              "2        1  ...         0     0         0    0         0     1           0   \n",
              "3        0  ...         0     1         1    1         1     0           0   \n",
              "\n",
              "   this was  was  was awesome  \n",
              "0         0    0            0  \n",
              "1         0    0            0  \n",
              "2         1    1            1  \n",
              "3         0    0            0  \n",
              "\n",
              "[4 rows x 24 columns]"
            ]
          },
          "metadata": {
            "tags": []
          },
          "execution_count": 9
        }
      ]
    },
    {
      "cell_type": "markdown",
      "metadata": {
        "id": "SPubmSGbhRCR"
      },
      "source": [
        "Когда размер словаря увеличивается, вектор документа тоже растет. В примере выше, длина вектора равна количеству известных слов.\n",
        "\n",
        "В некоторых случаях, у нас может быть неимоверно большой объем данных и тогда вектор может состоять из тысяч или миллионов элементов. Более того, каждый документ может содержать лишь малую часть слов из словаря.\n",
        "\n",
        "Как следствие, в векторном представлении будет много нулей. Векторы с большим количеством нулей называются разреженным векторами (sparse vectors), они требуют больше памяти и вычислительных ресурсов. Частично эту проблему можно реить хорошей предобработкой.\n"
      ]
    },
    {
      "cell_type": "markdown",
      "metadata": {
        "id": "g-vZDDD8hRCR"
      },
      "source": [
        "##### Мешок N-грамм\n",
        "\n",
        "Другой, более сложный способ создания словаря – использовать сгруппированные слова. Это изменит размер словаря и даст мешку слов больше деталей о документе. Такой подход называется «N-грамма».\n",
        "\n",
        "N-грамма это последовательность каких-либо сущностей (слов, букв, чисел, цифр и т.д.). В контексте языковых корпусов, под N-граммой обычно понимают последовательность слов. Юниграмма это одно слово, биграмма это последовательность двух слов, триграмма – три слова и так далее. Цифра N обозначает, сколько сгруппированных слов входит в N-грамму. В модель попадают не все возможные N-граммы, а только те, что фигурируют в корпусе.\n",
        "\n",
        "Пример:\n",
        "Рассмотрим такое предложение:The office building is open today\n",
        "\n",
        "Вот его биграммы:\n",
        "\n",
        "- the office\n",
        "- office building\n",
        "- building is\n",
        "- is open\n",
        "- open today\n",
        "\n",
        "Как видно, мешок биграмм – это более действенный подход, чем мешок слов."
      ]
    },
    {
      "cell_type": "code",
      "metadata": {
        "id": "SEXYrfcdhRCT"
      },
      "source": [
        "BPE\n",
        "\"I like this movie, it's funny. I hate this movie. This was awesome! I like it. Nice one. I love it.\"\n",
        "\n",
        "nn - t1\n",
        "uy - t2\n",
        "t1u - t3"
      ],
      "execution_count": null,
      "outputs": []
    },
    {
      "cell_type": "code",
      "metadata": {
        "id": "0qlF4DqHhRCT",
        "outputId": "989181e1-0c63-4388-d14c-2b6c631f0f80"
      },
      "source": [
        "from nltk.util import ngrams\n",
        "\n",
        "text = \"I like this movie, it's funny. I hate this movie. This was awesome! I like it. Nice one. I love it.\"\n",
        "tokenized = text.split()\n",
        "bigrams = ngrams(tokenized, 2)\n",
        "list(bigrams)\n"
      ],
      "execution_count": null,
      "outputs": [
        {
          "output_type": "execute_result",
          "data": {
            "text/plain": [
              "[('I', 'like'),\n",
              " ('like', 'this'),\n",
              " ('this', 'movie,'),\n",
              " ('movie,', \"it's\"),\n",
              " (\"it's\", 'funny.'),\n",
              " ('funny.', 'I'),\n",
              " ('I', 'hate'),\n",
              " ('hate', 'this'),\n",
              " ('this', 'movie.'),\n",
              " ('movie.', 'This'),\n",
              " ('This', 'was'),\n",
              " ('was', 'awesome!'),\n",
              " ('awesome!', 'I'),\n",
              " ('I', 'like'),\n",
              " ('like', 'it.'),\n",
              " ('it.', 'Nice'),\n",
              " ('Nice', 'one.'),\n",
              " ('one.', 'I'),\n",
              " ('I', 'love'),\n",
              " ('love', 'it.')]"
            ]
          },
          "metadata": {
            "tags": []
          },
          "execution_count": 11
        }
      ]
    },
    {
      "cell_type": "markdown",
      "metadata": {
        "id": "XSnDZWurhRCV"
      },
      "source": [
        "##### TF-IDF\n",
        "\n",
        "У частотного скоринга есть проблема: слова с наибольшей частотностью имеют, соответственно, наибольшую оценку. В этих словах может быть не так много информационного выигрыша для модели, как в менее частых словах. Один из способов исправить ситуацию – понижать оценку слова, которое часто встречается во всех схожих документах. Это называется TF-IDF.\n",
        "\n",
        "TF-IDF (сокращение от term frequency — inverse document frequency) – это статистическая мера для оценки важности слова в документе, который является частью коллекции или корпуса.\n",
        "\n",
        "Скоринг по TF-IDF растет пропорционально частоте появления слова в документе, но это компенсируется количеством документов, содержащих это слово."
      ]
    },
    {
      "cell_type": "markdown",
      "metadata": {
        "id": "xHU-08mHhRCW"
      },
      "source": [
        "<img src='image/tf_idf.PNG'>"
      ]
    },
    {
      "cell_type": "code",
      "metadata": {
        "id": "XIUrF8uDhRCW",
        "outputId": "060c8b2c-fd1d-4680-ddad-59c1045c3ec2"
      },
      "source": [
        "from sklearn.feature_extraction.text import TfidfVectorizer\n",
        "import pandas as pd\n",
        "\n",
        "document = [\"I like this movie, it's funny funny.\",\n",
        "            'I hate this movie.', \n",
        "            'This was awesome! I like it.', \n",
        "            'Nice one. I love it.']\n",
        "tfidf_vectorizer = TfidfVectorizer()\n",
        "values = tfidf_vectorizer.fit_transform(document)\n",
        "\n",
        "# Show the Model as a pandas DataFrame\n",
        "feature_names = tfidf_vectorizer.get_feature_names()\n",
        "pd.DataFrame(values.toarray(), columns = feature_names)"
      ],
      "execution_count": null,
      "outputs": [
        {
          "output_type": "execute_result",
          "data": {
            "text/html": [
              "<div>\n",
              "<style scoped>\n",
              "    .dataframe tbody tr th:only-of-type {\n",
              "        vertical-align: middle;\n",
              "    }\n",
              "\n",
              "    .dataframe tbody tr th {\n",
              "        vertical-align: top;\n",
              "    }\n",
              "\n",
              "    .dataframe thead th {\n",
              "        text-align: right;\n",
              "    }\n",
              "</style>\n",
              "<table border=\"1\" class=\"dataframe\">\n",
              "  <thead>\n",
              "    <tr style=\"text-align: right;\">\n",
              "      <th></th>\n",
              "      <th>awesome</th>\n",
              "      <th>funny</th>\n",
              "      <th>hate</th>\n",
              "      <th>it</th>\n",
              "      <th>like</th>\n",
              "      <th>love</th>\n",
              "      <th>movie</th>\n",
              "      <th>nice</th>\n",
              "      <th>one</th>\n",
              "      <th>this</th>\n",
              "      <th>was</th>\n",
              "    </tr>\n",
              "  </thead>\n",
              "  <tbody>\n",
              "    <tr>\n",
              "      <th>0</th>\n",
              "      <td>0.000000</td>\n",
              "      <td>0.812578</td>\n",
              "      <td>0.000000</td>\n",
              "      <td>0.259329</td>\n",
              "      <td>0.320323</td>\n",
              "      <td>0.000000</td>\n",
              "      <td>0.320323</td>\n",
              "      <td>0.000000</td>\n",
              "      <td>0.000000</td>\n",
              "      <td>0.259329</td>\n",
              "      <td>0.000000</td>\n",
              "    </tr>\n",
              "    <tr>\n",
              "      <th>1</th>\n",
              "      <td>0.000000</td>\n",
              "      <td>0.000000</td>\n",
              "      <td>0.702035</td>\n",
              "      <td>0.000000</td>\n",
              "      <td>0.000000</td>\n",
              "      <td>0.000000</td>\n",
              "      <td>0.553492</td>\n",
              "      <td>0.000000</td>\n",
              "      <td>0.000000</td>\n",
              "      <td>0.448100</td>\n",
              "      <td>0.000000</td>\n",
              "    </tr>\n",
              "    <tr>\n",
              "      <th>2</th>\n",
              "      <td>0.539445</td>\n",
              "      <td>0.000000</td>\n",
              "      <td>0.000000</td>\n",
              "      <td>0.344321</td>\n",
              "      <td>0.425305</td>\n",
              "      <td>0.000000</td>\n",
              "      <td>0.000000</td>\n",
              "      <td>0.000000</td>\n",
              "      <td>0.000000</td>\n",
              "      <td>0.344321</td>\n",
              "      <td>0.539445</td>\n",
              "    </tr>\n",
              "    <tr>\n",
              "      <th>3</th>\n",
              "      <td>0.000000</td>\n",
              "      <td>0.000000</td>\n",
              "      <td>0.000000</td>\n",
              "      <td>0.345783</td>\n",
              "      <td>0.000000</td>\n",
              "      <td>0.541736</td>\n",
              "      <td>0.000000</td>\n",
              "      <td>0.541736</td>\n",
              "      <td>0.541736</td>\n",
              "      <td>0.000000</td>\n",
              "      <td>0.000000</td>\n",
              "    </tr>\n",
              "  </tbody>\n",
              "</table>\n",
              "</div>"
            ],
            "text/plain": [
              "    awesome     funny      hate        it      like      love     movie  \\\n",
              "0  0.000000  0.812578  0.000000  0.259329  0.320323  0.000000  0.320323   \n",
              "1  0.000000  0.000000  0.702035  0.000000  0.000000  0.000000  0.553492   \n",
              "2  0.539445  0.000000  0.000000  0.344321  0.425305  0.000000  0.000000   \n",
              "3  0.000000  0.000000  0.000000  0.345783  0.000000  0.541736  0.000000   \n",
              "\n",
              "       nice       one      this       was  \n",
              "0  0.000000  0.000000  0.259329  0.000000  \n",
              "1  0.000000  0.000000  0.448100  0.000000  \n",
              "2  0.000000  0.000000  0.344321  0.539445  \n",
              "3  0.541736  0.541736  0.000000  0.000000  "
            ]
          },
          "metadata": {
            "tags": []
          },
          "execution_count": 13
        }
      ]
    },
    {
      "cell_type": "code",
      "metadata": {
        "id": "IzSIXRQihRCX",
        "outputId": "5337c184-47d4-427a-8815-77f3728c0c94"
      },
      "source": [
        "tfidf_vectorizer.idf_"
      ],
      "execution_count": null,
      "outputs": [
        {
          "output_type": "execute_result",
          "data": {
            "text/plain": [
              "array([1.91629073, 1.91629073, 1.91629073, 1.22314355, 1.51082562,\n",
              "       1.91629073, 1.51082562, 1.91629073, 1.91629073, 1.22314355,\n",
              "       1.91629073])"
            ]
          },
          "metadata": {
            "tags": []
          },
          "execution_count": 14
        }
      ]
    },
    {
      "cell_type": "markdown",
      "metadata": {
        "id": "KxN-PbzohRCY"
      },
      "source": [
        "##### HashingVectorizer"
      ]
    },
    {
      "cell_type": "markdown",
      "metadata": {
        "id": "CaFMlFS-hRCZ"
      },
      "source": [
        "Подсчеты и частоты могут быть очень полезны, но одним из ограничений этих методов является то, что словарный запас может стать очень большим. Это, в свою очередь, потребует больших векторов для кодирования документов и налагает большие требования к памяти и замедляет алгоритмы.\n",
        "\n",
        "Умный обходной путь - использовать односторонний хэш слов, чтобы преобразовать их в целые числа. Умная часть заключается в том, что словарь не требуется, и вы можете выбрать произвольный длинный вектор фиксированной длины. Недостатком является то, что хеш является односторонней функцией, поэтому нет способа преобразовать кодировку обратно в слово (что может не иметь значения для многих контролируемых задач обучения).HashingVectorizer класс реализует этот подход, который можно использовать для последовательного хеширования слов, а затем для токенизации и кодирования документов по мере необходимости.\n",
        "\n",
        "Пример ниже демонстрирует HashingVectorizer для кодирования одного документа."
      ]
    },
    {
      "cell_type": "code",
      "metadata": {
        "id": "rPvLqyC6hRCZ",
        "outputId": "788b79ac-1f5f-4535-d1bf-33eb5f0e31ab"
      },
      "source": [
        "from sklearn.feature_extraction.text import HashingVectorizer\n",
        "\n",
        "document = [\"I like this movie, it's funny.\", 'I hate this movie.', 'This was awesome! I like it.', 'Nice one. I love it.']\n",
        "vectorizer = HashingVectorizer(n_features=2**4,)\n",
        "values = vectorizer.fit_transform(document)\n",
        "print(values.shape)\n",
        "print(values.toarray())"
      ],
      "execution_count": null,
      "outputs": [
        {
          "output_type": "stream",
          "text": [
            "(4, 16)\n",
            "[[ 0.37796447  0.          0.          0.          0.          0.\n",
            "   0.         -0.37796447  0.          0.         -0.37796447  0.\n",
            "   0.          0.          0.75592895  0.        ]\n",
            " [ 0.          0.          0.         -0.57735027  0.          0.\n",
            "   0.          0.          0.          0.         -0.57735027  0.\n",
            "   0.          0.          0.57735027  0.        ]\n",
            " [ 0.          0.4472136   0.          0.          0.          0.\n",
            "   0.          0.          0.          0.          0.          0.\n",
            "   0.          0.          0.89442719  0.        ]\n",
            " [ 0.          0.          0.          0.         -0.5         0.\n",
            "   0.          0.          0.         -0.5         0.          0.\n",
            "   0.          0.5         0.5         0.        ]]\n"
          ],
          "name": "stdout"
        }
      ]
    },
    {
      "cell_type": "markdown",
      "metadata": {
        "id": "2ivnksO6hRCa"
      },
      "source": [
        "Выполнение примера кодирует образец документа как разреженный массив из 16 элементов. Значения закодированного документа соответствуют нормализованному количеству слов по умолчанию в диапазоне от -1 до 1, но могут быть сделаны простые целочисленные счетчики путем изменения конфигурации по умолчанию."
      ]
    },
    {
      "cell_type": "markdown",
      "metadata": {
        "id": "zVeuac9uhRCb"
      },
      "source": [
        "##### Для чего нужны Vectorizers?"
      ]
    },
    {
      "cell_type": "markdown",
      "metadata": {
        "id": "BJfjSWZ7hRCb"
      },
      "source": [
        "Алгоритмы машинного обучения не могут напрямую работать с сырым текстом, поэтому необходимо конвертировать текст в наборы цифр (векторы). Уже с векторным представлением можно производить классификацию, к примеру."
      ]
    },
    {
      "cell_type": "code",
      "metadata": {
        "id": "wnD8TcRyhRCc",
        "outputId": "1a1becd2-8650-49b9-d411-b7b1704b7723"
      },
      "source": [
        "# Загружаем данные\n",
        "data = open('corpus').read()\n",
        "labels, texts = [], []\n",
        "for i, line in enumerate(data.split(\"\\n\")):\n",
        "    content = line.split()\n",
        "    labels.append(content[0])\n",
        "    texts.append(\" \".join(content[1:]))\n",
        "\n",
        "# создаем df\n",
        "trainDF = pd.DataFrame()\n",
        "trainDF['text'] = texts\n",
        "trainDF['label'] = labels\n",
        "trainDF.head(5)"
      ],
      "execution_count": null,
      "outputs": [
        {
          "output_type": "execute_result",
          "data": {
            "text/html": [
              "<div>\n",
              "<style scoped>\n",
              "    .dataframe tbody tr th:only-of-type {\n",
              "        vertical-align: middle;\n",
              "    }\n",
              "\n",
              "    .dataframe tbody tr th {\n",
              "        vertical-align: top;\n",
              "    }\n",
              "\n",
              "    .dataframe thead th {\n",
              "        text-align: right;\n",
              "    }\n",
              "</style>\n",
              "<table border=\"1\" class=\"dataframe\">\n",
              "  <thead>\n",
              "    <tr style=\"text-align: right;\">\n",
              "      <th></th>\n",
              "      <th>text</th>\n",
              "      <th>label</th>\n",
              "    </tr>\n",
              "  </thead>\n",
              "  <tbody>\n",
              "    <tr>\n",
              "      <th>0</th>\n",
              "      <td>Stuning even for the non-gamer: This sound tra...</td>\n",
              "      <td>__label__2</td>\n",
              "    </tr>\n",
              "    <tr>\n",
              "      <th>1</th>\n",
              "      <td>The best soundtrack ever to anything.: I'm rea...</td>\n",
              "      <td>__label__2</td>\n",
              "    </tr>\n",
              "    <tr>\n",
              "      <th>2</th>\n",
              "      <td>Amazing!: This soundtrack is my favorite music...</td>\n",
              "      <td>__label__2</td>\n",
              "    </tr>\n",
              "    <tr>\n",
              "      <th>3</th>\n",
              "      <td>Excellent Soundtrack: I truly like this soundt...</td>\n",
              "      <td>__label__2</td>\n",
              "    </tr>\n",
              "    <tr>\n",
              "      <th>4</th>\n",
              "      <td>Remember, Pull Your Jaw Off The Floor After He...</td>\n",
              "      <td>__label__2</td>\n",
              "    </tr>\n",
              "  </tbody>\n",
              "</table>\n",
              "</div>"
            ],
            "text/plain": [
              "                                                text       label\n",
              "0  Stuning even for the non-gamer: This sound tra...  __label__2\n",
              "1  The best soundtrack ever to anything.: I'm rea...  __label__2\n",
              "2  Amazing!: This soundtrack is my favorite music...  __label__2\n",
              "3  Excellent Soundtrack: I truly like this soundt...  __label__2\n",
              "4  Remember, Pull Your Jaw Off The Floor After He...  __label__2"
            ]
          },
          "metadata": {
            "tags": []
          },
          "execution_count": 8
        }
      ]
    },
    {
      "cell_type": "code",
      "metadata": {
        "id": "eB_c21p_hRCd"
      },
      "source": [
        "from sklearn import model_selection, preprocessing, linear_model"
      ],
      "execution_count": null,
      "outputs": []
    },
    {
      "cell_type": "code",
      "metadata": {
        "id": "mTFuU4kghRCd"
      },
      "source": [
        "linear_model.LogisticRegression()"
      ],
      "execution_count": null,
      "outputs": []
    },
    {
      "cell_type": "code",
      "metadata": {
        "id": "wKZRxZWvhRCf",
        "outputId": "31531533-be39-41a8-d76b-2830b556a4f0"
      },
      "source": [
        "from sklearn import model_selection, preprocessing, linear_model,\n",
        "train_x, valid_x, train_y, valid_y = model_selection.train_test_split(trainDF['text'], trainDF['label'])\n",
        "\n",
        "# labelEncode целевую переменную\n",
        "encoder = preprocessing.LabelEncoder()\n",
        "train_y = encoder.fit_transform(train_y)\n",
        "valid_y = encoder.fit_transform(valid_y)\n",
        "\n",
        "\n",
        "count_vect = CountVectorizer(analyzer='word', token_pattern=r'\\w{1,}')\n",
        "count_vect.fit(trainDF['text'])\n",
        "\n",
        "xtrain_count =  count_vect.transform(train_x)\n",
        "xvalid_count =  count_vect.transform(valid_x)\n",
        "\n",
        "classifier = linear_model.LogisticRegression()\n",
        "classifier.fit(xtrain_count, train_y)\n",
        "predictions = classifier.predict(xvalid_count)\n",
        "predictions"
      ],
      "execution_count": null,
      "outputs": [
        {
          "output_type": "execute_result",
          "data": {
            "text/plain": [
              "array([1, 0, 0, ..., 0, 1, 0])"
            ]
          },
          "metadata": {
            "tags": []
          },
          "execution_count": 9
        }
      ]
    },
    {
      "cell_type": "code",
      "metadata": {
        "id": "H-X1MN32hRCg"
      },
      "source": [
        "from sklearn.metrics import accuracy_score"
      ],
      "execution_count": null,
      "outputs": []
    },
    {
      "cell_type": "code",
      "metadata": {
        "id": "8ktHUYDNhRCh",
        "outputId": "e180d6f1-cfc3-480f-b709-eab46e4b3f08"
      },
      "source": [
        "accuracy_score(valid_y, predictionsictions)"
      ],
      "execution_count": null,
      "outputs": [
        {
          "output_type": "execute_result",
          "data": {
            "text/plain": [
              "0.8624"
            ]
          },
          "metadata": {
            "tags": []
          },
          "execution_count": 30
        }
      ]
    },
    {
      "cell_type": "code",
      "metadata": {
        "id": "ayHAlVg0hRCi",
        "outputId": "954053a6-9d1d-4984-d7ad-4bd9a9f0b12e"
      },
      "source": [
        "trainDF['label'].value_counts()"
      ],
      "execution_count": null,
      "outputs": [
        {
          "output_type": "execute_result",
          "data": {
            "text/plain": [
              "__label__1    5097\n",
              "__label__2    4903\n",
              "Name: label, dtype: int64"
            ]
          },
          "metadata": {
            "tags": []
          },
          "execution_count": 32
        }
      ]
    },
    {
      "cell_type": "markdown",
      "metadata": {
        "id": "If2vwR8KhRCj"
      },
      "source": [
        "### Векторные представления слов (word embeddings)"
      ]
    },
    {
      "cell_type": "markdown",
      "metadata": {
        "id": "oK4jw0iAhRCj"
      },
      "source": [
        "Векторное представление слова (word embedding) — вещественный вектор в пространстве с фиксированной невысокой размерностью.\n",
        "\n",
        "                                            Пример векторных представлений слов (2D t-SNE)\n",
        "<img src='image/2D_tsne.PNG'>\n",
        "\n",
        "Зачем нужны Word embeddings?\n",
        "Сжатые векторные представления слов\n",
        "1. полезны сами по себе, например, для поиска\n",
        "синонимов или опечаток в поисковых запросах.\n",
        "2. используются в качестве признаков для решения\n",
        "самых различных задач: выявление именованных сущностей, тэгирование частей речи, машинный перевод, кластеризация документов, ранжирование документов, анализ тональности текста."
      ]
    },
    {
      "cell_type": "markdown",
      "metadata": {
        "id": "0-eEfKPNhRCn"
      },
      "source": [
        "#### word2vec"
      ]
    },
    {
      "cell_type": "markdown",
      "metadata": {
        "id": "ufWSrxP7hRCr"
      },
      "source": [
        "Мера семантической близости — мера близости, предназначенная для количественной оценки семантической схожести слов. Такая мера показывает высокие значения для пар слов, находящихся в семантических отношениях (синонимия, ассоциативность и т.д.), и нулевые значения для всех остальных пар.\n",
        "\n",
        "word2vec - алгоритм для получения векторных представлений слов. Подход основан на важной гипотезе, которую в науке принято называть гипотезой локальности — “слова, которые встречаются в одинаковых окружениях, имеют близкие значения”. Близость в данном случае понимается очень широко, как то, что рядом могут стоять только сочетающиеся слова. Например, для нас привычно словосочетание \"заводной будильник\". А сказать “заводной апельсин” мы не можем* — эти слова не сочетаются.\n",
        "\n",
        "##### Алгоритм word2vec\n",
        "Мы будем предсказывать вероятность слова по его окружению (контексту). То есть мы будем учить такие вектора слов, чтобы вероятность, присваиваемая моделью слову была близка к вероятности встретить это слово в этом окружении в реальном тексте.\n",
        "\n",
        "\n",
        "\n"
      ]
    },
    {
      "cell_type": "markdown",
      "metadata": {
        "id": "bRJm325_hRCs"
      },
      "source": [
        "<img src='image/w2v_formula.PNG'>"
      ]
    },
    {
      "cell_type": "markdown",
      "metadata": {
        "id": "ABjgiOu2hRCs"
      },
      "source": [
        "Здесь W0 — вектор целевого слова, Wc — это некоторый вектор контекста, вычисленный (например, путем усреднения) из векторов окружающих нужное слово других слов. А S — это функция, которая двум векторам сопоставляет одно число. Например, это может быть косинусное расстояние.\n",
        "\n",
        "Процесс тренировки устроен следующим образом: мы берем последовательно (2k+1) слов, слово в центре является тем словом, которое должно быть предсказано. А окружающие слова являются контекстом длины по k с каждой стороны. Каждому слову в нашей модели сопоставлен уникальный вектор, который мы меняем в процессе обучения нашей модели. В целом, этот подход называется CBOW — continuous bag of words, continuous потому, что мы скармливаем нашей модели последовательно наборы слов из текста, a BoW потому что порядок слов в контексте не важен.\n",
        "<img src='image/CBOW_.png'>\n",
        "Другой подход skip-gram — прямо противоположный CBOW, то есть “словосочетание с пропуском”. Мы пытаемся из данного нам слова угадать его контекст (точнее вектор контекста). В остальном модель не претерпевает изменений.\n",
        "<img src='image/skipgram.png'>\n",
        "\n",
        "Что стоит отметить: хотя в модель не заложено явно никакой семантики, а только статистические свойства корпусов текстов, оказывается, что натренированная модель word2vec может улавливать некоторые семантические свойства слов. Классический пример:\n",
        "\n",
        "<img src='image/word_embeddings.PNG'>\n",
        "\n",
        "Слово \"мужчина\" относится к слову \"женщина\" так же, как слово \"дядя\" к слову \"тётя\", что для нас совершенно естественно и понятно, но в других моделям добиться такого же соотношения векторов можно только с помощью специальных ухищрений. Здесь же — это происходит естественно из самого корпуса текстов."
      ]
    },
    {
      "cell_type": "markdown",
      "metadata": {
        "id": "IW2hzd8WhRCt"
      },
      "source": [
        "#### Что мы можем попробовать сделать с векторами слов?\n",
        "\n",
        "Мы можем делать различные синтаксические, семантические NLP задачи с векторами слов, некоторое из них уже встроены. \n"
      ]
    },
    {
      "cell_type": "code",
      "metadata": {
        "id": "b7C3dmofhRCt"
      },
      "source": [
        "import gensim.downloader as api"
      ],
      "execution_count": null,
      "outputs": []
    },
    {
      "cell_type": "code",
      "metadata": {
        "scrolled": false,
        "id": "_lf8v6jLhRCu",
        "outputId": "81e4acaa-aeba-4498-ac73-beb65cd26f26"
      },
      "source": [
        "api.info()['models'].keys()"
      ],
      "execution_count": null,
      "outputs": [
        {
          "output_type": "execute_result",
          "data": {
            "text/plain": [
              "dict_keys(['fasttext-wiki-news-subwords-300', 'conceptnet-numberbatch-17-06-300', 'word2vec-ruscorpora-300', 'word2vec-google-news-300', 'glove-wiki-gigaword-50', 'glove-wiki-gigaword-100', 'glove-wiki-gigaword-200', 'glove-wiki-gigaword-300', 'glove-twitter-25', 'glove-twitter-50', 'glove-twitter-100', 'glove-twitter-200', '__testing_word2vec-matrix-synopsis'])"
            ]
          },
          "metadata": {
            "tags": []
          },
          "execution_count": 9
        }
      ]
    },
    {
      "cell_type": "code",
      "metadata": {
        "id": "ZIgkhf2thRCu"
      },
      "source": [
        ""
      ],
      "execution_count": null,
      "outputs": []
    },
    {
      "cell_type": "code",
      "metadata": {
        "id": "EiLsF7unhRCv",
        "outputId": "f139957f-a43b-476d-ab71-fb729d3ab7fb"
      },
      "source": [
        "import gensim.downloader as api\n",
        "\n",
        "word_vectors = api.load(\"glove-wiki-gigaword-100\")  # загрузим предтренированные вектора слов из gensim-data\n",
        "# выведим слово наиболее близкое к 'woman', 'king' и далекое от 'man'\n",
        "result = word_vectors.most_similar(positive=['woman', 'king'], negative=['man'])\n",
        "print(\"{}: {:.4f}\".format(*result[0]))"
      ],
      "execution_count": null,
      "outputs": [
        {
          "output_type": "stream",
          "text": [
            "[==================================================] 100.0% 128.1/128.1MB downloaded\n",
            "queen: 0.7699\n"
          ],
          "name": "stdout"
        }
      ]
    },
    {
      "cell_type": "code",
      "metadata": {
        "id": "su8nF1SihRCw",
        "outputId": "8a1e7d8b-b5fd-48ee-bfb5-849551b0544c"
      },
      "source": [
        "# выведем лишнее слово\n",
        "print(word_vectors.doesnt_match(\"breakfast cereal dinner lunch\".split()))\n",
        "\n",
        "print(word_vectors.doesnt_match(\"black green summer brown\".split()))"
      ],
      "execution_count": null,
      "outputs": [
        {
          "output_type": "stream",
          "text": [
            "cereal\n",
            "summer\n"
          ],
          "name": "stdout"
        }
      ]
    },
    {
      "cell_type": "code",
      "metadata": {
        "id": "GQuDJQwEhRCw",
        "outputId": "5ef5de97-ec92-42f2-9af9-c60d7c590499"
      },
      "source": [
        "# определим схожесть между словами\n",
        "similarity = word_vectors.similarity('woman', 'man')\n",
        "print(similarity)\n",
        "\n",
        "similarity = word_vectors.similarity('human', 'man')\n",
        "print(similarity)\n",
        "\n",
        "similarity = word_vectors.similarity('bee', 'man')\n",
        "print(similarity)"
      ],
      "execution_count": null,
      "outputs": [
        {
          "output_type": "stream",
          "text": [
            "0.8323495\n",
            "0.5288512\n",
            "0.21199903\n"
          ],
          "name": "stdout"
        }
      ]
    },
    {
      "cell_type": "code",
      "metadata": {
        "id": "NDk3WUg8hRCx",
        "outputId": "fc0660c7-9306-496b-820f-be3c2e2ca628"
      },
      "source": [
        "# найдем top-3 самых близких слов\n",
        "result = word_vectors.similar_by_word(\"man\", topn=3)\n",
        "print(result)\n",
        "\n",
        "result = word_vectors.similar_by_word(\"cat\", topn=3)\n",
        "print(result)\n",
        "\n",
        "result = word_vectors.similar_by_word(\"mouth\", topn=3)\n",
        "print(result)"
      ],
      "execution_count": null,
      "outputs": [
        {
          "output_type": "stream",
          "text": [
            "[('woman', 0.832349419593811), ('boy', 0.7914870977401733), ('one', 0.7788748741149902)]\n",
            "[('dog', 0.8798074722290039), ('rabbit', 0.7424426674842834), ('cats', 0.7323004007339478)]\n",
            "[('tongue', 0.7366125583648682), ('mouths', 0.687748908996582), ('ear', 0.6811771988868713)]\n"
          ],
          "name": "stdout"
        }
      ]
    },
    {
      "cell_type": "markdown",
      "metadata": {
        "id": "VW5snIg_hRCy"
      },
      "source": [
        "# Simple chat-bot example"
      ]
    },
    {
      "cell_type": "code",
      "metadata": {
        "id": "fz7rWaqjhRCy"
      },
      "source": [
        "import string\n",
        "from pymorphy2 import MorphAnalyzer\n",
        "from stop_words import get_stop_words\n",
        "import annoy\n",
        "from gensim.models import Word2Vec, FastText\n",
        "import pickle\n",
        "import numpy as np\n",
        "from tqdm import tqdm_notebook"
      ],
      "execution_count": null,
      "outputs": []
    },
    {
      "cell_type": "code",
      "metadata": {
        "id": "-bZ70yMOhRCy",
        "colab": {
          "referenced_widgets": [
            "078a45d3e6214b00bcd86157e7520a9c"
          ]
        },
        "outputId": "b1bf34aa-1393-415d-db5c-705554325358"
      },
      "source": [
        "assert True\n",
        "\n",
        "#Small preprocess of the answers\n",
        "\n",
        "question = None\n",
        "written = False\n",
        "\n",
        "with open(\"prepared_answers.txt\", \"w\") as fout:\n",
        "    with open(\"Otvety.txt\", \"r\") as fin:\n",
        "        for line in tqdm_notebook(fin):\n",
        "            if line.startswith(\"---\"):\n",
        "                written = False\n",
        "                continue\n",
        "            if not written and question is not None:\n",
        "                fout.write(question.replace(\"\\t\", \" \").strip() + \"\\t\" + line.replace(\"\\t\", \" \"))\n",
        "                written = True\n",
        "                question = None\n",
        "                continue\n",
        "            if not written:\n",
        "                question = line.strip()\n",
        "                continue"
      ],
      "execution_count": null,
      "outputs": [
        {
          "output_type": "display_data",
          "data": {
            "application/vnd.jupyter.widget-view+json": {
              "model_id": "078a45d3e6214b00bcd86157e7520a9c",
              "version_major": 2,
              "version_minor": 0
            },
            "text/plain": [
              "HBox(children=(HTML(value=''), FloatProgress(value=1.0, bar_style='info', layout=Layout(width='20px'), max=1.0…"
            ]
          },
          "metadata": {
            "tags": []
          }
        },
        {
          "output_type": "stream",
          "text": [
            "\n"
          ],
          "name": "stdout"
        }
      ]
    },
    {
      "cell_type": "code",
      "metadata": {
        "id": "8P6wJtvnhRCz"
      },
      "source": [
        "def preprocess_txt(line):\n",
        "    spls = \"\".join(i for i in line.strip() if i not in exclude).split()\n",
        "    spls = [morpher.parse(i.lower())[0].normal_form for i in spls]\n",
        "    spls = [i for i in spls if i not in sw and i != \"\"]\n",
        "    return spls"
      ],
      "execution_count": null,
      "outputs": []
    },
    {
      "cell_type": "code",
      "metadata": {
        "id": "N-zYvryAhRC0",
        "colab": {
          "referenced_widgets": [
            "da9a6fb692184516bd6dfde2f72c7c1a"
          ]
        },
        "outputId": "3ba97a83-4c64-4f36-c8f1-7c2e8201bca5"
      },
      "source": [
        "assert True\n",
        "\n",
        "# Preprocess for models fitting\n",
        "\n",
        "sentences = []\n",
        "\n",
        "morpher = MorphAnalyzer()\n",
        "sw = set(get_stop_words(\"ru\"))\n",
        "exclude = set(string.punctuation)\n",
        "c = 0\n",
        "\n",
        "with open(\"Otvety.txt\", \"r\") as fin:\n",
        "    for line in tqdm_notebook(fin):\n",
        "        spls = preprocess_txt(line)\n",
        "        sentences.append(spls)\n",
        "        c += 1\n",
        "        if c > 100000:\n",
        "            break"
      ],
      "execution_count": null,
      "outputs": [
        {
          "output_type": "display_data",
          "data": {
            "application/vnd.jupyter.widget-view+json": {
              "model_id": "da9a6fb692184516bd6dfde2f72c7c1a",
              "version_major": 2,
              "version_minor": 0
            },
            "text/plain": [
              "HBox(children=(HTML(value=''), FloatProgress(value=1.0, bar_style='info', layout=Layout(width='20px'), max=1.0…"
            ]
          },
          "metadata": {
            "tags": []
          }
        },
        {
          "output_type": "stream",
          "text": [
            "\n"
          ],
          "name": "stdout"
        }
      ]
    },
    {
      "cell_type": "code",
      "metadata": {
        "id": "SZ0rcyT7hRC0"
      },
      "source": [
        "sentences = [i for i in sentences if len(i) > 2]"
      ],
      "execution_count": null,
      "outputs": []
    },
    {
      "cell_type": "code",
      "metadata": {
        "id": "X7ddojf-hRC1",
        "outputId": "28d18b35-e8b2-4088-aaf1-fdb2201e182b"
      },
      "source": [
        "sentences[0]"
      ],
      "execution_count": null,
      "outputs": [
        {
          "output_type": "execute_result",
          "data": {
            "text/plain": [
              "['вопрос', 'тдв', 'отдыхать', 'лично', 'советовать', 'завести']"
            ]
          },
          "metadata": {
            "tags": []
          },
          "execution_count": 21
        }
      ]
    },
    {
      "cell_type": "code",
      "metadata": {
        "id": "deTWHDLrhRC3"
      },
      "source": [
        "modelW2V = Word2Vec(sentences=sentences, size=50, window=5, min_count=1)"
      ],
      "execution_count": null,
      "outputs": []
    },
    {
      "cell_type": "code",
      "metadata": {
        "id": "-jEAAsFuhRC4"
      },
      "source": [
        "modelFT = FastText(sentences=sentences, size=50, min_count=1, window=5)"
      ],
      "execution_count": null,
      "outputs": []
    },
    {
      "cell_type": "code",
      "metadata": {
        "id": "4f-US0-1hRC5",
        "colab": {
          "referenced_widgets": [
            "c36ed2f3f56644ada4e175f4b22a4caa"
          ]
        },
        "outputId": "2d0f5a05-6e3f-4f45-dd01-f26ae8819941"
      },
      "source": [
        "w2v_index = annoy.AnnoyIndex(50 ,'angular')\n",
        "ft_index = annoy.AnnoyIndex(50 ,'angular')\n",
        "\n",
        "index_map = {}\n",
        "counter = 0\n",
        "\n",
        "with open(\"prepared_answers.txt\", \"r\") as f:\n",
        "    for line in tqdm_notebook(f):\n",
        "        n_w2v = 0\n",
        "        n_ft = 0\n",
        "        spls = line.split(\"\\t\")\n",
        "        index_map[counter] = spls[1]\n",
        "        question = preprocess_txt(spls[0])\n",
        "        \n",
        "        vector_w2v = np.zeros(50)\n",
        "        vector_ft = np.zeros(50)\n",
        "        for word in question:\n",
        "            if word in modelW2V:\n",
        "                vector_w2v += modelW2V[word]\n",
        "                n_w2v += 1\n",
        "            if word in modelFT:\n",
        "                vector_ft += modelFT[word]\n",
        "                n_ft += 1\n",
        "        if n_w2v > 0:\n",
        "            vector_w2v = vector_w2v / n_w2v\n",
        "        if n_ft > 0:\n",
        "            vector_ft = vector_ft / n_ft\n",
        "        w2v_index.add_item(counter, vector_w2v)\n",
        "        ft_index.add_item(counter, vector_ft)\n",
        "            \n",
        "        counter += 1\n",
        "        \n",
        "        if counter > 100000:\n",
        "            break\n",
        "\n",
        "w2v_index.build(10)\n",
        "ft_index.build(10)"
      ],
      "execution_count": null,
      "outputs": [
        {
          "output_type": "display_data",
          "data": {
            "application/vnd.jupyter.widget-view+json": {
              "model_id": "c36ed2f3f56644ada4e175f4b22a4caa",
              "version_major": 2,
              "version_minor": 0
            },
            "text/plain": [
              "HBox(children=(HTML(value=''), FloatProgress(value=1.0, bar_style='info', layout=Layout(width='20px'), max=1.0…"
            ]
          },
          "metadata": {
            "tags": []
          }
        },
        {
          "output_type": "stream",
          "text": [
            "\n"
          ],
          "name": "stdout"
        },
        {
          "output_type": "execute_result",
          "data": {
            "text/plain": [
              "True"
            ]
          },
          "metadata": {
            "tags": []
          },
          "execution_count": 24
        }
      ]
    },
    {
      "cell_type": "code",
      "metadata": {
        "id": "qk8TDR5UhRC7"
      },
      "source": [
        "def get_response(question, index, model, index_map):\n",
        "    question = preprocess_txt(question)\n",
        "    vector = np.zeros(50)\n",
        "    norm = 0\n",
        "    for word in question:\n",
        "        if word in model:\n",
        "            vector += model[word]\n",
        "            norm += 1\n",
        "    if norm > 0:\n",
        "        vector = vector / norm\n",
        "    answers = index.get_nns_by_vector(vector, 3)\n",
        "    return [index_map[i] for i in answers]"
      ],
      "execution_count": null,
      "outputs": []
    },
    {
      "cell_type": "code",
      "metadata": {
        "id": "vB4OzidLhRC7"
      },
      "source": [
        "TEXT = \"тапочки какого цвета\""
      ],
      "execution_count": null,
      "outputs": []
    },
    {
      "cell_type": "code",
      "metadata": {
        "id": "rZ_N3KyEhRC8",
        "colab": {
          "base_uri": "https://localhost:8080/",
          "height": 163
        },
        "outputId": "ee7d4f40-307a-45ba-92cf-ba121e72ac4d"
      },
      "source": [
        "get_response(TEXT, w2v_index, modelW2V, index_map)"
      ],
      "execution_count": null,
      "outputs": [
        {
          "output_type": "error",
          "ename": "NameError",
          "evalue": "ignored",
          "traceback": [
            "\u001b[0;31m---------------------------------------------------------------------------\u001b[0m",
            "\u001b[0;31mNameError\u001b[0m                                 Traceback (most recent call last)",
            "\u001b[0;32m<ipython-input-2-e21df4cbaa81>\u001b[0m in \u001b[0;36m<module>\u001b[0;34m()\u001b[0m\n\u001b[0;32m----> 1\u001b[0;31m \u001b[0mget_response\u001b[0m\u001b[0;34m(\u001b[0m\u001b[0mTEXT\u001b[0m\u001b[0;34m,\u001b[0m \u001b[0mw2v_index\u001b[0m\u001b[0;34m,\u001b[0m \u001b[0mmodelW2V\u001b[0m\u001b[0;34m,\u001b[0m \u001b[0mindex_map\u001b[0m\u001b[0;34m)\u001b[0m\u001b[0;34m\u001b[0m\u001b[0;34m\u001b[0m\u001b[0m\n\u001b[0m",
            "\u001b[0;31mNameError\u001b[0m: name 'get_response' is not defined"
          ]
        }
      ]
    },
    {
      "cell_type": "code",
      "metadata": {
        "id": "8JTdpSAVhRC8",
        "outputId": "fe3e623b-7fca-49e3-d9e7-a3f6e585c651"
      },
      "source": [
        "get_response(TEXT, ft_index, modelFT, index_map)"
      ],
      "execution_count": null,
      "outputs": [
        {
          "output_type": "execute_result",
          "data": {
            "text/plain": [
              "['[ссылка заблокирована по решению администрации проекта]. \\n',\n",
              " '<p>Шартрёз (от фр.\\xa0chartreuse)\\xa0— оттенок жёлто-зелёного цвета. Цвет шартрёз находится примерно посередине частот видимого спектра[источник?]. </p> <p>Своим названием цвет обязан ликёру шартрёз. </p> <p>Существуют два оттенка шартрёз: </p> <ul> <li>Зелёный шартрёз #7FFF00 — схож с цветом ликёра «зелёный шартрёз», цвет которого обусловлен настоем из 130 трав, входящим в его состав (зелёный пигмент\\xa0— это в основном хлорофилл).</li></ul> <ul> <li>Жёлтый шартрёз #DFFF00 \\xa0— схож с цветом ликёра «жёлтый шартрёз», изготовленного с применением тех же растений, что и зелёный, но в других пропорциях. Пигмент, определяющий цвет напитка\\xa0— шафран.</li></ul>. \\n',\n",
              " 'Калом бур, а телом бел, как Ржевский. \\n']"
            ]
          },
          "metadata": {
            "tags": []
          },
          "execution_count": 50
        }
      ]
    },
    {
      "cell_type": "code",
      "metadata": {
        "id": "paQdgQRmhRC9"
      },
      "source": [
        "(12,3,9,0,)/"
      ],
      "execution_count": null,
      "outputs": []
    }
  ]
}