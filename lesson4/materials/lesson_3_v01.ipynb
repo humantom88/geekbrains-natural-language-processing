{
  "nbformat": 4,
  "nbformat_minor": 0,
  "metadata": {
    "kernelspec": {
      "display_name": "Python 3",
      "language": "python",
      "name": "python3"
    },
    "language_info": {
      "codemirror_mode": {
        "name": "ipython",
        "version": 3
      },
      "file_extension": ".py",
      "mimetype": "text/x-python",
      "name": "python",
      "nbconvert_exporter": "python",
      "pygments_lexer": "ipython3",
      "version": "3.8.3"
    },
    "colab": {
      "name": "lesson_3-v01.ipynb",
      "provenance": []
    },
    "accelerator": "GPU"
  },
  "cells": [
    {
      "cell_type": "markdown",
      "metadata": {
        "id": "JklgsG778Fxy"
      },
      "source": [
        "# Тематическое моделирование\n",
        "\n",
        "<img src='image/tm.webp'>\n"
      ]
    },
    {
      "cell_type": "code",
      "metadata": {
        "id": "lVxFPyrrGQ-c"
      },
      "source": [
        ""
      ],
      "execution_count": null,
      "outputs": []
    },
    {
      "cell_type": "code",
      "metadata": {
        "colab": {
          "base_uri": "https://localhost:8080/"
        },
        "id": "n43zRoDS-sxN",
        "outputId": "0d6280a3-f02a-4517-f43f-bff4ccfc4674"
      },
      "source": [
        "import nltk\n",
        "nltk.download('stopwords')"
      ],
      "execution_count": null,
      "outputs": [
        {
          "output_type": "stream",
          "text": [
            "[nltk_data] Downloading package stopwords to /root/nltk_data...\n",
            "[nltk_data]   Unzipping corpora/stopwords.zip.\n"
          ],
          "name": "stdout"
        },
        {
          "output_type": "execute_result",
          "data": {
            "text/plain": [
              "True"
            ]
          },
          "metadata": {
            "tags": []
          },
          "execution_count": 1
        }
      ]
    },
    {
      "cell_type": "code",
      "metadata": {
        "colab": {
          "base_uri": "https://localhost:8080/"
        },
        "id": "Pmfaoj9u8Fx7",
        "outputId": "38772f65-013e-4ad7-ce29-d9ebbc0d3ec6"
      },
      "source": [
        "import re\n",
        "import numpy as np\n",
        "import pandas as pd\n",
        "import gensim\n",
        "import gensim.corpora as corpora\n",
        "from gensim.utils import simple_preprocess\n",
        "from gensim.models import CoherenceModel\n",
        "import matplotlib.pyplot as plt\n",
        "%matplotlib inline\n",
        "from nltk.corpus import stopwords\n",
        "\n",
        "\n",
        "df = pd.read_json('https://raw.githubusercontent.com/selva86/datasets/master/newsgroups.json')\n",
        "print(df.target_names.unique())\n",
        "stop_words = stopwords.words('english')\n",
        "stop_words.extend(['from', 'subject', 're', 'edu', 'use'])"
      ],
      "execution_count": null,
      "outputs": [
        {
          "output_type": "stream",
          "text": [
            "['rec.autos' 'comp.sys.mac.hardware' 'comp.graphics' 'sci.space'\n",
            " 'talk.politics.guns' 'sci.med' 'comp.sys.ibm.pc.hardware'\n",
            " 'comp.os.ms-windows.misc' 'rec.motorcycles' 'talk.religion.misc'\n",
            " 'misc.forsale' 'alt.atheism' 'sci.electronics' 'comp.windows.x'\n",
            " 'rec.sport.hockey' 'rec.sport.baseball' 'soc.religion.christian'\n",
            " 'talk.politics.mideast' 'talk.politics.misc' 'sci.crypt']\n"
          ],
          "name": "stdout"
        }
      ]
    },
    {
      "cell_type": "code",
      "metadata": {
        "colab": {
          "base_uri": "https://localhost:8080/",
          "height": 87
        },
        "id": "H3kSKioV8Fx-",
        "outputId": "9eaa3c26-41df-45d5-ba24-ea5dd786ae57"
      },
      "source": [
        "df['content'][0]"
      ],
      "execution_count": null,
      "outputs": [
        {
          "output_type": "execute_result",
          "data": {
            "application/vnd.google.colaboratory.intrinsic+json": {
              "type": "string"
            },
            "text/plain": [
              "\"From: lerxst@wam.umd.edu (where's my thing)\\nSubject: WHAT car is this!?\\nNntp-Posting-Host: rac3.wam.umd.edu\\nOrganization: University of Maryland, College Park\\nLines: 15\\n\\n I was wondering if anyone out there could enlighten me on this car I saw\\nthe other day. It was a 2-door sports car, looked to be from the late 60s/\\nearly 70s. It was called a Bricklin. The doors were really small. In addition,\\nthe front bumper was separate from the rest of the body. This is \\nall I know. If anyone can tellme a model name, engine specs, years\\nof production, where this car is made, history, or whatever info you\\nhave on this funky looking car, please e-mail.\\n\\nThanks,\\n- IL\\n   ---- brought to you by your neighborhood Lerxst ----\\n\\n\\n\\n\\n\""
            ]
          },
          "metadata": {
            "tags": []
          },
          "execution_count": 3
        }
      ]
    },
    {
      "cell_type": "code",
      "metadata": {
        "id": "jnF99Kot8Fx-"
      },
      "source": [
        "data = df.content.values.tolist()\n",
        "\n",
        "data = [re.sub('\\S*@\\S*\\s?', '', sent) for sent in data]\n",
        "data = [re.sub('\\s+', ' ', sent) for sent in data]\n",
        "data = [re.sub(\"\\'\", \"\", sent) for sent in data]"
      ],
      "execution_count": null,
      "outputs": []
    },
    {
      "cell_type": "code",
      "metadata": {
        "colab": {
          "base_uri": "https://localhost:8080/"
        },
        "id": "pA_cdjUn8Fx_",
        "outputId": "982b4b3e-c058-4fa6-d94f-5156d2edc939"
      },
      "source": [
        "def sent_to_words(sentences):\n",
        "    for sentence in sentences:\n",
        "        yield(gensim.utils.simple_preprocess(str(sentence), deacc=True))\n",
        "\n",
        "data_words = list(sent_to_words(data))\n",
        "bigram = gensim.models.Phrases(data_words, min_count=5, threshold=100)\n",
        "trigram = gensim.models.Phrases(bigram[data_words], threshold=100)  \n",
        "bigram_mod = gensim.models.phrases.Phraser(bigram)\n",
        "trigram_mod = gensim.models.phrases.Phraser(trigram)\n",
        "print(trigram_mod[bigram_mod[data_words[0]]])"
      ],
      "execution_count": null,
      "outputs": [
        {
          "output_type": "stream",
          "text": [
            "/usr/local/lib/python3.7/dist-packages/gensim/models/phrases.py:598: UserWarning: For a faster implementation, use the gensim.models.phrases.Phraser class\n",
            "  warnings.warn(\"For a faster implementation, use the gensim.models.phrases.Phraser class\")\n"
          ],
          "name": "stderr"
        },
        {
          "output_type": "stream",
          "text": [
            "['from', 'wheres', 'my', 'thing', 'subject', 'what', 'car', 'is', 'this', 'nntp_posting_host', 'rac_wam_umd_edu', 'organization', 'university', 'of', 'maryland_college_park', 'lines', 'was', 'wondering', 'if', 'anyone', 'out', 'there', 'could', 'enlighten', 'me', 'on', 'this', 'car', 'saw', 'the', 'other', 'day', 'it', 'was', 'door', 'sports', 'car', 'looked', 'to', 'be', 'from', 'the', 'late', 'early', 'it', 'was', 'called', 'bricklin', 'the', 'doors', 'were', 'really', 'small', 'in', 'addition', 'the', 'front_bumper', 'was', 'separate', 'from', 'the', 'rest', 'of', 'the', 'body', 'this', 'is', 'all', 'know', 'if', 'anyone', 'can', 'tellme', 'model', 'name', 'engine', 'specs', 'years', 'of', 'production', 'where', 'this', 'car', 'is', 'made', 'history', 'or', 'whatever', 'info', 'you', 'have', 'on', 'this', 'funky', 'looking', 'car', 'please', 'mail', 'thanks', 'il', 'brought', 'to', 'you', 'by', 'your', 'neighborhood', 'lerxst']\n"
          ],
          "name": "stdout"
        }
      ]
    },
    {
      "cell_type": "code",
      "metadata": {
        "id": "xi9xH4Ti8Fx_"
      },
      "source": [
        "def remove_stopwords(texts):\n",
        "    return [[word for word in simple_preprocess(str(doc)) if word not in stop_words] for doc in texts]\n",
        "\n",
        "def make_bigrams(texts):\n",
        "    return [bigram_mod[doc] for doc in texts]\n",
        "\n",
        "def make_trigrams(texts):\n",
        "    return [trigram_mod[bigram_mod[doc]] for doc in texts]"
      ],
      "execution_count": null,
      "outputs": []
    },
    {
      "cell_type": "code",
      "metadata": {
        "id": "jvvmrNBs8FyA"
      },
      "source": [
        "data_words_nostops = remove_stopwords(data_words)\n",
        "data_words_bigrams = make_bigrams(data_words_nostops)"
      ],
      "execution_count": null,
      "outputs": []
    },
    {
      "cell_type": "code",
      "metadata": {
        "id": "SFkCSuKd8FyA"
      },
      "source": [
        "id2word = corpora.Dictionary(data_words_bigrams)\n",
        "texts = data_words_bigrams\n",
        "corpus = [id2word.doc2bow(text) for text in texts]"
      ],
      "execution_count": null,
      "outputs": []
    },
    {
      "cell_type": "code",
      "metadata": {
        "id": "lavJPYLf8FyB"
      },
      "source": [
        "lda_model = gensim.models.ldamodel.LdaModel(corpus=corpus,\n",
        "                                           id2word=id2word,\n",
        "                                           num_topics=20, \n",
        "                                           random_state=100,\n",
        "                                           update_every=1,\n",
        "                                           chunksize=100,\n",
        "                                           passes=1,\n",
        "                                           alpha='auto',\n",
        "                                           per_word_topics=True)"
      ],
      "execution_count": null,
      "outputs": []
    },
    {
      "cell_type": "code",
      "metadata": {
        "colab": {
          "base_uri": "https://localhost:8080/"
        },
        "id": "zEPBswfU8FyB",
        "outputId": "04b7c28d-20b7-49a7-b057-50e7cd9ac616"
      },
      "source": [
        "print(lda_model.print_topics())\n",
        "doc_lda = lda_model[corpus]"
      ],
      "execution_count": null,
      "outputs": [
        {
          "output_type": "stream",
          "text": [
            "[(0, '0.008*\"good\" + 0.007*\"john\" + 0.006*\"talking\" + 0.005*\"new\" + 0.005*\"church\" + 0.005*\"time\" + 0.005*\"one\" + 0.005*\"slave\" + 0.005*\"may\" + 0.004*\"day\"'), (1, '0.015*\"time\" + 0.008*\"number\" + 0.007*\"back\" + 0.007*\"first\" + 0.007*\"next\" + 0.007*\"news\" + 0.006*\"self\" + 0.006*\"bill\" + 0.005*\"la\" + 0.005*\"tv\"'), (2, '0.013*\"may\" + 0.007*\"points\" + 0.006*\"sphere\" + 0.006*\"information\" + 0.005*\"groups\" + 0.005*\"science\" + 0.005*\"earth\" + 0.004*\"black\" + 0.004*\"group\" + 0.004*\"algorithm\"'), (3, '0.018*\"car\" + 0.016*\"senses\" + 0.012*\"power\" + 0.008*\"bike\" + 0.008*\"cars\" + 0.006*\"right\" + 0.006*\"engine\" + 0.006*\"speak\" + 0.006*\"air\" + 0.005*\"dod\"'), (4, '0.032*\"space\" + 0.019*\"physical\" + 0.011*\"research\" + 0.007*\"pain\" + 0.007*\"nasa\" + 0.006*\"item\" + 0.006*\"image\" + 0.006*\"dr\" + 0.006*\"page\" + 0.005*\"launch\"'), (5, '0.020*\"team\" + 0.018*\"game\" + 0.016*\"year\" + 0.011*\"games\" + 0.010*\"play\" + 0.010*\"win\" + 0.009*\"teams\" + 0.008*\"drives\" + 0.007*\"solution\" + 0.007*\"nhl\"'), (6, '0.016*\"writes\" + 0.012*\"article\" + 0.012*\"would\" + 0.010*\"israel\" + 0.010*\"think\" + 0.008*\"said\" + 0.008*\"like\" + 0.008*\"didnt\" + 0.007*\"dont\" + 0.007*\"go\"'), (7, '0.025*\"max\" + 0.011*\"dn\" + 0.010*\"ei\" + 0.007*\"c_\" + 0.007*\"cx\" + 0.007*\"em\" + 0.006*\"te\" + 0.006*\"eeg\" + 0.006*\"hz\" + 0.005*\"mr\"'), (8, '0.037*\"lines\" + 0.036*\"organization\" + 0.016*\"nntp_posting\" + 0.016*\"article\" + 0.015*\"university\" + 0.014*\"host\" + 0.014*\"writes\" + 0.014*\"would\" + 0.013*\"like\" + 0.011*\"get\"'), (9, '0.019*\"key\" + 0.010*\"government\" + 0.009*\"ripem\" + 0.008*\"security\" + 0.007*\"public\" + 0.007*\"encryption\" + 0.007*\"keys\" + 0.006*\"soldiers\" + 0.006*\"clipper\" + 0.006*\"president\"'), (10, '0.460*\"ax\" + 0.014*\"um\" + 0.012*\"patient\" + 0.009*\"di_di\" + 0.008*\"patients\" + 0.007*\"ra\" + 0.006*\"ql\" + 0.005*\"ei_ei\" + 0.005*\"el\" + 0.004*\"influenza\"'), (11, '0.018*\"god\" + 0.013*\"people\" + 0.011*\"evidence\" + 0.011*\"one\" + 0.010*\"believe\" + 0.009*\"reason\" + 0.009*\"would\" + 0.008*\"say\" + 0.008*\"think\" + 0.007*\"us\"'), (12, '0.019*\"system\" + 0.018*\"drive\" + 0.011*\"bit\" + 0.010*\"data\" + 0.010*\"mac\" + 0.009*\"card\" + 0.009*\"problem\" + 0.008*\"mb\" + 0.008*\"chip\" + 0.008*\"computer\"'), (13, '0.017*\"hockey\" + 0.012*\"color\" + 0.010*\"set\" + 0.008*\"serial_number\" + 0.007*\"events\" + 0.007*\"process\" + 0.007*\"section\" + 0.007*\"lord\" + 0.007*\"wings\" + 0.006*\"function\"'), (14, '0.011*\"help\" + 0.007*\"without\" + 0.006*\"dave\" + 0.005*\"lots\" + 0.005*\"connected\" + 0.005*\"us\" + 0.005*\"chips\" + 0.005*\"diagnosis\" + 0.005*\"serious\" + 0.004*\"device\"'), (15, '0.017*\"com\" + 0.015*\"accept\" + 0.009*\"jim\" + 0.007*\"mounting\" + 0.007*\"corporation\" + 0.007*\"ny\" + 0.006*\"writes\" + 0.006*\"lemon\" + 0.006*\"door\" + 0.006*\"institute\"'), (16, '0.021*\"sale\" + 0.015*\"pin\" + 0.012*\"address\" + 0.012*\"st\" + 0.010*\"telnet\" + 0.009*\"period\" + 0.009*\"character\" + 0.008*\"peter\" + 0.007*\"gateway\" + 0.007*\"keyboard\"'), (17, '0.016*\"windows\" + 0.014*\"program\" + 0.013*\"file\" + 0.010*\"available\" + 0.010*\"files\" + 0.010*\"code\" + 0.008*\"dos\" + 0.008*\"software\" + 0.008*\"version\" + 0.008*\"graphics\"'), (18, '0.015*\"scott\" + 0.010*\"ended\" + 0.009*\"sp\" + 0.009*\"nj\" + 0.008*\"qs\" + 0.008*\"ed\" + 0.008*\"imaging\" + 0.007*\"jr\" + 0.007*\"maria\" + 0.007*\"case_western\"'), (19, '0.017*\"people\" + 0.008*\"would\" + 0.007*\"state\" + 0.007*\"gun\" + 0.006*\"law\" + 0.006*\"public\" + 0.006*\"government\" + 0.006*\"us\" + 0.004*\"one\" + 0.004*\"guns\"')]\n"
          ],
          "name": "stdout"
        }
      ]
    }
  ]
}