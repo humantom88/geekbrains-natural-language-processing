{
  "nbformat": 4,
  "nbformat_minor": 0,
  "metadata": {
    "colab": {
      "name": "Homework7.ipynb",
      "provenance": [],
      "collapsed_sections": []
    },
    "kernelspec": {
      "display_name": "Python 3",
      "language": "python",
      "name": "python3"
    },
    "language_info": {
      "codemirror_mode": {
        "name": "ipython",
        "version": 3
      },
      "file_extension": ".py",
      "mimetype": "text/x-python",
      "name": "python",
      "nbconvert_exporter": "python",
      "pygments_lexer": "ipython3",
      "version": "3.8.3"
    }
  },
  "cells": [
    {
      "cell_type": "markdown",
      "metadata": {
        "id": "NG3su2lSDvtg"
      },
      "source": [
        "## Практическое задание к уроку 7 (Сверточные нейронные сети для анализа текста)"
      ]
    },
    {
      "cell_type": "code",
      "metadata": {
        "id": "_sAEGbWfTCRh"
      },
      "source": [
        "# from google.colab import drive\n",
        "# drive.mount('/content/drive')"
      ],
      "execution_count": 1,
      "outputs": []
    },
    {
      "cell_type": "code",
      "metadata": {
        "id": "9ZQsg970TEPm"
      },
      "source": [
        "data_path = '/content/drive/MyDrive/Colab Notebooks/geekbrains natural language processing/homework7'"
      ],
      "execution_count": 2,
      "outputs": []
    },
    {
      "cell_type": "code",
      "metadata": {
        "colab": {
          "base_uri": "https://localhost:8080/"
        },
        "id": "DRwnXCzEFTtC",
        "outputId": "ca379267-98a3-4f5f-d283-8d852d5b7fac"
      },
      "source": [
        "!pip install stop_words\n",
        "!pip install pymorphy2"
      ],
      "execution_count": 3,
      "outputs": [
        {
          "output_type": "stream",
          "text": [
            "Requirement already satisfied: stop_words in /usr/local/lib/python3.7/dist-packages (2018.7.23)\n",
            "Requirement already satisfied: pymorphy2 in /usr/local/lib/python3.7/dist-packages (0.9.1)\n",
            "Requirement already satisfied: docopt>=0.6 in /usr/local/lib/python3.7/dist-packages (from pymorphy2) (0.6.2)\n",
            "Requirement already satisfied: pymorphy2-dicts-ru<3.0,>=2.4 in /usr/local/lib/python3.7/dist-packages (from pymorphy2) (2.4.417127.4579844)\n",
            "Requirement already satisfied: dawg-python>=0.7.1 in /usr/local/lib/python3.7/dist-packages (from pymorphy2) (0.7.2)\n"
          ],
          "name": "stdout"
        }
      ]
    },
    {
      "cell_type": "markdown",
      "metadata": {
        "id": "iW8yo94jDixu"
      },
      "source": [
        "### Задание\n",
        "\n",
        "### Берем отызывы за лето (из архива с материалами или предыдущего занятия)"
      ]
    },
    {
      "cell_type": "code",
      "metadata": {
        "id": "i0KuW8hmExFY"
      },
      "source": [
        "import pandas as pd\n",
        "import os"
      ],
      "execution_count": 4,
      "outputs": []
    },
    {
      "cell_type": "code",
      "metadata": {
        "colab": {
          "base_uri": "https://localhost:8080/",
          "height": 362
        },
        "id": "OaK8ocslE0Gn",
        "outputId": "df1a86ca-16cb-4ad0-8a79-03cfeb4a8218"
      },
      "source": [
        "df = pd.read_excel(os.path.join(data_path, 'reviews.xls'))\n",
        "df.head(10)"
      ],
      "execution_count": 5,
      "outputs": [
        {
          "output_type": "execute_result",
          "data": {
            "text/html": [
              "<div>\n",
              "<style scoped>\n",
              "    .dataframe tbody tr th:only-of-type {\n",
              "        vertical-align: middle;\n",
              "    }\n",
              "\n",
              "    .dataframe tbody tr th {\n",
              "        vertical-align: top;\n",
              "    }\n",
              "\n",
              "    .dataframe thead th {\n",
              "        text-align: right;\n",
              "    }\n",
              "</style>\n",
              "<table border=\"1\" class=\"dataframe\">\n",
              "  <thead>\n",
              "    <tr style=\"text-align: right;\">\n",
              "      <th></th>\n",
              "      <th>Rating</th>\n",
              "      <th>Content</th>\n",
              "      <th>Date</th>\n",
              "    </tr>\n",
              "  </thead>\n",
              "  <tbody>\n",
              "    <tr>\n",
              "      <th>0</th>\n",
              "      <td>5</td>\n",
              "      <td>It just works!</td>\n",
              "      <td>2017-08-14</td>\n",
              "    </tr>\n",
              "    <tr>\n",
              "      <th>1</th>\n",
              "      <td>4</td>\n",
              "      <td>В целом удобноное приложение...из минусов хотя...</td>\n",
              "      <td>2017-08-14</td>\n",
              "    </tr>\n",
              "    <tr>\n",
              "      <th>2</th>\n",
              "      <td>5</td>\n",
              "      <td>Отлично все</td>\n",
              "      <td>2017-08-14</td>\n",
              "    </tr>\n",
              "    <tr>\n",
              "      <th>3</th>\n",
              "      <td>5</td>\n",
              "      <td>Стал зависать на 1% работы антивируса. Дальше ...</td>\n",
              "      <td>2017-08-14</td>\n",
              "    </tr>\n",
              "    <tr>\n",
              "      <th>4</th>\n",
              "      <td>5</td>\n",
              "      <td>Очень удобно, работает быстро.</td>\n",
              "      <td>2017-08-14</td>\n",
              "    </tr>\n",
              "    <tr>\n",
              "      <th>5</th>\n",
              "      <td>5</td>\n",
              "      <td>Всё удобно норм 👍👍👍</td>\n",
              "      <td>2017-08-14</td>\n",
              "    </tr>\n",
              "    <tr>\n",
              "      <th>6</th>\n",
              "      <td>5</td>\n",
              "      <td>Очень удобное приложение.</td>\n",
              "      <td>2017-08-14</td>\n",
              "    </tr>\n",
              "    <tr>\n",
              "      <th>7</th>\n",
              "      <td>5</td>\n",
              "      <td>Все устраивает</td>\n",
              "      <td>2017-08-14</td>\n",
              "    </tr>\n",
              "    <tr>\n",
              "      <th>8</th>\n",
              "      <td>5</td>\n",
              "      <td>У меня работает все четко. В отличии от банком...</td>\n",
              "      <td>2017-08-14</td>\n",
              "    </tr>\n",
              "    <tr>\n",
              "      <th>9</th>\n",
              "      <td>5</td>\n",
              "      <td>Очень все хорошо👍</td>\n",
              "      <td>2017-08-14</td>\n",
              "    </tr>\n",
              "  </tbody>\n",
              "</table>\n",
              "</div>"
            ],
            "text/plain": [
              "   Rating                                            Content        Date\n",
              "0       5                                     It just works!  2017-08-14\n",
              "1       4  В целом удобноное приложение...из минусов хотя...  2017-08-14\n",
              "2       5                                        Отлично все  2017-08-14\n",
              "3       5  Стал зависать на 1% работы антивируса. Дальше ...  2017-08-14\n",
              "4       5                     Очень удобно, работает быстро.  2017-08-14\n",
              "5       5                                Всё удобно норм 👍👍👍  2017-08-14\n",
              "6       5                          Очень удобное приложение.  2017-08-14\n",
              "7       5                                     Все устраивает  2017-08-14\n",
              "8       5  У меня работает все четко. В отличии от банком...  2017-08-14\n",
              "9       5                                  Очень все хорошо👍  2017-08-14"
            ]
          },
          "metadata": {
            "tags": []
          },
          "execution_count": 5
        }
      ]
    },
    {
      "cell_type": "markdown",
      "metadata": {
        "id": "9DfSuRxpFKVd"
      },
      "source": [
        "### Препроцессинг"
      ]
    },
    {
      "cell_type": "code",
      "metadata": {
        "id": "Y1IQdmEMHepK"
      },
      "source": [
        "max_words = 200\n",
        "max_len = 40\n",
        "num_classes = 1\n",
        "\n",
        "# Training\n",
        "epochs = 20\n",
        "batch_size = 512\n",
        "print_batch_n = 100"
      ],
      "execution_count": 6,
      "outputs": []
    },
    {
      "cell_type": "code",
      "metadata": {
        "id": "mCPtGGDPE5tP"
      },
      "source": [
        "from string import punctuation\n",
        "from stop_words import get_stop_words\n",
        "from pymorphy2 import MorphAnalyzer\n",
        "import re"
      ],
      "execution_count": 7,
      "outputs": []
    },
    {
      "cell_type": "code",
      "metadata": {
        "id": "flEaXVHEFrml"
      },
      "source": [
        "sw = set(get_stop_words(\"ru\"))\n",
        "exclude = set(punctuation)\n",
        "morpher = MorphAnalyzer()\n",
        "\n",
        "def preprocess_text(txt):\n",
        "    txt = str(txt)\n",
        "    txt = \"\".join(c for c in txt if c not in exclude)\n",
        "    txt = txt.lower()\n",
        "    txt = re.sub(\"\\sне\", \"не\", txt)\n",
        "    txt = [morpher.parse(word)[0].normal_form for word in txt.split() if word not in sw]\n",
        "    return \" \".join(txt)\n",
        "\n",
        "df['Content'] = df['Content'].apply(preprocess_text)\n",
        "df['Rating'] = df['Rating'].apply(lambda x: f'{x}')"
      ],
      "execution_count": 8,
      "outputs": []
    },
    {
      "cell_type": "code",
      "metadata": {
        "id": "0719ncB7GXe1"
      },
      "source": [
        "from sklearn.model_selection import train_test_split\n",
        "\n",
        "X_train, X_test, y_train, y_test = train_test_split(df.drop(columns=['Rating', 'Date']), df['Rating'], test_size=0.33, random_state=42)"
      ],
      "execution_count": 9,
      "outputs": []
    },
    {
      "cell_type": "code",
      "metadata": {
        "id": "Gx-nVL8qHCNP"
      },
      "source": [
        "train_corpus = \" \".join(X_train[\"Content\"])\n",
        "train_corpus = train_corpus.lower()"
      ],
      "execution_count": 10,
      "outputs": []
    },
    {
      "cell_type": "code",
      "metadata": {
        "colab": {
          "base_uri": "https://localhost:8080/"
        },
        "id": "Y7oSFmbcHPx1",
        "outputId": "7095ca90-09e6-4244-8390-46327543f6dd"
      },
      "source": [
        "import nltk\n",
        "from nltk.tokenize import word_tokenize\n",
        "nltk.download(\"punkt\")\n",
        "\n",
        "tokens = word_tokenize(train_corpus)"
      ],
      "execution_count": 11,
      "outputs": [
        {
          "output_type": "stream",
          "text": [
            "[nltk_data] Downloading package punkt to /root/nltk_data...\n",
            "[nltk_data]   Package punkt is already up-to-date!\n"
          ],
          "name": "stdout"
        }
      ]
    },
    {
      "cell_type": "code",
      "metadata": {
        "colab": {
          "base_uri": "https://localhost:8080/"
        },
        "id": "JoXODHGDHVnx",
        "outputId": "033d85c6-5563-4c43-eb74-b469330d825f"
      },
      "source": [
        "tokens_filtered = [word for word in tokens if word.isalnum()]\n",
        "tokens_filtered[:10]"
      ],
      "execution_count": 12,
      "outputs": [
        {
          "output_type": "execute_result",
          "data": {
            "text/plain": [
              "['наконецтый',\n",
              " 'исправить',\n",
              " 'чушь',\n",
              " 'снеоргинальный',\n",
              " 'прошивка',\n",
              " 'приложение',\n",
              " 'удобно',\n",
              " 'пользоваться',\n",
              " 'удобно',\n",
              " 'использование']"
            ]
          },
          "metadata": {
            "tags": []
          },
          "execution_count": 12
        }
      ]
    },
    {
      "cell_type": "code",
      "metadata": {
        "colab": {
          "base_uri": "https://localhost:8080/"
        },
        "id": "A7H1i3NXHZaR",
        "outputId": "b3de195f-b968-4f2d-92d5-4a913f10d047"
      },
      "source": [
        "from nltk.probability import FreqDist\n",
        "dist = FreqDist(tokens_filtered)\n",
        "tokens_filtered_top = [pair[0] for pair in dist.most_common(max_words-1)]\n",
        "tokens_filtered_top[:10]"
      ],
      "execution_count": 13,
      "outputs": [
        {
          "output_type": "execute_result",
          "data": {
            "text/plain": [
              "['приложение',\n",
              " 'удобно',\n",
              " 'работать',\n",
              " 'удобный',\n",
              " 'отлично',\n",
              " 'нравиться',\n",
              " 'хороший',\n",
              " 'отличный',\n",
              " 'телефон',\n",
              " 'супер']"
            ]
          },
          "metadata": {
            "tags": []
          },
          "execution_count": 13
        }
      ]
    },
    {
      "cell_type": "code",
      "metadata": {
        "colab": {
          "base_uri": "https://localhost:8080/"
        },
        "id": "oN8vz2GpHaLW",
        "outputId": "cf1d11fa-b8ee-48c0-b487-446cfac0a4f0"
      },
      "source": [
        "vocabulary = {v: k for k, v in dict(enumerate(tokens_filtered_top, 1)).items()}\n",
        "vocabulary"
      ],
      "execution_count": 14,
      "outputs": [
        {
          "output_type": "execute_result",
          "data": {
            "text/plain": [
              "{'10': 190,\n",
              " '2': 88,\n",
              " '3': 120,\n",
              " '4': 153,\n",
              " '5': 64,\n",
              " 'meizu': 65,\n",
              " 'root': 62,\n",
              " 'андроид': 167,\n",
              " 'антивирус': 16,\n",
              " 'банк': 17,\n",
              " 'банкомат': 157,\n",
              " 'безопасность': 129,\n",
              " 'большой': 123,\n",
              " 'быстро': 11,\n",
              " 'быстрый': 130,\n",
              " 'ваш': 101,\n",
              " 'ввести': 133,\n",
              " 'ввод': 72,\n",
              " 'вводить': 31,\n",
              " 'вернуть': 166,\n",
              " 'версия': 76,\n",
              " 'видеть': 161,\n",
              " 'вирус': 112,\n",
              " 'возможность': 55,\n",
              " 'войти': 71,\n",
              " 'вообще': 83,\n",
              " 'встроить': 179,\n",
              " 'вход': 18,\n",
              " 'выдавать': 110,\n",
              " 'вылетать': 50,\n",
              " 'выходить': 118,\n",
              " 'главное': 160,\n",
              " 'грузиться': 142,\n",
              " 'давать': 165,\n",
              " 'дать': 138,\n",
              " 'делать': 57,\n",
              " 'дело': 156,\n",
              " 'деньга': 36,\n",
              " 'добавить': 121,\n",
              " 'довольный': 37,\n",
              " 'долгий': 169,\n",
              " 'дом': 117,\n",
              " 'доступ': 75,\n",
              " 'доступно': 191,\n",
              " 'другой': 128,\n",
              " 'ждать': 124,\n",
              " 'зависать': 185,\n",
              " 'загружаться': 162,\n",
              " 'загрузка': 172,\n",
              " 'зайти': 48,\n",
              " 'замечательный': 127,\n",
              " 'заново': 199,\n",
              " 'запуск': 95,\n",
              " 'запускаться': 116,\n",
              " 'заходить': 63,\n",
              " 'звезда': 151,\n",
              " 'знать': 144,\n",
              " 'идти': 141,\n",
              " 'изз': 89,\n",
              " 'инициализация': 148,\n",
              " 'интернет': 86,\n",
              " 'интерфейс': 136,\n",
              " 'иня': 58,\n",
              " 'использование': 181,\n",
              " 'исправить': 42,\n",
              " 'история': 187,\n",
              " 'каждый': 137,\n",
              " 'какой': 94,\n",
              " 'карта': 23,\n",
              " 'класс': 60,\n",
              " 'классно': 184,\n",
              " 'классный': 159,\n",
              " 'клиент': 99,\n",
              " 'код': 41,\n",
              " 'контакт': 158,\n",
              " 'кредит': 105,\n",
              " 'круто': 90,\n",
              " 'легко': 107,\n",
              " 'любой': 132,\n",
              " 'месяц': 143,\n",
              " 'минус': 131,\n",
              " 'минута': 163,\n",
              " 'мобильный': 51,\n",
              " 'мой': 74,\n",
              " 'молодец': 78,\n",
              " 'мочь': 14,\n",
              " 'найти': 177,\n",
              " 'никакой': 135,\n",
              " 'ничегон': 140,\n",
              " 'новый': 85,\n",
              " 'номер': 84,\n",
              " 'норма': 35,\n",
              " 'нормально': 40,\n",
              " 'нормальный': 125,\n",
              " 'нравиться': 6,\n",
              " 'нужный': 69,\n",
              " 'обновление': 12,\n",
              " 'общий': 198,\n",
              " 'один': 79,\n",
              " 'около': 38,\n",
              " 'онлайн': 70,\n",
              " 'операция': 67,\n",
              " 'оплата': 68,\n",
              " 'оплатить': 102,\n",
              " 'оплачивать': 111,\n",
              " 'оригинальный': 134,\n",
              " 'остальной': 173,\n",
              " 'отзыв': 146,\n",
              " 'открываться': 126,\n",
              " 'отлично': 5,\n",
              " 'отличный': 8,\n",
              " 'отпечаток': 80,\n",
              " 'ошибка': 27,\n",
              " 'палец': 115,\n",
              " 'пароль': 13,\n",
              " 'первый': 77,\n",
              " 'перевести': 171,\n",
              " 'перевод': 32,\n",
              " 'переводить': 147,\n",
              " 'перестать': 97,\n",
              " 'пин': 197,\n",
              " 'писать': 34,\n",
              " 'платёж': 44,\n",
              " 'плохо': 108,\n",
              " 'плохой': 119,\n",
              " 'полезный': 188,\n",
              " 'полный': 82,\n",
              " 'получаться': 189,\n",
              " 'пользоваться': 15,\n",
              " 'понравиться': 100,\n",
              " 'понятно': 45,\n",
              " 'попытка': 170,\n",
              " 'последний': 46,\n",
              " 'постоянно': 39,\n",
              " 'право': 56,\n",
              " 'прийтись': 182,\n",
              " 'приложение': 1,\n",
              " 'приложениен': 96,\n",
              " 'приходить': 54,\n",
              " 'приходиться': 30,\n",
              " 'проблема': 24,\n",
              " 'проверка': 59,\n",
              " 'проверять': 145,\n",
              " 'прога': 196,\n",
              " 'программа': 26,\n",
              " 'просить': 93,\n",
              " 'простой': 106,\n",
              " 'прошивка': 22,\n",
              " 'работа': 66,\n",
              " 'работать': 3,\n",
              " 'раз': 21,\n",
              " 'разработчик': 28,\n",
              " 'решить': 178,\n",
              " 'рука': 103,\n",
              " 'рута': 25,\n",
              " 'самый': 87,\n",
              " 'сбер': 114,\n",
              " 'сбербанк': 20,\n",
              " 'свой': 49,\n",
              " 'связь': 195,\n",
              " 'сделать': 29,\n",
              " 'сервис': 154,\n",
              " 'система': 192,\n",
              " 'скачать': 164,\n",
              " 'смартфон': 175,\n",
              " 'смс': 43,\n",
              " 'сообщение': 149,\n",
              " 'сразу': 122,\n",
              " 'средство': 193,\n",
              " 'ставить': 168,\n",
              " 'стать': 52,\n",
              " 'сумма': 183,\n",
              " 'супер': 10,\n",
              " 'счёт': 33,\n",
              " 'телефон': 9,\n",
              " 'тормозить': 174,\n",
              " 'убрать': 92,\n",
              " 'уведомление': 91,\n",
              " 'удалить': 81,\n",
              " 'удалять': 109,\n",
              " 'удобно': 2,\n",
              " 'удобный': 4,\n",
              " 'ужасный': 194,\n",
              " 'услуга': 139,\n",
              " 'устанавливаться': 155,\n",
              " 'установить': 61,\n",
              " 'установка': 152,\n",
              " 'устраивать': 19,\n",
              " 'устройство': 104,\n",
              " 'финансы': 176,\n",
              " 'функционал': 73,\n",
              " 'функция': 47,\n",
              " 'хороший': 7,\n",
              " 'хотеть': 150,\n",
              " 'хотеться': 186,\n",
              " 'целое': 113,\n",
              " 'чётко': 180,\n",
              " 'шаблон': 53,\n",
              " 'ян': 98}"
            ]
          },
          "metadata": {
            "tags": []
          },
          "execution_count": 14
        }
      ]
    },
    {
      "cell_type": "code",
      "metadata": {
        "id": "ORhFHG36H5Hk"
      },
      "source": [
        "import numpy as np\n",
        "\n",
        "def text_to_sequence(text, maxlen):\n",
        "    result = []\n",
        "\n",
        "    tokens = word_tokenize(text.lower())\n",
        "    tokens_filtered = [word for word in tokens if word.isalnum()]\n",
        "    \n",
        "    for word in tokens_filtered:\n",
        "        if word in vocabulary:\n",
        "            result.append(vocabulary[word])\n",
        "\n",
        "    padding = [0] * (maxlen - len(result))\n",
        "\n",
        "    return padding + result[-maxlen:]"
      ],
      "execution_count": 15,
      "outputs": []
    },
    {
      "cell_type": "code",
      "metadata": {
        "id": "AZ6lGHllIKhO"
      },
      "source": [
        "X_train = np.asarray([text_to_sequence(text, max_len) for text in X_train[\"Content\"]], dtype=np.int32)\n",
        "X_test = np.asarray([text_to_sequence(text, max_len) for text in X_test[\"Content\"]], dtype=np.int32)"
      ],
      "execution_count": 16,
      "outputs": []
    },
    {
      "cell_type": "code",
      "metadata": {
        "colab": {
          "base_uri": "https://localhost:8080/"
        },
        "id": "ABOalYjuIYo3",
        "outputId": "70e51f97-0e44-4677-fdda-ddad31ebcbe4"
      },
      "source": [
        "X_train, X_test"
      ],
      "execution_count": 17,
      "outputs": [
        {
          "output_type": "execute_result",
          "data": {
            "text/plain": [
              "(array([[  0,   0,   0, ...,   1,   2,  15],\n",
              "        [  0,   0,   0, ...,   0,   2, 181],\n",
              "        [  0,   0,   0, ...,   0,   0,   5],\n",
              "        ...,\n",
              "        [  0,   0,   0, ..., 164,  27,  84],\n",
              "        [  0,   0,   0, ...,   0,   0,  20],\n",
              "        [  0,   0,   0, ...,   0, 113,   5]], dtype=int32),\n",
              " array([[ 0,  0,  0, ...,  0,  0,  5],\n",
              "        [ 0,  0,  0, ...,  0,  6,  2],\n",
              "        [ 0,  0,  0, ...,  1, 14, 48],\n",
              "        ...,\n",
              "        [ 0,  0,  0, ...,  1,  2, 11],\n",
              "        [ 0,  0,  0, ..., 15,  1, 42],\n",
              "        [ 0,  0,  0, ..., 32,  1, 91]], dtype=int32))"
            ]
          },
          "metadata": {
            "tags": []
          },
          "execution_count": 17
        }
      ]
    },
    {
      "cell_type": "code",
      "metadata": {
        "id": "oDTe8VZYIf3c"
      },
      "source": [
        "import numpy as np\n",
        "import keras\n",
        "from tensorflow.keras.utils import to_categorical\n",
        "from keras.models import Sequential, Model\n",
        "from keras.layers import Dense, Dropout, Activation, Input, Embedding, Conv1D, GlobalMaxPool1D\n",
        "from keras.preprocessing.text import Tokenizer\n",
        "from keras.preprocessing.sequence import pad_sequences\n",
        "from keras.callbacks import TensorBoard \n",
        "from keras.objectives import categorical_crossentropy\n",
        "from keras.callbacks import EarlyStopping"
      ],
      "execution_count": 18,
      "outputs": []
    },
    {
      "cell_type": "code",
      "metadata": {
        "colab": {
          "base_uri": "https://localhost:8080/"
        },
        "id": "WTn-Z0fqKZO0",
        "outputId": "c03b2a5b-2b0f-46ea-8d20-6aaf5953a244"
      },
      "source": [
        "y_train.shape"
      ],
      "execution_count": 19,
      "outputs": [
        {
          "output_type": "execute_result",
          "data": {
            "text/plain": [
              "(13841,)"
            ]
          },
          "metadata": {
            "tags": []
          },
          "execution_count": 19
        }
      ]
    },
    {
      "cell_type": "code",
      "metadata": {
        "colab": {
          "base_uri": "https://localhost:8080/"
        },
        "id": "6DgdjJ4pLaER",
        "outputId": "b7938c70-5643-4084-f7e2-a1a1aad85b07"
      },
      "source": [
        "num_classes = len(df['Rating'].value_counts()) + 1\n",
        "num_classes"
      ],
      "execution_count": 20,
      "outputs": [
        {
          "output_type": "execute_result",
          "data": {
            "text/plain": [
              "6"
            ]
          },
          "metadata": {
            "tags": []
          },
          "execution_count": 20
        }
      ]
    },
    {
      "cell_type": "code",
      "metadata": {
        "id": "3H9HmFVHIg9s"
      },
      "source": [
        "y_train = to_categorical(y_train, num_classes)\n",
        "y_test = to_categorical(y_test, num_classes)"
      ],
      "execution_count": 21,
      "outputs": []
    },
    {
      "cell_type": "markdown",
      "metadata": {
        "id": "mkW2EYl9EBCP"
      },
      "source": [
        "1. Создаем и учим модель с обычным Embedding"
      ]
    },
    {
      "cell_type": "code",
      "metadata": {
        "id": "8WcjLNYDwcgr"
      },
      "source": [
        "model = Sequential()\n",
        "model.add(Embedding(input_dim=max_words, output_dim=128, input_length=max_len))\n",
        "model.add(Conv1D(128, 3))\n",
        "model.add(Activation(\"relu\"))\n",
        "model.add(GlobalMaxPool1D())\n",
        "model.add(Dense(10))\n",
        "model.add(Activation(\"relu\"))\n",
        "model.add(Dense(num_classes))\n",
        "model.add(Activation('softmax'))"
      ],
      "execution_count": 22,
      "outputs": []
    },
    {
      "cell_type": "code",
      "metadata": {
        "id": "4mTU9jVzwyTX"
      },
      "source": [
        "model.compile(loss='categorical_crossentropy',\n",
        "              optimizer='adam',\n",
        "              metrics=['accuracy'])"
      ],
      "execution_count": 23,
      "outputs": []
    },
    {
      "cell_type": "code",
      "metadata": {
        "colab": {
          "base_uri": "https://localhost:8080/"
        },
        "id": "mhVa-XFJRUgj",
        "outputId": "7cecf8eb-1ef8-4c83-e3f0-0520d1c91bc4"
      },
      "source": [
        "!pip install tensorflow==2.5.0"
      ],
      "execution_count": 24,
      "outputs": [
        {
          "output_type": "stream",
          "text": [
            "Requirement already satisfied: tensorflow==2.5.0 in /usr/local/lib/python3.7/dist-packages (2.5.0)\n",
            "Requirement already satisfied: wheel~=0.35 in /usr/local/lib/python3.7/dist-packages (from tensorflow==2.5.0) (0.36.2)\n",
            "Requirement already satisfied: wrapt~=1.12.1 in /usr/local/lib/python3.7/dist-packages (from tensorflow==2.5.0) (1.12.1)\n",
            "Requirement already satisfied: protobuf>=3.9.2 in /usr/local/lib/python3.7/dist-packages (from tensorflow==2.5.0) (3.17.3)\n",
            "Requirement already satisfied: grpcio~=1.34.0 in /usr/local/lib/python3.7/dist-packages (from tensorflow==2.5.0) (1.34.1)\n",
            "Requirement already satisfied: keras-preprocessing~=1.1.2 in /usr/local/lib/python3.7/dist-packages (from tensorflow==2.5.0) (1.1.2)\n",
            "Requirement already satisfied: tensorboard~=2.5 in /usr/local/lib/python3.7/dist-packages (from tensorflow==2.5.0) (2.5.0)\n",
            "Requirement already satisfied: numpy~=1.19.2 in /usr/local/lib/python3.7/dist-packages (from tensorflow==2.5.0) (1.19.5)\n",
            "Requirement already satisfied: typing-extensions~=3.7.4 in /usr/local/lib/python3.7/dist-packages (from tensorflow==2.5.0) (3.7.4.3)\n",
            "Requirement already satisfied: gast==0.4.0 in /usr/local/lib/python3.7/dist-packages (from tensorflow==2.5.0) (0.4.0)\n",
            "Requirement already satisfied: tensorflow-estimator<2.6.0,>=2.5.0rc0 in /usr/local/lib/python3.7/dist-packages (from tensorflow==2.5.0) (2.5.0)\n",
            "Requirement already satisfied: astunparse~=1.6.3 in /usr/local/lib/python3.7/dist-packages (from tensorflow==2.5.0) (1.6.3)\n",
            "Requirement already satisfied: google-pasta~=0.2 in /usr/local/lib/python3.7/dist-packages (from tensorflow==2.5.0) (0.2.0)\n",
            "Requirement already satisfied: opt-einsum~=3.3.0 in /usr/local/lib/python3.7/dist-packages (from tensorflow==2.5.0) (3.3.0)\n",
            "Requirement already satisfied: absl-py~=0.10 in /usr/local/lib/python3.7/dist-packages (from tensorflow==2.5.0) (0.12.0)\n",
            "Requirement already satisfied: keras-nightly~=2.5.0.dev in /usr/local/lib/python3.7/dist-packages (from tensorflow==2.5.0) (2.5.0.dev2021032900)\n",
            "Requirement already satisfied: termcolor~=1.1.0 in /usr/local/lib/python3.7/dist-packages (from tensorflow==2.5.0) (1.1.0)\n",
            "Requirement already satisfied: six~=1.15.0 in /usr/local/lib/python3.7/dist-packages (from tensorflow==2.5.0) (1.15.0)\n",
            "Requirement already satisfied: flatbuffers~=1.12.0 in /usr/local/lib/python3.7/dist-packages (from tensorflow==2.5.0) (1.12)\n",
            "Requirement already satisfied: h5py~=3.1.0 in /usr/local/lib/python3.7/dist-packages (from tensorflow==2.5.0) (3.1.0)\n",
            "Requirement already satisfied: cached-property in /usr/local/lib/python3.7/dist-packages (from h5py~=3.1.0->tensorflow==2.5.0) (1.5.2)\n",
            "Requirement already satisfied: markdown>=2.6.8 in /usr/local/lib/python3.7/dist-packages (from tensorboard~=2.5->tensorflow==2.5.0) (3.3.4)\n",
            "Requirement already satisfied: setuptools>=41.0.0 in /usr/local/lib/python3.7/dist-packages (from tensorboard~=2.5->tensorflow==2.5.0) (57.2.0)\n",
            "Requirement already satisfied: tensorboard-plugin-wit>=1.6.0 in /usr/local/lib/python3.7/dist-packages (from tensorboard~=2.5->tensorflow==2.5.0) (1.8.0)\n",
            "Requirement already satisfied: tensorboard-data-server<0.7.0,>=0.6.0 in /usr/local/lib/python3.7/dist-packages (from tensorboard~=2.5->tensorflow==2.5.0) (0.6.1)\n",
            "Requirement already satisfied: werkzeug>=0.11.15 in /usr/local/lib/python3.7/dist-packages (from tensorboard~=2.5->tensorflow==2.5.0) (1.0.1)\n",
            "Requirement already satisfied: google-auth<2,>=1.6.3 in /usr/local/lib/python3.7/dist-packages (from tensorboard~=2.5->tensorflow==2.5.0) (1.32.1)\n",
            "Requirement already satisfied: requests<3,>=2.21.0 in /usr/local/lib/python3.7/dist-packages (from tensorboard~=2.5->tensorflow==2.5.0) (2.23.0)\n",
            "Requirement already satisfied: google-auth-oauthlib<0.5,>=0.4.1 in /usr/local/lib/python3.7/dist-packages (from tensorboard~=2.5->tensorflow==2.5.0) (0.4.4)\n",
            "Requirement already satisfied: cachetools<5.0,>=2.0.0 in /usr/local/lib/python3.7/dist-packages (from google-auth<2,>=1.6.3->tensorboard~=2.5->tensorflow==2.5.0) (4.2.2)\n",
            "Requirement already satisfied: rsa<5,>=3.1.4 in /usr/local/lib/python3.7/dist-packages (from google-auth<2,>=1.6.3->tensorboard~=2.5->tensorflow==2.5.0) (4.7.2)\n",
            "Requirement already satisfied: pyasn1-modules>=0.2.1 in /usr/local/lib/python3.7/dist-packages (from google-auth<2,>=1.6.3->tensorboard~=2.5->tensorflow==2.5.0) (0.2.8)\n",
            "Requirement already satisfied: requests-oauthlib>=0.7.0 in /usr/local/lib/python3.7/dist-packages (from google-auth-oauthlib<0.5,>=0.4.1->tensorboard~=2.5->tensorflow==2.5.0) (1.3.0)\n",
            "Requirement already satisfied: importlib-metadata in /usr/local/lib/python3.7/dist-packages (from markdown>=2.6.8->tensorboard~=2.5->tensorflow==2.5.0) (4.6.1)\n",
            "Requirement already satisfied: pyasn1<0.5.0,>=0.4.6 in /usr/local/lib/python3.7/dist-packages (from pyasn1-modules>=0.2.1->google-auth<2,>=1.6.3->tensorboard~=2.5->tensorflow==2.5.0) (0.4.8)\n",
            "Requirement already satisfied: certifi>=2017.4.17 in /usr/local/lib/python3.7/dist-packages (from requests<3,>=2.21.0->tensorboard~=2.5->tensorflow==2.5.0) (2021.5.30)\n",
            "Requirement already satisfied: urllib3!=1.25.0,!=1.25.1,<1.26,>=1.21.1 in /usr/local/lib/python3.7/dist-packages (from requests<3,>=2.21.0->tensorboard~=2.5->tensorflow==2.5.0) (1.24.3)\n",
            "Requirement already satisfied: idna<3,>=2.5 in /usr/local/lib/python3.7/dist-packages (from requests<3,>=2.21.0->tensorboard~=2.5->tensorflow==2.5.0) (2.10)\n",
            "Requirement already satisfied: chardet<4,>=3.0.2 in /usr/local/lib/python3.7/dist-packages (from requests<3,>=2.21.0->tensorboard~=2.5->tensorflow==2.5.0) (3.0.4)\n",
            "Requirement already satisfied: oauthlib>=3.0.0 in /usr/local/lib/python3.7/dist-packages (from requests-oauthlib>=0.7.0->google-auth-oauthlib<0.5,>=0.4.1->tensorboard~=2.5->tensorflow==2.5.0) (3.1.1)\n",
            "Requirement already satisfied: zipp>=0.5 in /usr/local/lib/python3.7/dist-packages (from importlib-metadata->markdown>=2.6.8->tensorboard~=2.5->tensorflow==2.5.0) (3.5.0)\n"
          ],
          "name": "stdout"
        }
      ]
    },
    {
      "cell_type": "code",
      "metadata": {
        "colab": {
          "base_uri": "https://localhost:8080/"
        },
        "id": "K42jI6QOw9QQ",
        "outputId": "4a632672-8031-41a8-c462-245ab4591cd6"
      },
      "source": [
        "tensorboard=TensorBoard(log_dir='./logs', write_graph=True, write_images=True)\n",
        "early_stopping=EarlyStopping(monitor='val_loss')  \n",
        "\n",
        "history = model.fit(X_train, y_train,\n",
        "                    batch_size=batch_size,\n",
        "                    epochs=epochs,\n",
        "                    verbose=1,\n",
        "                    validation_split=0.1,\n",
        "                    callbacks=[tensorboard, early_stopping])"
      ],
      "execution_count": 25,
      "outputs": [
        {
          "output_type": "stream",
          "text": [
            "Epoch 1/20\n",
            "25/25 [==============================] - 21s 163ms/step - loss: 1.4971 - accuracy: 0.6886 - val_loss: 1.0693 - val_accuracy: 0.7011\n"
          ],
          "name": "stdout"
        }
      ]
    },
    {
      "cell_type": "code",
      "metadata": {
        "colab": {
          "base_uri": "https://localhost:8080/"
        },
        "id": "ZOOlCVqXxPCv",
        "outputId": "12767b80-4bec-43fb-a70e-d6ddc854a3b0"
      },
      "source": [
        "score = model.evaluate(X_test, y_test, batch_size=batch_size, verbose=1)\n",
        "print('\\n')\n",
        "print('Test score:', score[0])\n",
        "print('Test accuracy:', score[1])"
      ],
      "execution_count": 26,
      "outputs": [
        {
          "output_type": "stream",
          "text": [
            "14/14 [==============================] - 0s 34ms/step - loss: 1.0226 - accuracy: 0.7125\n",
            "\n",
            "\n",
            "Test score: 1.0225632190704346\n",
            "Test accuracy: 0.7125256657600403\n"
          ],
          "name": "stdout"
        }
      ]
    },
    {
      "cell_type": "code",
      "metadata": {
        "colab": {
          "base_uri": "https://localhost:8080/"
        },
        "id": "YBQawWwkyMY1",
        "outputId": "19af6e23-39aa-42d2-9307-3ac08ee5a8b9"
      },
      "source": [
        "results = model.predict(X_test, batch_size=batch_size, verbose=1)"
      ],
      "execution_count": 27,
      "outputs": [
        {
          "output_type": "stream",
          "text": [
            "14/14 [==============================] - 1s 34ms/step\n"
          ],
          "name": "stdout"
        }
      ]
    },
    {
      "cell_type": "markdown",
      "metadata": {
        "id": "FdFkzwuNEv5N"
      },
      "source": [
        "\n",
        "2. Рассмотреть 2-а варианта сеточек\n",
        "\n",
        "2.1 Инициализировать tf.keras.layers.Embedding предобученными векторами взять к примеру с https://rusvectores.org/ru/\n",
        "\n",
        "2.2 Инициализировать слой tf.keras.layers.Embedding по умолчанию (ну то есть вам ничего не делать с весами)\n",
        "\n",
        "Сравнить две архитектуры с предобученными весами и когда tf.keras.layers.Embedding обучается сразу со всей сеточкой, что получилось лучше"
      ]
    },
    {
      "cell_type": "markdown",
      "metadata": {
        "id": "Vxo80OI1ERL0"
      },
      "source": [
        "2. Создаем и учим модель с предзагруженным Embedding\n",
        "\n",
        "грузим с сайта https://rusvectores.org/ru/  \n",
        "модель ruwikiruscorpora_tokens_elmo_1024_2019"
      ]
    },
    {
      "cell_type": "code",
      "metadata": {
        "colab": {
          "base_uri": "https://localhost:8080/"
        },
        "id": "wcZ1URByMLO1",
        "outputId": "20b87196-ad61-447d-888d-e6f7809240e3"
      },
      "source": [
        "!pip install --upgrade simple_elmo"
      ],
      "execution_count": 28,
      "outputs": [
        {
          "output_type": "stream",
          "text": [
            "Requirement already satisfied: simple_elmo in /usr/local/lib/python3.7/dist-packages (0.8.0)\n",
            "Requirement already satisfied: smart-open>1.8.1 in /usr/local/lib/python3.7/dist-packages (from simple_elmo) (5.1.0)\n",
            "Requirement already satisfied: numpy in /usr/local/lib/python3.7/dist-packages (from simple_elmo) (1.19.5)\n",
            "Requirement already satisfied: scipy in /usr/local/lib/python3.7/dist-packages (from simple_elmo) (1.4.1)\n",
            "Requirement already satisfied: pandas in /usr/local/lib/python3.7/dist-packages (from simple_elmo) (1.1.5)\n",
            "Requirement already satisfied: h5py in /usr/local/lib/python3.7/dist-packages (from simple_elmo) (3.1.0)\n",
            "Requirement already satisfied: cached-property in /usr/local/lib/python3.7/dist-packages (from h5py->simple_elmo) (1.5.2)\n",
            "Requirement already satisfied: python-dateutil>=2.7.3 in /usr/local/lib/python3.7/dist-packages (from pandas->simple_elmo) (2.8.1)\n",
            "Requirement already satisfied: pytz>=2017.2 in /usr/local/lib/python3.7/dist-packages (from pandas->simple_elmo) (2018.9)\n",
            "Requirement already satisfied: six>=1.5 in /usr/local/lib/python3.7/dist-packages (from python-dateutil>=2.7.3->pandas->simple_elmo) (1.15.0)\n"
          ],
          "name": "stdout"
        }
      ]
    },
    {
      "cell_type": "code",
      "metadata": {
        "colab": {
          "base_uri": "https://localhost:8080/",
          "height": 159
        },
        "id": "J7lrvc0oML27",
        "outputId": "015b8656-7682-45e2-be8b-b00738f589c0"
      },
      "source": [
        "from simple_elmo import ElmoModel\n",
        "model_elmo = ElmoModel()\n",
        "model_elmo.load(os.path.join(data_path, 'model'))"
      ],
      "execution_count": 29,
      "outputs": [
        {
          "output_type": "stream",
          "text": [
            "2021-07-29 17:42:09,138 : INFO : Loading model from /content/drive/MyDrive/Colab Notebooks/geekbrains natural language processing/homework7/model...\n",
            "2021-07-29 17:42:09,151 : INFO : We will cache the vocabulary of 100 tokens.\n",
            "/usr/local/lib/python3.7/dist-packages/tensorflow/python/keras/layers/legacy_rnn/rnn_cell_impl.py:909: UserWarning: `tf.nn.rnn_cell.LSTMCell` is deprecated and will be removed in a future version. This class is equivalent as `tf.keras.layers.LSTMCell`, and will be replaced by that in Tensorflow 2.0.\n",
            "  warnings.warn(\"`tf.nn.rnn_cell.LSTMCell` is deprecated and will be \"\n",
            "/usr/local/lib/python3.7/dist-packages/tensorflow/python/keras/engine/base_layer_v1.py:1700: UserWarning: `layer.add_variable` is deprecated and will be removed in a future version. Please use `layer.add_weight` method instead.\n",
            "  warnings.warn('`layer.add_variable` is deprecated and '\n"
          ],
          "name": "stderr"
        },
        {
          "output_type": "execute_result",
          "data": {
            "application/vnd.google.colaboratory.intrinsic+json": {
              "type": "string"
            },
            "text/plain": [
              "'The model is now loaded.'"
            ]
          },
          "metadata": {
            "tags": []
          },
          "execution_count": 29
        }
      ]
    },
    {
      "cell_type": "code",
      "metadata": {
        "id": "H3gVb0_ZMpeo"
      },
      "source": [
        "vectors = model_elmo.get_elmo_vectors(df['Content'])"
      ],
      "execution_count": null,
      "outputs": []
    },
    {
      "cell_type": "markdown",
      "metadata": {
        "id": "aiMpMGLqXMaO"
      },
      "source": [
        "на строчке выше отваливаюсь по RAM в colab, попробую решить вопрос на локальной машине"
      ]
    },
    {
      "cell_type": "code",
      "metadata": {
        "id": "_B_TTHXkQrvu"
      },
      "source": [
        "import pickle\n",
        "with open('embeddings.pickle', 'wb') as f:\n",
        "    pickle.dump(vectors, f)"
      ],
      "execution_count": null,
      "outputs": []
    }
  ]
}