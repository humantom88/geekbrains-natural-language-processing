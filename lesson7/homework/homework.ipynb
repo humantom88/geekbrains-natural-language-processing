{
  "nbformat": 4,
  "nbformat_minor": 2,
  "metadata": {
    "colab": {
      "name": "Homework7.ipynb",
      "provenance": [],
      "collapsed_sections": []
    },
    "kernelspec": {
      "name": "python3",
      "display_name": "Python 3.9.1 64-bit ('base': conda)"
    },
    "language_info": {
      "codemirror_mode": {
        "name": "ipython",
        "version": 3
      },
      "file_extension": ".py",
      "mimetype": "text/x-python",
      "name": "python",
      "nbconvert_exporter": "python",
      "pygments_lexer": "ipython3",
      "version": "3.9.1"
    },
    "interpreter": {
      "hash": "5822cce0dfea77bd1b5b649d2f91871660e133f67e755bca28128586ccbc8559"
    }
  },
  "cells": [
    {
      "cell_type": "markdown",
      "source": [
        "## Практическое задание к уроку 7 (Сверточные нейронные сети для анализа текста)"
      ],
      "metadata": {
        "id": "NG3su2lSDvtg"
      }
    },
    {
      "cell_type": "code",
      "execution_count": 1,
      "source": [
        "!pip install stop_words\n",
        "!pip install pymorphy2"
      ],
      "outputs": [
        {
          "output_type": "stream",
          "name": "stdout",
          "text": [
            "Requirement already satisfied: stop_words in /Users/tombelov/opt/miniconda3/lib/python3.9/site-packages (2018.7.23)\n",
            "Requirement already satisfied: pymorphy2 in /Users/tombelov/opt/miniconda3/lib/python3.9/site-packages (0.9.1)\n",
            "Requirement already satisfied: pymorphy2-dicts-ru<3.0,>=2.4 in /Users/tombelov/opt/miniconda3/lib/python3.9/site-packages (from pymorphy2) (2.4.417127.4579844)\n",
            "Requirement already satisfied: docopt>=0.6 in /Users/tombelov/opt/miniconda3/lib/python3.9/site-packages (from pymorphy2) (0.6.2)\n",
            "Requirement already satisfied: dawg-python>=0.7.1 in /Users/tombelov/opt/miniconda3/lib/python3.9/site-packages (from pymorphy2) (0.7.2)\n"
          ]
        }
      ],
      "metadata": {
        "colab": {
          "base_uri": "https://localhost:8080/"
        },
        "id": "DRwnXCzEFTtC",
        "outputId": "4fc99ce4-2496-4087-8ee3-51578ef29182"
      }
    },
    {
      "cell_type": "markdown",
      "source": [
        "### Задание\n",
        "\n",
        "### Берем отызывы за лето (из архива с материалами или предыдущего занятия)"
      ],
      "metadata": {
        "id": "iW8yo94jDixu"
      }
    },
    {
      "cell_type": "code",
      "execution_count": 2,
      "source": [
        "import pandas as pd"
      ],
      "outputs": [],
      "metadata": {
        "id": "i0KuW8hmExFY"
      }
    },
    {
      "cell_type": "code",
      "execution_count": 3,
      "source": [
        "df = pd.read_excel('./reviews.xls')\n",
        "df.head(10)"
      ],
      "outputs": [
        {
          "output_type": "execute_result",
          "data": {
            "text/plain": [
              "   Rating                                            Content        Date\n",
              "0       5                                     It just works!  2017-08-14\n",
              "1       4  В целом удобноное приложение...из минусов хотя...  2017-08-14\n",
              "2       5                                        Отлично все  2017-08-14\n",
              "3       5  Стал зависать на 1% работы антивируса. Дальше ...  2017-08-14\n",
              "4       5                     Очень удобно, работает быстро.  2017-08-14\n",
              "5       5                                Всё удобно норм 👍👍👍  2017-08-14\n",
              "6       5                          Очень удобное приложение.  2017-08-14\n",
              "7       5                                     Все устраивает  2017-08-14\n",
              "8       5  У меня работает все четко. В отличии от банком...  2017-08-14\n",
              "9       5                                  Очень все хорошо👍  2017-08-14"
            ],
            "text/html": [
              "<div>\n",
              "<style scoped>\n",
              "    .dataframe tbody tr th:only-of-type {\n",
              "        vertical-align: middle;\n",
              "    }\n",
              "\n",
              "    .dataframe tbody tr th {\n",
              "        vertical-align: top;\n",
              "    }\n",
              "\n",
              "    .dataframe thead th {\n",
              "        text-align: right;\n",
              "    }\n",
              "</style>\n",
              "<table border=\"1\" class=\"dataframe\">\n",
              "  <thead>\n",
              "    <tr style=\"text-align: right;\">\n",
              "      <th></th>\n",
              "      <th>Rating</th>\n",
              "      <th>Content</th>\n",
              "      <th>Date</th>\n",
              "    </tr>\n",
              "  </thead>\n",
              "  <tbody>\n",
              "    <tr>\n",
              "      <th>0</th>\n",
              "      <td>5</td>\n",
              "      <td>It just works!</td>\n",
              "      <td>2017-08-14</td>\n",
              "    </tr>\n",
              "    <tr>\n",
              "      <th>1</th>\n",
              "      <td>4</td>\n",
              "      <td>В целом удобноное приложение...из минусов хотя...</td>\n",
              "      <td>2017-08-14</td>\n",
              "    </tr>\n",
              "    <tr>\n",
              "      <th>2</th>\n",
              "      <td>5</td>\n",
              "      <td>Отлично все</td>\n",
              "      <td>2017-08-14</td>\n",
              "    </tr>\n",
              "    <tr>\n",
              "      <th>3</th>\n",
              "      <td>5</td>\n",
              "      <td>Стал зависать на 1% работы антивируса. Дальше ...</td>\n",
              "      <td>2017-08-14</td>\n",
              "    </tr>\n",
              "    <tr>\n",
              "      <th>4</th>\n",
              "      <td>5</td>\n",
              "      <td>Очень удобно, работает быстро.</td>\n",
              "      <td>2017-08-14</td>\n",
              "    </tr>\n",
              "    <tr>\n",
              "      <th>5</th>\n",
              "      <td>5</td>\n",
              "      <td>Всё удобно норм 👍👍👍</td>\n",
              "      <td>2017-08-14</td>\n",
              "    </tr>\n",
              "    <tr>\n",
              "      <th>6</th>\n",
              "      <td>5</td>\n",
              "      <td>Очень удобное приложение.</td>\n",
              "      <td>2017-08-14</td>\n",
              "    </tr>\n",
              "    <tr>\n",
              "      <th>7</th>\n",
              "      <td>5</td>\n",
              "      <td>Все устраивает</td>\n",
              "      <td>2017-08-14</td>\n",
              "    </tr>\n",
              "    <tr>\n",
              "      <th>8</th>\n",
              "      <td>5</td>\n",
              "      <td>У меня работает все четко. В отличии от банком...</td>\n",
              "      <td>2017-08-14</td>\n",
              "    </tr>\n",
              "    <tr>\n",
              "      <th>9</th>\n",
              "      <td>5</td>\n",
              "      <td>Очень все хорошо👍</td>\n",
              "      <td>2017-08-14</td>\n",
              "    </tr>\n",
              "  </tbody>\n",
              "</table>\n",
              "</div>"
            ]
          },
          "metadata": {},
          "execution_count": 3
        }
      ],
      "metadata": {
        "colab": {
          "base_uri": "https://localhost:8080/",
          "height": 362
        },
        "id": "OaK8ocslE0Gn",
        "outputId": "8d76ba96-0a44-489c-a40a-501bd33f26e9"
      }
    },
    {
      "cell_type": "markdown",
      "source": [
        "### Препроцессинг"
      ],
      "metadata": {
        "id": "9DfSuRxpFKVd"
      }
    },
    {
      "cell_type": "code",
      "execution_count": 4,
      "source": [
        "max_words = 200\n",
        "max_len = 40\n",
        "num_classes = 1\n",
        "\n",
        "# Training\n",
        "epochs = 20\n",
        "batch_size = 512\n",
        "print_batch_n = 100"
      ],
      "outputs": [],
      "metadata": {
        "id": "Y1IQdmEMHepK"
      }
    },
    {
      "cell_type": "code",
      "execution_count": 5,
      "source": [
        "from string import punctuation\n",
        "from stop_words import get_stop_words\n",
        "from pymorphy2 import MorphAnalyzer\n",
        "import re"
      ],
      "outputs": [],
      "metadata": {
        "id": "mCPtGGDPE5tP"
      }
    },
    {
      "cell_type": "code",
      "execution_count": 6,
      "source": [
        "sw = set(get_stop_words(\"ru\"))\n",
        "exclude = set(punctuation)\n",
        "morpher = MorphAnalyzer()\n",
        "\n",
        "def preprocess_text(txt):\n",
        "    txt = str(txt)\n",
        "    txt = \"\".join(c for c in txt if c not in exclude)\n",
        "    txt = txt.lower()\n",
        "    txt = re.sub(\"\\sне\", \"не\", txt)\n",
        "    txt = [morpher.parse(word)[0].normal_form for word in txt.split() if word not in sw]\n",
        "    return \" \".join(txt)\n",
        "\n",
        "df['Content'] = df['Content'].apply(preprocess_text)\n",
        "df['Rating'] = df['Rating'].apply(lambda x: f'{x}')"
      ],
      "outputs": [],
      "metadata": {
        "id": "flEaXVHEFrml"
      }
    },
    {
      "cell_type": "code",
      "execution_count": 7,
      "source": [
        "from sklearn.model_selection import train_test_split\n",
        "\n",
        "X_train, X_test, y_train, y_test = train_test_split(df.drop(columns=['Rating', 'Date']), df['Rating'], test_size=0.33, random_state=42)"
      ],
      "outputs": [],
      "metadata": {
        "id": "0719ncB7GXe1"
      }
    },
    {
      "cell_type": "code",
      "execution_count": 8,
      "source": [
        "train_corpus = \" \".join(X_train[\"Content\"])\n",
        "train_corpus = train_corpus.lower()"
      ],
      "outputs": [],
      "metadata": {
        "id": "Gx-nVL8qHCNP"
      }
    },
    {
      "cell_type": "code",
      "execution_count": 9,
      "source": [
        "import nltk\n",
        "from nltk.tokenize import word_tokenize\n",
        "nltk.download(\"punkt\")\n",
        "\n",
        "tokens = word_tokenize(train_corpus)"
      ],
      "outputs": [
        {
          "output_type": "stream",
          "name": "stderr",
          "text": [
            "[nltk_data] Downloading package punkt to /Users/tombelov/nltk_data...\n",
            "[nltk_data]   Package punkt is already up-to-date!\n"
          ]
        }
      ],
      "metadata": {
        "colab": {
          "base_uri": "https://localhost:8080/"
        },
        "id": "Y7oSFmbcHPx1",
        "outputId": "bc6ecf6a-1795-4146-82dc-ca9f04eac91c"
      }
    },
    {
      "cell_type": "code",
      "execution_count": 10,
      "source": [
        "tokens_filtered = [word for word in tokens if word.isalnum()]\n",
        "tokens_filtered[:10]"
      ],
      "outputs": [
        {
          "output_type": "execute_result",
          "data": {
            "text/plain": [
              "['наконецтый',\n",
              " 'исправить',\n",
              " 'чушь',\n",
              " 'снеоргинальный',\n",
              " 'прошивка',\n",
              " 'приложение',\n",
              " 'удобно',\n",
              " 'пользоваться',\n",
              " 'удобно',\n",
              " 'использование']"
            ]
          },
          "metadata": {},
          "execution_count": 10
        }
      ],
      "metadata": {
        "colab": {
          "base_uri": "https://localhost:8080/"
        },
        "id": "JoXODHGDHVnx",
        "outputId": "f1ec868b-41b7-4614-878a-15a7eba8cb57"
      }
    },
    {
      "cell_type": "code",
      "execution_count": 11,
      "source": [
        "from nltk.probability import FreqDist\n",
        "dist = FreqDist(tokens_filtered)\n",
        "tokens_filtered_top = [pair[0] for pair in dist.most_common(max_words-1)]\n",
        "tokens_filtered_top[:10]"
      ],
      "outputs": [
        {
          "output_type": "execute_result",
          "data": {
            "text/plain": [
              "['приложение',\n",
              " 'удобно',\n",
              " 'работать',\n",
              " 'удобный',\n",
              " 'отлично',\n",
              " 'нравиться',\n",
              " 'хороший',\n",
              " 'отличный',\n",
              " 'телефон',\n",
              " 'супер']"
            ]
          },
          "metadata": {},
          "execution_count": 11
        }
      ],
      "metadata": {
        "colab": {
          "base_uri": "https://localhost:8080/"
        },
        "id": "A7H1i3NXHZaR",
        "outputId": "8c2d8188-e413-44b9-f29c-fe2e21e6a09c"
      }
    },
    {
      "cell_type": "code",
      "execution_count": 12,
      "source": [
        "vocabulary = {v: k for k, v in dict(enumerate(tokens_filtered_top, 1)).items()}\n",
        "vocabulary"
      ],
      "outputs": [
        {
          "output_type": "execute_result",
          "data": {
            "text/plain": [
              "{'приложение': 1,\n",
              " 'удобно': 2,\n",
              " 'работать': 3,\n",
              " 'удобный': 4,\n",
              " 'отлично': 5,\n",
              " 'нравиться': 6,\n",
              " 'хороший': 7,\n",
              " 'отличный': 8,\n",
              " 'телефон': 9,\n",
              " 'супер': 10,\n",
              " 'быстро': 11,\n",
              " 'обновление': 12,\n",
              " 'пароль': 13,\n",
              " 'мочь': 14,\n",
              " 'пользоваться': 15,\n",
              " 'антивирус': 16,\n",
              " 'банк': 17,\n",
              " 'вход': 18,\n",
              " 'устраивать': 19,\n",
              " 'сбербанк': 20,\n",
              " 'раз': 21,\n",
              " 'прошивка': 22,\n",
              " 'карта': 23,\n",
              " 'проблема': 24,\n",
              " 'рута': 25,\n",
              " 'программа': 26,\n",
              " 'ошибка': 27,\n",
              " 'разработчик': 28,\n",
              " 'сделать': 29,\n",
              " 'приходиться': 30,\n",
              " 'вводить': 31,\n",
              " 'перевод': 32,\n",
              " 'счёт': 33,\n",
              " 'писать': 34,\n",
              " 'норма': 35,\n",
              " 'деньга': 36,\n",
              " 'довольный': 37,\n",
              " 'около': 38,\n",
              " 'постоянно': 39,\n",
              " 'нормально': 40,\n",
              " 'код': 41,\n",
              " 'исправить': 42,\n",
              " 'смс': 43,\n",
              " 'платёж': 44,\n",
              " 'понятно': 45,\n",
              " 'последний': 46,\n",
              " 'функция': 47,\n",
              " 'зайти': 48,\n",
              " 'свой': 49,\n",
              " 'вылетать': 50,\n",
              " 'мобильный': 51,\n",
              " 'стать': 52,\n",
              " 'шаблон': 53,\n",
              " 'приходить': 54,\n",
              " 'возможность': 55,\n",
              " 'право': 56,\n",
              " 'делать': 57,\n",
              " 'иня': 58,\n",
              " 'проверка': 59,\n",
              " 'класс': 60,\n",
              " 'установить': 61,\n",
              " 'root': 62,\n",
              " 'заходить': 63,\n",
              " '5': 64,\n",
              " 'meizu': 65,\n",
              " 'работа': 66,\n",
              " 'операция': 67,\n",
              " 'оплата': 68,\n",
              " 'нужный': 69,\n",
              " 'онлайн': 70,\n",
              " 'войти': 71,\n",
              " 'ввод': 72,\n",
              " 'функционал': 73,\n",
              " 'мой': 74,\n",
              " 'доступ': 75,\n",
              " 'версия': 76,\n",
              " 'первый': 77,\n",
              " 'молодец': 78,\n",
              " 'один': 79,\n",
              " 'отпечаток': 80,\n",
              " 'удалить': 81,\n",
              " 'полный': 82,\n",
              " 'вообще': 83,\n",
              " 'номер': 84,\n",
              " 'новый': 85,\n",
              " 'интернет': 86,\n",
              " 'самый': 87,\n",
              " '2': 88,\n",
              " 'изз': 89,\n",
              " 'круто': 90,\n",
              " 'уведомление': 91,\n",
              " 'убрать': 92,\n",
              " 'просить': 93,\n",
              " 'какой': 94,\n",
              " 'запуск': 95,\n",
              " 'приложениен': 96,\n",
              " 'перестать': 97,\n",
              " 'ян': 98,\n",
              " 'клиент': 99,\n",
              " 'понравиться': 100,\n",
              " 'ваш': 101,\n",
              " 'оплатить': 102,\n",
              " 'рука': 103,\n",
              " 'устройство': 104,\n",
              " 'кредит': 105,\n",
              " 'простой': 106,\n",
              " 'легко': 107,\n",
              " 'плохо': 108,\n",
              " 'удалять': 109,\n",
              " 'выдавать': 110,\n",
              " 'оплачивать': 111,\n",
              " 'вирус': 112,\n",
              " 'целое': 113,\n",
              " 'сбер': 114,\n",
              " 'палец': 115,\n",
              " 'запускаться': 116,\n",
              " 'дом': 117,\n",
              " 'выходить': 118,\n",
              " 'плохой': 119,\n",
              " '3': 120,\n",
              " 'добавить': 121,\n",
              " 'сразу': 122,\n",
              " 'большой': 123,\n",
              " 'ждать': 124,\n",
              " 'нормальный': 125,\n",
              " 'открываться': 126,\n",
              " 'замечательный': 127,\n",
              " 'другой': 128,\n",
              " 'безопасность': 129,\n",
              " 'быстрый': 130,\n",
              " 'минус': 131,\n",
              " 'любой': 132,\n",
              " 'ввести': 133,\n",
              " 'оригинальный': 134,\n",
              " 'никакой': 135,\n",
              " 'интерфейс': 136,\n",
              " 'каждый': 137,\n",
              " 'дать': 138,\n",
              " 'услуга': 139,\n",
              " 'ничегон': 140,\n",
              " 'идти': 141,\n",
              " 'грузиться': 142,\n",
              " 'месяц': 143,\n",
              " 'знать': 144,\n",
              " 'проверять': 145,\n",
              " 'отзыв': 146,\n",
              " 'переводить': 147,\n",
              " 'инициализация': 148,\n",
              " 'сообщение': 149,\n",
              " 'хотеть': 150,\n",
              " 'звезда': 151,\n",
              " 'установка': 152,\n",
              " '4': 153,\n",
              " 'сервис': 154,\n",
              " 'устанавливаться': 155,\n",
              " 'дело': 156,\n",
              " 'банкомат': 157,\n",
              " 'контакт': 158,\n",
              " 'классный': 159,\n",
              " 'главное': 160,\n",
              " 'видеть': 161,\n",
              " 'загружаться': 162,\n",
              " 'минута': 163,\n",
              " 'скачать': 164,\n",
              " 'давать': 165,\n",
              " 'вернуть': 166,\n",
              " 'андроид': 167,\n",
              " 'ставить': 168,\n",
              " 'долгий': 169,\n",
              " 'попытка': 170,\n",
              " 'перевести': 171,\n",
              " 'загрузка': 172,\n",
              " 'остальной': 173,\n",
              " 'тормозить': 174,\n",
              " 'смартфон': 175,\n",
              " 'финансы': 176,\n",
              " 'найти': 177,\n",
              " 'решить': 178,\n",
              " 'встроить': 179,\n",
              " 'чётко': 180,\n",
              " 'использование': 181,\n",
              " 'прийтись': 182,\n",
              " 'сумма': 183,\n",
              " 'классно': 184,\n",
              " 'зависать': 185,\n",
              " 'хотеться': 186,\n",
              " 'история': 187,\n",
              " 'полезный': 188,\n",
              " 'получаться': 189,\n",
              " '10': 190,\n",
              " 'доступно': 191,\n",
              " 'система': 192,\n",
              " 'средство': 193,\n",
              " 'ужасный': 194,\n",
              " 'связь': 195,\n",
              " 'прога': 196,\n",
              " 'пин': 197,\n",
              " 'общий': 198,\n",
              " 'заново': 199}"
            ]
          },
          "metadata": {},
          "execution_count": 12
        }
      ],
      "metadata": {
        "colab": {
          "base_uri": "https://localhost:8080/"
        },
        "id": "oN8vz2GpHaLW",
        "outputId": "f4761316-417f-4050-cedf-f02061438943"
      }
    },
    {
      "cell_type": "code",
      "execution_count": 13,
      "source": [
        "import numpy as np\n",
        "\n",
        "def text_to_sequence(text, maxlen):\n",
        "    result = []\n",
        "\n",
        "    tokens = word_tokenize(text.lower())\n",
        "    tokens_filtered = [word for word in tokens if word.isalnum()]\n",
        "    \n",
        "    for word in tokens_filtered:\n",
        "        if word in vocabulary:\n",
        "            result.append(vocabulary[word])\n",
        "\n",
        "    padding = [0] * (maxlen - len(result))\n",
        "\n",
        "    return padding + result[-maxlen:]"
      ],
      "outputs": [],
      "metadata": {
        "id": "ORhFHG36H5Hk"
      }
    },
    {
      "cell_type": "code",
      "execution_count": 14,
      "source": [
        "X_train_seq = np.asarray([text_to_sequence(text, max_len) for text in X_train[\"Content\"]], dtype=np.int32)\n",
        "X_test_seq = np.asarray([text_to_sequence(text, max_len) for text in X_test[\"Content\"]], dtype=np.int32)"
      ],
      "outputs": [],
      "metadata": {
        "id": "AZ6lGHllIKhO"
      }
    },
    {
      "cell_type": "code",
      "execution_count": 15,
      "source": [
        "X_train_seq, X_test_seq"
      ],
      "outputs": [
        {
          "output_type": "execute_result",
          "data": {
            "text/plain": [
              "(array([[  0,   0,   0, ...,   1,   2,  15],\n",
              "        [  0,   0,   0, ...,   0,   2, 181],\n",
              "        [  0,   0,   0, ...,   0,   0,   5],\n",
              "        ...,\n",
              "        [  0,   0,   0, ..., 164,  27,  84],\n",
              "        [  0,   0,   0, ...,   0,   0,  20],\n",
              "        [  0,   0,   0, ...,   0, 113,   5]], dtype=int32),\n",
              " array([[ 0,  0,  0, ...,  0,  0,  5],\n",
              "        [ 0,  0,  0, ...,  0,  6,  2],\n",
              "        [ 0,  0,  0, ...,  1, 14, 48],\n",
              "        ...,\n",
              "        [ 0,  0,  0, ...,  1,  2, 11],\n",
              "        [ 0,  0,  0, ..., 15,  1, 42],\n",
              "        [ 0,  0,  0, ..., 32,  1, 91]], dtype=int32))"
            ]
          },
          "metadata": {},
          "execution_count": 15
        }
      ],
      "metadata": {
        "colab": {
          "base_uri": "https://localhost:8080/"
        },
        "id": "ABOalYjuIYo3",
        "outputId": "59576977-edf7-41d5-9a39-1459fa719ea9"
      }
    },
    {
      "cell_type": "code",
      "execution_count": 16,
      "source": [
        "#!pip install keras\n",
        "#!pip install tensorflow"
      ],
      "outputs": [],
      "metadata": {}
    },
    {
      "cell_type": "code",
      "execution_count": 17,
      "source": [
        "import numpy as np\n",
        "import keras\n",
        "from tensorflow.keras.utils import to_categorical\n",
        "from keras.models import Sequential, Model\n",
        "from keras.layers import Dense, Dropout, Activation, Input, Embedding, Conv1D, GlobalMaxPool1D\n",
        "from keras.preprocessing.text import Tokenizer\n",
        "from keras.preprocessing.sequence import pad_sequences\n",
        "from keras.callbacks import TensorBoard \n",
        "from keras.objectives import categorical_crossentropy\n",
        "from keras.callbacks import EarlyStopping"
      ],
      "outputs": [],
      "metadata": {
        "id": "oDTe8VZYIf3c"
      }
    },
    {
      "cell_type": "code",
      "execution_count": 18,
      "source": [
        "y_train.shape"
      ],
      "outputs": [
        {
          "output_type": "execute_result",
          "data": {
            "text/plain": [
              "(13841,)"
            ]
          },
          "metadata": {},
          "execution_count": 18
        }
      ],
      "metadata": {
        "colab": {
          "base_uri": "https://localhost:8080/"
        },
        "id": "WTn-Z0fqKZO0",
        "outputId": "b03aa535-a0da-45ff-8017-8aba466cb696"
      }
    },
    {
      "cell_type": "code",
      "execution_count": 19,
      "source": [
        "num_classes = len(df['Rating'].value_counts()) + 1\n",
        "num_classes"
      ],
      "outputs": [
        {
          "output_type": "execute_result",
          "data": {
            "text/plain": [
              "6"
            ]
          },
          "metadata": {},
          "execution_count": 19
        }
      ],
      "metadata": {
        "colab": {
          "base_uri": "https://localhost:8080/"
        },
        "id": "6DgdjJ4pLaER",
        "outputId": "a98c7c11-1c40-40a4-818a-7f9c0535e292"
      }
    },
    {
      "cell_type": "code",
      "execution_count": 20,
      "source": [
        "y_train_cat = to_categorical(y_train, num_classes)\n",
        "y_test_cat = to_categorical(y_test, num_classes)"
      ],
      "outputs": [],
      "metadata": {
        "id": "3H9HmFVHIg9s"
      }
    },
    {
      "cell_type": "markdown",
      "source": [
        "1. Создаем и учим модель с обычным Embedding"
      ],
      "metadata": {
        "id": "mkW2EYl9EBCP"
      }
    },
    {
      "cell_type": "code",
      "execution_count": 21,
      "source": [
        "model = Sequential()\n",
        "model.add(Embedding(input_dim=max_words, output_dim=128, input_length=max_len))\n",
        "model.add(Conv1D(128, 3))\n",
        "model.add(Activation(\"relu\"))\n",
        "model.add(GlobalMaxPool1D())\n",
        "model.add(Dense(10))\n",
        "model.add(Activation(\"relu\"))\n",
        "model.add(Dense(num_classes))\n",
        "model.add(Activation('softmax'))"
      ],
      "outputs": [],
      "metadata": {
        "id": "8WcjLNYDwcgr"
      }
    },
    {
      "cell_type": "code",
      "execution_count": 22,
      "source": [
        "model.compile(loss='categorical_crossentropy',\n",
        "              optimizer='adam',\n",
        "              metrics=['accuracy'])"
      ],
      "outputs": [],
      "metadata": {
        "id": "4mTU9jVzwyTX"
      }
    },
    {
      "cell_type": "code",
      "execution_count": 23,
      "source": [
        "tensorboard=TensorBoard(log_dir='./logs', write_graph=True, write_images=True)\n",
        "early_stopping=EarlyStopping(monitor='val_loss')  \n",
        "\n",
        "history = model.fit(X_train_seq, y_train_cat,\n",
        "                    batch_size=batch_size,\n",
        "                    epochs=epochs,\n",
        "                    verbose=1,\n",
        "                    validation_split=0.1,\n",
        "                    callbacks=[tensorboard, early_stopping])"
      ],
      "outputs": [
        {
          "output_type": "stream",
          "name": "stdout",
          "text": [
            "Epoch 1/20\n",
            "25/25 [==============================] - 11s 54ms/step - loss: 1.5462 - accuracy: 0.6384 - val_loss: 1.0955 - val_accuracy: 0.7011\n"
          ]
        }
      ],
      "metadata": {
        "colab": {
          "base_uri": "https://localhost:8080/"
        },
        "id": "K42jI6QOw9QQ",
        "outputId": "c8a55751-bcc0-48f2-d691-781c1f235072"
      }
    },
    {
      "cell_type": "code",
      "execution_count": 24,
      "source": [
        "score = model.evaluate(X_test_seq, y_test_cat, batch_size=batch_size, verbose=1)\n",
        "print('\\n')\n",
        "print('Test score:', score[0])\n",
        "print('Test accuracy:', score[1])"
      ],
      "outputs": [
        {
          "output_type": "stream",
          "name": "stdout",
          "text": [
            "14/14 [==============================] - 0s 7ms/step - loss: 1.0688 - accuracy: 0.7125\n",
            "\n",
            "\n",
            "Test score: 1.0688270330429077\n",
            "Test accuracy: 0.7125256657600403\n"
          ]
        }
      ],
      "metadata": {
        "colab": {
          "base_uri": "https://localhost:8080/"
        },
        "id": "ZOOlCVqXxPCv",
        "outputId": "dfa84e03-a5cd-489c-9bf7-988abe9ec7c4"
      }
    },
    {
      "cell_type": "code",
      "execution_count": 25,
      "source": [
        "results = model.predict(X_test_seq, batch_size=batch_size, verbose=1)"
      ],
      "outputs": [
        {
          "output_type": "stream",
          "name": "stdout",
          "text": [
            "14/14 [==============================] - 0s 7ms/step\n"
          ]
        }
      ],
      "metadata": {
        "colab": {
          "base_uri": "https://localhost:8080/"
        },
        "id": "YBQawWwkyMY1",
        "outputId": "7ea51fd1-8f28-455f-f63d-1865dfb67f8b"
      }
    },
    {
      "cell_type": "code",
      "execution_count": 26,
      "source": [
        "results"
      ],
      "outputs": [
        {
          "output_type": "execute_result",
          "data": {
            "text/plain": [
              "array([[0.1002029 , 0.03017209, 0.04071685, 0.04369523, 0.04680741,\n",
              "        0.73840547],\n",
              "       [0.09800393, 0.02920604, 0.03998629, 0.04268521, 0.04471024,\n",
              "        0.7454083 ],\n",
              "       [0.10008722, 0.05559361, 0.05772931, 0.06640156, 0.06564388,\n",
              "        0.6545444 ],\n",
              "       ...,\n",
              "       [0.09835306, 0.03222388, 0.04173975, 0.04388751, 0.0472176 ,\n",
              "        0.7365782 ],\n",
              "       [0.10750321, 0.07144999, 0.06960043, 0.07972618, 0.07727428,\n",
              "        0.59444594],\n",
              "       [0.10361601, 0.05191559, 0.05654161, 0.06454043, 0.06424002,\n",
              "        0.6591463 ]], dtype=float32)"
            ]
          },
          "metadata": {},
          "execution_count": 26
        }
      ],
      "metadata": {}
    },
    {
      "cell_type": "markdown",
      "source": [
        "Сравнить две архитектуры с предобученными весами и когда tf.keras.layers.Embedding обучается сразу со всей сеточкой, что получилось лучше"
      ],
      "metadata": {
        "id": "FdFkzwuNEv5N"
      }
    },
    {
      "cell_type": "markdown",
      "source": [
        "2. Создаем и учим модель с предзагруженным Embedding\n",
        "\n",
        "грузим с сайта https://rusvectores.org/ru/  \n",
        "модель ruwikiruscorpora_tokens_elmo_1024_2019"
      ],
      "metadata": {
        "id": "Vxo80OI1ERL0"
      }
    },
    {
      "cell_type": "code",
      "execution_count": 27,
      "source": [
        "# !pip install --upgrade simple_elmo"
      ],
      "outputs": [],
      "metadata": {}
    },
    {
      "cell_type": "code",
      "execution_count": 28,
      "source": [
        "from simple_elmo import ElmoModel\n",
        "model = ElmoModel()\n",
        "model.load('./model')\n"
      ],
      "outputs": [
        {
          "output_type": "stream",
          "name": "stderr",
          "text": [
            "2021-07-28 21:10:44,082 : INFO : Loading model from ./model...\n",
            "2021-07-28 21:10:44,083 : INFO : We will cache the vocabulary of 100 tokens.\n",
            "/Users/tombelov/opt/miniconda3/lib/python3.9/site-packages/tensorflow/python/keras/layers/legacy_rnn/rnn_cell_impl.py:909: UserWarning: `tf.nn.rnn_cell.LSTMCell` is deprecated and will be removed in a future version. This class is equivalent as `tf.keras.layers.LSTMCell`, and will be replaced by that in Tensorflow 2.0.\n",
            "  warnings.warn(\"`tf.nn.rnn_cell.LSTMCell` is deprecated and will be \"\n",
            "/Users/tombelov/opt/miniconda3/lib/python3.9/site-packages/tensorflow/python/keras/engine/base_layer_v1.py:1700: UserWarning: `layer.add_variable` is deprecated and will be removed in a future version. Please use `layer.add_weight` method instead.\n",
            "  warnings.warn('`layer.add_variable` is deprecated and '\n"
          ]
        },
        {
          "output_type": "execute_result",
          "data": {
            "text/plain": [
              "'The model is now loaded.'"
            ]
          },
          "metadata": {},
          "execution_count": 28
        }
      ],
      "metadata": {}
    },
    {
      "cell_type": "code",
      "execution_count": 32,
      "source": [
        "vectors = model.get_elmo_vectors(df['Content'])"
      ],
      "outputs": [
        {
          "output_type": "stream",
          "name": "stderr",
          "text": [
            "2021-07-28 21:35:33,762 : INFO : Warming up ELMo on 32 sentences...\n",
            "2021-07-28 21:35:37,175 : INFO : Warming up finished.\n",
            "2021-07-28 21:35:37,185 : INFO : Texts in the current batch: 32\n",
            "2021-07-28 21:35:40,399 : INFO : Texts in the current batch: 32\n",
            "2021-07-28 21:35:45,129 : INFO : Texts in the current batch: 32\n",
            "2021-07-28 21:35:48,319 : INFO : Texts in the current batch: 32\n",
            "2021-07-28 21:35:52,342 : INFO : Texts in the current batch: 32\n",
            "2021-07-28 21:35:57,771 : INFO : Texts in the current batch: 32\n",
            "2021-07-28 21:36:03,968 : INFO : Texts in the current batch: 32\n",
            "2021-07-28 21:36:05,966 : INFO : Texts in the current batch: 32\n",
            "2021-07-28 21:36:09,703 : INFO : Texts in the current batch: 32\n",
            "2021-07-28 21:36:17,120 : INFO : Texts in the current batch: 32\n",
            "2021-07-28 21:36:27,999 : INFO : Texts in the current batch: 32\n",
            "2021-07-28 21:36:36,156 : INFO : Texts in the current batch: 32\n",
            "2021-07-28 21:36:53,836 : INFO : Texts in the current batch: 32\n",
            "2021-07-28 21:37:03,809 : INFO : Texts in the current batch: 32\n",
            "2021-07-28 21:37:08,583 : INFO : Texts in the current batch: 32\n",
            "2021-07-28 21:37:26,428 : INFO : Texts in the current batch: 32\n",
            "2021-07-28 21:37:30,011 : INFO : Texts in the current batch: 32\n",
            "2021-07-28 21:37:32,720 : INFO : Texts in the current batch: 32\n",
            "2021-07-28 21:37:36,848 : INFO : Texts in the current batch: 32\n",
            "2021-07-28 21:37:43,192 : INFO : Texts in the current batch: 32\n",
            "2021-07-28 21:37:47,695 : INFO : Texts in the current batch: 32\n",
            "2021-07-28 21:37:51,918 : INFO : Texts in the current batch: 32\n",
            "2021-07-28 21:37:54,647 : INFO : Texts in the current batch: 32\n",
            "2021-07-28 21:38:00,673 : INFO : Texts in the current batch: 32\n",
            "2021-07-28 21:38:05,844 : INFO : Texts in the current batch: 32\n",
            "2021-07-28 21:38:08,692 : INFO : Texts in the current batch: 32\n",
            "2021-07-28 21:38:13,085 : INFO : Texts in the current batch: 32\n",
            "2021-07-28 21:38:17,254 : INFO : Texts in the current batch: 32\n",
            "2021-07-28 21:38:22,887 : INFO : Texts in the current batch: 32\n",
            "2021-07-28 21:38:27,600 : INFO : Texts in the current batch: 32\n",
            "2021-07-28 21:38:41,126 : INFO : Texts in the current batch: 32\n",
            "2021-07-28 21:38:42,576 : INFO : Texts in the current batch: 32\n",
            "2021-07-28 21:38:45,570 : INFO : Texts in the current batch: 32\n",
            "2021-07-28 21:38:48,637 : INFO : Texts in the current batch: 32\n",
            "2021-07-28 21:38:56,425 : INFO : Texts in the current batch: 32\n",
            "2021-07-28 21:39:01,328 : INFO : Texts in the current batch: 32\n",
            "2021-07-28 21:39:06,137 : INFO : Texts in the current batch: 32\n",
            "2021-07-28 21:39:09,173 : INFO : Texts in the current batch: 32\n",
            "2021-07-28 21:39:12,573 : INFO : Texts in the current batch: 32\n",
            "2021-07-28 21:39:16,714 : INFO : Texts in the current batch: 32\n",
            "2021-07-28 21:39:21,541 : INFO : Texts in the current batch: 32\n",
            "2021-07-28 21:39:24,334 : INFO : Texts in the current batch: 32\n",
            "2021-07-28 21:39:27,455 : INFO : Texts in the current batch: 32\n",
            "2021-07-28 22:29:37,296 : INFO : Texts in the current batch: 32\n"
          ]
        }
      ],
      "metadata": {}
    },
    {
      "cell_type": "code",
      "execution_count": null,
      "source": [
        "import pickle\n",
        "with open('embeddings.pickle', 'wb') as f:\n",
        "    pickle.dump(vectors, f)\n"
      ],
      "outputs": [
        {
          "output_type": "error",
          "ename": "NameError",
          "evalue": "name 'vectors' is not defined",
          "traceback": [
            "\u001b[0;31m---------------------------------------------------------------------------\u001b[0m",
            "\u001b[0;31mNameError\u001b[0m                                 Traceback (most recent call last)",
            "\u001b[0;32m<ipython-input-31-af30c20efcf3>\u001b[0m in \u001b[0;36m<module>\u001b[0;34m\u001b[0m\n\u001b[1;32m      1\u001b[0m \u001b[0;32mimport\u001b[0m \u001b[0mpickle\u001b[0m\u001b[0;34m\u001b[0m\u001b[0;34m\u001b[0m\u001b[0m\n\u001b[1;32m      2\u001b[0m \u001b[0;32mwith\u001b[0m \u001b[0mopen\u001b[0m\u001b[0;34m(\u001b[0m\u001b[0;34m'embeddings.pickle'\u001b[0m\u001b[0;34m,\u001b[0m \u001b[0;34m'wb'\u001b[0m\u001b[0;34m)\u001b[0m \u001b[0;32mas\u001b[0m \u001b[0mf\u001b[0m\u001b[0;34m:\u001b[0m\u001b[0;34m\u001b[0m\u001b[0;34m\u001b[0m\u001b[0m\n\u001b[0;32m----> 3\u001b[0;31m     \u001b[0mpickle\u001b[0m\u001b[0;34m.\u001b[0m\u001b[0mdump\u001b[0m\u001b[0;34m(\u001b[0m\u001b[0mvectors\u001b[0m\u001b[0;34m,\u001b[0m \u001b[0mf\u001b[0m\u001b[0;34m)\u001b[0m\u001b[0;34m\u001b[0m\u001b[0;34m\u001b[0m\u001b[0m\n\u001b[0m",
            "\u001b[0;31mNameError\u001b[0m: name 'vectors' is not defined"
          ]
        }
      ],
      "metadata": {}
    },
    {
      "cell_type": "code",
      "execution_count": 38,
      "source": [
        "from keras.models import model_from_json\n",
        "\n",
        "json_file = open('./model/options.json', 'r')\n",
        "loaded_model_json = json_file.read()\n",
        "json_file.close()\n",
        "loaded_model = model_from_json(loaded_model_json)"
      ],
      "outputs": [
        {
          "output_type": "error",
          "ename": "ValueError",
          "evalue": "Improper config format: {'bidirectional': True, 'char_cnn': {'activation': 'relu', 'embedding': {'dim': 16}, 'filters': [[1, 32], [2, 32], [3, 64], [4, 128], [5, 256], [6, 512], [7, 1024]], 'max_characters_per_token': 50, 'n_characters': 262, 'n_highway': 2}, 'dropout': 0.1, 'lstm': {'cell_clip': 3, 'dim': 2048, 'n_layers': 2, 'proj_clip': 3, 'projection_dim': 512, 'use_skip_connections': True}, 'all_clip_norm_val': 10.0, 'n_epochs': 3, 'n_train_tokens': 989077087, 'batch_size': 192, 'n_tokens_vocab': 250003, 'unroll_steps': 20, 'n_negative_samples_batch': 4096}",
          "traceback": [
            "\u001b[0;31m---------------------------------------------------------------------------\u001b[0m",
            "\u001b[0;31mValueError\u001b[0m                                Traceback (most recent call last)",
            "\u001b[0;32m<ipython-input-38-7cc1b846d7d3>\u001b[0m in \u001b[0;36m<module>\u001b[0;34m\u001b[0m\n\u001b[1;32m      4\u001b[0m \u001b[0mloaded_model_json\u001b[0m \u001b[0;34m=\u001b[0m \u001b[0mjson_file\u001b[0m\u001b[0;34m.\u001b[0m\u001b[0mread\u001b[0m\u001b[0;34m(\u001b[0m\u001b[0;34m)\u001b[0m\u001b[0;34m\u001b[0m\u001b[0;34m\u001b[0m\u001b[0m\n\u001b[1;32m      5\u001b[0m \u001b[0mjson_file\u001b[0m\u001b[0;34m.\u001b[0m\u001b[0mclose\u001b[0m\u001b[0;34m(\u001b[0m\u001b[0;34m)\u001b[0m\u001b[0;34m\u001b[0m\u001b[0;34m\u001b[0m\u001b[0m\n\u001b[0;32m----> 6\u001b[0;31m \u001b[0mloaded_model\u001b[0m \u001b[0;34m=\u001b[0m \u001b[0mmodel_from_json\u001b[0m\u001b[0;34m(\u001b[0m\u001b[0mloaded_model_json\u001b[0m\u001b[0;34m)\u001b[0m\u001b[0;34m\u001b[0m\u001b[0;34m\u001b[0m\u001b[0m\n\u001b[0m",
            "\u001b[0;32m~/opt/miniconda3/lib/python3.9/site-packages/keras/saving/model_config.py\u001b[0m in \u001b[0;36mmodel_from_json\u001b[0;34m(json_string, custom_objects)\u001b[0m\n\u001b[1;32m    124\u001b[0m   \u001b[0mconfig\u001b[0m \u001b[0;34m=\u001b[0m \u001b[0mjson_utils\u001b[0m\u001b[0;34m.\u001b[0m\u001b[0mdecode\u001b[0m\u001b[0;34m(\u001b[0m\u001b[0mjson_string\u001b[0m\u001b[0;34m)\u001b[0m\u001b[0;34m\u001b[0m\u001b[0;34m\u001b[0m\u001b[0m\n\u001b[1;32m    125\u001b[0m   \u001b[0;32mfrom\u001b[0m \u001b[0mkeras\u001b[0m\u001b[0;34m.\u001b[0m\u001b[0mlayers\u001b[0m \u001b[0;32mimport\u001b[0m \u001b[0mdeserialize\u001b[0m  \u001b[0;31m# pylint: disable=g-import-not-at-top\u001b[0m\u001b[0;34m\u001b[0m\u001b[0;34m\u001b[0m\u001b[0m\n\u001b[0;32m--> 126\u001b[0;31m   \u001b[0;32mreturn\u001b[0m \u001b[0mdeserialize\u001b[0m\u001b[0;34m(\u001b[0m\u001b[0mconfig\u001b[0m\u001b[0;34m,\u001b[0m \u001b[0mcustom_objects\u001b[0m\u001b[0;34m=\u001b[0m\u001b[0mcustom_objects\u001b[0m\u001b[0;34m)\u001b[0m\u001b[0;34m\u001b[0m\u001b[0;34m\u001b[0m\u001b[0m\n\u001b[0m",
            "\u001b[0;32m~/opt/miniconda3/lib/python3.9/site-packages/keras/layers/serialization.py\u001b[0m in \u001b[0;36mdeserialize\u001b[0;34m(config, custom_objects)\u001b[0m\n\u001b[1;32m    157\u001b[0m   \"\"\"\n\u001b[1;32m    158\u001b[0m   \u001b[0mpopulate_deserializable_objects\u001b[0m\u001b[0;34m(\u001b[0m\u001b[0;34m)\u001b[0m\u001b[0;34m\u001b[0m\u001b[0;34m\u001b[0m\u001b[0m\n\u001b[0;32m--> 159\u001b[0;31m   return generic_utils.deserialize_keras_object(\n\u001b[0m\u001b[1;32m    160\u001b[0m       \u001b[0mconfig\u001b[0m\u001b[0;34m,\u001b[0m\u001b[0;34m\u001b[0m\u001b[0;34m\u001b[0m\u001b[0m\n\u001b[1;32m    161\u001b[0m       \u001b[0mmodule_objects\u001b[0m\u001b[0;34m=\u001b[0m\u001b[0mLOCAL\u001b[0m\u001b[0;34m.\u001b[0m\u001b[0mALL_OBJECTS\u001b[0m\u001b[0;34m,\u001b[0m\u001b[0;34m\u001b[0m\u001b[0;34m\u001b[0m\u001b[0m\n",
            "\u001b[0;32m~/opt/miniconda3/lib/python3.9/site-packages/keras/utils/generic_utils.py\u001b[0m in \u001b[0;36mdeserialize_keras_object\u001b[0;34m(identifier, module_objects, custom_objects, printable_module_name)\u001b[0m\n\u001b[1;32m    651\u001b[0m     \u001b[0;31m# In this case we are dealing with a Keras config dictionary.\u001b[0m\u001b[0;34m\u001b[0m\u001b[0;34m\u001b[0m\u001b[0;34m\u001b[0m\u001b[0m\n\u001b[1;32m    652\u001b[0m     \u001b[0mconfig\u001b[0m \u001b[0;34m=\u001b[0m \u001b[0midentifier\u001b[0m\u001b[0;34m\u001b[0m\u001b[0;34m\u001b[0m\u001b[0m\n\u001b[0;32m--> 653\u001b[0;31m     (cls, cls_config) = class_and_config_for_serialized_keras_object(\n\u001b[0m\u001b[1;32m    654\u001b[0m         config, module_objects, custom_objects, printable_module_name)\n\u001b[1;32m    655\u001b[0m \u001b[0;34m\u001b[0m\u001b[0m\n",
            "\u001b[0;32m~/opt/miniconda3/lib/python3.9/site-packages/keras/utils/generic_utils.py\u001b[0m in \u001b[0;36mclass_and_config_for_serialized_keras_object\u001b[0;34m(config, module_objects, custom_objects, printable_module_name)\u001b[0m\n\u001b[1;32m    549\u001b[0m       \u001b[0;32mor\u001b[0m \u001b[0;34m'class_name'\u001b[0m \u001b[0;32mnot\u001b[0m \u001b[0;32min\u001b[0m \u001b[0mconfig\u001b[0m\u001b[0;34m\u001b[0m\u001b[0;34m\u001b[0m\u001b[0m\n\u001b[1;32m    550\u001b[0m       or 'config' not in config):\n\u001b[0;32m--> 551\u001b[0;31m     \u001b[0;32mraise\u001b[0m \u001b[0mValueError\u001b[0m\u001b[0;34m(\u001b[0m\u001b[0;34m'Improper config format: '\u001b[0m \u001b[0;34m+\u001b[0m \u001b[0mstr\u001b[0m\u001b[0;34m(\u001b[0m\u001b[0mconfig\u001b[0m\u001b[0;34m)\u001b[0m\u001b[0;34m)\u001b[0m\u001b[0;34m\u001b[0m\u001b[0;34m\u001b[0m\u001b[0m\n\u001b[0m\u001b[1;32m    552\u001b[0m \u001b[0;34m\u001b[0m\u001b[0m\n\u001b[1;32m    553\u001b[0m   \u001b[0mclass_name\u001b[0m \u001b[0;34m=\u001b[0m \u001b[0mconfig\u001b[0m\u001b[0;34m[\u001b[0m\u001b[0;34m'class_name'\u001b[0m\u001b[0;34m]\u001b[0m\u001b[0;34m\u001b[0m\u001b[0;34m\u001b[0m\u001b[0m\n",
            "\u001b[0;31mValueError\u001b[0m: Improper config format: {'bidirectional': True, 'char_cnn': {'activation': 'relu', 'embedding': {'dim': 16}, 'filters': [[1, 32], [2, 32], [3, 64], [4, 128], [5, 256], [6, 512], [7, 1024]], 'max_characters_per_token': 50, 'n_characters': 262, 'n_highway': 2}, 'dropout': 0.1, 'lstm': {'cell_clip': 3, 'dim': 2048, 'n_layers': 2, 'proj_clip': 3, 'projection_dim': 512, 'use_skip_connections': True}, 'all_clip_norm_val': 10.0, 'n_epochs': 3, 'n_train_tokens': 989077087, 'batch_size': 192, 'n_tokens_vocab': 250003, 'unroll_steps': 20, 'n_negative_samples_batch': 4096}"
          ]
        }
      ],
      "metadata": {}
    },
    {
      "cell_type": "markdown",
      "source": [
        "## ЗДЕСЬ ЗАКАНЧИВАЕТСЯ ПРАКТИЧЕСКОЕ ЗАДАНИЕ - ДАЛЬШЕ МАТЕРИАЛЫ ЛЕКЦИИИ"
      ],
      "metadata": {
        "id": "1dA09d4eFInw"
      }
    },
    {
      "cell_type": "code",
      "execution_count": null,
      "source": [],
      "outputs": [],
      "metadata": {
        "id": "LMIQIwctMgZE"
      }
    },
    {
      "cell_type": "code",
      "execution_count": null,
      "source": [
        "from sklearn.feature_extraction.text import TfidfVectorizer\n",
        "from sklearn.linear_model import LogisticRegression\n",
        "\n",
        "from sklearn.metrics import accuracy_score "
      ],
      "outputs": [],
      "metadata": {
        "id": "cGYcklt2MgZE"
      }
    },
    {
      "cell_type": "code",
      "execution_count": null,
      "source": [
        "vect = TfidfVectorizer(ngram_range=(1, 2), analyzer='word', lowercase=False)"
      ],
      "outputs": [],
      "metadata": {
        "id": "H_E_NkzBMgZE"
      }
    },
    {
      "cell_type": "code",
      "execution_count": null,
      "source": [
        "train_ft = vect.fit_transform(X_train['Content'])\n",
        "valid_ft = vect.transform(X_test['Content'])"
      ],
      "outputs": [
        {
          "output_type": "error",
          "ename": "IndexError",
          "evalue": "ignored",
          "traceback": [
            "\u001b[0;31m---------------------------------------------------------------------------\u001b[0m",
            "\u001b[0;31mIndexError\u001b[0m                                Traceback (most recent call last)",
            "\u001b[0;32m<ipython-input-118-5cb58db80bfd>\u001b[0m in \u001b[0;36m<module>\u001b[0;34m()\u001b[0m\n\u001b[0;32m----> 1\u001b[0;31m \u001b[0mtrain_ft\u001b[0m \u001b[0;34m=\u001b[0m \u001b[0mvect\u001b[0m\u001b[0;34m.\u001b[0m\u001b[0mfit_transform\u001b[0m\u001b[0;34m(\u001b[0m\u001b[0mX_train\u001b[0m\u001b[0;34m[\u001b[0m\u001b[0;34m'Content'\u001b[0m\u001b[0;34m]\u001b[0m\u001b[0;34m)\u001b[0m\u001b[0;34m\u001b[0m\u001b[0;34m\u001b[0m\u001b[0m\n\u001b[0m\u001b[1;32m      2\u001b[0m \u001b[0mvalid_ft\u001b[0m \u001b[0;34m=\u001b[0m \u001b[0mvect\u001b[0m\u001b[0;34m.\u001b[0m\u001b[0mtransform\u001b[0m\u001b[0;34m(\u001b[0m\u001b[0mX_test\u001b[0m\u001b[0;34m[\u001b[0m\u001b[0;34m'Content'\u001b[0m\u001b[0;34m]\u001b[0m\u001b[0;34m)\u001b[0m\u001b[0;34m\u001b[0m\u001b[0;34m\u001b[0m\u001b[0m\n",
            "\u001b[0;31mIndexError\u001b[0m: only integers, slices (`:`), ellipsis (`...`), numpy.newaxis (`None`) and integer or boolean arrays are valid indices"
          ]
        }
      ],
      "metadata": {
        "id": "Dg1vtQCLMgZF",
        "colab": {
          "base_uri": "https://localhost:8080/",
          "height": 183
        },
        "outputId": "a16bb2d8-d3f8-42ed-86b8-9db2309456a6"
      }
    },
    {
      "cell_type": "code",
      "execution_count": null,
      "source": [
        "lgr = LogisticRegression()"
      ],
      "outputs": [],
      "metadata": {
        "id": "Ab7EPlOuMgZF"
      }
    },
    {
      "cell_type": "code",
      "execution_count": null,
      "source": [
        "lgr.fit(train_ft, X_train['Rating'].to_numpy())"
      ],
      "outputs": [
        {
          "output_type": "error",
          "ename": "NameError",
          "evalue": "ignored",
          "traceback": [
            "\u001b[0;31m---------------------------------------------------------------------------\u001b[0m",
            "\u001b[0;31mNameError\u001b[0m                                 Traceback (most recent call last)",
            "\u001b[0;32m<ipython-input-120-b1fd2a455b8a>\u001b[0m in \u001b[0;36m<module>\u001b[0;34m()\u001b[0m\n\u001b[0;32m----> 1\u001b[0;31m \u001b[0mlgr\u001b[0m\u001b[0;34m.\u001b[0m\u001b[0mfit\u001b[0m\u001b[0;34m(\u001b[0m\u001b[0mtrain_ft\u001b[0m\u001b[0;34m,\u001b[0m \u001b[0mX_train\u001b[0m\u001b[0;34m[\u001b[0m\u001b[0;34m'Rating'\u001b[0m\u001b[0;34m]\u001b[0m\u001b[0;34m.\u001b[0m\u001b[0mto_numpy\u001b[0m\u001b[0;34m(\u001b[0m\u001b[0;34m)\u001b[0m\u001b[0;34m)\u001b[0m\u001b[0;34m\u001b[0m\u001b[0;34m\u001b[0m\u001b[0m\n\u001b[0m",
            "\u001b[0;31mNameError\u001b[0m: name 'train_ft' is not defined"
          ]
        }
      ],
      "metadata": {
        "id": "lJup5g1FMgZF",
        "colab": {
          "base_uri": "https://localhost:8080/",
          "height": 165
        },
        "outputId": "cc24a46d-4d02-4255-be9f-55625aaef60e"
      }
    },
    {
      "cell_type": "code",
      "execution_count": null,
      "source": [
        "y_pred = lgr.predict(valid_ft)"
      ],
      "outputs": [],
      "metadata": {
        "id": "ET5cYimuMgZG"
      }
    },
    {
      "cell_type": "code",
      "execution_count": null,
      "source": [
        "accuracy_score(df_val['class'].to_numpy(), y_pred)"
      ],
      "outputs": [
        {
          "output_type": "execute_result",
          "data": {
            "text/plain": [
              "0.7362341841908037"
            ]
          },
          "metadata": {
            "tags": []
          },
          "execution_count": 39
        }
      ],
      "metadata": {
        "id": "jZ5aTLzsMgZG",
        "outputId": "a5d88771-e0b5-4a48-86df-add25fa07206"
      }
    },
    {
      "cell_type": "code",
      "execution_count": null,
      "source": [],
      "outputs": [],
      "metadata": {
        "id": "kFnpnj5_MgZG"
      }
    },
    {
      "cell_type": "code",
      "execution_count": null,
      "source": [
        "from gensim.models import Word2Vec"
      ],
      "outputs": [],
      "metadata": {
        "id": "WX3QgjKmMgZG"
      }
    },
    {
      "cell_type": "code",
      "execution_count": null,
      "source": [
        "df_train['text']"
      ],
      "outputs": [
        {
          "output_type": "execute_result",
          "data": {
            "text/plain": [
              "0         alisachachkaн уезжаааааааать ❤ тожена хотеть у...\n",
              "1         rt galyginvadim ребята девчата кино любовь зав...\n",
              "2           rt artemklyushin ктоненавидеть пробка ретвит rt\n",
              "3         rt epupybobv хотеться котлета покиевск запретн...\n",
              "4         karinekurganova yessboss босапоп есбосан боять...\n",
              "                                ...                        \n",
              "181462                     классный новый httptcolejaguxnwu\n",
              "181463                       видеть человек привет игнорита\n",
              "181464    julia69styles длинный диагноз вкратце аллергич...\n",
              "181465    technoslav ух серенький кнопочень телефон дост...\n",
              "181466    kris1d07 собираться сделатьd навешать фотка ва...\n",
              "Name: text, Length: 181467, dtype: object"
            ]
          },
          "metadata": {
            "tags": []
          },
          "execution_count": 41
        }
      ],
      "metadata": {
        "id": "sPiRG2tvMgZH",
        "outputId": "29829c0d-468c-4907-cf05-8ac262e00c68"
      }
    },
    {
      "cell_type": "code",
      "execution_count": null,
      "source": [
        "modelW2V = Word2Vec(sentences=df_train['text'].apply(str.split), size=100, window=5, min_count=5, workers=8)"
      ],
      "outputs": [],
      "metadata": {
        "id": "eFB4RICGMgZH"
      }
    },
    {
      "cell_type": "code",
      "execution_count": null,
      "source": [
        "modelW2V.wv.vocab"
      ],
      "outputs": [
        {
          "output_type": "execute_result",
          "data": {
            "text/plain": [
              "{'❤': <gensim.models.keyedvectors.Vocab at 0x7f7d606bb1f0>,\n",
              " 'тожена': <gensim.models.keyedvectors.Vocab at 0x7f7d606bb790>,\n",
              " 'хотеть': <gensim.models.keyedvectors.Vocab at 0x7f7c62c34f10>,\n",
              " 'уезжать': <gensim.models.keyedvectors.Vocab at 0x7f7c62c34f70>,\n",
              " 'rt': <gensim.models.keyedvectors.Vocab at 0x7f7c62c34880>,\n",
              " 'ребята': <gensim.models.keyedvectors.Vocab at 0x7f7c62c346d0>,\n",
              " 'девчата': <gensim.models.keyedvectors.Vocab at 0x7f7c62c34ca0>,\n",
              " 'кино': <gensim.models.keyedvectors.Vocab at 0x7f7c62c34bb0>,\n",
              " 'любовь': <gensim.models.keyedvectors.Vocab at 0x7f7c62c34ee0>,\n",
              " 'завтра': <gensim.models.keyedvectors.Vocab at 0x7f7d7b8135e0>,\n",
              " 'artemklyushin': <gensim.models.keyedvectors.Vocab at 0x7f7d7b813c40>,\n",
              " 'ктоненавидеть': <gensim.models.keyedvectors.Vocab at 0x7f7d58143310>,\n",
              " 'пробка': <gensim.models.keyedvectors.Vocab at 0x7f7d58143190>,\n",
              " 'ретвит': <gensim.models.keyedvectors.Vocab at 0x7f7d58143340>,\n",
              " 'хотеться': <gensim.models.keyedvectors.Vocab at 0x7f7c562c1040>,\n",
              " 'котлета': <gensim.models.keyedvectors.Vocab at 0x7f7c562c10a0>,\n",
              " 'плод': <gensim.models.keyedvectors.Vocab at 0x7f7c562c1100>,\n",
              " 'yessboss': <gensim.models.keyedvectors.Vocab at 0x7f7c562c1160>,\n",
              " 'бояться': <gensim.models.keyedvectors.Vocab at 0x7f7c562c11c0>,\n",
              " 'мороз': <gensim.models.keyedvectors.Vocab at 0x7f7c562c1220>,\n",
              " 'манчестер': <gensim.models.keyedvectors.Vocab at 0x7f7c562c1280>,\n",
              " 'час': <gensim.models.keyedvectors.Vocab at 0x7f7c562c12e0>,\n",
              " 'играть': <gensim.models.keyedvectors.Vocab at 0x7f7c562c1340>,\n",
              " 'ян': <gensim.models.keyedvectors.Vocab at 0x7f7c562c13a0>,\n",
              " 'дом': <gensim.models.keyedvectors.Vocab at 0x7f7c562c1400>,\n",
              " '2004': <gensim.models.keyedvectors.Vocab at 0x7f7c562c1460>,\n",
              " 'жаба': <gensim.models.keyedvectors.Vocab at 0x7f7c562c14c0>,\n",
              " 'остаться': <gensim.models.keyedvectors.Vocab at 0x7f7c562c1520>,\n",
              " 'транспорт': <gensim.models.keyedvectors.Vocab at 0x7f7c562c1580>,\n",
              " 'правда': <gensim.models.keyedvectors.Vocab at 0x7f7c562c15e0>,\n",
              " 'девчёнка': <gensim.models.keyedvectors.Vocab at 0x7f7c562c1640>,\n",
              " 'писать': <gensim.models.keyedvectors.Vocab at 0x7f7c562c16a0>,\n",
              " 'этна': <gensim.models.keyedvectors.Vocab at 0x7f7c562c1700>,\n",
              " 'счёт': <gensim.models.keyedvectors.Vocab at 0x7f7c562c1760>,\n",
              " 'момент': <gensim.models.keyedvectors.Vocab at 0x7f7c562c17c0>,\n",
              " 'мальчик': <gensim.models.keyedvectors.Vocab at 0x7f7c562c1820>,\n",
              " 'маньяк': <gensim.models.keyedvectors.Vocab at 0x7f7c562c1880>,\n",
              " 'гладить': <gensim.models.keyedvectors.Vocab at 0x7f7c562c18e0>,\n",
              " 'рука': <gensim.models.keyedvectors.Vocab at 0x7f7c562c1940>,\n",
              " 'феликс': <gensim.models.keyedvectors.Vocab at 0x7f7c562c19a0>,\n",
              " 'поцарапать': <gensim.models.keyedvectors.Vocab at 0x7f7c562c1a00>,\n",
              " 'экран': <gensim.models.keyedvectors.Vocab at 0x7f7c562c1a60>,\n",
              " 'телефон': <gensim.models.keyedvectors.Vocab at 0x7f7c562c1ac0>,\n",
              " 'хахаа': <gensim.models.keyedvectors.Vocab at 0x7f7c562c1b20>,\n",
              " 'запомниться': <gensim.models.keyedvectors.Vocab at 0x7f7c562c1b80>,\n",
              " 'надолго': <gensim.models.keyedvectors.Vocab at 0x7f7c562c1be0>,\n",
              " 'красава': <gensim.models.keyedvectors.Vocab at 0x7f7c562c1c40>,\n",
              " 'тебена': <gensim.models.keyedvectors.Vocab at 0x7f7c562c1ca0>,\n",
              " 'сомневаться': <gensim.models.keyedvectors.Vocab at 0x7f7c562c1d00>,\n",
              " 'мартовский': <gensim.models.keyedvectors.Vocab at 0x7f7c562c1d60>,\n",
              " 'путёвка': <gensim.models.keyedvectors.Vocab at 0x7f7c562c1dc0>,\n",
              " 'дорожать': <gensim.models.keyedvectors.Vocab at 0x7f7c562c1e20>,\n",
              " 'глаз': <gensim.models.keyedvectors.Vocab at 0x7f7c562c1e80>,\n",
              " 'пара': <gensim.models.keyedvectors.Vocab at 0x7f7c562c1ee0>,\n",
              " 'день': <gensim.models.keyedvectors.Vocab at 0x7f7c562c1f40>,\n",
              " '86': <gensim.models.keyedvectors.Vocab at 0x7f7c562c1fa0>,\n",
              " 'оо': <gensim.models.keyedvectors.Vocab at 0x7f7c562c3040>,\n",
              " 'прошлый': <gensim.models.keyedvectors.Vocab at 0x7f7c562c30a0>,\n",
              " 'месяц': <gensim.models.keyedvectors.Vocab at 0x7f7c562c3100>,\n",
              " 'вообщен': <gensim.models.keyedvectors.Vocab at 0x7f7c562c3160>,\n",
              " 'koreanbanan': <gensim.models.keyedvectors.Vocab at 0x7f7c562c31c0>,\n",
              " 'привет': <gensim.models.keyedvectors.Vocab at 0x7f7c562c3220>,\n",
              " 'самый': <gensim.models.keyedvectors.Vocab at 0x7f7c562c3280>,\n",
              " 'хороший': <gensim.models.keyedvectors.Vocab at 0x7f7c562c32e0>,\n",
              " 'друг': <gensim.models.keyedvectors.Vocab at 0x7f7c562c3340>,\n",
              " 'фантазия': <gensim.models.keyedvectors.Vocab at 0x7f7c562c33a0>,\n",
              " 'changachunga': <gensim.models.keyedvectors.Vocab at 0x7f7c562c3400>,\n",
              " 'придумать': <gensim.models.keyedvectors.Vocab at 0x7f7c562c3460>,\n",
              " 'новое': <gensim.models.keyedvectors.Vocab at 0x7f7c562c34c0>,\n",
              " 'tcsbank': <gensim.models.keyedvectors.Vocab at 0x7f7c562c3520>,\n",
              " 'увеличение': <gensim.models.keyedvectors.Vocab at 0x7f7c562c3580>,\n",
              " 'лимит': <gensim.models.keyedvectors.Vocab at 0x7f7c562c35e0>,\n",
              " 'бесплатный': <gensim.models.keyedvectors.Vocab at 0x7f7c562c3640>,\n",
              " 'пополнение': <gensim.models.keyedvectors.Vocab at 0x7f7c562c36a0>,\n",
              " 'сделать': <gensim.models.keyedvectors.Vocab at 0x7f7c562c3700>,\n",
              " '0': <gensim.models.keyedvectors.Vocab at 0x7f7c562c3760>,\n",
              " 'карта': <gensim.models.keyedvectors.Vocab at 0x7f7c562c37c0>,\n",
              " 'оставить': <gensim.models.keyedvectors.Vocab at 0x7f7c562c3820>,\n",
              " '10': <gensim.models.keyedvectors.Vocab at 0x7f7c562c3880>,\n",
              " 'simonenkoyulia': <gensim.models.keyedvectors.Vocab at 0x7f7c562c38e0>,\n",
              " 'anichkabudnik': <gensim.models.keyedvectors.Vocab at 0x7f7c562c3940>,\n",
              " 'тожить': <gensim.models.keyedvectors.Vocab at 0x7f7c562c39a0>,\n",
              " 'лах': <gensim.models.keyedvectors.Vocab at 0x7f7c562c3a00>,\n",
              " 'завтрана': <gensim.models.keyedvectors.Vocab at 0x7f7c562c3a60>,\n",
              " 'идти': <gensim.models.keyedvectors.Vocab at 0x7f7c562c3ac0>,\n",
              " 'голован': <gensim.models.keyedvectors.Vocab at 0x7f7c562c3b20>,\n",
              " 'прекращать': <gensim.models.keyedvectors.Vocab at 0x7f7c562c3b80>,\n",
              " 'болеть': <gensim.models.keyedvectors.Vocab at 0x7f7c562c3be0>,\n",
              " 'пойти': <gensim.models.keyedvectors.Vocab at 0x7f7c562c3c40>,\n",
              " 'температурка': <gensim.models.keyedvectors.Vocab at 0x7f7c562c3ca0>,\n",
              " 'крайне': <gensim.models.keyedvectors.Vocab at 0x7f7c562c3d00>,\n",
              " 'культурный': <gensim.models.keyedvectors.Vocab at 0x7f7c562c3d60>,\n",
              " 'человек': <gensim.models.keyedvectors.Vocab at 0x7f7c562c3dc0>,\n",
              " 'кузов': <gensim.models.keyedvectors.Vocab at 0x7f7c562c3e20>,\n",
              " 'нуна': <gensim.models.keyedvectors.Vocab at 0x7f7c562c3e80>,\n",
              " 'знать': <gensim.models.keyedvectors.Vocab at 0x7f7c562c3ee0>,\n",
              " 'ойня': <gensim.models.keyedvectors.Vocab at 0x7f7c562c3f40>,\n",
              " 'пиздить': <gensim.models.keyedvectors.Vocab at 0x7f7c562c3fa0>,\n",
              " 'wylsacom': <gensim.models.keyedvectors.Vocab at 0x7f7c562c5040>,\n",
              " 'ios': <gensim.models.keyedvectors.Vocab at 0x7f7c562c50a0>,\n",
              " '71': <gensim.models.keyedvectors.Vocab at 0x7f7c562c5100>,\n",
              " 'beta': <gensim.models.keyedvectors.Vocab at 0x7f7c562c5160>,\n",
              " '3не': <gensim.models.keyedvectors.Vocab at 0x7f7c562c51c0>,\n",
              " 'работать': <gensim.models.keyedvectors.Vocab at 0x7f7c562c5220>,\n",
              " 'отмена': <gensim.models.keyedvectors.Vocab at 0x7f7c562c5280>,\n",
              " 'австрия': <gensim.models.keyedvectors.Vocab at 0x7f7c562c52e0>,\n",
              " 'последний': <gensim.models.keyedvectors.Vocab at 0x7f7c562c5340>,\n",
              " 'чемодан': <gensim.models.keyedvectors.Vocab at 0x7f7c562c53a0>,\n",
              " 'одноклассник': <gensim.models.keyedvectors.Vocab at 0x7f7c562c5400>,\n",
              " 'наней': <gensim.models.keyedvectors.Vocab at 0x7f7c562c5460>,\n",
              " 'плакать': <gensim.models.keyedvectors.Vocab at 0x7f7c562c54c0>,\n",
              " 'потомня': <gensim.models.keyedvectors.Vocab at 0x7f7c562c5520>,\n",
              " 'понимать': <gensim.models.keyedvectors.Vocab at 0x7f7c562c5580>,\n",
              " 'сразу': <gensim.models.keyedvectors.Vocab at 0x7f7c562c55e0>,\n",
              " '2': <gensim.models.keyedvectors.Vocab at 0x7f7c562c5640>,\n",
              " 'ставить': <gensim.models.keyedvectors.Vocab at 0x7f7c562c56a0>,\n",
              " 'd': <gensim.models.keyedvectors.Vocab at 0x7f7c562c5700>,\n",
              " 'понять': <gensim.models.keyedvectors.Vocab at 0x7f7c562c5760>,\n",
              " 'belibersteam': <gensim.models.keyedvectors.Vocab at 0x7f7c562c57c0>,\n",
              " 'рада': <gensim.models.keyedvectors.Vocab at 0x7f7c562c5820>,\n",
              " 'тебяlt3': <gensim.models.keyedvectors.Vocab at 0x7f7c562c5880>,\n",
              " 'ещеть': <gensim.models.keyedvectors.Vocab at 0x7f7c562c58e0>,\n",
              " 'продажа': <gensim.models.keyedvectors.Vocab at 0x7f7c562c5940>,\n",
              " 'прогноз': <gensim.models.keyedvectors.Vocab at 0x7f7c562c59a0>,\n",
              " 'погода': <gensim.models.keyedvectors.Vocab at 0x7f7c562c5a00>,\n",
              " 'ит': <gensim.models.keyedvectors.Vocab at 0x7f7c562c5a60>,\n",
              " 'ближний': <gensim.models.keyedvectors.Vocab at 0x7f7c562c5ac0>,\n",
              " 'uporotaya69': <gensim.models.keyedvectors.Vocab at 0x7f7c562c5b20>,\n",
              " 'сотрудничество': <gensim.models.keyedvectors.Vocab at 0x7f7c562c5b80>,\n",
              " 'положительный': <gensim.models.keyedvectors.Vocab at 0x7f7c562c5be0>,\n",
              " 'эмоция': <gensim.models.keyedvectors.Vocab at 0x7f7c562c5c40>,\n",
              " 'компания': <gensim.models.keyedvectors.Vocab at 0x7f7c562c5ca0>,\n",
              " 'дело': <gensim.models.keyedvectors.Vocab at 0x7f7c562c5d00>,\n",
              " 'красивый': <gensim.models.keyedvectors.Vocab at 0x7f7c562c5d60>,\n",
              " 'мочь': <gensim.models.keyedvectors.Vocab at 0x7f7c562c5dc0>,\n",
              " 'пособие': <gensim.models.keyedvectors.Vocab at 0x7f7c562c5e20>,\n",
              " 'применение': <gensim.models.keyedvectors.Vocab at 0x7f7c562c5e80>,\n",
              " 'начальница': <gensim.models.keyedvectors.Vocab at 0x7f7c562c5ee0>,\n",
              " 'рассказывать': <gensim.models.keyedvectors.Vocab at 0x7f7c562c5f40>,\n",
              " 'свадьба': <gensim.models.keyedvectors.Vocab at 0x7f7c562c5fa0>,\n",
              " 'минута': <gensim.models.keyedvectors.Vocab at 0x7f7c562c6040>,\n",
              " '20': <gensim.models.keyedvectors.Vocab at 0x7f7c562c60a0>,\n",
              " 'чтоть': <gensim.models.keyedvectors.Vocab at 0x7f7c562c6100>,\n",
              " 'найти': <gensim.models.keyedvectors.Vocab at 0x7f7c562c6160>,\n",
              " 'жених': <gensim.models.keyedvectors.Vocab at 0x7f7c562c61c0>,\n",
              " 'тайлера': <gensim.models.keyedvectors.Vocab at 0x7f7c562c6220>,\n",
              " 'оч': <gensim.models.keyedvectors.Vocab at 0x7f7c562c6280>,\n",
              " 'foogrodary': <gensim.models.keyedvectors.Vocab at 0x7f7c562c62e0>,\n",
              " 'отец': <gensim.models.keyedvectors.Vocab at 0x7f7c562c6340>,\n",
              " 'смотреть': <gensim.models.keyedvectors.Vocab at 0x7f7c562c63a0>,\n",
              " 'какойтый': <gensim.models.keyedvectors.Vocab at 0x7f7c562c6400>,\n",
              " 'сериал': <gensim.models.keyedvectors.Vocab at 0x7f7c562c6460>,\n",
              " 'ржать': <gensim.models.keyedvectors.Vocab at 0x7f7c562c64c0>,\n",
              " 'мама': <gensim.models.keyedvectors.Vocab at 0x7f7c562c6520>,\n",
              " 'он': <gensim.models.keyedvectors.Vocab at 0x7f7c562c6580>,\n",
              " 'спрашивать': <gensim.models.keyedvectors.Vocab at 0x7f7c562c65e0>,\n",
              " 'странный': <gensim.models.keyedvectors.Vocab at 0x7f7c562c6640>,\n",
              " 'делать': <gensim.models.keyedvectors.Vocab at 0x7f7c562c66a0>,\n",
              " 'один': <gensim.models.keyedvectors.Vocab at 0x7f7c562c6700>,\n",
              " 'шаг': <gensim.models.keyedvectors.Vocab at 0x7f7c562c6760>,\n",
              " 'квартира': <gensim.models.keyedvectors.Vocab at 0x7f7c562c67c0>,\n",
              " 'зажигалка': <gensim.models.keyedvectors.Vocab at 0x7f7c562c6820>,\n",
              " 'пачка': <gensim.models.keyedvectors.Vocab at 0x7f7c562c6880>,\n",
              " 'сигарета': <gensim.models.keyedvectors.Vocab at 0x7f7c562c68e0>,\n",
              " 'выкинуть': <gensim.models.keyedvectors.Vocab at 0x7f7c562c6940>,\n",
              " 'мусор': <gensim.models.keyedvectors.Vocab at 0x7f7c562c69a0>,\n",
              " 'подойти': <gensim.models.keyedvectors.Vocab at 0x7f7c562c6a00>,\n",
              " 'зеркало': <gensim.models.keyedvectors.Vocab at 0x7f7c562c6a60>,\n",
              " 'погладить': <gensim.models.keyedvectors.Vocab at 0x7f7c562c6ac0>,\n",
              " 'plawnik': <gensim.models.keyedvectors.Vocab at 0x7f7c562c6b20>,\n",
              " 'kolohui': <gensim.models.keyedvectors.Vocab at 0x7f7c562c6b80>,\n",
              " 'продавать': <gensim.models.keyedvectors.Vocab at 0x7f7c562c6be0>,\n",
              " 'любить': <gensim.models.keyedvectors.Vocab at 0x7f7c562c6c40>,\n",
              " 'иня': <gensim.models.keyedvectors.Vocab at 0x7f7c562c6ca0>,\n",
              " 'уметь': <gensim.models.keyedvectors.Vocab at 0x7f7c562c6d00>,\n",
              " 'поэтому': <gensim.models.keyedvectors.Vocab at 0x7f7c562c6d60>,\n",
              " '152': <gensim.models.keyedvectors.Vocab at 0x7f7c562c6dc0>,\n",
              " 'подруга': <gensim.models.keyedvectors.Vocab at 0x7f7c562c6e20>,\n",
              " 'отдавать': <gensim.models.keyedvectors.Vocab at 0x7f7c562c6e80>,\n",
              " 'заказ': <gensim.models.keyedvectors.Vocab at 0x7f7c562c6ee0>,\n",
              " 'точнона': <gensim.models.keyedvectors.Vocab at 0x7f7c562c6f40>,\n",
              " 'подарок': <gensim.models.keyedvectors.Vocab at 0x7f7c562c6fa0>,\n",
              " 'нг': <gensim.models.keyedvectors.Vocab at 0x7f7c562c8040>,\n",
              " 'мнен': <gensim.models.keyedvectors.Vocab at 0x7f7c562c80a0>,\n",
              " 'везти': <gensim.models.keyedvectors.Vocab at 0x7f7c562c8100>,\n",
              " 'хватать': <gensim.models.keyedvectors.Vocab at 0x7f7c562c8160>,\n",
              " 'позитив': <gensim.models.keyedvectors.Vocab at 0x7f7c562c81c0>,\n",
              " 'kravchenkonasty': <gensim.models.keyedvectors.Vocab at 0x7f7c562c8220>,\n",
              " 'echelonlovesfathers': <gensim.models.keyedvectors.Vocab at 0x7f7c562c8280>,\n",
              " 'слушать': <gensim.models.keyedvectors.Vocab at 0x7f7c562c82e0>,\n",
              " 'рок': <gensim.models.keyedvectors.Vocab at 0x7f7c562c8340>,\n",
              " 'ахи': <gensim.models.keyedvectors.Vocab at 0x7f7c562c83a0>,\n",
              " 'прям': <gensim.models.keyedvectors.Vocab at 0x7f7c562c8400>,\n",
              " 'следовать': <gensim.models.keyedvectors.Vocab at 0x7f7c562c8460>,\n",
              " 'лень': <gensim.models.keyedvectors.Vocab at 0x7f7c562c84c0>,\n",
              " 'вставать': <gensim.models.keyedvectors.Vocab at 0x7f7c562c8520>,\n",
              " 'вроде': <gensim.models.keyedvectors.Vocab at 0x7f7c562c8580>,\n",
              " 'уний': <gensim.models.keyedvectors.Vocab at 0x7f7c562c85e0>,\n",
              " 'получаетсячто': <gensim.models.keyedvectors.Vocab at 0x7f7c562c8640>,\n",
              " 'плохо': <gensim.models.keyedvectors.Vocab at 0x7f7c562c86a0>,\n",
              " 'должный': <gensim.models.keyedvectors.Vocab at 0x7f7c562c8700>,\n",
              " 'выздоровить': <gensim.models.keyedvectors.Vocab at 0x7f7c562c8760>,\n",
              " 'обязательно': <gensim.models.keyedvectors.Vocab at 0x7f7c562c87c0>,\n",
              " 'з': <gensim.models.keyedvectors.Vocab at 0x7f7c562c8820>,\n",
              " '2011': <gensim.models.keyedvectors.Vocab at 0x7f7c562c8880>,\n",
              " 'база': <gensim.models.keyedvectors.Vocab at 0x7f7c562c88e0>,\n",
              " 'imdb': <gensim.models.keyedvectors.Vocab at 0x7f7c562c8940>,\n",
              " 'числиться': <gensim.models.keyedvectors.Vocab at 0x7f7c562c89a0>,\n",
              " 'название': <gensim.models.keyedvectors.Vocab at 0x7f7c562c8a00>,\n",
              " 'рисовать': <gensim.models.keyedvectors.Vocab at 0x7f7c562c8a60>,\n",
              " 'думать': <gensim.models.keyedvectors.Vocab at 0x7f7c562c8ac0>,\n",
              " 'сидеть': <gensim.models.keyedvectors.Vocab at 0x7f7c562c8b20>,\n",
              " 'засыпать': <gensim.models.keyedvectors.Vocab at 0x7f7c562c8b80>,\n",
              " 'политех': <gensim.models.keyedvectors.Vocab at 0x7f7c562c8be0>,\n",
              " 'автобус': <gensim.models.keyedvectors.Vocab at 0x7f7c562c8c40>,\n",
              " 'вокзал': <gensim.models.keyedvectors.Vocab at 0x7f7c562c8ca0>,\n",
              " 'троллейбус': <gensim.models.keyedvectors.Vocab at 0x7f7c562c8d00>,\n",
              " 'заестись': <gensim.models.keyedvectors.Vocab at 0x7f7c562c8d60>,\n",
              " 'подписаться': <gensim.models.keyedvectors.Vocab at 0x7f7c562c8dc0>,\n",
              " 'довольный': <gensim.models.keyedvectors.Vocab at 0x7f7c562c8e20>,\n",
              " 'след': <gensim.models.keyedvectors.Vocab at 0x7f7c562c8e80>,\n",
              " 'анальный': <gensim.models.keyedvectors.Vocab at 0x7f7c562c8ee0>,\n",
              " 'какашка': <gensim.models.keyedvectors.Vocab at 0x7f7c562c8f40>,\n",
              " 'радоваться': <gensim.models.keyedvectors.Vocab at 0x7f7c562c8fa0>,\n",
              " 'убогий': <gensim.models.keyedvectors.Vocab at 0x7f7c562ca040>,\n",
              " 'радость': <gensim.models.keyedvectors.Vocab at 0x7f7c562ca0a0>,\n",
              " 'коза': <gensim.models.keyedvectors.Vocab at 0x7f7c562ca100>,\n",
              " 'чат': <gensim.models.keyedvectors.Vocab at 0x7f7c562ca160>,\n",
              " 'проснуться': <gensim.models.keyedvectors.Vocab at 0x7f7c562ca1c0>,\n",
              " 'уженета': <gensim.models.keyedvectors.Vocab at 0x7f7c562ca220>,\n",
              " 'пустой': <gensim.models.keyedvectors.Vocab at 0x7f7c562ca280>,\n",
              " 'рецензия': <gensim.models.keyedvectors.Vocab at 0x7f7c562ca2e0>,\n",
              " 'поход': <gensim.models.keyedvectors.Vocab at 0x7f7c562ca340>,\n",
              " 'отказаться': <gensim.models.keyedvectors.Vocab at 0x7f7c562ca3a0>,\n",
              " 'купить': <gensim.models.keyedvectors.Vocab at 0x7f7c562ca400>,\n",
              " 'билет': <gensim.models.keyedvectors.Vocab at 0x7f7c562ca460>,\n",
              " 'золотой': <gensim.models.keyedvectors.Vocab at 0x7f7c562ca4c0>,\n",
              " 'вавилон': <gensim.models.keyedvectors.Vocab at 0x7f7c562ca520>,\n",
              " '2000': <gensim.models.keyedvectors.Vocab at 0x7f7c562ca580>,\n",
              " 'полный': <gensim.models.keyedvectors.Vocab at 0x7f7c562ca5e0>,\n",
              " 'реально': <gensim.models.keyedvectors.Vocab at 0x7f7c562ca640>,\n",
              " 'больно': <gensim.models.keyedvectors.Vocab at 0x7f7c562ca6a0>,\n",
              " 'становиться': <gensim.models.keyedvectors.Vocab at 0x7f7c562ca700>,\n",
              " 'глядеть': <gensim.models.keyedvectors.Vocab at 0x7f7c562ca760>,\n",
              " 'блин': <gensim.models.keyedvectors.Vocab at 0x7f7c562ca7c0>,\n",
              " 'жалко': <gensim.models.keyedvectors.Vocab at 0x7f7c562ca820>,\n",
              " 'плач': <gensim.models.keyedvectors.Vocab at 0x7f7c562ca880>,\n",
              " 'tukvasociopat': <gensim.models.keyedvectors.Vocab at 0x7f7c562ca8e0>,\n",
              " 'євромайдан': <gensim.models.keyedvectors.Vocab at 0x7f7c562ca940>,\n",
              " 'bednyakko': <gensim.models.keyedvectors.Vocab at 0x7f7c562ca9a0>,\n",
              " 'прасти': <gensim.models.keyedvectors.Vocab at 0x7f7c562caa00>,\n",
              " 'минь': <gensim.models.keyedvectors.Vocab at 0x7f7c562caa60>,\n",
              " '999': <gensim.models.keyedvectors.Vocab at 0x7f7c562caac0>,\n",
              " 'маленький': <gensim.models.keyedvectors.Vocab at 0x7f7c562cab20>,\n",
              " 'засранец': <gensim.models.keyedvectors.Vocab at 0x7f7c562cab80>,\n",
              " '99': <gensim.models.keyedvectors.Vocab at 0x7f7c562cabe0>,\n",
              " 'ничегон': <gensim.models.keyedvectors.Vocab at 0x7f7c562cac40>,\n",
              " 'оставаться': <gensim.models.keyedvectors.Vocab at 0x7f7c562caca0>,\n",
              " 'зуб': <gensim.models.keyedvectors.Vocab at 0x7f7c562cad00>,\n",
              " 'продолжить': <gensim.models.keyedvectors.Vocab at 0x7f7c562cad60>,\n",
              " 'жить': <gensim.models.keyedvectors.Vocab at 0x7f7c562cadc0>,\n",
              " 'тоска': <gensim.models.keyedvectors.Vocab at 0x7f7c562cae20>,\n",
              " 'питаться': <gensim.models.keyedvectors.Vocab at 0x7f7c562cae80>,\n",
              " 'сникерс': <gensim.models.keyedvectors.Vocab at 0x7f7c562caee0>,\n",
              " 'шоколадный': <gensim.models.keyedvectors.Vocab at 0x7f7c562caf40>,\n",
              " 'молоко': <gensim.models.keyedvectors.Vocab at 0x7f7c562cafa0>,\n",
              " 'поесть': <gensim.models.keyedvectors.Vocab at 0x7f7c562cb040>,\n",
              " 'ммм': <gensim.models.keyedvectors.Vocab at 0x7f7c562cb0a0>,\n",
              " 'предвкушать': <gensim.models.keyedvectors.Vocab at 0x7f7c562cb100>,\n",
              " 'ахах': <gensim.models.keyedvectors.Vocab at 0x7f7c562cb160>,\n",
              " 'жирух': <gensim.models.keyedvectors.Vocab at 0x7f7c562cb1c0>,\n",
              " 'жрать': <gensim.models.keyedvectors.Vocab at 0x7f7c562cb220>,\n",
              " 'ной': <gensim.models.keyedvectors.Vocab at 0x7f7c562cb280>,\n",
              " 'похудеть': <gensim.models.keyedvectors.Vocab at 0x7f7c562cb2e0>,\n",
              " 'крайний': <gensim.models.keyedvectors.Vocab at 0x7f7c562cb340>,\n",
              " 'мера': <gensim.models.keyedvectors.Vocab at 0x7f7c562cb3a0>,\n",
              " 'десерт': <gensim.models.keyedvectors.Vocab at 0x7f7c562cb400>,\n",
              " 'количество': <gensim.models.keyedvectors.Vocab at 0x7f7c562cb460>,\n",
              " 'идиот': <gensim.models.keyedvectors.Vocab at 0x7f7c562cb4c0>,\n",
              " 'окружать': <gensim.models.keyedvectors.Vocab at 0x7f7c562cb520>,\n",
              " 'досмотреть': <gensim.models.keyedvectors.Vocab at 0x7f7c562cb580>,\n",
              " 'глянуть': <gensim.models.keyedvectors.Vocab at 0x7f7c562cb5e0>,\n",
              " 'лекция': <gensim.models.keyedvectors.Vocab at 0x7f7c562cb640>,\n",
              " 'будетний': <gensim.models.keyedvectors.Vocab at 0x7f7c562cb6a0>,\n",
              " 'столько': <gensim.models.keyedvectors.Vocab at 0x7f7c562cb700>,\n",
              " 'интересный': <gensim.models.keyedvectors.Vocab at 0x7f7c562cb760>,\n",
              " 'рассказать': <gensim.models.keyedvectors.Vocab at 0x7f7c562cb7c0>,\n",
              " 'причём': <gensim.models.keyedvectors.Vocab at 0x7f7c562cb820>,\n",
              " 'фотка': <gensim.models.keyedvectors.Vocab at 0x7f7c562cb880>,\n",
              " 'вид': <gensim.models.keyedvectors.Vocab at 0x7f7c562cb8e0>,\n",
              " 'кошка': <gensim.models.keyedvectors.Vocab at 0x7f7c562cb940>,\n",
              " 'наш': <gensim.models.keyedvectors.Vocab at 0x7f7c562cb9a0>,\n",
              " 'глупый': <gensim.models.keyedvectors.Vocab at 0x7f7c562cba00>,\n",
              " 'менталитет': <gensim.models.keyedvectors.Vocab at 0x7f7c562cba60>,\n",
              " 'никто': <gensim.models.keyedvectors.Vocab at 0x7f7c562cbac0>,\n",
              " 'новогодний': <gensim.models.keyedvectors.Vocab at 0x7f7c562cbb20>,\n",
              " 'настроение': <gensim.models.keyedvectors.Vocab at 0x7f7c562cbb80>,\n",
              " 'простыть': <gensim.models.keyedvectors.Vocab at 0x7f7c562cbbe0>,\n",
              " 'норма': <gensim.models.keyedvectors.Vocab at 0x7f7c562cbc40>,\n",
              " 'конец': <gensim.models.keyedvectors.Vocab at 0x7f7c562cbca0>,\n",
              " 'четверть': <gensim.models.keyedvectors.Vocab at 0x7f7c562cbd00>,\n",
              " 'тина': <gensim.models.keyedvectors.Vocab at 0x7f7c562cbd60>,\n",
              " 'выгнать': <gensim.models.keyedvectors.Vocab at 0x7f7c562cbdc0>,\n",
              " 'наргиз': <gensim.models.keyedvectors.Vocab at 0x7f7c562cbe20>,\n",
              " 'крутой': <gensim.models.keyedvectors.Vocab at 0x7f7c562cbe80>,\n",
              " 'полтора': <gensim.models.keyedvectors.Vocab at 0x7f7c562cbee0>,\n",
              " 'дважды': <gensim.models.keyedvectors.Vocab at 0x7f7c562cbf40>,\n",
              " 'присниться': <gensim.models.keyedvectors.Vocab at 0x7f7c562cbfa0>,\n",
              " '3': <gensim.models.keyedvectors.Vocab at 0x7f7c562cd040>,\n",
              " 'книга': <gensim.models.keyedvectors.Vocab at 0x7f7c562cd0a0>,\n",
              " 'читать': <gensim.models.keyedvectors.Vocab at 0x7f7c562cd100>,\n",
              " 'норвежский': <gensim.models.keyedvectors.Vocab at 0x7f7c562cd160>,\n",
              " 'лес': <gensim.models.keyedvectors.Vocab at 0x7f7c562cd1c0>,\n",
              " 'сумерки': <gensim.models.keyedvectors.Vocab at 0x7f7c562cd220>,\n",
              " 'перечитывать': <gensim.models.keyedvectors.Vocab at 0x7f7c562cd280>,\n",
              " 'барабанный': <gensim.models.keyedvectors.Vocab at 0x7f7c562cd2e0>,\n",
              " 'дробь': <gensim.models.keyedvectors.Vocab at 0x7f7c562cd340>,\n",
              " '50': <gensim.models.keyedvectors.Vocab at 0x7f7c562cd3a0>,\n",
              " 'оттенок': <gensim.models.keyedvectors.Vocab at 0x7f7c562cd400>,\n",
              " 'серый': <gensim.models.keyedvectors.Vocab at 0x7f7c562cd460>,\n",
              " 'хдд': <gensim.models.keyedvectors.Vocab at 0x7f7c562cd4c0>,\n",
              " 'ikatzet': <gensim.models.keyedvectors.Vocab at 0x7f7c562cd520>,\n",
              " 'прийти': <gensim.models.keyedvectors.Vocab at 0x7f7c562cd580>,\n",
              " '8': <gensim.models.keyedvectors.Vocab at 0x7f7c562cd5e0>,\n",
              " 'работа': <gensim.models.keyedvectors.Vocab at 0x7f7c562cd640>,\n",
              " 'уйти': <gensim.models.keyedvectors.Vocab at 0x7f7c562cd6a0>,\n",
              " 'снеё': <gensim.models.keyedvectors.Vocab at 0x7f7c562cd700>,\n",
              " 'согласиться': <gensim.models.keyedvectors.Vocab at 0x7f7c562cd760>,\n",
              " 'насчёт': <gensim.models.keyedvectors.Vocab at 0x7f7c562cd7c0>,\n",
              " 'понедельник': <gensim.models.keyedvectors.Vocab at 0x7f7c562cd820>,\n",
              " 'офигительный': <gensim.models.keyedvectors.Vocab at 0x7f7c562cd880>,\n",
              " 'оформление': <gensim.models.keyedvectors.Vocab at 0x7f7c562cd8e0>,\n",
              " 'милый': <gensim.models.keyedvectors.Vocab at 0x7f7c562cd940>,\n",
              " 'ихиха': <gensim.models.keyedvectors.Vocab at 0x7f7c562cd9a0>,\n",
              " 'безумно': <gensim.models.keyedvectors.Vocab at 0x7f7c562cda00>,\n",
              " 'скучать': <gensim.models.keyedvectors.Vocab at 0x7f7c562cda60>,\n",
              " 'любимый': <gensim.models.keyedvectors.Vocab at 0x7f7c562cdac0>,\n",
              " 'боулинг': <gensim.models.keyedvectors.Vocab at 0x7f7c562cdb20>,\n",
              " 'сходить': <gensim.models.keyedvectors.Vocab at 0x7f7c562cdb80>,\n",
              " 'бесплатно': <gensim.models.keyedvectors.Vocab at 0x7f7c562cdbe0>,\n",
              " 'выходной': <gensim.models.keyedvectors.Vocab at 0x7f7c562cdc40>,\n",
              " 'еда': <gensim.models.keyedvectors.Vocab at 0x7f7c562cdca0>,\n",
              " 'покопаться': <gensim.models.keyedvectors.Vocab at 0x7f7c562cdd00>,\n",
              " 'сервер': <gensim.models.keyedvectors.Vocab at 0x7f7c562cdd60>,\n",
              " 'wifi': <gensim.models.keyedvectors.Vocab at 0x7f7c562cddc0>,\n",
              " 'точка': <gensim.models.keyedvectors.Vocab at 0x7f7c562cde20>,\n",
              " 'имин': <gensim.models.keyedvectors.Vocab at 0x7f7c562cde80>,\n",
              " 'пользоваться': <gensim.models.keyedvectors.Vocab at 0x7f7c562cdee0>,\n",
              " 'часы': <gensim.models.keyedvectors.Vocab at 0x7f7c562cdf40>,\n",
              " 'точно': <gensim.models.keyedvectors.Vocab at 0x7f7c562cdfa0>,\n",
              " 'просидеть': <gensim.models.keyedvectors.Vocab at 0x7f7c562cf040>,\n",
              " 'чувствовать': <gensim.models.keyedvectors.Vocab at 0x7f7c562cf0a0>,\n",
              " 'королева': <gensim.models.keyedvectors.Vocab at 0x7f7c562cf100>,\n",
              " 'приходить': <gensim.models.keyedvectors.Vocab at 0x7f7c562cf160>,\n",
              " 'завтрак': <gensim.models.keyedvectors.Vocab at 0x7f7c562cf1c0>,\n",
              " 'готовить': <gensim.models.keyedvectors.Vocab at 0x7f7c562cf220>,\n",
              " 'отдельно': <gensim.models.keyedvectors.Vocab at 0x7f7c562cf280>,\n",
              " 'большой': <gensim.models.keyedvectors.Vocab at 0x7f7c562cf2e0>,\n",
              " 'шумный': <gensim.models.keyedvectors.Vocab at 0x7f7c562cf340>,\n",
              " 'заметить': <gensim.models.keyedvectors.Vocab at 0x7f7c562cf3a0>,\n",
              " 'временинет': <gensim.models.keyedvectors.Vocab at 0x7f7c562cf400>,\n",
              " 'действовать': <gensim.models.keyedvectors.Vocab at 0x7f7c562cf460>,\n",
              " 'саша': <gensim.models.keyedvectors.Vocab at 0x7f7c562cf4c0>,\n",
              " 'офигенный': <gensim.models.keyedvectors.Vocab at 0x7f7c562cf520>,\n",
              " 'испытание': <gensim.models.keyedvectors.Vocab at 0x7f7c562cf580>,\n",
              " 'кладбище': <gensim.models.keyedvectors.Vocab at 0x7f7c562cf5e0>,\n",
              " 'высота': <gensim.models.keyedvectors.Vocab at 0x7f7c562cf640>,\n",
              " 'пройти': <gensim.models.keyedvectors.Vocab at 0x7f7c562cf6a0>,\n",
              " 'правильно': <gensim.models.keyedvectors.Vocab at 0x7f7c562cf700>,\n",
              " 'тяжёлый': <gensim.models.keyedvectors.Vocab at 0x7f7c562cf760>,\n",
              " 'выбор': <gensim.models.keyedvectors.Vocab at 0x7f7c562cf7c0>,\n",
              " 'rudolfponomarov': <gensim.models.keyedvectors.Vocab at 0x7f7c562cf820>,\n",
              " 'история': <gensim.models.keyedvectors.Vocab at 0x7f7c562cf880>,\n",
              " 'характерный': <gensim.models.keyedvectors.Vocab at 0x7f7c562cf8e0>,\n",
              " 'ребёнок': <gensim.models.keyedvectors.Vocab at 0x7f7c562cf940>,\n",
              " 'отвечать': <gensim.models.keyedvectors.Vocab at 0x7f7c562cf9a0>,\n",
              " 'родитель': <gensim.models.keyedvectors.Vocab at 0x7f7c562cfa00>,\n",
              " 'coloredpanda': <gensim.models.keyedvectors.Vocab at 0x7f7c562cfa60>,\n",
              " 'прекрасный': <gensim.models.keyedvectors.Vocab at 0x7f7c562cfac0>,\n",
              " 'произойти': <gensim.models.keyedvectors.Vocab at 0x7f7c562cfb20>,\n",
              " 'скоро': <gensim.models.keyedvectors.Vocab at 0x7f7c562cfb80>,\n",
              " 'новый': <gensim.models.keyedvectors.Vocab at 0x7f7c562cfbe0>,\n",
              " 'настроениянуть': <gensim.models.keyedvectors.Vocab at 0x7f7c562cfc40>,\n",
              " 'страдать': <gensim.models.keyedvectors.Vocab at 0x7f7c562cfca0>,\n",
              " 'брать': <gensim.models.keyedvectors.Vocab at 0x7f7c562cfd00>,\n",
              " 'труба': <gensim.models.keyedvectors.Vocab at 0x7f7c562cfd60>,\n",
              " '—': <gensim.models.keyedvectors.Vocab at 0x7f7c562cfdc0>,\n",
              " 'послать': <gensim.models.keyedvectors.Vocab at 0x7f7c562cfe20>,\n",
              " 'всетаки': <gensim.models.keyedvectors.Vocab at 0x7f7c562cfe80>,\n",
              " 'мёд': <gensim.models.keyedvectors.Vocab at 0x7f7c562cfee0>,\n",
              " 'учиться': <gensim.models.keyedvectors.Vocab at 0x7f7c562cff40>,\n",
              " 'врач': <gensim.models.keyedvectors.Vocab at 0x7f7c562cffa0>,\n",
              " 'ана': <gensim.models.keyedvectors.Vocab at 0x7f7c562d0040>,\n",
              " 'коготь': <gensim.models.keyedvectors.Vocab at 0x7f7c562d00a0>,\n",
              " 'ужена': <gensim.models.keyedvectors.Vocab at 0x7f7c562d0100>,\n",
              " 'вика': <gensim.models.keyedvectors.Vocab at 0x7f7c562d0160>,\n",
              " 'шарик': <gensim.models.keyedvectors.Vocab at 0x7f7c562d01c0>,\n",
              " 'розовый': <gensim.models.keyedvectors.Vocab at 0x7f7c562d0220>,\n",
              " 'подарить': <gensim.models.keyedvectors.Vocab at 0x7f7c562d0280>,\n",
              " 'прилично': <gensim.models.keyedvectors.Vocab at 0x7f7c562d02e0>,\n",
              " 'rysj108': <gensim.models.keyedvectors.Vocab at 0x7f7c562d0340>,\n",
              " 'приветик': <gensim.models.keyedvectors.Vocab at 0x7f7c562d03a0>,\n",
              " 'пёс': <gensim.models.keyedvectors.Vocab at 0x7f7c562d0400>,\n",
              " 'клевый': <gensim.models.keyedvectors.Vocab at 0x7f7c562d0460>,\n",
              " 'dmaijac': <gensim.models.keyedvectors.Vocab at 0x7f7c562d04c0>,\n",
              " 'valy753': <gensim.models.keyedvectors.Vocab at 0x7f7c562d0520>,\n",
              " 'предложить': <gensim.models.keyedvectors.Vocab at 0x7f7c562d0580>,\n",
              " 'какой': <gensim.models.keyedvectors.Vocab at 0x7f7c562d05e0>,\n",
              " 'музыка': <gensim.models.keyedvectors.Vocab at 0x7f7c562d0640>,\n",
              " 'меломан': <gensim.models.keyedvectors.Vocab at 0x7f7c562d06a0>,\n",
              " 'видео': <gensim.models.keyedvectors.Vocab at 0x7f7c562d0700>,\n",
              " 'ходить': <gensim.models.keyedvectors.Vocab at 0x7f7c562d0760>,\n",
              " 'мысленно': <gensim.models.keyedvectors.Vocab at 0x7f7c562d07c0>,\n",
              " 'расставлять': <gensim.models.keyedvectors.Vocab at 0x7f7c562d0820>,\n",
              " 'миска': <gensim.models.keyedvectors.Vocab at 0x7f7c562d0880>,\n",
              " 'милость': <gensim.models.keyedvectors.Vocab at 0x7f7c562d08e0>,\n",
              " 'запомнить': <gensim.models.keyedvectors.Vocab at 0x7f7c562d0940>,\n",
              " 'киана': <gensim.models.keyedvectors.Vocab at 0x7f7c562d09a0>,\n",
              " 'присылать': <gensim.models.keyedvectors.Vocab at 0x7f7c562d0a00>,\n",
              " 'сойти': <gensim.models.keyedvectors.Vocab at 0x7f7c562d0a60>,\n",
              " 'единственный': <gensim.models.keyedvectors.Vocab at 0x7f7c562d0ac0>,\n",
              " 'экземпляр': <gensim.models.keyedvectors.Vocab at 0x7f7c562d0b20>,\n",
              " 'найтись': <gensim.models.keyedvectors.Vocab at 0x7f7c562d0b80>,\n",
              " 'миллиардер': <gensim.models.keyedvectors.Vocab at 0x7f7c562d0be0>,\n",
              " 'выкупить': <gensim.models.keyedvectors.Vocab at 0x7f7c562d0c40>,\n",
              " 'днём': <gensim.models.keyedvectors.Vocab at 0x7f7c562d0ca0>,\n",
              " 'рождение': <gensim.models.keyedvectors.Vocab at 0x7f7c562d0d00>,\n",
              " 'простить': <gensim.models.keyedvectors.Vocab at 0x7f7c562d0d60>,\n",
              " 'чтоня': <gensim.models.keyedvectors.Vocab at 0x7f7c562d0dc0>,\n",
              " 'поздравить': <gensim.models.keyedvectors.Vocab at 0x7f7c562d0e20>,\n",
              " 'лично': <gensim.models.keyedvectors.Vocab at 0x7f7c562d0e80>,\n",
              " '❤️❤️❤️': <gensim.models.keyedvectors.Vocab at 0x7f7c562d0ee0>,\n",
              " 'деточка': <gensim.models.keyedvectors.Vocab at 0x7f7c562d0f40>,\n",
              " 'фильм': <gensim.models.keyedvectors.Vocab at 0x7f7c562d0fa0>,\n",
              " 'респект': <gensim.models.keyedvectors.Vocab at 0x7f7c562d2040>,\n",
              " 'десть': <gensim.models.keyedvectors.Vocab at 0x7f7c562d20a0>,\n",
              " 'мент': <gensim.models.keyedvectors.Vocab at 0x7f7c562d2100>,\n",
              " 'африка': <gensim.models.keyedvectors.Vocab at 0x7f7c562d2160>,\n",
              " 'держаться': <gensim.models.keyedvectors.Vocab at 0x7f7c562d21c0>,\n",
              " 'тёплый': <gensim.models.keyedvectors.Vocab at 0x7f7c562d2220>,\n",
              " 'местечко': <gensim.models.keyedvectors.Vocab at 0x7f7c562d2280>,\n",
              " 'подрезать': <gensim.models.keyedvectors.Vocab at 0x7f7c562d22e0>,\n",
              " 'крыло': <gensim.models.keyedvectors.Vocab at 0x7f7c562d2340>,\n",
              " 'instantfollowback': <gensim.models.keyedvectors.Vocab at 0x7f7c562d23a0>,\n",
              " 'ffru': <gensim.models.keyedvectors.Vocab at 0x7f7c562d2400>,\n",
              " 'чудесный': <gensim.models.keyedvectors.Vocab at 0x7f7c562d2460>,\n",
              " 'вмести': <gensim.models.keyedvectors.Vocab at 0x7f7c562d24c0>,\n",
              " '30': <gensim.models.keyedvectors.Vocab at 0x7f7c562d2520>,\n",
              " 'seconds': <gensim.models.keyedvectors.Vocab at 0x7f7c562d2580>,\n",
              " 'to': <gensim.models.keyedvectors.Vocab at 0x7f7c562d25e0>,\n",
              " 'mars': <gensim.models.keyedvectors.Vocab at 0x7f7c562d2640>,\n",
              " 'сказалачто': <gensim.models.keyedvectors.Vocab at 0x7f7c562d26a0>,\n",
              " 'вонять': <gensim.models.keyedvectors.Vocab at 0x7f7c562d2700>,\n",
              " 'водка': <gensim.models.keyedvectors.Vocab at 0x7f7c562d2760>,\n",
              " 'машина': <gensim.models.keyedvectors.Vocab at 0x7f7c562d27c0>,\n",
              " 'вредный': <gensim.models.keyedvectors.Vocab at 0x7f7c562d2820>,\n",
              " 'фото': <gensim.models.keyedvectors.Vocab at 0x7f7c562d2880>,\n",
              " 'олень': <gensim.models.keyedvectors.Vocab at 0x7f7c562d28e0>,\n",
              " 'говорят': <gensim.models.keyedvectors.Vocab at 0x7f7c562d2940>,\n",
              " 'встретить': <gensim.models.keyedvectors.Vocab at 0x7f7c562d29a0>,\n",
              " 'надеяться': <gensim.models.keyedvectors.Vocab at 0x7f7c562d2a00>,\n",
              " 'плохой': <gensim.models.keyedvectors.Vocab at 0x7f7c562d2a60>,\n",
              " 'тяжело': <gensim.models.keyedvectors.Vocab at 0x7f7c562d2ac0>,\n",
              " 'переживать': <gensim.models.keyedvectors.Vocab at 0x7f7c562d2b20>,\n",
              " 'расставание': <gensim.models.keyedvectors.Vocab at 0x7f7c562d2b80>,\n",
              " 'ахахи': <gensim.models.keyedvectors.Vocab at 0x7f7c562d2be0>,\n",
              " 'dd': <gensim.models.keyedvectors.Vocab at 0x7f7c562d2c40>,\n",
              " 'точняк': <gensim.models.keyedvectors.Vocab at 0x7f7c562d2ca0>,\n",
              " 'жи': <gensim.models.keyedvectors.Vocab at 0x7f7c562d2d00>,\n",
              " 'йоу': <gensim.models.keyedvectors.Vocab at 0x7f7c562d2d60>,\n",
              " 'дать': <gensim.models.keyedvectors.Vocab at 0x7f7c562d2dc0>,\n",
              " 'пятюня': <gensim.models.keyedvectors.Vocab at 0x7f7c562d2e20>,\n",
              " 'запоминать': <gensim.models.keyedvectors.Vocab at 0x7f7c562d2e80>,\n",
              " 'стать': <gensim.models.keyedvectors.Vocab at 0x7f7c562d2ee0>,\n",
              " 'учить': <gensim.models.keyedvectors.Vocab at 0x7f7c562d2f40>,\n",
              " 'сон': <gensim.models.keyedvectors.Vocab at 0x7f7c562d2fa0>,\n",
              " 'мамуля': <gensim.models.keyedvectors.Vocab at 0x7f7c562d4040>,\n",
              " 'трудиться': <gensim.models.keyedvectors.Vocab at 0x7f7c562d40a0>,\n",
              " 'съёмка': <gensim.models.keyedvectors.Vocab at 0x7f7c562d4100>,\n",
              " 'телеканал': <gensim.models.keyedvectors.Vocab at 0x7f7c562d4160>,\n",
              " '11': <gensim.models.keyedvectors.Vocab at 0x7f7c562d41c0>,\n",
              " 'проект': <gensim.models.keyedvectors.Vocab at 0x7f7c562d4220>,\n",
              " 'семья': <gensim.models.keyedvectors.Vocab at 0x7f7c562d4280>,\n",
              " 'coming': <gensim.models.keyedvectors.Vocab at 0x7f7c562d42e0>,\n",
              " 'даша': <gensim.models.keyedvectors.Vocab at 0x7f7c562d4340>,\n",
              " 'забрать': <gensim.models.keyedvectors.Vocab at 0x7f7c562d43a0>,\n",
              " 'витаминк': <gensim.models.keyedvectors.Vocab at 0x7f7c562d4400>,\n",
              " 'продолжение': <gensim.models.keyedvectors.Vocab at 0x7f7c562d4460>,\n",
              " 'мой': <gensim.models.keyedvectors.Vocab at 0x7f7c562d44c0>,\n",
              " '33': <gensim.models.keyedvectors.Vocab at 0x7f7c562d4520>,\n",
              " 'разговор': <gensim.models.keyedvectors.Vocab at 0x7f7c562d4580>,\n",
              " 'душа': <gensim.models.keyedvectors.Vocab at 0x7f7c562d45e0>,\n",
              " 'короче': <gensim.models.keyedvectors.Vocab at 0x7f7c562d4640>,\n",
              " 'компень': <gensim.models.keyedvectors.Vocab at 0x7f7c562d46a0>,\n",
              " 'заходить': <gensim.models.keyedvectors.Vocab at 0x7f7c562d4700>,\n",
              " 'вконтакте': <gensim.models.keyedvectors.Vocab at 0x7f7c562d4760>,\n",
              " 'заказать': <gensim.models.keyedvectors.Vocab at 0x7f7c562d47c0>,\n",
              " 'бесить': <gensim.models.keyedvectors.Vocab at 0x7f7c562d4820>,\n",
              " 'срать': <gensim.models.keyedvectors.Vocab at 0x7f7c562d4880>,\n",
              " 'чужое': <gensim.models.keyedvectors.Vocab at 0x7f7c562d48e0>,\n",
              " 'мнение': <gensim.models.keyedvectors.Vocab at 0x7f7c562d4940>,\n",
              " 'говорить': <gensim.models.keyedvectors.Vocab at 0x7f7c562d49a0>,\n",
              " 'школа': <gensim.models.keyedvectors.Vocab at 0x7f7c562d4a00>,\n",
              " 'скучно': <gensim.models.keyedvectors.Vocab at 0x7f7c562d4a60>,\n",
              " 'увидеть': <gensim.models.keyedvectors.Vocab at 0x7f7c562d4ac0>,\n",
              " 'сонно': <gensim.models.keyedvectors.Vocab at 0x7f7c562d4b20>,\n",
              " 'заставить': <gensim.models.keyedvectors.Vocab at 0x7f7c562d4b80>,\n",
              " 'задуматься': <gensim.models.keyedvectors.Vocab at 0x7f7c562d4be0>,\n",
              " 'ждать': <gensim.models.keyedvectors.Vocab at 0x7f7c562d4c40>,\n",
              " 'очередь': <gensim.models.keyedvectors.Vocab at 0x7f7c562d4ca0>,\n",
              " 'хочуспать': <gensim.models.keyedvectors.Vocab at 0x7f7c562d4d00>,\n",
              " 'больница': <gensim.models.keyedvectors.Vocab at 0x7f7c562d4d60>,\n",
              " 'право': <gensim.models.keyedvectors.Vocab at 0x7f7c562d4dc0>,\n",
              " 'вождение': <gensim.models.keyedvectors.Vocab at 0x7f7c562d4e20>,\n",
              " 'вокал': <gensim.models.keyedvectors.Vocab at 0x7f7c562d4e80>,\n",
              " 'вызывать': <gensim.models.keyedvectors.Vocab at 0x7f7c562d4ee0>,\n",
              " 'чёткий': <gensim.models.keyedvectors.Vocab at 0x7f7c562d4f40>,\n",
              " 'ассоциация': <gensim.models.keyedvectors.Vocab at 0x7f7c562d4fa0>,\n",
              " 'с…': <gensim.models.keyedvectors.Vocab at 0x7f7c562d5040>,\n",
              " 'наутилус': <gensim.models.keyedvectors.Vocab at 0x7f7c562d50a0>,\n",
              " 'oo': <gensim.models.keyedvectors.Vocab at 0x7f7c562d5100>,\n",
              " 'сотня': <gensim.models.keyedvectors.Vocab at 0x7f7c562d5160>,\n",
              " 'фотография': <gensim.models.keyedvectors.Vocab at 0x7f7c562d51c0>,\n",
              " 'выкладывать': <gensim.models.keyedvectors.Vocab at 0x7f7c562d5220>,\n",
              " 'шампанский': <gensim.models.keyedvectors.Vocab at 0x7f7c562d5280>,\n",
              " 'прийтись': <gensim.models.keyedvectors.Vocab at 0x7f7c562d52e0>,\n",
              " 'вино': <gensim.models.keyedvectors.Vocab at 0x7f7c562d5340>,\n",
              " 'уехать': <gensim.models.keyedvectors.Vocab at 0x7f7c562d53a0>,\n",
              " 'измениться': <gensim.models.keyedvectors.Vocab at 0x7f7c562d5400>,\n",
              " 'типерь': <gensim.models.keyedvectors.Vocab at 0x7f7c562d5460>,\n",
              " 'всигда': <gensim.models.keyedvectors.Vocab at 0x7f7c562d54c0>,\n",
              " 'снимать': <gensim.models.keyedvectors.Vocab at 0x7f7c562d5520>,\n",
              " 'клавиш': <gensim.models.keyedvectors.Vocab at 0x7f7c562d5580>,\n",
              " 'клавиатура': <gensim.models.keyedvectors.Vocab at 0x7f7c562d55e0>,\n",
              " 'ноутбук': <gensim.models.keyedvectors.Vocab at 0x7f7c562d5640>,\n",
              " 'бля': <gensim.models.keyedvectors.Vocab at 0x7f7c562d56a0>,\n",
              " 'обратно': <gensim.models.keyedvectors.Vocab at 0x7f7c562d5700>,\n",
              " 'вставлять': <gensim.models.keyedvectors.Vocab at 0x7f7c562d5760>,\n",
              " 'заполнять': <gensim.models.keyedvectors.Vocab at 0x7f7c562d57c0>,\n",
              " 'каждый': <gensim.models.keyedvectors.Vocab at 0x7f7c562d5820>,\n",
              " 'класс': <gensim.models.keyedvectors.Vocab at 0x7f7c562d5880>,\n",
              " 'весело': <gensim.models.keyedvectors.Vocab at 0x7f7c562d58e0>,\n",
              " 'жопа': <gensim.models.keyedvectors.Vocab at 0x7f7c562d5940>,\n",
              " 'написать': <gensim.models.keyedvectors.Vocab at 0x7f7c562d59a0>,\n",
              " 'пидора': <gensim.models.keyedvectors.Vocab at 0x7f7c562d5a00>,\n",
              " 'машинка': <gensim.models.keyedvectors.Vocab at 0x7f7c562d5a60>,\n",
              " 'лёд': <gensim.models.keyedvectors.Vocab at 0x7f7c562d5ac0>,\n",
              " 'гоняться': <gensim.models.keyedvectors.Vocab at 0x7f7c562d5b20>,\n",
              " 'ice': <gensim.models.keyedvectors.Vocab at 0x7f7c562d5b80>,\n",
              " 'brianmolkooff': <gensim.models.keyedvectors.Vocab at 0x7f7c562d5be0>,\n",
              " 'отчаянный': <gensim.models.keyedvectors.Vocab at 0x7f7c562d5c40>,\n",
              " 'отрезать': <gensim.models.keyedvectors.Vocab at 0x7f7c562d5ca0>,\n",
              " 'тебян': <gensim.models.keyedvectors.Vocab at 0x7f7c562d5d00>,\n",
              " 'ретвитнуть': <gensim.models.keyedvectors.Vocab at 0x7f7c562d5d60>,\n",
              " 'воровать': <gensim.models.keyedvectors.Vocab at 0x7f7c562d5dc0>,\n",
              " 'gtd': <gensim.models.keyedvectors.Vocab at 0x7f7c562d5e20>,\n",
              " 'парик': <gensim.models.keyedvectors.Vocab at 0x7f7c562d5e80>,\n",
              " 'краситься': <gensim.models.keyedvectors.Vocab at 0x7f7c562d5ee0>,\n",
              " 'хд': <gensim.models.keyedvectors.Vocab at 0x7f7c562d5f40>,\n",
              " 'надежда': <gensim.models.keyedvectors.Vocab at 0x7f7c562d5fa0>,\n",
              " 'белорусский': <gensim.models.keyedvectors.Vocab at 0x7f7c562d7040>,\n",
              " 'препод': <gensim.models.keyedvectors.Vocab at 0x7f7c562d70a0>,\n",
              " 'физр': <gensim.models.keyedvectors.Vocab at 0x7f7c562d7100>,\n",
              " 'нравиться': <gensim.models.keyedvectors.Vocab at 0x7f7c562d7160>,\n",
              " 'песнь': <gensim.models.keyedvectors.Vocab at 0x7f7c562d71c0>,\n",
              " 'лепёс': <gensim.models.keyedvectors.Vocab at 0x7f7c562d7220>,\n",
              " 'равно': <gensim.models.keyedvectors.Vocab at 0x7f7c562d7280>,\n",
              " 'навальный': <gensim.models.keyedvectors.Vocab at 0x7f7c562d72e0>,\n",
              " 'докатиться': <gensim.models.keyedvectors.Vocab at 0x7f7c562d7340>,\n",
              " 'ханна': <gensim.models.keyedvectors.Vocab at 0x7f7c562d73a0>,\n",
              " 'navalny': <gensim.models.keyedvectors.Vocab at 0x7f7c562d7400>,\n",
              " 'ахахах': <gensim.models.keyedvectors.Vocab at 0x7f7c562d7460>,\n",
              " 'ужс': <gensim.models.keyedvectors.Vocab at 0x7f7c562d74c0>,\n",
              " 'матема': <gensim.models.keyedvectors.Vocab at 0x7f7c562d7520>,\n",
              " 'анета': <gensim.models.keyedvectors.Vocab at 0x7f7c562d7580>,\n",
              " 'лестница': <gensim.models.keyedvectors.Vocab at 0x7f7c562d75e0>,\n",
              " 'дерьмо': <gensim.models.keyedvectors.Vocab at 0x7f7c562d7640>,\n",
              " 'взять': <gensim.models.keyedvectors.Vocab at 0x7f7c562d76a0>,\n",
              " 'девка': <gensim.models.keyedvectors.Vocab at 0x7f7c562d7700>,\n",
              " 'комент': <gensim.models.keyedvectors.Vocab at 0x7f7c562d7760>,\n",
              " 'ибо': <gensim.models.keyedvectors.Vocab at 0x7f7c562d77c0>,\n",
              " 'наний': <gensim.models.keyedvectors.Vocab at 0x7f7c562d7820>,\n",
              " 'обиженный': <gensim.models.keyedvectors.Vocab at 0x7f7c562d7880>,\n",
              " 'охота': <gensim.models.keyedvectors.Vocab at 0x7f7c562d78e0>,\n",
              " 'просить': <gensim.models.keyedvectors.Vocab at 0x7f7c562d7940>,\n",
              " 'подождать': <gensim.models.keyedvectors.Vocab at 0x7f7c562d79a0>,\n",
              " 'щенок': <gensim.models.keyedvectors.Vocab at 0x7f7c562d7a00>,\n",
              " 'баба': <gensim.models.keyedvectors.Vocab at 0x7f7c562d7a60>,\n",
              " 'подумать': <gensim.models.keyedvectors.Vocab at 0x7f7c562d7ac0>,\n",
              " 'тварь': <gensim.models.keyedvectors.Vocab at 0x7f7c562d7b20>,\n",
              " 'такой': <gensim.models.keyedvectors.Vocab at 0x7f7c562d7b80>,\n",
              " 'проводить': <gensim.models.keyedvectors.Vocab at 0x7f7c562d7be0>,\n",
              " 'вечер': <gensim.models.keyedvectors.Vocab at 0x7f7c562d7c40>,\n",
              " 'брательник': <gensim.models.keyedvectors.Vocab at 0x7f7c562d7ca0>,\n",
              " 'смех': <gensim.models.keyedvectors.Vocab at 0x7f7c562d7d00>,\n",
              " 'пропустить': <gensim.models.keyedvectors.Vocab at 0x7f7c562d7d60>,\n",
              " '1': <gensim.models.keyedvectors.Vocab at 0x7f7c562d7dc0>,\n",
              " 'счастливый': <gensim.models.keyedvectors.Vocab at 0x7f7c562d7e20>,\n",
              " 'билетик': <gensim.models.keyedvectors.Vocab at 0x7f7c562d7e80>,\n",
              " 'karandash87': <gensim.models.keyedvectors.Vocab at 0x7f7c562d7ee0>,\n",
              " 'juljulianapai': <gensim.models.keyedvectors.Vocab at 0x7f7c562d7f40>,\n",
              " 'желудок': <gensim.models.keyedvectors.Vocab at 0x7f7c562d7fa0>,\n",
              " 'гараздо': <gensim.models.keyedvectors.Vocab at 0x7f7c562d9040>,\n",
              " 'реж': <gensim.models.keyedvectors.Vocab at 0x7f7c562d90a0>,\n",
              " 'кинуть': <gensim.models.keyedvectors.Vocab at 0x7f7c562d9100>,\n",
              " 'превращаться': <gensim.models.keyedvectors.Vocab at 0x7f7c562d9160>,\n",
              " 'полнолуние': <gensim.models.keyedvectors.Vocab at 0x7f7c562d91c0>,\n",
              " 'расти': <gensim.models.keyedvectors.Vocab at 0x7f7c562d9220>,\n",
              " 'ромашка': <gensim.models.keyedvectors.Vocab at 0x7f7c562d9280>,\n",
              " 'пупок': <gensim.models.keyedvectors.Vocab at 0x7f7c562d92e0>,\n",
              " 'шанс': <gensim.models.keyedvectors.Vocab at 0x7f7c562d9340>,\n",
              " 'рик': <gensim.models.keyedvectors.Vocab at 0x7f7c562d93a0>,\n",
              " 'использовать': <gensim.models.keyedvectors.Vocab at 0x7f7c562d9400>,\n",
              " 'тв': <gensim.models.keyedvectors.Vocab at 0x7f7c562d9460>,\n",
              " 'чехия': <gensim.models.keyedvectors.Vocab at 0x7f7c562d94c0>,\n",
              " 'выдать': <gensim.models.keyedvectors.Vocab at 0x7f7c562d9520>,\n",
              " 'эфир': <gensim.models.keyedvectors.Vocab at 0x7f7c562d9580>,\n",
              " 'запись': <gensim.models.keyedvectors.Vocab at 0x7f7c562d95e0>,\n",
              " 'беседа': <gensim.models.keyedvectors.Vocab at 0x7f7c562d9640>,\n",
              " 'премьера': <gensim.models.keyedvectors.Vocab at 0x7f7c562d96a0>,\n",
              " 'министр': <gensim.models.keyedvectors.Vocab at 0x7f7c562d9700>,\n",
              " 'фееричный': <gensim.models.keyedvectors.Vocab at 0x7f7c562d9760>,\n",
              " 'умереть': <gensim.models.keyedvectors.Vocab at 0x7f7c562d97c0>,\n",
              " 'http…': <gensim.models.keyedvectors.Vocab at 0x7f7c562d9820>,\n",
              " 'личный': <gensim.models.keyedvectors.Vocab at 0x7f7c562d9880>,\n",
              " 'наладиться': <gensim.models.keyedvectors.Vocab at 0x7f7c562d98e0>,\n",
              " 'когданибудь': <gensim.models.keyedvectors.Vocab at 0x7f7c562d9940>,\n",
              " 'supremefm': <gensim.models.keyedvectors.Vocab at 0x7f7c562d99a0>,\n",
              " 'тат': <gensim.models.keyedvectors.Vocab at 0x7f7c562d9a00>,\n",
              " 'httptco2luwqrs5h3': <gensim.models.keyedvectors.Vocab at 0x7f7c562d9a60>,\n",
              " 'ох': <gensim.models.keyedvectors.Vocab at 0x7f7c562d9ac0>,\n",
              " 'заливать': <gensim.models.keyedvectors.Vocab at 0x7f7c562d9b20>,\n",
              " 'разрешение': <gensim.models.keyedvectors.Vocab at 0x7f7c562d9b80>,\n",
              " 'залить': <gensim.models.keyedvectors.Vocab at 0x7f7c562d9be0>,\n",
              " 'влезть': <gensim.models.keyedvectors.Vocab at 0x7f7c562d9c40>,\n",
              " 'москва': <gensim.models.keyedvectors.Vocab at 0x7f7c562d9ca0>,\n",
              " 'moscow': <gensim.models.keyedvectors.Vocab at 0x7f7c562d9d00>,\n",
              " 'площадь': <gensim.models.keyedvectors.Vocab at 0x7f7c562d9d60>,\n",
              " 'пушкин': <gensim.models.keyedvectors.Vocab at 0x7f7c562d9dc0>,\n",
              " 'тетрадь': <gensim.models.keyedvectors.Vocab at 0x7f7c562d9e20>,\n",
              " 'дак': <gensim.models.keyedvectors.Vocab at 0x7f7c562d9e80>,\n",
              " 'вотчто': <gensim.models.keyedvectors.Vocab at 0x7f7c562d9ee0>,\n",
              " 'вообще': <gensim.models.keyedvectors.Vocab at 0x7f7c562d9f40>,\n",
              " 'случиться': <gensim.models.keyedvectors.Vocab at 0x7f7c562d9fa0>,\n",
              " 'задать': <gensim.models.keyedvectors.Vocab at 0x7f7c562da040>,\n",
              " 'длинный': <gensim.models.keyedvectors.Vocab at 0x7f7c562da0a0>,\n",
              " 'стих': <gensim.models.keyedvectors.Vocab at 0x7f7c562da100>,\n",
              " 'никакна': <gensim.models.keyedvectors.Vocab at 0x7f7c562da160>,\n",
              " 'запоминаться': <gensim.models.keyedvectors.Vocab at 0x7f7c562da1c0>,\n",
              " 'борец': <gensim.models.keyedvectors.Vocab at 0x7f7c562da220>,\n",
              " 'коррупция': <gensim.models.keyedvectors.Vocab at 0x7f7c562da280>,\n",
              " 'обвинить': <gensim.models.keyedvectors.Vocab at 0x7f7c562da2e0>,\n",
              " 'бляяять': <gensim.models.keyedvectors.Vocab at 0x7f7c562da340>,\n",
              " 'поц': <gensim.models.keyedvectors.Vocab at 0x7f7c562da3a0>,\n",
              " 'уг': <gensim.models.keyedvectors.Vocab at 0x7f7c562da400>,\n",
              " 'провал': <gensim.models.keyedvectors.Vocab at 0x7f7c562da460>,\n",
              " 'конешный': <gensim.models.keyedvectors.Vocab at 0x7f7c562da4c0>,\n",
              " 'чорт': <gensim.models.keyedvectors.Vocab at 0x7f7c562da520>,\n",
              " 'лысый': <gensim.models.keyedvectors.Vocab at 0x7f7c562da580>,\n",
              " 'thisisswag3': <gensim.models.keyedvectors.Vocab at 0x7f7c562da5e0>,\n",
              " 'голова': <gensim.models.keyedvectors.Vocab at 0x7f7c562da640>,\n",
              " 'качать': <gensim.models.keyedvectors.Vocab at 0x7f7c562da6a0>,\n",
              " 'палец': <gensim.models.keyedvectors.Vocab at 0x7f7c562da700>,\n",
              " 'который': <gensim.models.keyedvectors.Vocab at 0x7f7c562da760>,\n",
              " 'секрет': <gensim.models.keyedvectors.Vocab at 0x7f7c562da7c0>,\n",
              " 'внутри': <gensim.models.keyedvectors.Vocab at 0x7f7c562da820>,\n",
              " 'настенёк': <gensim.models.keyedvectors.Vocab at 0x7f7c562da880>,\n",
              " 'спросить': <gensim.models.keyedvectors.Vocab at 0x7f7c562da8e0>,\n",
              " 'юли': <gensim.models.keyedvectors.Vocab at 0x7f7c562da940>,\n",
              " 'ещен': <gensim.models.keyedvectors.Vocab at 0x7f7c562da9a0>,\n",
              " 'готовый': <gensim.models.keyedvectors.Vocab at 0x7f7c562daa00>,\n",
              " 'признаваться': <gensim.models.keyedvectors.Vocab at 0x7f7c562daa60>,\n",
              " 'соцсеть': <gensim.models.keyedvectors.Vocab at 0x7f7c562daac0>,\n",
              " 'песня': <gensim.models.keyedvectors.Vocab at 0x7f7c562dab20>,\n",
              " 'baby': <gensim.models.keyedvectors.Vocab at 0x7f7c562dab80>,\n",
              " 'айса': <gensim.models.keyedvectors.Vocab at 0x7f7c562dabe0>,\n",
              " 'айза': <gensim.models.keyedvectors.Vocab at 0x7f7c562dac40>,\n",
              " 'жена': <gensim.models.keyedvectors.Vocab at 0x7f7c562daca0>,\n",
              " 'vmeysters': <gensim.models.keyedvectors.Vocab at 0x7f7c562dad00>,\n",
              " 'выиграть': <gensim.models.keyedvectors.Vocab at 0x7f7c562dad60>,\n",
              " 'согласный': <gensim.models.keyedvectors.Vocab at 0x7f7c562dadc0>,\n",
              " 'суд': <gensim.models.keyedvectors.Vocab at 0x7f7c562dae20>,\n",
              " 'сша': <gensim.models.keyedvectors.Vocab at 0x7f7c562dae80>,\n",
              " 'признать': <gensim.models.keyedvectors.Vocab at 0x7f7c562daee0>,\n",
              " 'прослушок': <gensim.models.keyedvectors.Vocab at 0x7f7c562daf40>,\n",
              " 'законный': <gensim.models.keyedvectors.Vocab at 0x7f7c562dafa0>,\n",
              " 'о0': <gensim.models.keyedvectors.Vocab at 0x7f7c562dc040>,\n",
              " 'устать': <gensim.models.keyedvectors.Vocab at 0x7f7c562dc0a0>,\n",
              " 'мойка': <gensim.models.keyedvectors.Vocab at 0x7f7c562dc100>,\n",
              " 'стоять': <gensim.models.keyedvectors.Vocab at 0x7f7c562dc160>,\n",
              " 'главный': <gensim.models.keyedvectors.Vocab at 0x7f7c562dc1c0>,\n",
              " 'грязный': <gensim.models.keyedvectors.Vocab at 0x7f7c562dc220>,\n",
              " 'лежать': <gensim.models.keyedvectors.Vocab at 0x7f7c562dc280>,\n",
              " 'конфета': <gensim.models.keyedvectors.Vocab at 0x7f7c562dc2e0>,\n",
              " 'мишка': <gensim.models.keyedvectors.Vocab at 0x7f7c562dc340>,\n",
              " 'орех': <gensim.models.keyedvectors.Vocab at 0x7f7c562dc3a0>,\n",
              " 'добавить': <gensim.models.keyedvectors.Vocab at 0x7f7c562dc400>,\n",
              " 'воооот': <gensim.models.keyedvectors.Vocab at 0x7f7c562dc460>,\n",
              " 'bahhtee': <gensim.models.keyedvectors.Vocab at 0x7f7c562dc4c0>,\n",
              " 'алёна': <gensim.models.keyedvectors.Vocab at 0x7f7c562dc520>,\n",
              " 'тойминцев': <gensim.models.keyedvectors.Vocab at 0x7f7c562dc580>,\n",
              " 'настоящий': <gensim.models.keyedvectors.Vocab at 0x7f7c562dc5e0>,\n",
              " 'артист': <gensim.models.keyedvectors.Vocab at 0x7f7c562dc640>,\n",
              " 'ночью': <gensim.models.keyedvectors.Vocab at 0x7f7c562dc6a0>,\n",
              " 'разбудить': <gensim.models.keyedvectors.Vocab at 0x7f7c562dc700>,\n",
              " 'будить': <gensim.models.keyedvectors.Vocab at 0x7f7c562dc760>,\n",
              " 'молчать': <gensim.models.keyedvectors.Vocab at 0x7f7c562dc7c0>,\n",
              " 'сарказм': <gensim.models.keyedvectors.Vocab at 0x7f7c562dc820>,\n",
              " 'морозец': <gensim.models.keyedvectors.Vocab at 0x7f7c562dc880>,\n",
              " 'жать': <gensim.models.keyedvectors.Vocab at 0x7f7c562dc8e0>,\n",
              " 'улицуна': <gensim.models.keyedvectors.Vocab at 0x7f7c562dc940>,\n",
              " 'выйти': <gensim.models.keyedvectors.Vocab at 0x7f7c562dc9a0>,\n",
              " 'сезон': <gensim.models.keyedvectors.Vocab at 0x7f7c562dca00>,\n",
              " 'посмотреть': <gensim.models.keyedvectors.Vocab at 0x7f7c562dca60>,\n",
              " 'оторваться': <gensim.models.keyedvectors.Vocab at 0x7f7c562dcac0>,\n",
              " 'сразуна': <gensim.models.keyedvectors.Vocab at 0x7f7c562dcb20>,\n",
              " 'marinkablondie': <gensim.models.keyedvectors.Vocab at 0x7f7c562dcb80>,\n",
              " 'тверь': <gensim.models.keyedvectors.Vocab at 0x7f7c562dcbe0>,\n",
              " 'посоветовать': <gensim.models.keyedvectors.Vocab at 0x7f7c562dcc40>,\n",
              " 'шеф': <gensim.models.keyedvectors.Vocab at 0x7f7c562dcca0>,\n",
              " 'ретвитнит': <gensim.models.keyedvectors.Vocab at 0x7f7c562dcd00>,\n",
              " 'еслина': <gensim.models.keyedvectors.Vocab at 0x7f7c562dcd60>,\n",
              " 'падло': <gensim.models.keyedvectors.Vocab at 0x7f7c562dcdc0>,\n",
              " 'горлышко': <gensim.models.keyedvectors.Vocab at 0x7f7c562dce20>,\n",
              " 'бо': <gensim.models.keyedvectors.Vocab at 0x7f7c562dce80>,\n",
              " 'прибавляться': <gensim.models.keyedvectors.Vocab at 0x7f7c562dcee0>,\n",
              " 'вечный': <gensim.models.keyedvectors.Vocab at 0x7f7c562dcf40>,\n",
              " 'ночь': <gensim.models.keyedvectors.Vocab at 0x7f7c562dcfa0>,\n",
              " 'солнце': <gensim.models.keyedvectors.Vocab at 0x7f7c562de040>,\n",
              " 'таааак': <gensim.models.keyedvectors.Vocab at 0x7f7c562de0a0>,\n",
              " 'давнонет': <gensim.models.keyedvectors.Vocab at 0x7f7c562de100>,\n",
              " 'хреновый': <gensim.models.keyedvectors.Vocab at 0x7f7c562de160>,\n",
              " 'поставить': <gensim.models.keyedvectors.Vocab at 0x7f7c562de1c0>,\n",
              " 'комната': <gensim.models.keyedvectors.Vocab at 0x7f7c562de220>,\n",
              " 'соскучиться': <gensim.models.keyedvectors.Vocab at 0x7f7c562de280>,\n",
              " 'свободный': <gensim.models.keyedvectors.Vocab at 0x7f7c562de2e0>,\n",
              " 'приятно': <gensim.models.keyedvectors.Vocab at 0x7f7c562de340>,\n",
              " 'семечко': <gensim.models.keyedvectors.Vocab at 0x7f7c562de3a0>,\n",
              " 'попадаться': <gensim.models.keyedvectors.Vocab at 0x7f7c562de400>,\n",
              " 'очистить': <gensim.models.keyedvectors.Vocab at 0x7f7c562de460>,\n",
              " 'sledui': <gensim.models.keyedvectors.Vocab at 0x7f7c562de4c0>,\n",
              " 'удар': <gensim.models.keyedvectors.Vocab at 0x7f7c562de520>,\n",
              " 'пояс': <gensim.models.keyedvectors.Vocab at 0x7f7c562de580>,\n",
              " 'сдаваться': <gensim.models.keyedvectors.Vocab at 0x7f7c562de5e0>,\n",
              " 'девочка': <gensim.models.keyedvectors.Vocab at 0x7f7c562de640>,\n",
              " 'ладный': <gensim.models.keyedvectors.Vocab at 0x7f7c562de6a0>,\n",
              " 'марка': <gensim.models.keyedvectors.Vocab at 0x7f7c562de700>,\n",
              " 'постоянно': <gensim.models.keyedvectors.Vocab at 0x7f7c562de760>,\n",
              " 'находить': <gensim.models.keyedvectors.Vocab at 0x7f7c562de7c0>,\n",
              " 'скучный': <gensim.models.keyedvectors.Vocab at 0x7f7c562de820>,\n",
              " 'творчество': <gensim.models.keyedvectors.Vocab at 0x7f7c562de880>,\n",
              " 'улица': <gensim.models.keyedvectors.Vocab at 0x7f7c562de8e0>,\n",
              " 'план': <gensim.models.keyedvectors.Vocab at 0x7f7c562de940>,\n",
              " 'критика': <gensim.models.keyedvectors.Vocab at 0x7f7c562de9a0>,\n",
              " 'вопрос': <gensim.models.keyedvectors.Vocab at 0x7f7c562dea00>,\n",
              " 'поменяться': <gensim.models.keyedvectors.Vocab at 0x7f7c562dea60>,\n",
              " 'отношение': <gensim.models.keyedvectors.Vocab at 0x7f7c562deac0>,\n",
              " 'общество': <gensim.models.keyedvectors.Vocab at 0x7f7c562deb20>,\n",
              " 'ради': <gensim.models.keyedvectors.Vocab at 0x7f7c562deb80>,\n",
              " 'выгода': <gensim.models.keyedvectors.Vocab at 0x7f7c562debe0>,\n",
              " 'задница': <gensim.models.keyedvectors.Vocab at 0x7f7c562dec40>,\n",
              " 'лизать': <gensim.models.keyedvectors.Vocab at 0x7f7c562deca0>,\n",
              " 'надоесть': <gensim.models.keyedvectors.Vocab at 0x7f7c562ded00>,\n",
              " 'дешёвый': <gensim.models.keyedvectors.Vocab at 0x7f7c562ded60>,\n",
              " 'утро': <gensim.models.keyedvectors.Vocab at 0x7f7c562dedc0>,\n",
              " 'кудан': <gensim.models.keyedvectors.Vocab at 0x7f7c562dee20>,\n",
              " 'наверное': <gensim.models.keyedvectors.Vocab at 0x7f7c562dee80>,\n",
              " 'спать': <gensim.models.keyedvectors.Vocab at 0x7f7c562deee0>,\n",
              " 'выспаться': <gensim.models.keyedvectors.Vocab at 0x7f7c562def40>,\n",
              " 'мб': <gensim.models.keyedvectors.Vocab at 0x7f7c562defa0>,\n",
              " 'оу': <gensim.models.keyedvectors.Vocab at 0x7f7c562df040>,\n",
              " 'черта': <gensim.models.keyedvectors.Vocab at 0x7f7c562df0a0>,\n",
              " 'сочувствовать': <gensim.models.keyedvectors.Vocab at 0x7f7c562df100>,\n",
              " 'желать': <gensim.models.keyedvectors.Vocab at 0x7f7c562df160>,\n",
              " 'удача': <gensim.models.keyedvectors.Vocab at 0x7f7c562df1c0>,\n",
              " 'таки': <gensim.models.keyedvectors.Vocab at 0x7f7c562df220>,\n",
              " 'ветер': <gensim.models.keyedvectors.Vocab at 0x7f7c562df280>,\n",
              " 'лицо': <gensim.models.keyedvectors.Vocab at 0x7f7c562df2e0>,\n",
              " 'снег': <gensim.models.keyedvectors.Vocab at 0x7f7c562df340>,\n",
              " 'кружиться': <gensim.models.keyedvectors.Vocab at 0x7f7c562df3a0>,\n",
              " 'падать': <gensim.models.keyedvectors.Vocab at 0x7f7c562df400>,\n",
              " 'оннавсегда': <gensim.models.keyedvectors.Vocab at 0x7f7c562df460>,\n",
              " 'мыть': <gensim.models.keyedvectors.Vocab at 0x7f7c562df4c0>,\n",
              " 'сердце': <gensim.models.keyedvectors.Vocab at 0x7f7c562df520>,\n",
              " 'фух': <gensim.models.keyedvectors.Vocab at 0x7f7c562df580>,\n",
              " 'передний': <gensim.models.keyedvectors.Vocab at 0x7f7c562df5e0>,\n",
              " 'властелин': <gensim.models.keyedvectors.Vocab at 0x7f7c562df640>,\n",
              " 'кольцо': <gensim.models.keyedvectors.Vocab at 0x7f7c562df6a0>,\n",
              " 'перевод': <gensim.models.keyedvectors.Vocab at 0x7f7c562df700>,\n",
              " 'гоблин': <gensim.models.keyedvectors.Vocab at 0x7f7c562df760>,\n",
              " 'порой': <gensim.models.keyedvectors.Vocab at 0x7f7c562df7c0>,\n",
              " 'ерунда': <gensim.models.keyedvectors.Vocab at 0x7f7c562df820>,\n",
              " 'подборка': <gensim.models.keyedvectors.Vocab at 0x7f7c562df880>,\n",
              " 'саундтрек': <gensim.models.keyedvectors.Vocab at 0x7f7c562df8e0>,\n",
              " 'стёб': <gensim.models.keyedvectors.Vocab at 0x7f7c562df940>,\n",
              " 'сложно': <gensim.models.keyedvectors.Vocab at 0x7f7c562df9a0>,\n",
              " 'грызть': <gensim.models.keyedvectors.Vocab at 0x7f7c562dfa00>,\n",
              " 'гранит': <gensim.models.keyedvectors.Vocab at 0x7f7c562dfa60>,\n",
              " 'простон': <gensim.models.keyedvectors.Vocab at 0x7f7c562dfac0>,\n",
              " 'можетний': <gensim.models.keyedvectors.Vocab at 0x7f7c562dfb20>,\n",
              " 'физика': <gensim.models.keyedvectors.Vocab at 0x7f7c562dfb80>,\n",
              " 'подивиться': <gensim.models.keyedvectors.Vocab at 0x7f7c562dfbe0>,\n",
              " 'белый': <gensim.models.keyedvectors.Vocab at 0x7f7c562dfc40>,\n",
              " 'плена': <gensim.models.keyedvectors.Vocab at 0x7f7c562dfca0>,\n",
              " 'блін': <gensim.models.keyedvectors.Vocab at 0x7f7c562dfd00>,\n",
              " 'от': <gensim.models.keyedvectors.Vocab at 0x7f7c562dfd60>,\n",
              " 'які': <gensim.models.keyedvectors.Vocab at 0x7f7c562dfdc0>,\n",
              " 'ці': <gensim.models.keyedvectors.Vocab at 0x7f7c562dfe20>,\n",
              " 'tomgreen34': <gensim.models.keyedvectors.Vocab at 0x7f7c562dfe80>,\n",
              " 'огромный': <gensim.models.keyedvectors.Vocab at 0x7f7c562dfee0>,\n",
              " 'lt3': <gensim.models.keyedvectors.Vocab at 0x7f7c562dff40>,\n",
              " 'понадобиться': <gensim.models.keyedvectors.Vocab at 0x7f7c562dffa0>,\n",
              " 'учитель': <gensim.models.keyedvectors.Vocab at 0x7f7c562e1040>,\n",
              " 'фотокнуть': <gensim.models.keyedvectors.Vocab at 0x7f7c562e10a0>,\n",
              " 'mtvstars': <gensim.models.keyedvectors.Vocab at 0x7f7c562e1100>,\n",
              " 'странно': <gensim.models.keyedvectors.Vocab at 0x7f7c562e1160>,\n",
              " 'звучать': <gensim.models.keyedvectors.Vocab at 0x7f7c562e11c0>,\n",
              " 'похоже': <gensim.models.keyedvectors.Vocab at 0x7f7c562e1220>,\n",
              " 'химичка': <gensim.models.keyedvectors.Vocab at 0x7f7c562e1280>,\n",
              " 'химия': <gensim.models.keyedvectors.Vocab at 0x7f7c562e12e0>,\n",
              " 'смочь': <gensim.models.keyedvectors.Vocab at 0x7f7c562e1340>,\n",
              " 'загс': <gensim.models.keyedvectors.Vocab at 0x7f7c562e13a0>,\n",
              " 'государство': <gensim.models.keyedvectors.Vocab at 0x7f7c562e1400>,\n",
              " '©': <gensim.models.keyedvectors.Vocab at 0x7f7c562e1460>,\n",
              " 'обычный': <gensim.models.keyedvectors.Vocab at 0x7f7c562e14c0>,\n",
              " 'отличный': <gensim.models.keyedvectors.Vocab at 0x7f7c562e1520>,\n",
              " 'война': <gensim.models.keyedvectors.Vocab at 0x7f7c562e1580>,\n",
              " 'классный': <gensim.models.keyedvectors.Vocab at 0x7f7c562e15e0>,\n",
              " 'смеяться': <gensim.models.keyedvectors.Vocab at 0x7f7c562e1640>,\n",
              " 'расслабон': <gensim.models.keyedvectors.Vocab at 0x7f7c562e16a0>,\n",
              " 'терять': <gensim.models.keyedvectors.Vocab at 0x7f7c562e1700>,\n",
              " 'другомуна': <gensim.models.keyedvectors.Vocab at 0x7f7c562e1760>,\n",
              " 'выходить': <gensim.models.keyedvectors.Vocab at 0x7f7c562e17c0>,\n",
              " 'твой': <gensim.models.keyedvectors.Vocab at 0x7f7c562e1820>,\n",
              " 'пришлый': <gensim.models.keyedvectors.Vocab at 0x7f7c562e1880>,\n",
              " 'быстро': <gensim.models.keyedvectors.Vocab at 0x7f7c562e18e0>,\n",
              " 'уходить': <gensim.models.keyedvectors.Vocab at 0x7f7c562e1940>,\n",
              " 'сайт': <gensim.models.keyedvectors.Vocab at 0x7f7c562e19a0>,\n",
              " 'досматривать': <gensim.models.keyedvectors.Vocab at 0x7f7c562e1a00>,\n",
              " 'серия': <gensim.models.keyedvectors.Vocab at 0x7f7c562e1a60>,\n",
              " 'стыдно': <gensim.models.keyedvectors.Vocab at 0x7f7c562e1ac0>,\n",
              " 'спасть': <gensim.models.keyedvectors.Vocab at 0x7f7c562e1b20>,\n",
              " 'спокойно': <gensim.models.keyedvectors.Vocab at 0x7f7c562e1b80>,\n",
              " 'здорово': <gensim.models.keyedvectors.Vocab at 0x7f7c562e1be0>,\n",
              " 'обратить': <gensim.models.keyedvectors.Vocab at 0x7f7c562e1c40>,\n",
              " 'внимание': <gensim.models.keyedvectors.Vocab at 0x7f7c562e1ca0>,\n",
              " 'отключиться': <gensim.models.keyedvectors.Vocab at 0x7f7c562e1d00>,\n",
              " 'напомнить': <gensim.models.keyedvectors.Vocab at 0x7f7c562e1d60>,\n",
              " 'channelonerus': <gensim.models.keyedvectors.Vocab at 0x7f7c562e1dc0>,\n",
              " 'страшный': <gensim.models.keyedvectors.Vocab at 0x7f7c562e1e20>,\n",
              " 'судьба': <gensim.models.keyedvectors.Vocab at 0x7f7c562e1e80>,\n",
              " 'игра': <gensim.models.keyedvectors.Vocab at 0x7f7c562e1ee0>,\n",
              " 'оказываться': <gensim.models.keyedvectors.Vocab at 0x7f7c562e1f40>,\n",
              " 'ихна': <gensim.models.keyedvectors.Vocab at 0x7f7c562e1fa0>,\n",
              " 'бог': <gensim.models.keyedvectors.Vocab at 0x7f7c562e3040>,\n",
              " 'убиться': <gensim.models.keyedvectors.Vocab at 0x7f7c562e30a0>,\n",
              " 'пробник': <gensim.models.keyedvectors.Vocab at 0x7f7c562e3100>,\n",
              " 'математика': <gensim.models.keyedvectors.Vocab at 0x7f7c562e3160>,\n",
              " 'alina2348964': <gensim.models.keyedvectors.Vocab at 0x7f7c562e31c0>,\n",
              " 'сюдан': <gensim.models.keyedvectors.Vocab at 0x7f7c562e3220>,\n",
              " 'пасана': <gensim.models.keyedvectors.Vocab at 0x7f7c562e3280>,\n",
              " 'два': <gensim.models.keyedvectors.Vocab at 0x7f7c562e32e0>,\n",
              " 'помоему': <gensim.models.keyedvectors.Vocab at 0x7f7c562e3340>,\n",
              " 'расплатиться': <gensim.models.keyedvectors.Vocab at 0x7f7c562e33a0>,\n",
              " 'насрать': <gensim.models.keyedvectors.Vocab at 0x7f7c562e3400>,\n",
              " 'отметить': <gensim.models.keyedvectors.Vocab at 0x7f7c562e3460>,\n",
              " 'весной': <gensim.models.keyedvectors.Vocab at 0x7f7c562e34c0>,\n",
              " 'германия': <gensim.models.keyedvectors.Vocab at 0x7f7c562e3520>,\n",
              " 'прямо': <gensim.models.keyedvectors.Vocab at 0x7f7c562e3580>,\n",
              " 'попасть': <gensim.models.keyedvectors.Vocab at 0x7f7c562e35e0>,\n",
              " 'круто': <gensim.models.keyedvectors.Vocab at 0x7f7c562e3640>,\n",
              " 'оформить': <gensim.models.keyedvectors.Vocab at 0x7f7c562e36a0>,\n",
              " 'весёлый': <gensim.models.keyedvectors.Vocab at 0x7f7c562e3700>,\n",
              " 'похожий': <gensim.models.keyedvectors.Vocab at 0x7f7c562e3760>,\n",
              " 'маршрутка': <gensim.models.keyedvectors.Vocab at 0x7f7c562e37c0>,\n",
              " 'ноут': <gensim.models.keyedvectors.Vocab at 0x7f7c562e3820>,\n",
              " 'влюбиться': <gensim.models.keyedvectors.Vocab at 0x7f7c562e3880>,\n",
              " 'вний': <gensim.models.keyedvectors.Vocab at 0x7f7c562e38e0>,\n",
              " 'боль': <gensim.models.keyedvectors.Vocab at 0x7f7c562e3940>,\n",
              " 'бат': <gensim.models.keyedvectors.Vocab at 0x7f7c562e39a0>,\n",
              " 'подарокно': <gensim.models.keyedvectors.Vocab at 0x7f7c562e3a00>,\n",
              " 'alexmak': <gensim.models.keyedvectors.Vocab at 0x7f7c562e3a60>,\n",
              " 'рассуждать': <gensim.models.keyedvectors.Vocab at 0x7f7c562e3ac0>,\n",
              " 'сиська': <gensim.models.keyedvectors.Vocab at 0x7f7c562e3b20>,\n",
              " 'аккума': <gensim.models.keyedvectors.Vocab at 0x7f7c562e3b80>,\n",
              " 'гыгыг': <gensim.models.keyedvectors.Vocab at 0x7f7c562e3be0>,\n",
              " 'хохол': <gensim.models.keyedvectors.Vocab at 0x7f7c562e3c40>,\n",
              " 'фб': <gensim.models.keyedvectors.Vocab at 0x7f7c562e3ca0>,\n",
              " 'жечь': <gensim.models.keyedvectors.Vocab at 0x7f7c562e3d00>,\n",
              " 'обзываться': <gensim.models.keyedvectors.Vocab at 0x7f7c562e3d60>,\n",
              " 'dominobank': <gensim.models.keyedvectors.Vocab at 0x7f7c562e3dc0>,\n",
              " 'факт': <gensim.models.keyedvectors.Vocab at 0x7f7c562e3e20>,\n",
              " 'нигден': <gensim.models.keyedvectors.Vocab at 0x7f7c562e3e80>,\n",
              " 'выключить': <gensim.models.keyedvectors.Vocab at 0x7f7c562e3ee0>,\n",
              " 'система': <gensim.models.keyedvectors.Vocab at 0x7f7c562e3f40>,\n",
              " 'свой': <gensim.models.keyedvectors.Vocab at 0x7f7c562e3fa0>,\n",
              " 'корень': <gensim.models.keyedvectors.Vocab at 0x7f7c562e4040>,\n",
              " 'провести': <gensim.models.keyedvectors.Vocab at 0x7f7c562e40a0>,\n",
              " 'жалеть': <gensim.models.keyedvectors.Vocab at 0x7f7c562e4100>,\n",
              " 'летомня': <gensim.models.keyedvectors.Vocab at 0x7f7c562e4160>,\n",
              " 'печально': <gensim.models.keyedvectors.Vocab at 0x7f7c562e41c0>,\n",
              " 'вщ': <gensim.models.keyedvectors.Vocab at 0x7f7c562e4220>,\n",
              " 'никак': <gensim.models.keyedvectors.Vocab at 0x7f7c562e4280>,\n",
              " 'одновременно': <gensim.models.keyedvectors.Vocab at 0x7f7c562e42e0>,\n",
              " 'radioofmoon': <gensim.models.keyedvectors.Vocab at 0x7f7c562e4340>,\n",
              " 'цветной': <gensim.models.keyedvectors.Vocab at 0x7f7c562e43a0>,\n",
              " 'осень': <gensim.models.keyedvectors.Vocab at 0x7f7c562e4400>,\n",
              " 'синий': <gensim.models.keyedvectors.Vocab at 0x7f7c562e4460>,\n",
              " 'гора': <gensim.models.keyedvectors.Vocab at 0x7f7c562e44c0>,\n",
              " 'горизонт': <gensim.models.keyedvectors.Vocab at 0x7f7c562e4520>,\n",
              " 'к': <gensim.models.keyedvectors.Vocab at 0x7f7c562e4580>,\n",
              " 'приезжать': <gensim.models.keyedvectors.Vocab at 0x7f7c562e45e0>,\n",
              " 'никтоня': <gensim.models.keyedvectors.Vocab at 0x7f7c562e4640>,\n",
              " 'дорогой': <gensim.models.keyedvectors.Vocab at 0x7f7c562e46a0>,\n",
              " 'поздравление': <gensim.models.keyedvectors.Vocab at 0x7f7c562e4700>,\n",
              " 'др': <gensim.models.keyedvectors.Vocab at 0x7f7c562e4760>,\n",
              " 'принципиальный': <gensim.models.keyedvectors.Vocab at 0x7f7c562e47c0>,\n",
              " 'стараться': <gensim.models.keyedvectors.Vocab at 0x7f7c562e4820>,\n",
              " 'сладкое': <gensim.models.keyedvectors.Vocab at 0x7f7c562e4880>,\n",
              " 'иметься': <gensim.models.keyedvectors.Vocab at 0x7f7c562e48e0>,\n",
              " 'гроб': <gensim.models.keyedvectors.Vocab at 0x7f7c562e4940>,\n",
              " 'опера': <gensim.models.keyedvectors.Vocab at 0x7f7c562e49a0>,\n",
              " 'брат': <gensim.models.keyedvectors.Vocab at 0x7f7c562e4a00>,\n",
              " 'мыться': <gensim.models.keyedvectors.Vocab at 0x7f7c562e4a60>,\n",
              " 'проситня': <gensim.models.keyedvectors.Vocab at 0x7f7c562e4ac0>,\n",
              " 'стесняться': <gensim.models.keyedvectors.Vocab at 0x7f7c562e4b20>,\n",
              " '00': <gensim.models.keyedvectors.Vocab at 0x7f7c562e4b80>,\n",
              " 'обидный': <gensim.models.keyedvectors.Vocab at 0x7f7c562e4be0>,\n",
              " 'закладка': <gensim.models.keyedvectors.Vocab at 0x7f7c562e4c40>,\n",
              " 'гдеть': <gensim.models.keyedvectors.Vocab at 0x7f7c562e4ca0>,\n",
              " 'бухать': <gensim.models.keyedvectors.Vocab at 0x7f7c562e4d00>,\n",
              " 'отлично': <gensim.models.keyedvectors.Vocab at 0x7f7c562e4d60>,\n",
              " 'биология': <gensim.models.keyedvectors.Vocab at 0x7f7c562e4dc0>,\n",
              " 'геометрия': <gensim.models.keyedvectors.Vocab at 0x7f7c562e4e20>,\n",
              " 'получить': <gensim.models.keyedvectors.Vocab at 0x7f7c562e4e80>,\n",
              " 'матч': <gensim.models.keyedvectors.Vocab at 0x7f7c562e4ee0>,\n",
              " 'трансляция': <gensim.models.keyedvectors.Vocab at 0x7f7c562e4f40>,\n",
              " 'jennpayno': <gensim.models.keyedvectors.Vocab at 0x7f7c562e4fa0>,\n",
              " 'повтор': <gensim.models.keyedvectors.Vocab at 0x7f7c562e6040>,\n",
              " 'бабник': <gensim.models.keyedvectors.Vocab at 0x7f7c562e60a0>,\n",
              " 'юбка': <gensim.models.keyedvectors.Vocab at 0x7f7c562e6100>,\n",
              " 'емай': <gensim.models.keyedvectors.Vocab at 0x7f7c562e6160>,\n",
              " 'добрый': <gensim.models.keyedvectors.Vocab at 0x7f7c562e61c0>,\n",
              " 'руслан': <gensim.models.keyedvectors.Vocab at 0x7f7c562e6220>,\n",
              " 'пожелание': <gensim.models.keyedvectors.Vocab at 0x7f7c562e6280>,\n",
              " 'дружище': <gensim.models.keyedvectors.Vocab at 0x7f7c562e62e0>,\n",
              " 'охренеть': <gensim.models.keyedvectors.Vocab at 0x7f7c562e6340>,\n",
              " 'начать': <gensim.models.keyedvectors.Vocab at 0x7f7c562e63a0>,\n",
              " 'пломба': <gensim.models.keyedvectors.Vocab at 0x7f7c562e6400>,\n",
              " 'словнуть': <gensim.models.keyedvectors.Vocab at 0x7f7c562e6460>,\n",
              " 'ктоть': <gensim.models.keyedvectors.Vocab at 0x7f7c562e64c0>,\n",
              " 'сглазить': <gensim.models.keyedvectors.Vocab at 0x7f7c562e6520>,\n",
              " 'alekc49': <gensim.models.keyedvectors.Vocab at 0x7f7c562e6580>,\n",
              " 'фрейд': <gensim.models.keyedvectors.Vocab at 0x7f7c562e65e0>,\n",
              " 'шутить': <gensim.models.keyedvectors.Vocab at 0x7f7c562e6640>,\n",
              " 'привыкнуть': <gensim.models.keyedvectors.Vocab at 0x7f7c562e66a0>,\n",
              " 'дизайнер': <gensim.models.keyedvectors.Vocab at 0x7f7c562e6700>,\n",
              " 'кошмар': <gensim.models.keyedvectors.Vocab at 0x7f7c562e6760>,\n",
              " 'вперёд': <gensim.models.keyedvectors.Vocab at 0x7f7c562e67c0>,\n",
              " 'сниться': <gensim.models.keyedvectors.Vocab at 0x7f7c562e6820>,\n",
              " 'фуфу': <gensim.models.keyedvectors.Vocab at 0x7f7c562e6880>,\n",
              " 'снегуна': <gensim.models.keyedvectors.Vocab at 0x7f7c562e68e0>,\n",
              " 'рад': <gensim.models.keyedvectors.Vocab at 0x7f7c562e6940>,\n",
              " 'зима': <gensim.models.keyedvectors.Vocab at 0x7f7c562e69a0>,\n",
              " 'zaynswife1': <gensim.models.keyedvectors.Vocab at 0x7f7c562e6a00>,\n",
              " 'сильнона': <gensim.models.keyedvectors.Vocab at 0x7f7c562e6a60>,\n",
              " 'погулять': <gensim.models.keyedvectors.Vocab at 0x7f7c562e6ac0>,\n",
              " 'катушка': <gensim.models.keyedvectors.Vocab at 0x7f7c562e6b20>,\n",
              " 'встреча': <gensim.models.keyedvectors.Vocab at 0x7f7c562e6b80>,\n",
              " 'кашель': <gensim.models.keyedvectors.Vocab at 0x7f7c562e6be0>,\n",
              " 'ничья': <gensim.models.keyedvectors.Vocab at 0x7f7c562e6c40>,\n",
              " 'татуха': <gensim.models.keyedvectors.Vocab at 0x7f7c562e6ca0>,\n",
              " 'головын': <gensim.models.keyedvectors.Vocab at 0x7f7c562e6d00>,\n",
              " 'вылазить': <gensim.models.keyedvectors.Vocab at 0x7f7c562e6d60>,\n",
              " 'aprelskaya95': <gensim.models.keyedvectors.Vocab at 0x7f7c562e6dc0>,\n",
              " 'мир': <gensim.models.keyedvectors.Vocab at 0x7f7c562e6e20>,\n",
              " 'ложный': <gensim.models.keyedvectors.Vocab at 0x7f7c562e6e80>,\n",
              " 'внемой': <gensim.models.keyedvectors.Vocab at 0x7f7c562e6ee0>,\n",
              " 'сука': <gensim.models.keyedvectors.Vocab at 0x7f7c562e6f40>,\n",
              " 'помидор': <gensim.models.keyedvectors.Vocab at 0x7f7c562e6fa0>,\n",
              " 'редиска': <gensim.models.keyedvectors.Vocab at 0x7f7c562e8040>,\n",
              " 'tvctc': <gensim.models.keyedvectors.Vocab at 0x7f7c562e80a0>,\n",
              " 'медведь': <gensim.models.keyedvectors.Vocab at 0x7f7c562e8100>,\n",
              " 'выйграли': <gensim.models.keyedvectors.Vocab at 0x7f7c562e8160>,\n",
              " 'жестокий': <gensim.models.keyedvectors.Vocab at 0x7f7c562e81c0>,\n",
              " 'бой': <gensim.models.keyedvectors.Vocab at 0x7f7c562e8220>,\n",
              " 'вроден': <gensim.models.keyedvectors.Vocab at 0x7f7c562e8280>,\n",
              " 'реклама': <gensim.models.keyedvectors.Vocab at 0x7f7c562e82e0>,\n",
              " 'править': <gensim.models.keyedvectors.Vocab at 0x7f7c562e8340>,\n",
              " 'че': <gensim.models.keyedvectors.Vocab at 0x7f7c562e83a0>,\n",
              " 'быня': <gensim.models.keyedvectors.Vocab at 0x7f7c562e8400>,\n",
              " 'щас': <gensim.models.keyedvectors.Vocab at 0x7f7c562e8460>,\n",
              " 'котик': <gensim.models.keyedvectors.Vocab at 0x7f7c562e84c0>,\n",
              " 'ааа': <gensim.models.keyedvectors.Vocab at 0x7f7c562e8520>,\n",
              " '38': <gensim.models.keyedvectors.Vocab at 0x7f7c562e8580>,\n",
              " 'проверить': <gensim.models.keyedvectors.Vocab at 0x7f7c562e85e0>,\n",
              " 'зрение': <gensim.models.keyedvectors.Vocab at 0x7f7c562e8640>,\n",
              " 'kristinaechelon': <gensim.models.keyedvectors.Vocab at 0x7f7c562e86a0>,\n",
              " 'собака': <gensim.models.keyedvectors.Vocab at 0x7f7c562e8700>,\n",
              " 'среднее': <gensim.models.keyedvectors.Vocab at 0x7f7c562e8760>,\n",
              " ...}"
            ]
          },
          "metadata": {
            "tags": []
          },
          "execution_count": 43
        }
      ],
      "metadata": {
        "id": "8n9xJi4vMgZH",
        "outputId": "8ecb4f91-00ac-41f5-e875-acd313e5ae90"
      }
    },
    {
      "cell_type": "code",
      "execution_count": null,
      "source": [
        "vect_idf = TfidfVectorizer()\n",
        "vect_idf.fit_transform(df_train['text'])\n",
        "tfidf = dict(zip(vect_idf.get_feature_names(), vect_idf.idf_))"
      ],
      "outputs": [],
      "metadata": {
        "id": "QIxUX9d8MgZI"
      }
    },
    {
      "cell_type": "code",
      "execution_count": null,
      "source": [
        "tfidf"
      ],
      "outputs": [
        {
          "output_type": "execute_result",
          "data": {
            "text/plain": [
              "{'00': 9.32464497468466,\n",
              " '000': 8.71438545393048,\n",
              " '0000': 9.707637226940765,\n",
              " '00000': 12.01022231993481,\n",
              " '000000': 12.415687428042975,\n",
              " '0000000': 12.01022231993481,\n",
              " '00000001': 12.415687428042975,\n",
              " '000009': 12.01022231993481,\n",
              " '00000asrova': 12.415687428042975,\n",
              " '00008': 12.415687428042975,\n",
              " '0000ибо': 12.415687428042975,\n",
              " '0000нуль': 12.415687428042975,\n",
              " '0000пойти': 12.415687428042975,\n",
              " '0001': 12.415687428042975,\n",
              " '0005': 12.415687428042975,\n",
              " '0006': 12.415687428042975,\n",
              " '0009': 12.415687428042975,\n",
              " '000nana000': 11.49939669616882,\n",
              " '000к': 12.415687428042975,\n",
              " '000ноль': 12.415687428042975,\n",
              " '000ный': 12.415687428042975,\n",
              " '000рубль': 12.415687428042975,\n",
              " '000ть': 12.415687428042975,\n",
              " '001': 12.415687428042975,\n",
              " '0019': 12.415687428042975,\n",
              " '002': 12.415687428042975,\n",
              " '0024': 12.415687428042975,\n",
              " '003': 12.415687428042975,\n",
              " '0030': 11.49939669616882,\n",
              " '004anna': 12.415687428042975,\n",
              " '005': 12.415687428042975,\n",
              " '0050': 12.415687428042975,\n",
              " '0053': 12.415687428042975,\n",
              " '007': 12.415687428042975,\n",
              " '009panda': 12.415687428042975,\n",
              " '00anita00': 12.415687428042975,\n",
              " '00darya': 10.40078440750071,\n",
              " '00elenka': 12.415687428042975,\n",
              " '00gorbunova': 12.415687428042975,\n",
              " '00kalashnikova': 12.415687428042975,\n",
              " '00katusha': 12.415687428042975,\n",
              " '00okaay': 11.162924459547607,\n",
              " '00orekhova': 12.415687428042975,\n",
              " '00pmкатрина': 12.415687428042975,\n",
              " '00varya': 12.415687428042975,\n",
              " '00victoria16': 12.415687428042975,\n",
              " '00vlass': 12.415687428042975,\n",
              " '00нельзя': 12.415687428042975,\n",
              " '00нулик': 12.415687428042975,\n",
              " '01': 10.218462850706755,\n",
              " '010': 12.01022231993481,\n",
              " '0100': 12.415687428042975,\n",
              " '0101': 12.415687428042975,\n",
              " '010114': 12.415687428042975,\n",
              " '0107': 12.415687428042975,\n",
              " '011': 12.01022231993481,\n",
              " '011012н': 12.415687428042975,\n",
              " '0117': 12.415687428042975,\n",
              " '012': 12.415687428042975,\n",
              " '0122': 12.415687428042975,\n",
              " '0130': 12.01022231993481,\n",
              " '0132мочь': 12.415687428042975,\n",
              " '0135': 12.415687428042975,\n",
              " '015': 12.01022231993481,\n",
              " '0156': 12.415687428042975,\n",
              " '015nikulina': 12.415687428042975,\n",
              " '01baidina': 12.415687428042975,\n",
              " '01dina89': 12.415687428042975,\n",
              " '01foreveryoung': 12.415687428042975,\n",
              " '01illa21': 12.415687428042975,\n",
              " '01nastyaa': 12.415687428042975,\n",
              " '01nushka': 12.415687428042975,\n",
              " '01sasha69': 12.415687428042975,\n",
              " '01sickdreamer': 12.415687428042975,\n",
              " '01znllh': 11.49939669616882,\n",
              " '01сегодня': 12.415687428042975,\n",
              " '02': 11.029393066923085,\n",
              " '0200': 11.72254024748303,\n",
              " '0201каникулы': 12.415687428042975,\n",
              " '02122013': 12.415687428042975,\n",
              " '023': 12.415687428042975,\n",
              " '023sm': 12.415687428042975,\n",
              " '0280022': 12.415687428042975,\n",
              " '02azobova': 12.415687428042975,\n",
              " '02hard': 12.415687428042975,\n",
              " '02newyork1': 12.415687428042975,\n",
              " '02p17': 12.415687428042975,\n",
              " '02soft': 12.415687428042975,\n",
              " '02sona': 12.415687428042975,\n",
              " '02vashkevich': 12.415687428042975,\n",
              " '03': 11.162924459547607,\n",
              " '030113': 12.01022231993481,\n",
              " '0305': 12.415687428042975,\n",
              " '0306kate': 12.415687428042975,\n",
              " '0312': 12.415687428042975,\n",
              " '031634': 12.415687428042975,\n",
              " '031636': 12.415687428042975,\n",
              " '0322': 12.415687428042975,\n",
              " '0327tulip': 12.415687428042975,\n",
              " '032н': 12.415687428042975,\n",
              " '033': 11.72254024748303,\n",
              " '0330': 12.415687428042975,\n",
              " '0357603': 12.01022231993481,\n",
              " '036311943859': 12.415687428042975,\n",
              " '0367522300221': 12.415687428042975,\n",
              " '03anka': 12.415687428042975,\n",
              " '03darkangel': 12.415687428042975,\n",
              " '03fatkin': 12.415687428042975,\n",
              " '03katy27': 12.415687428042975,\n",
              " '04': 10.9116100312667,\n",
              " '0400': 12.01022231993481,\n",
              " '040114': 12.415687428042975,\n",
              " '040323790060': 12.415687428042975,\n",
              " '040998kseniya': 12.415687428042975,\n",
              " '041': 12.415687428042975,\n",
              " '042': 12.415687428042975,\n",
              " '0420': 12.415687428042975,\n",
              " '0427bab': 12.01022231993481,\n",
              " '0430': 12.415687428042975,\n",
              " '0454': 12.415687428042975,\n",
              " '04mandarina14': 12.415687428042975,\n",
              " '04rinarina': 12.415687428042975,\n",
              " '05': 10.33624588636314,\n",
              " '050': 12.415687428042975,\n",
              " '0500': 11.317075139374865,\n",
              " '051213': 12.415687428042975,\n",
              " '05122013ть': 12.415687428042975,\n",
              " '052': 12.415687428042975,\n",
              " '0534': 12.415687428042975,\n",
              " '0547': 12.415687428042975,\n",
              " '05496': 12.415687428042975,\n",
              " '0550228822': 12.415687428042975,\n",
              " '0555': 12.415687428042975,\n",
              " '057': 12.415687428042975,\n",
              " '05dascha': 12.01022231993481,\n",
              " '05elf': 12.415687428042975,\n",
              " '05irishka': 12.01022231993481,\n",
              " '05irishkaн': 12.415687428042975,\n",
              " '05martinaa': 12.415687428042975,\n",
              " '05nuta20': 12.415687428042975,\n",
              " '05oksana': 12.415687428042975,\n",
              " '06': 11.49939669616882,\n",
              " '0600': 11.029393066923085,\n",
              " '0610': 12.415687428042975,\n",
              " '061213': 12.415687428042975,\n",
              " '06122013': 12.01022231993481,\n",
              " '06122013н': 12.415687428042975,\n",
              " '0630alien': 12.415687428042975,\n",
              " '0630проснуться': 12.415687428042975,\n",
              " '0650': 12.415687428042975,\n",
              " '0675477472нуть': 12.415687428042975,\n",
              " '06anna': 12.415687428042975,\n",
              " '06e5h9c7pd08hqt': 12.415687428042975,\n",
              " '06nata06': 12.01022231993481,\n",
              " '06polly': 12.415687428042975,\n",
              " '06unique06': 12.415687428042975,\n",
              " '06мма': 12.415687428042975,\n",
              " '07': 11.162924459547607,\n",
              " '0700': 12.01022231993481,\n",
              " '0700576057': 12.415687428042975,\n",
              " '0708': 12.415687428042975,\n",
              " '0708alena': 12.415687428042975,\n",
              " '0710': 12.415687428042975,\n",
              " '071213': 11.317075139374865,\n",
              " '0720loona': 12.01022231993481,\n",
              " '0726': 12.415687428042975,\n",
              " '0730': 12.415687428042975,\n",
              " '0735': 12.415687428042975,\n",
              " '0745': 12.415687428042975,\n",
              " '0745am': 12.415687428042975,\n",
              " '0779211211': 12.415687428042975,\n",
              " '0779550550': 12.415687428042975,\n",
              " '07nikandrova': 12.415687428042975,\n",
              " '07ritka': 12.01022231993481,\n",
              " '07бугага': 12.415687428042975,\n",
              " '08': 11.162924459547607,\n",
              " '08071839': 12.415687428042975,\n",
              " '080910': 12.415687428042975,\n",
              " '0810': 12.415687428042975,\n",
              " '081109': 11.72254024748303,\n",
              " '081213': 12.415687428042975,\n",
              " '081999q': 12.415687428042975,\n",
              " '08nastia': 12.415687428042975,\n",
              " '08prin': 12.415687428042975,\n",
              " '08tasha': 12.415687428042975,\n",
              " '08утрасмен': 12.415687428042975,\n",
              " '09': 11.49939669616882,\n",
              " '0900': 12.01022231993481,\n",
              " '090061': 12.415687428042975,\n",
              " '09009': 12.415687428042975,\n",
              " '090114': 12.01022231993481,\n",
              " '090909': 12.415687428042975,\n",
              " '090mini': 12.01022231993481,\n",
              " '0910': 11.317075139374865,\n",
              " '0911121': 12.415687428042975,\n",
              " '0912': 12.415687428042975,\n",
              " '09122013': 12.415687428042975,\n",
              " '09122013г': 12.415687428042975,\n",
              " '0930': 12.415687428042975,\n",
              " '0933211н': 12.415687428042975,\n",
              " '094viktoriaнеужеть': 12.415687428042975,\n",
              " '095r': 12.01022231993481,\n",
              " '099022': 12.415687428042975,\n",
              " '0997375041k': 12.415687428042975,\n",
              " '0999': 12.415687428042975,\n",
              " '09biznet': 12.415687428042975,\n",
              " '09lerik73': 12.415687428042975,\n",
              " '09tanusha98': 12.01022231993481,\n",
              " '09valerii': 11.162924459547607,\n",
              " '09yanayana': 12.415687428042975,\n",
              " '09н': 12.415687428042975,\n",
              " '0alenochka0': 12.415687428042975,\n",
              " '0d3': 12.415687428042975,\n",
              " '0ddman0ut': 11.72254024748303,\n",
              " '0dhole': 12.415687428042975,\n",
              " '0efim0': 12.415687428042975,\n",
              " '0iseaudefeu': 12.415687428042975,\n",
              " '0keahch0b': 12.01022231993481,\n",
              " '0kisel0': 12.415687428042975,\n",
              " '0legg': 12.415687428042975,\n",
              " '0lexia0': 12.415687428042975,\n",
              " '0lilithg': 11.029393066923085,\n",
              " '0lt1': 12.415687428042975,\n",
              " '0lyaaa': 12.01022231993481,\n",
              " '0mariabelieber0': 12.415687428042975,\n",
              " '0meowmeow0': 12.415687428042975,\n",
              " '0o': 12.415687428042975,\n",
              " '0x20ть': 12.415687428042975,\n",
              " '0а90а09ап': 12.415687428042975,\n",
              " '0не': 12.415687428042975,\n",
              " '0о': 10.469777278987662,\n",
              " '0стареть': 12.415687428042975,\n",
              " '0хрен': 12.415687428042975,\n",
              " '0чан': 12.415687428042975,\n",
              " '10': 6.30866454030072,\n",
              " '100': 7.52158595020267,\n",
              " '1000': 8.296650253230503,\n",
              " '10000': 10.33624588636314,\n",
              " '100000': 11.317075139374865,\n",
              " '1000000': 11.49939669616882,\n",
              " '100000000': 12.01022231993481,\n",
              " '1000000000': 12.415687428042975,\n",
              " '10000000000000': 12.415687428042975,\n",
              " '10000000000000000': 12.415687428042975,\n",
              " '10000000000000000000': 12.415687428042975,\n",
              " '1000000000000000000000000000000000000000': 12.415687428042975,\n",
              " '100000строчго': 11.72254024748303,\n",
              " '100000тн': 12.415687428042975,\n",
              " '10000500000': 12.415687428042975,\n",
              " '10000ый': 12.415687428042975,\n",
              " '10001': 12.415687428042975,\n",
              " '10001400': 12.415687428042975,\n",
              " '10001500': 12.415687428042975,\n",
              " '10004440': 12.415687428042975,\n",
              " '1000ask': 12.415687428042975,\n",
              " '1000getbot': 12.415687428042975,\n",
              " '1000meereth': 12.01022231993481,\n",
              " '1000y1noches': 12.415687428042975,\n",
              " '1000го': 12.415687428042975,\n",
              " '1000ий': 12.415687428042975,\n",
              " '1000ийг': 12.415687428042975,\n",
              " '1000кнастроение': 12.415687428042975,\n",
              " '1000неделя': 12.415687428042975,\n",
              " '1000р': 11.49939669616882,\n",
              " '1000раз': 12.01022231993481,\n",
              " '1000рпотому': 12.415687428042975,\n",
              " '1000рубль': 12.415687428042975,\n",
              " '1000сечный': 12.415687428042975,\n",
              " '1000ый': 12.415687428042975,\n",
              " '1000яйцо': 12.415687428042975,\n",
              " '1001': 11.317075139374865,\n",
              " '100114': 12.415687428042975,\n",
              " '100150': 12.415687428042975,\n",
              " '1001citata': 12.415687428042975,\n",
              " '1001milena': 12.415687428042975,\n",
              " '1001suns': 12.415687428042975,\n",
              " '1002': 12.415687428042975,\n",
              " '100200': 12.415687428042975,\n",
              " '100250': 12.415687428042975,\n",
              " '1003mari': 12.415687428042975,\n",
              " '1004': 11.72254024748303,\n",
              " '1005': 12.415687428042975,\n",
              " '100500': 9.217014310492294,\n",
              " '100500nastya': 12.415687428042975,\n",
              " '100500неактивный': 12.415687428042975,\n",
              " '100500раз': 12.415687428042975,\n",
              " '100500этый': 12.415687428042975,\n",
              " '10060': 12.415687428042975,\n",
              " '1009': 12.415687428042975,\n",
              " '100dogforfrenk': 12.415687428042975,\n",
              " '100knig': 12.01022231993481,\n",
              " '100lokal': 11.162924459547607,\n",
              " '100lvl': 12.415687428042975,\n",
              " '100rm': 12.01022231993481,\n",
              " '100tic': 12.01022231993481,\n",
              " '100аяd': 12.415687428042975,\n",
              " '100гаровать': 10.543885251141383,\n",
              " '100гра': 12.415687428042975,\n",
              " '100дать': 12.415687428042975,\n",
              " '100ий': 12.415687428042975,\n",
              " '100к': 11.49939669616882,\n",
              " '100каково': 12.415687428042975,\n",
              " '100калория': 12.415687428042975,\n",
              " '100кг': 12.415687428042975,\n",
              " '100км': 12.415687428042975,\n",
              " '100летний': 12.415687428042975,\n",
              " '100летодиночестваполковникуниктонепишет': 12.415687428042975,\n",
              " '100мбитый': 12.01022231993481,\n",
              " '100метровка': 12.415687428042975,\n",
              " '100мочь': 12.415687428042975,\n",
              " '100н': 11.49939669616882,\n",
              " '100ный': 12.415687428042975,\n",
              " '100про': 12.415687428042975,\n",
              " '100процентный': 12.415687428042975,\n",
              " '100пудово000': 12.415687428042975,\n",
              " '100пудовый': 12.415687428042975,\n",
              " '100р': 11.49939669616882,\n",
              " '100теб': 12.415687428042975,\n",
              " '100тыспоздравлять': 12.415687428042975,\n",
              " '100ть': 12.01022231993481,\n",
              " '100хан': 12.01022231993481,\n",
              " '100что': 12.415687428042975,\n",
              " '101': 10.33624588636314,\n",
              " '1010': 11.49939669616882,\n",
              " '101010': 12.415687428042975,\n",
              " '1011': 11.162924459547607,\n",
              " '10110000': 12.415687428042975,\n",
              " '101103': 12.415687428042975,\n",
              " '10111010101110106': 12.415687428042975,\n",
              " '10114': 12.415687428042975,\n",
              " '10115': 12.415687428042975,\n",
              " '1011н': 12.415687428042975,\n",
              " '1012': 10.62392795881492,\n",
              " '101215': 12.415687428042975,\n",
              " '10122013': 12.415687428042975,\n",
              " '10122013г': 12.415687428042975,\n",
              " '1015': 10.806249515608874,\n",
              " '1018': 12.415687428042975,\n",
              " '101н': 12.415687428042975,\n",
              " '102': 10.71093933580455,\n",
              " '1020': 11.317075139374865,\n",
              " '1020н': 12.415687428042975,\n",
              " '1025запомниливот': 12.415687428042975,\n",
              " '103': 11.49939669616882,\n",
              " '1030': 11.162924459547607,\n",
              " '103683': 12.415687428042975,\n",
              " '1039': 12.415687428042975,\n",
              " '103dreams': 12.415687428042975,\n",
              " '104': 12.415687428042975,\n",
              " '1040': 12.415687428042975,\n",
              " '1041': 12.415687428042975,\n",
              " '1043094059034': 12.415687428042975,\n",
              " '1045': 12.415687428042975,\n",
              " '10483': 12.415687428042975,\n",
              " '104saha': 12.415687428042975,\n",
              " '105': 10.62392795881492,\n",
              " '1050': 12.415687428042975,\n",
              " '1051': 12.415687428042975,\n",
              " '106': 11.72254024748303,\n",
              " '1064': 12.415687428042975,\n",
              " '106тысяча': 12.415687428042975,\n",
              " '107': 11.317075139374865,\n",
              " '1070': 11.317075139374865,\n",
              " '1070р': 12.415687428042975,\n",
              " '108': 11.162924459547607,\n",
              " '1080': 12.415687428042975,\n",
              " '1080p': 11.72254024748303,\n",
              " '1080р': 12.415687428042975,\n",
              " '109': 11.72254024748303,\n",
              " '10905112': 12.415687428042975,\n",
              " '1091': 12.415687428042975,\n",
              " '1092': 12.415687428042975,\n",
              " '109855121н': 12.01022231993481,\n",
              " '10alessa': 12.415687428042975,\n",
              " '10btl': 12.415687428042975,\n",
              " '10d': 12.01022231993481,\n",
              " '10fcz': 11.49939669616882,\n",
              " '10fczнелучш': 12.415687428042975,\n",
              " '10frankiero97': 11.49939669616882,\n",
              " '10k': 12.01022231993481,\n",
              " '10names': 11.317075139374865,\n",
              " '10nykн': 11.317075139374865,\n",
              " '10okuneva': 12.415687428042975,\n",
              " '10stas': 12.415687428042975,\n",
              " '10tic': 12.415687428042975,\n",
              " '10valerasenko': 12.415687428042975,\n",
              " '10vampir20': 12.415687428042975,\n",
              " '10а': 10.806249515608874,\n",
              " '10ар': 12.415687428042975,\n",
              " '10б': 11.49939669616882,\n",
              " '10бальный': 12.415687428042975,\n",
              " '10ван': 12.415687428042975,\n",
              " '10гб': 12.415687428042975,\n",
              " '10го': 11.029393066923085,\n",
              " '10год': 10.62392795881492,\n",
              " '10гоибо': 12.415687428042975,\n",
              " '10д': 12.415687428042975,\n",
              " '10декабрь': 12.415687428042975,\n",
              " '10е': 11.162924459547607,\n",
              " '10зима': 12.415687428042975,\n",
              " '10и': 11.72254024748303,\n",
              " '10ий': 11.49939669616882,\n",
              " '10й': 11.162924459547607,\n",
              " '10к': 11.49939669616882,\n",
              " '10ка': 11.317075139374865,\n",
              " '10кбсон': 12.415687428042975,\n",
              " '10кг': 12.415687428042975,\n",
              " '10клый': 12.415687428042975,\n",
              " '10копеечный': 12.415687428042975,\n",
              " '10летие': 12.415687428042975,\n",
              " '10леткак': 12.415687428042975,\n",
              " '10м': 12.415687428042975,\n",
              " '10месяц': 12.415687428042975,\n",
              " '10мина': 11.72254024748303,\n",
              " '10минута': 12.01022231993481,\n",
              " '10минутный': 12.415687428042975,\n",
              " '10мма': 12.415687428042975,\n",
              " '10н': 11.162924459547607,\n",
              " '10надо': 12.415687428042975,\n",
              " '10нана': 12.415687428042975,\n",
              " '10неделя': 12.415687428042975,\n",
              " '10нееть': 12.415687428042975,\n",
              " '10некогда': 12.415687428042975,\n",
              " '10несправедливый': 12.415687428042975,\n",
              " '10ник': 12.415687428042975,\n",
              " '10нормально': 12.415687428042975,\n",
              " '10ный': 12.415687428042975,\n",
              " '10окать': 12.415687428042975,\n",
              " '10он': 12.01022231993481,\n",
              " '10онить': 12.415687428042975,\n",
              " '10пальцевый': 12.01022231993481,\n",
              " '10р': 11.72254024748303,\n",
              " '10рт': 12.415687428042975,\n",
              " '10с': 12.01022231993481,\n",
              " '10секундный': 12.415687428042975,\n",
              " '10сентябрь': 12.415687428042975,\n",
              " '10сказаличто': 12.415687428042975,\n",
              " '10спаситеэтота': 12.415687428042975,\n",
              " '10так': 12.415687428042975,\n",
              " '10тидневный': 12.415687428042975,\n",
              " '10тилетие': 12.415687428042975,\n",
              " '10тысяча': 11.72254024748303,\n",
              " '10ть': 10.71093933580455,\n",
              " '10урааа': 12.415687428042975,\n",
              " '10февраляскорь': 12.415687428042975,\n",
              " '10фичь': 12.415687428042975,\n",
              " '10х': 11.72254024748303,\n",
              " '10хна': 12.415687428042975,\n",
              " '10чело': 12.415687428042975,\n",
              " '10чкузад': 12.415687428042975,\n",
              " '10ый': 11.72254024748303,\n",
              " '10этый': 12.415687428042975,\n",
              " '10я': 12.415687428042975,\n",
              " '11': 7.375493331705174,\n",
              " '110': 10.71093933580455,\n",
              " '1100': 10.40078440750071,\n",
              " '11000': 12.415687428042975,\n",
              " '110000': 12.415687428042975,\n",
              " '1100000': 12.415687428042975,\n",
              " '110114': 12.415687428042975,\n",
              " '1104': 12.415687428042975,\n",
              " '110620121': 12.01022231993481,\n",
              " '110hazard': 12.415687428042975,\n",
              " '110kv': 12.415687428042975,\n",
              " '110ть': 12.415687428042975,\n",
              " '111': 11.317075139374865,\n",
              " '11100001110101101так': 12.415687428042975,\n",
              " '11107801': 12.415687428042975,\n",
              " '1111': 10.806249515608874,\n",
              " '111104': 12.415687428042975,\n",
              " '111111': 11.162924459547607,\n",
              " '11111111': 12.415687428042975,\n",
              " '1111999tanya': 12.415687428042975,\n",
              " '1112': 11.317075139374865,\n",
              " '111211': 12.415687428042975,\n",
              " '111213': 7.825630879864931,\n",
              " '1112131415': 10.40078440750071,\n",
              " '111213141516': 11.72254024748303,\n",
              " '1112131415н': 11.72254024748303,\n",
              " '1112131415пропустить': 12.415687428042975,\n",
              " '111213г': 12.415687428042975,\n",
              " '111213ить': 12.415687428042975,\n",
              " '111213н': 12.415687428042975,\n",
              " '111213только': 12.415687428042975,\n",
              " '111214': 12.415687428042975,\n",
              " '11122006': 12.415687428042975,\n",
              " '11122013': 11.162924459547607,\n",
              " '111220131415': 12.415687428042975,\n",
              " '11122013г': 12.415687428042975,\n",
              " '1112стоимость800': 12.415687428042975,\n",
              " '111313': 12.415687428042975,\n",
              " '111391213': 12.415687428042975,\n",
              " '1114': 12.415687428042975,\n",
              " '1115': 12.415687428042975,\n",
              " '111lovelyjoker': 12.415687428042975,\n",
              " '112': 11.029393066923085,\n",
              " '1120': 12.415687428042975,\n",
              " '1122': 12.415687428042975,\n",
              " '1125eo': 12.01022231993481,\n",
              " '112by': 10.9116100312667,\n",
              " '112byн': 12.01022231993481,\n",
              " '112minsk': 12.415687428042975,\n",
              " '113': 11.72254024748303,\n",
              " '1130': 10.62392795881492,\n",
              " '1138': 12.415687428042975,\n",
              " '113кт': 12.415687428042975,\n",
              " '114': 12.415687428042975,\n",
              " '1140': 12.415687428042975,\n",
              " '1145': 12.415687428042975,\n",
              " '114ть': 12.01022231993481,\n",
              " '115': 11.72254024748303,\n",
              " '1150': 12.415687428042975,\n",
              " '1150летие': 12.415687428042975,\n",
              " '1151': 12.415687428042975,\n",
              " '1152': 12.01022231993481,\n",
              " '11533': 12.01022231993481,\n",
              " '1155': 12.415687428042975,\n",
              " '1156': 12.415687428042975,\n",
              " '115step': 12.01022231993481,\n",
              " '116': 12.01022231993481,\n",
              " '116117118': 12.01022231993481,\n",
              " '1167668': 12.415687428042975,\n",
              " '1169': 12.415687428042975,\n",
              " '116км': 12.415687428042975,\n",
              " '117': 12.01022231993481,\n",
              " '118': 11.72254024748303,\n",
              " '1180': 12.415687428042975,\n",
              " '119972ть': 12.415687428042975,\n",
              " '119d': 12.415687428042975,\n",
              " '119ru': 12.415687428042975,\n",
              " '119непрочитанный': 12.415687428042975,\n",
              " '11amtheatre': 12.01022231993481,\n",
              " '11bandy': 12.415687428042975,\n",
              " '11cl130ly': 12.01022231993481,\n",
              " '11d': 12.415687428042975,\n",
              " '11danil03': 12.415687428042975,\n",
              " '11dd': 12.415687428042975,\n",
              " '11doctorarecool': 11.317075139374865,\n",
              " '11fcz': 11.029393066923085,\n",
              " '11incheshero': 11.72254024748303,\n",
              " '11jup': 11.49939669616882,\n",
              " '11knata': 12.415687428042975,\n",
              " '11kristi96': 12.415687428042975,\n",
              " '11lovatic11': 12.415687428042975,\n",
              " '11n': 12.415687428042975,\n",
              " '11names': 12.01022231993481,\n",
              " '11pm': 12.415687428042975,\n",
              " '11potterfan': 12.01022231993481,\n",
              " '11siv': 12.415687428042975,\n",
              " '11thsherlock': 12.01022231993481,\n",
              " '11thz': 11.49939669616882,\n",
              " '11vika11vika11': 12.415687428042975,\n",
              " '11а': 10.9116100312667,\n",
              " '11б': 12.415687428042975,\n",
              " '11в': 12.01022231993481,\n",
              " '11вота': 12.415687428042975,\n",
              " '11встать': 12.415687428042975,\n",
              " '11го': 11.162924459547607,\n",
              " '11год': 12.415687428042975,\n",
              " '11день': 12.415687428042975,\n",
              " '11е': 12.415687428042975,\n",
              " '11ий': 12.01022231993481,\n",
              " '11интернет': 12.415687428042975,\n",
              " '11июня2013': 12.415687428042975,\n",
              " '11й': 12.415687428042975,\n",
              " '11й11а8й7ть': 12.415687428042975,\n",
              " '11к': 11.49939669616882,\n",
              " '11класс': 12.01022231993481,\n",
              " '11классник': 12.415687428042975,\n",
              " '11классниковить': 12.415687428042975,\n",
              " '11классница': 12.415687428042975,\n",
              " '11классово': 12.415687428042975,\n",
              " '11летний': 11.72254024748303,\n",
              " '11н': 11.029393066923085,\n",
              " '11ник': 12.415687428042975,\n",
              " '11огон': 12.415687428042975,\n",
              " '11позавтракать': 12.415687428042975,\n",
              " '11потому': 12.415687428042975,\n",
              " '11просыпаться': 12.415687428042975,\n",
              " '11тый': 12.415687428042975,\n",
              " '11ть': 11.49939669616882,\n",
              " '11х': 12.01022231993481,\n",
              " '11часовой': 12.415687428042975,\n",
              " '11ый': 12.01022231993481,\n",
              " '11ю': 11.162924459547607,\n",
              " '11я': 12.415687428042975,\n",
              " '11январь': 12.415687428042975,\n",
              " '12': 7.203472760548349,\n",
              " '120': 10.40078440750071,\n",
              " '1200': 9.930780778254974,\n",
              " '12000': 12.415687428042975,\n",
              " '120000': 12.415687428042975,\n",
              " '1200000': 12.415687428042975,\n",
              " '12001300': 12.415687428042975,\n",
              " '1200н': 12.415687428042975,\n",
              " '12032010': 12.415687428042975,\n",
              " '1207413': 12.415687428042975,\n",
              " '12080': 11.49939669616882,\n",
              " '1209': 12.415687428042975,\n",
              " '12092013': 12.415687428042975,\n",
              " '12093843627109348': 12.415687428042975,\n",
              " '120видимо': 12.415687428042975,\n",
              " '120гб': 12.415687428042975,\n",
              " '120к': 12.415687428042975,\n",
              " '120летний': 12.01022231993481,\n",
              " '120р': 12.415687428042975,\n",
              " '120х65х100': 12.415687428042975,\n",
              " '121': 11.72254024748303,\n",
              " '121113': 12.415687428042975,\n",
              " '1212': 11.317075139374865,\n",
              " '121212': 11.162924459547607,\n",
              " '121213': 11.317075139374865,\n",
              " '1212менить': 12.415687428042975,\n",
              " '1213': 10.469777278987662,\n",
              " '121312': 12.01022231993481,\n",
              " '121369': 12.01022231993481,\n",
              " '1215': 11.49939669616882,\n",
              " '122': 12.01022231993481,\n",
              " '1220': 12.01022231993481,\n",
              " '1220встать': 12.415687428042975,\n",
              " '1225': 12.415687428042975,\n",
              " '1225стоялый': 12.415687428042975,\n",
              " '122647аняуже': 12.415687428042975,\n",
              " '123': 12.01022231993481,\n",
              " '1230': 10.806249515608874,\n",
              " '12311': 12.415687428042975,\n",
              " '1234': 12.415687428042975,\n",
              " '12345': 11.72254024748303,\n",
              " '123456776660035': 12.415687428042975,\n",
              " '12345678': 12.415687428042975,\n",
              " '1234567890mavra': 12.415687428042975,\n",
              " '1234albina': 12.415687428042975,\n",
              " '1234неделя': 12.01022231993481,\n",
              " '123658945666x': 11.72254024748303,\n",
              " '1239': 12.415687428042975,\n",
              " '123findme': 12.415687428042975,\n",
              " '123ulya': 11.72254024748303,\n",
              " '123ть': 12.415687428042975,\n",
              " '123час': 12.415687428042975,\n",
              " '124': 12.415687428042975,\n",
              " '12433': 12.415687428042975,\n",
              " '1245': 12.01022231993481,\n",
              " '1245mikey': 11.49939669616882,\n",
              " '1246guln': 12.415687428042975,\n",
              " '1248': 12.415687428042975,\n",
              " '125': 11.162924459547607,\n",
              " '1250': 12.415687428042975,\n",
              " '12500': 12.415687428042975,\n",
              " '1250лал': 12.415687428042975,\n",
              " '1250хма': 12.415687428042975,\n",
              " '125гра': 11.72254024748303,\n",
              " '125кг': 12.415687428042975,\n",
              " '1267': 12.415687428042975,\n",
              " '127': 12.01022231993481,\n",
              " '128': 10.543885251141383,\n",
              " '1280x800': 12.415687428042975,\n",
              " '1286160': 12.415687428042975,\n",
              " '128gb': 12.415687428042975,\n",
              " '128кбитный': 12.415687428042975,\n",
              " '128кбрсый': 12.415687428042975,\n",
              " '128надеяться': 12.415687428042975,\n",
              " '129': 12.415687428042975,\n",
              " '12900': 12.415687428042975,\n",
              " '12995241': 12.415687428042975,\n",
              " '12999': 12.415687428042975,\n",
              " '12anastasiya34': 12.415687428042975,\n",
              " '12belaya': 12.415687428042975,\n",
              " '12bota25': 12.415687428042975,\n",
              " '12dianka06': 12.415687428042975,\n",
              " '12g': 12.415687428042975,\n",
              " '12lavok': 11.317075139374865,\n",
              " '12lilya': 12.01022231993481,\n",
              " '12nastya97': 12.415687428042975,\n",
              " '12ozmн': 12.415687428042975,\n",
              " '12pavla': 12.415687428042975,\n",
              " '12shpak': 12.01022231993481,\n",
              " '12tanyusha': 12.415687428042975,\n",
              " '12thshadow': 12.415687428042975,\n",
              " '12а': 11.72254024748303,\n",
              " '12весь': 12.415687428042975,\n",
              " '12гадажа': 12.415687428042975,\n",
              " '12го': 11.49939669616882,\n",
              " '12год': 12.415687428042975,\n",
              " '12давать': 12.415687428042975,\n",
              " '12дек': 12.415687428042975,\n",
              " '12днейподарк': 12.415687428042975,\n",
              " '12е': 12.415687428042975,\n",
              " '12и': 12.415687428042975,\n",
              " '12ий': 12.415687428042975,\n",
              " '12й': 11.317075139374865,\n",
              " '12к': 11.72254024748303,\n",
              " '12летний': 11.317075139374865,\n",
              " '12м': 12.01022231993481,\n",
              " '12мама': 12.415687428042975,\n",
              " '12н': 10.9116100312667,\n",
              " '12наполи9дортмудт9': 12.415687428042975,\n",
              " '12неделя': 12.415687428042975,\n",
              " '12неоткуда': 12.415687428042975,\n",
              " '12нуть': 12.415687428042975,\n",
              " '12почувствовать': 12.415687428042975,\n",
              " '12проснуться': 12.415687428042975,\n",
              " '12р': 12.415687428042975,\n",
              " '12так': 12.415687428042975,\n",
              " '12тина': 12.415687428042975,\n",
              " '12тысква': 12.415687428042975,\n",
              " '12ть': 10.806249515608874,\n",
              " '12у': 12.01022231993481,\n",
              " '12шка': 12.415687428042975,\n",
              " '12ю': 12.01022231993481,\n",
              " '12я': 11.49939669616882,\n",
              " '13': 7.510412649604545,\n",
              " '130': 11.162924459547607,\n",
              " '1300': 10.469777278987662,\n",
              " '13000': 12.01022231993481,\n",
              " '1300р': 12.415687428042975,\n",
              " '13012014': 12.415687428042975,\n",
              " '130200': 12.415687428042975,\n",
              " '1302natali': 12.415687428042975,\n",
              " '1305': 12.415687428042975,\n",
              " '1309': 12.415687428042975,\n",
              " '130грн': 12.01022231993481,\n",
              " '130н': 12.415687428042975,\n",
              " '131': 12.01022231993481,\n",
              " '1310': 12.01022231993481,\n",
              " '1312': 11.162924459547607,\n",
              " '131207': 12.415687428042975,\n",
              " '131210': 12.415687428042975,\n",
              " '131211': 12.415687428042975,\n",
              " '131213': 10.218462850706755,\n",
              " '1312131213': 12.415687428042975,\n",
              " '1312kristina': 12.01022231993481,\n",
              " '1313': 12.415687428042975,\n",
              " '131313': 12.415687428042975,\n",
              " '13132013': 12.415687428042975,\n",
              " '131365': 12.415687428042975,\n",
              " '1314': 11.72254024748303,\n",
              " '1315': 11.162924459547607,\n",
              " '131998m': 12.415687428042975,\n",
              " '131omelia': 12.01022231993481,\n",
              " '132': 11.72254024748303,\n",
              " '1320': 12.415687428042975,\n",
              " '1320р': 12.415687428042975,\n",
              " '1325': 12.415687428042975,\n",
              " '132random': 12.415687428042975,\n",
              " '1330': 11.029393066923085,\n",
              " '1331ть': 12.415687428042975,\n",
              " '1340': 12.01022231993481,\n",
              " '1343': 12.415687428042975,\n",
              " '1347': 12.01022231993481,\n",
              " '135': 12.415687428042975,\n",
              " '1350': 10.9116100312667,\n",
              " '1355': 12.415687428042975,\n",
              " '13579anastasia': 12.415687428042975,\n",
              " '136': 12.01022231993481,\n",
              " '136th': 12.01022231993481,\n",
              " '137': 12.01022231993481,\n",
              " '1370': 12.415687428042975,\n",
              " '1374096': 12.415687428042975,\n",
              " '137так': 12.415687428042975,\n",
              " '138000000': 12.415687428042975,\n",
              " '1386804': 12.415687428042975,\n",
              " '1399597': 12.415687428042975,\n",
              " '139ть': 12.415687428042975,\n",
              " '13aeeedasha': 12.415687428042975,\n",
              " '13andybiersack': 12.415687428042975,\n",
              " '13blackpearls': 12.01022231993481,\n",
              " '13blackrose': 12.415687428042975,\n",
              " '13d': 12.415687428042975,\n",
              " '13elko': 12.01022231993481,\n",
              " '13goncharova': 12.415687428042975,\n",
              " '13grinch': 12.415687428042975,\n",
              " '13iv13': 11.49939669616882,\n",
              " '13komin': 12.415687428042975,\n",
              " '13lalalend': 12.01022231993481,\n",
              " '13lialia': 12.415687428042975,\n",
              " '13samed13': 12.415687428042975,\n",
              " '13shiba': 12.415687428042975,\n",
              " '13tcz': 12.415687428042975,\n",
              " '13timelord': 12.01022231993481,\n",
              " '13timelordнееееетэтослишко': 12.415687428042975,\n",
              " '13tribut': 12.415687428042975,\n",
              " '13tsvetcovaaa': 12.415687428042975,\n",
              " '13twiggy13': 12.415687428042975,\n",
              " '13viva': 10.218462850706755,\n",
              " '13ºс': 12.415687428042975,\n",
              " '13а': 11.72254024748303,\n",
              " '13божеахахха': 12.415687428042975,\n",
              " '13всема': 12.415687428042975,\n",
              " '13го': 10.164395629436479,\n",
              " '13гон': 12.415687428042975,\n",
              " '13дюйм': 12.415687428042975,\n",
              " '13е': 10.064312170879496,\n",
              " '13евота': 11.49939669616882,\n",
              " '13жестокоуй': 12.415687428042975,\n",
              " '13заранее': 12.415687428042975,\n",
              " '13и': 12.01022231993481,\n",
              " '13ий': 10.164395629436479,\n",
              " '13й': 12.415687428042975,\n",
              " '13к': 11.029393066923085,\n",
              " '13классно': 12.415687428042975,\n",
              " '13летний': 11.72254024748303,\n",
              " '13май': 12.415687428042975,\n",
              " '13минута': 12.415687428042975,\n",
              " '13мна': 12.415687428042975,\n",
              " '13н': 12.01022231993481,\n",
              " '13например': 12.415687428042975,\n",
              " '13орать': 12.415687428042975,\n",
              " '13от': 12.415687428042975,\n",
              " '13пятница': 12.01022231993481,\n",
              " '13советовать': 12.415687428042975,\n",
              " '13так': 12.415687428042975,\n",
              " '13того': 12.415687428042975,\n",
              " '13тын': 12.415687428042975,\n",
              " '13ть': 12.01022231993481,\n",
              " '13у': 12.01022231993481,\n",
              " '13уа': 12.415687428042975,\n",
              " '13финал': 12.415687428042975,\n",
              " '13фунт': 12.415687428042975,\n",
              " '13что': 12.415687428042975,\n",
              " '14': 7.984870629199661,\n",
              " '140': 9.471248448876533,\n",
              " '1400': 9.741538778616446,\n",
              " '14000': 11.72254024748303,\n",
              " '14000072': 12.415687428042975,\n",
              " '1400значить': 12.415687428042975,\n",
              " '1400либо': 12.415687428042975,\n",
              " '1400ть': 12.415687428042975,\n",
              " '1401': 12.415687428042975,\n",
              " '1402н': 12.415687428042975,\n",
              " '140300': 12.415687428042975,\n",
              " '1407': 12.415687428042975,\n",
              " '140н': 12.415687428042975,\n",
              " '141': 11.72254024748303,\n",
              " '1410': 12.415687428042975,\n",
              " '14101973': 12.415687428042975,\n",
              " '141113': 12.415687428042975,\n",
              " '14112012м': 12.415687428042975,\n",
              " '1412': 11.49939669616882,\n",
              " '14122013г': 12.415687428042975,\n",
              " '1413': 12.415687428042975,\n",
              " '1414': 12.01022231993481,\n",
              " '1415': 8.153007551001659,\n",
              " '141516': 10.218462850706755,\n",
              " '141516ный': 12.415687428042975,\n",
              " '1415d': 12.415687428042975,\n",
              " '1415загадать': 12.415687428042975,\n",
              " '1415любитель': 12.415687428042975,\n",
              " '1415м': 12.415687428042975,\n",
              " '1415мма': 12.415687428042975,\n",
              " '1415мочь': 12.01022231993481,\n",
              " '1415н': 11.029393066923085,\n",
              " '1415наш': 12.415687428042975,\n",
              " '1415ребятан': 12.415687428042975,\n",
              " '1415сейчас': 12.415687428042975,\n",
              " '1415ть': 12.415687428042975,\n",
              " '1415чудо': 12.415687428042975,\n",
              " '1416': 12.01022231993481,\n",
              " '1417': 12.01022231993481,\n",
              " '142': 12.415687428042975,\n",
              " '1420': 12.01022231993481,\n",
              " '1420н': 12.415687428042975,\n",
              " '1421': 11.317075139374865,\n",
              " '1422': 12.415687428042975,\n",
              " '1424arina': 12.415687428042975,\n",
              " '1429': 12.415687428042975,\n",
              " '143': 12.415687428042975,\n",
              " '1430': 10.806249515608874,\n",
              " '1435093angelina': 12.415687428042975,\n",
              " '1437': 12.01022231993481,\n",
              " '1438llai0b12ww6': 12.01022231993481,\n",
              " '1439': 12.415687428042975,\n",
              " '144': 12.415687428042975,\n",
              " '1448ь': 12.415687428042975,\n",
              " '145': 11.162924459547607,\n",
              " '1450': 12.415687428042975,\n",
              " '1455': 12.415687428042975,\n",
              " '146': 11.029393066923085,\n",
              " '14606': 12.415687428042975,\n",
              " '146ть': 12.415687428042975,\n",
              " '148': 12.01022231993481,\n",
              " '1488': 11.49939669616882,\n",
              " '1488fulljazz': 12.415687428042975,\n",
              " '1488что': 12.415687428042975,\n",
              " '1490': 12.415687428042975,\n",
              " '1499': 12.415687428042975,\n",
              " '14aliya': 12.415687428042975,\n",
              " '14bcemcocatb88': 12.415687428042975,\n",
              " '14dve8': 12.415687428042975,\n",
              " '14ermakova': 12.01022231993481,\n",
              " '14ksyusha': 12.415687428042975,\n",
              " '14olya14': 12.415687428042975,\n",
              " '14psycho88': 12.415687428042975,\n",
              " '14versus': 12.415687428042975,\n",
              " '14wmz': 12.415687428042975,\n",
              " '14блятьвыносить': 12.415687428042975,\n",
              " '14го': 12.01022231993481,\n",
              " '14гон': 12.415687428042975,\n",
              " '14декабрь': 12.415687428042975,\n",
              " '14е': 12.01022231993481,\n",
              " '14ий': 11.49939669616882,\n",
              " '14й': 12.01022231993481,\n",
              " '14к': 12.01022231993481,\n",
              " '14кехороший': 12.415687428042975,\n",
              " '14лнтний': 12.415687428042975,\n",
              " '14м': 12.415687428042975,\n",
              " '14н': 12.415687428042975,\n",
              " '14оеехать': 11.162924459547607,\n",
              " '14ома': 12.415687428042975,\n",
              " '14потом': 12.415687428042975,\n",
              " '14потому': 12.415687428042975,\n",
              " '14р': 12.415687428042975,\n",
              " '14сехун': 12.415687428042975,\n",
              " '14смотреть': 12.415687428042975,\n",
              " '14ти': 12.415687428042975,\n",
              " '14тый': 12.415687428042975,\n",
              " '14ть': 12.01022231993481,\n",
              " '14этый': 12.415687428042975,\n",
              " '14үүлэхнээ': 12.415687428042975,\n",
              " '15': 7.004041376187935,\n",
              " '150': 9.52531567014681,\n",
              " '1500': 10.017792155244605,\n",
              " '15000': 11.029393066923085,\n",
              " '15001': 12.415687428042975,\n",
              " '1500спать': 12.415687428042975,\n",
              " '1500тг': 12.415687428042975,\n",
              " '1501': 12.415687428042975,\n",
              " '150114': 12.415687428042975,\n",
              " '15012011': 12.415687428042975,\n",
              " '150150': 12.415687428042975,\n",
              " '1501нуть': 12.415687428042975,\n",
              " '1502': 12.415687428042975,\n",
              " '1503': 12.415687428042975,\n",
              " '150lf': 12.415687428042975,\n",
              " '150грн': 12.415687428042975,\n",
              " '150к': 11.72254024748303,\n",
              " '150км': 11.49939669616882,\n",
              " '150кмч': 12.415687428042975,\n",
              " '150неделя': 12.415687428042975,\n",
              " '150страницхотеть': 12.415687428042975,\n",
              " '151': 11.72254024748303,\n",
              " '1510': 12.415687428042975,\n",
              " '15102013': 12.01022231993481,\n",
              " '1512': 12.01022231993481,\n",
              " '151213': 12.415687428042975,\n",
              " '15122013': 12.415687428042975,\n",
              " '1516': 11.49939669616882,\n",
              " '1516ть': 12.415687428042975,\n",
              " '1518': 12.415687428042975,\n",
              " '151820д': 12.415687428042975,\n",
              " '15190119': 12.415687428042975,\n",
              " '152': 11.162924459547607,\n",
              " '1520': 11.029393066923085,\n",
              " '153': 12.01022231993481,\n",
              " '1530': 11.162924459547607,\n",
              " '1530начинаться': 12.415687428042975,\n",
              " '1538': 12.415687428042975,\n",
              " '1540': 12.415687428042975,\n",
              " '1548': 12.415687428042975,\n",
              " '155': 11.317075139374865,\n",
              " '1554': 12.415687428042975,\n",
              " '155н': 12.415687428042975,\n",
              " '156': 12.415687428042975,\n",
              " '15600000': 12.415687428042975,\n",
              " '1562': 12.415687428042975,\n",
              " '15639741': 12.415687428042975,\n",
              " '1568': 12.415687428042975,\n",
              " '157': 11.72254024748303,\n",
              " '1576р': 12.415687428042975,\n",
              " '158': 12.01022231993481,\n",
              " '158молчание': 12.415687428042975,\n",
              " '159': 11.317075139374865,\n",
              " '15963090581': 12.415687428042975,\n",
              " '15alena': 12.415687428042975,\n",
              " '15browneyedнееий': 12.415687428042975,\n",
              " '15chernika': 12.415687428042975,\n",
              " '15iriska': 12.01022231993481,\n",
              " '15jahrealt': 12.415687428042975,\n",
              " '15jane': 12.415687428042975,\n",
              " '15knyaginya': 12.415687428042975,\n",
              " '15kristinka': 12.415687428042975,\n",
              " '15kuzmin8310': 12.415687428042975,\n",
              " '15mur22': 12.415687428042975,\n",
              " '15polya': 12.415687428042975,\n",
              " '15sophie11': 12.415687428042975,\n",
              " '15zenit': 12.415687428042975,\n",
              " '15а': 12.01022231993481,\n",
              " '15гб': 12.415687428042975,\n",
              " '15го': 12.01022231993481,\n",
              " '15год': 12.01022231993481,\n",
              " '15годан': 12.415687428042975,\n",
              " '15годичный': 12.415687428042975,\n",
              " '15дажена': 12.415687428042975,\n",
              " '15е': 12.01022231993481,\n",
              " '15жить': 12.415687428042975,\n",
              " '15и': 12.415687428042975,\n",
              " '15ий': 12.415687428042975,\n",
              " '15к': 11.72254024748303,\n",
              " '15ка': 12.415687428042975,\n",
              " '15кг': 11.72254024748303,\n",
              " '15летие': 12.415687428042975,\n",
              " ...}"
            ]
          },
          "metadata": {
            "tags": []
          },
          "execution_count": 69
        }
      ],
      "metadata": {
        "id": "b_iYzXlRMgZI",
        "outputId": "5be3c323-17be-404f-b1e4-1b8869ea8638"
      }
    },
    {
      "cell_type": "code",
      "execution_count": null,
      "source": [
        "rt = vect_idf.vocabulary_.items()"
      ],
      "outputs": [],
      "metadata": {
        "id": "cfgUTb-7MgZJ"
      }
    },
    {
      "cell_type": "code",
      "execution_count": null,
      "source": [
        "tfidf['alisachachka']"
      ],
      "outputs": [
        {
          "output_type": "execute_result",
          "data": {
            "text/plain": [
              "12.415687428042975"
            ]
          },
          "metadata": {
            "tags": []
          },
          "execution_count": 46
        }
      ],
      "metadata": {
        "id": "t5USS23aMgZJ",
        "outputId": "d6df588c-29f6-4a44-8ebf-4668c727349b"
      }
    },
    {
      "cell_type": "code",
      "execution_count": null,
      "source": [
        "vect_idf.idf_[vect_idf.vocabulary_['alisachachka']]"
      ],
      "outputs": [
        {
          "output_type": "execute_result",
          "data": {
            "text/plain": [
              "12.415687428042975"
            ]
          },
          "metadata": {
            "tags": []
          },
          "execution_count": 47
        }
      ],
      "metadata": {
        "id": "XSfvMxa1MgZJ",
        "outputId": "31695a88-db30-4b9a-f210-e2c1727350fb"
      }
    },
    {
      "cell_type": "code",
      "execution_count": null,
      "source": [
        "len(tfidf)"
      ],
      "outputs": [
        {
          "output_type": "execute_result",
          "data": {
            "text/plain": [
              "256172"
            ]
          },
          "metadata": {
            "tags": []
          },
          "execution_count": 48
        }
      ],
      "metadata": {
        "id": "qGZ8LJ24MgZJ",
        "outputId": "270d4956-2740-41a7-9f8e-a7ad6935e6b8"
      }
    },
    {
      "cell_type": "code",
      "execution_count": null,
      "source": [
        "from collections import defaultdict"
      ],
      "outputs": [],
      "metadata": {
        "id": "6wU76Ps1MgZK"
      }
    },
    {
      "cell_type": "code",
      "execution_count": null,
      "source": [
        "max_idf = max(vect_idf.idf_)\n",
        "\n",
        "word2weight = defaultdict(\n",
        "    lambda: max_idf,\n",
        "    [(w, vect_idf.idf_[i]) for w, i in vect_idf.vocabulary_.items()])"
      ],
      "outputs": [],
      "metadata": {
        "id": "KMYzQh8uMgZK"
      }
    },
    {
      "cell_type": "code",
      "execution_count": null,
      "source": [
        "def get_vect_mean(txt):\n",
        "    vector_w2v = np.zeros(100)\n",
        "    n_w2v = 0\n",
        "    for wrd in txt.split():\n",
        "        if wrd in modelW2V:\n",
        "            vector_w2v += modelW2V[wrd]\n",
        "            n_w2v += 1\n",
        "    if n_w2v > 0:\n",
        "        vector_w2v = vector_w2v / n_w2v\n",
        "    return vector_w2v\n",
        "\n",
        "def get_vect_idf(txt):\n",
        "    vector_w2v = np.zeros(100)\n",
        "    n_w2v = 0\n",
        "    for wrd in txt.split():\n",
        "        if wrd in modelW2V:\n",
        "            iddf_ = tfidf.get(wrd, 1.)\n",
        "            vector_w2v += modelW2V[wrd]*iddf_\n",
        "            n_w2v += iddf_\n",
        "    if n_w2v > 0:\n",
        "        vector_w2v = vector_w2v / n_w2v\n",
        "    return vector_w2v"
      ],
      "outputs": [],
      "metadata": {
        "id": "8j7mm8-QMgZK"
      }
    },
    {
      "cell_type": "code",
      "execution_count": null,
      "source": [
        "from tqdm import tqdm_notebook"
      ],
      "outputs": [],
      "metadata": {
        "id": "7CAbtlc5MgZL"
      }
    },
    {
      "cell_type": "code",
      "execution_count": null,
      "source": [
        "arr_vect = []\n",
        "for txt in tqdm_notebook(df_train['text']):\n",
        "    arr_vect.append(get_vect_mean(txt))\n",
        "    \n",
        "arr_vect_valid = []\n",
        "for txt in tqdm_notebook(df_val['text']):\n",
        "    arr_vect_valid.append(get_vect_mean(txt))\n",
        "    \n",
        "train_w2v = np.asarray(arr_vect)    \n",
        "valid_w2v = np.asarray(arr_vect_valid)"
      ],
      "outputs": [
        {
          "output_type": "stream",
          "name": "stderr",
          "text": [
            "<ipython-input-61-196588226526>:2: TqdmDeprecationWarning: This function will be removed in tqdm==5.0.0\n",
            "Please use `tqdm.notebook.tqdm` instead of `tqdm.tqdm_notebook`\n",
            "  for txt in tqdm_notebook(df_train['text']):\n"
          ]
        },
        {
          "output_type": "display_data",
          "data": {
            "text/plain": [
              "HBox(children=(FloatProgress(value=0.0, max=181467.0), HTML(value='')))"
            ],
            "application/vnd.jupyter.widget-view+json": {
              "model_id": "0fb91ab0ab024c2382ab67fa73b4bd48",
              "version_major": 2,
              "version_minor": 0
            }
          },
          "metadata": {
            "tags": []
          }
        },
        {
          "output_type": "stream",
          "name": "stderr",
          "text": [
            "<ipython-input-59-e89a2fe47eca>:5: DeprecationWarning: Call to deprecated `__contains__` (Method will be removed in 4.0.0, use self.wv.__contains__() instead).\n",
            "  if wrd in modelW2V:\n",
            "<ipython-input-59-e89a2fe47eca>:6: DeprecationWarning: Call to deprecated `__getitem__` (Method will be removed in 4.0.0, use self.wv.__getitem__() instead).\n",
            "  vector_w2v += modelW2V[wrd]\n"
          ]
        },
        {
          "output_type": "stream",
          "name": "stdout",
          "text": [
            "\n"
          ]
        },
        {
          "output_type": "stream",
          "name": "stderr",
          "text": [
            "<ipython-input-61-196588226526>:6: TqdmDeprecationWarning: This function will be removed in tqdm==5.0.0\n",
            "Please use `tqdm.notebook.tqdm` instead of `tqdm.tqdm_notebook`\n",
            "  for txt in tqdm_notebook(df_val['text']):\n"
          ]
        },
        {
          "output_type": "display_data",
          "data": {
            "text/plain": [
              "HBox(children=(FloatProgress(value=0.0, max=22683.0), HTML(value='')))"
            ],
            "application/vnd.jupyter.widget-view+json": {
              "model_id": "50510615910e4fa4ba76fc23f4d9ab2b",
              "version_major": 2,
              "version_minor": 0
            }
          },
          "metadata": {
            "tags": []
          }
        },
        {
          "output_type": "stream",
          "name": "stdout",
          "text": [
            "\n"
          ]
        }
      ],
      "metadata": {
        "id": "TzbO7LNOMgZL",
        "colab": {
          "referenced_widgets": [
            "0fb91ab0ab024c2382ab67fa73b4bd48",
            "50510615910e4fa4ba76fc23f4d9ab2b"
          ]
        },
        "outputId": "4867c71c-e656-44ca-e147-febf5e2119c9"
      }
    },
    {
      "cell_type": "code",
      "execution_count": null,
      "source": [
        "lgr_w2v = LogisticRegression()"
      ],
      "outputs": [],
      "metadata": {
        "id": "Z5YKLItiMgZL"
      }
    },
    {
      "cell_type": "code",
      "execution_count": null,
      "source": [
        "lgr_w2v.fit(train_w2v, df_train['class'].to_numpy())"
      ],
      "outputs": [
        {
          "output_type": "stream",
          "name": "stderr",
          "text": [
            "/home/rzaharov@mvs.local/.local/share/virtualenvs/nlp-course-A3nIyBIP/lib/python3.8/site-packages/sklearn/linear_model/logistic.py:430: FutureWarning: Default solver will be changed to 'lbfgs' in 0.22. Specify a solver to silence this warning.\n",
            "  warnings.warn(\"Default solver will be changed to 'lbfgs' in 0.22. \"\n"
          ]
        },
        {
          "output_type": "execute_result",
          "data": {
            "text/plain": [
              "LogisticRegression(C=1.0, class_weight=None, dual=False, fit_intercept=True,\n",
              "                   intercept_scaling=1, l1_ratio=None, max_iter=100,\n",
              "                   multi_class='warn', n_jobs=None, penalty='l2',\n",
              "                   random_state=None, solver='warn', tol=0.0001, verbose=0,\n",
              "                   warm_start=False)"
            ]
          },
          "metadata": {
            "tags": []
          },
          "execution_count": 63
        }
      ],
      "metadata": {
        "id": "Q6SnxEwqMgZM",
        "outputId": "1fb641fb-d111-49f3-82cd-27d0544231f6"
      }
    },
    {
      "cell_type": "code",
      "execution_count": null,
      "source": [
        "y_pred = lgr_w2v.predict(valid_w2v)"
      ],
      "outputs": [],
      "metadata": {
        "id": "qUQlJRa8MgZM"
      }
    },
    {
      "cell_type": "code",
      "execution_count": null,
      "source": [
        "accuracy_score(df_val['class'].to_numpy(), y_pred)"
      ],
      "outputs": [
        {
          "output_type": "execute_result",
          "data": {
            "text/plain": [
              "0.6555129392055724"
            ]
          },
          "metadata": {
            "tags": []
          },
          "execution_count": 65
        }
      ],
      "metadata": {
        "id": "2nTiUw23MgZM",
        "outputId": "234c6c46-85c0-4252-f5f4-cb1c41e99c79"
      }
    },
    {
      "cell_type": "code",
      "execution_count": null,
      "source": [],
      "outputs": [],
      "metadata": {
        "id": "ND8FKFa2MgZN"
      }
    },
    {
      "cell_type": "code",
      "execution_count": null,
      "source": [
        "arr_vect = []\n",
        "for txt in tqdm_notebook(df_train['text']):\n",
        "    arr_vect.append(get_vect_idf(txt))\n",
        "    \n",
        "arr_vect_valid = []\n",
        "for txt in tqdm_notebook(df_val['text']):\n",
        "    arr_vect_valid.append(get_vect_idf(txt))\n",
        "    \n",
        "train_w2v = np.asarray(arr_vect)    \n",
        "valid_w2v = np.asarray(arr_vect_valid)"
      ],
      "outputs": [
        {
          "output_type": "stream",
          "name": "stderr",
          "text": [
            "<ipython-input-66-23a6bf44f63a>:2: TqdmDeprecationWarning: This function will be removed in tqdm==5.0.0\n",
            "Please use `tqdm.notebook.tqdm` instead of `tqdm.tqdm_notebook`\n",
            "  for txt in tqdm_notebook(df_train['text']):\n"
          ]
        },
        {
          "output_type": "display_data",
          "data": {
            "text/plain": [
              "HBox(children=(FloatProgress(value=0.0, max=181467.0), HTML(value='')))"
            ],
            "application/vnd.jupyter.widget-view+json": {
              "model_id": "8b9d409c86944bd6a9e9787b45cb26eb",
              "version_major": 2,
              "version_minor": 0
            }
          },
          "metadata": {
            "tags": []
          }
        },
        {
          "output_type": "stream",
          "name": "stderr",
          "text": [
            "<ipython-input-59-e89a2fe47eca>:16: DeprecationWarning: Call to deprecated `__contains__` (Method will be removed in 4.0.0, use self.wv.__contains__() instead).\n",
            "  if wrd in modelW2V:\n",
            "<ipython-input-59-e89a2fe47eca>:18: DeprecationWarning: Call to deprecated `__getitem__` (Method will be removed in 4.0.0, use self.wv.__getitem__() instead).\n",
            "  vector_w2v += modelW2V[wrd]*iddf_\n"
          ]
        },
        {
          "output_type": "stream",
          "name": "stdout",
          "text": [
            "\n"
          ]
        },
        {
          "output_type": "stream",
          "name": "stderr",
          "text": [
            "<ipython-input-66-23a6bf44f63a>:6: TqdmDeprecationWarning: This function will be removed in tqdm==5.0.0\n",
            "Please use `tqdm.notebook.tqdm` instead of `tqdm.tqdm_notebook`\n",
            "  for txt in tqdm_notebook(df_val['text']):\n"
          ]
        },
        {
          "output_type": "display_data",
          "data": {
            "text/plain": [
              "HBox(children=(FloatProgress(value=0.0, max=22683.0), HTML(value='')))"
            ],
            "application/vnd.jupyter.widget-view+json": {
              "model_id": "13edd68589cd4890a7ee75636ff4f223",
              "version_major": 2,
              "version_minor": 0
            }
          },
          "metadata": {
            "tags": []
          }
        },
        {
          "output_type": "stream",
          "name": "stdout",
          "text": [
            "\n"
          ]
        }
      ],
      "metadata": {
        "id": "K9YfE5njMgZN",
        "colab": {
          "referenced_widgets": [
            "8b9d409c86944bd6a9e9787b45cb26eb",
            "13edd68589cd4890a7ee75636ff4f223"
          ]
        },
        "outputId": "6a26f612-17dc-47cb-fa9d-e419018d0056"
      }
    },
    {
      "cell_type": "code",
      "execution_count": null,
      "source": [
        "lgr_w2v = LogisticRegression()\n",
        "lgr_w2v.fit(train_w2v, df_train['class'].to_numpy())\n",
        "y_pred = lgr_w2v.predict(valid_w2v)"
      ],
      "outputs": [
        {
          "output_type": "stream",
          "name": "stderr",
          "text": [
            "/home/rzaharov@mvs.local/.local/share/virtualenvs/nlp-course-A3nIyBIP/lib/python3.8/site-packages/sklearn/linear_model/logistic.py:430: FutureWarning: Default solver will be changed to 'lbfgs' in 0.22. Specify a solver to silence this warning.\n",
            "  warnings.warn(\"Default solver will be changed to 'lbfgs' in 0.22. \"\n"
          ]
        }
      ],
      "metadata": {
        "id": "wNWcli2PMgZN",
        "outputId": "fa0aad71-36b4-44fb-b55c-8c4536da0039"
      }
    },
    {
      "cell_type": "code",
      "execution_count": null,
      "source": [
        "accuracy_score(df_val['class'].to_numpy(), y_pred)"
      ],
      "outputs": [
        {
          "output_type": "execute_result",
          "data": {
            "text/plain": [
              "0.6500903760525504"
            ]
          },
          "metadata": {
            "tags": []
          },
          "execution_count": 68
        }
      ],
      "metadata": {
        "id": "vo0bS0yhMgZO",
        "outputId": "07097876-e4f8-47b4-bfd4-9972ea989a26"
      }
    },
    {
      "cell_type": "code",
      "execution_count": null,
      "source": [],
      "outputs": [],
      "metadata": {
        "id": "-yg5JrZxMgZO"
      }
    },
    {
      "cell_type": "code",
      "execution_count": null,
      "source": [],
      "outputs": [],
      "metadata": {
        "id": "1wP3Q9PeMgZO"
      }
    },
    {
      "cell_type": "code",
      "execution_count": null,
      "source": [],
      "outputs": [],
      "metadata": {
        "id": "Tskwb78hMgZP"
      }
    },
    {
      "cell_type": "code",
      "execution_count": null,
      "source": [],
      "outputs": [],
      "metadata": {
        "id": "IxR11Ed7MgZP"
      }
    },
    {
      "cell_type": "code",
      "execution_count": null,
      "source": [],
      "outputs": [],
      "metadata": {
        "id": "qFIaRPhfMgZU"
      }
    }
  ]
}