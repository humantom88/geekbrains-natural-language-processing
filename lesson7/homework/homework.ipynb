{
  "nbformat": 4,
  "nbformat_minor": 2,
  "metadata": {
    "colab": {
      "name": "Homework7.ipynb",
      "provenance": [],
      "collapsed_sections": []
    },
    "kernelspec": {
      "name": "python3",
      "display_name": "Python 3.9.1 64-bit ('base': conda)"
    },
    "language_info": {
      "codemirror_mode": {
        "name": "ipython",
        "version": 3
      },
      "file_extension": ".py",
      "mimetype": "text/x-python",
      "name": "python",
      "nbconvert_exporter": "python",
      "pygments_lexer": "ipython3",
      "version": "3.9.1"
    },
    "interpreter": {
      "hash": "5822cce0dfea77bd1b5b649d2f91871660e133f67e755bca28128586ccbc8559"
    }
  },
  "cells": [
    {
      "cell_type": "markdown",
      "source": [
        "## Практическое задание к уроку 7 (Сверточные нейронные сети для анализа текста)"
      ],
      "metadata": {
        "id": "NG3su2lSDvtg"
      }
    },
    {
      "cell_type": "code",
      "execution_count": 1,
      "source": [
        "# from google.colab import drive\n",
        "# drive.mount('/content/drive')"
      ],
      "outputs": [],
      "metadata": {
        "id": "_sAEGbWfTCRh"
      }
    },
    {
      "cell_type": "code",
      "execution_count": 2,
      "source": [
        "# data_path = '/content/drive/MyDrive/Colab Notebooks/geekbrains natural language processing/homework7'\n",
        "data_path = './'"
      ],
      "outputs": [],
      "metadata": {
        "id": "9ZQsg970TEPm"
      }
    },
    {
      "cell_type": "code",
      "execution_count": 3,
      "source": [
        "!pip install stop_words\n",
        "!pip install pymorphy2"
      ],
      "outputs": [
        {
          "output_type": "stream",
          "name": "stdout",
          "text": [
            "Requirement already satisfied: stop_words in /Users/tombelov/opt/miniconda3/lib/python3.9/site-packages (2018.7.23)\n",
            "Requirement already satisfied: pymorphy2 in /Users/tombelov/opt/miniconda3/lib/python3.9/site-packages (0.9.1)\n",
            "Requirement already satisfied: docopt>=0.6 in /Users/tombelov/opt/miniconda3/lib/python3.9/site-packages (from pymorphy2) (0.6.2)\n",
            "Requirement already satisfied: pymorphy2-dicts-ru<3.0,>=2.4 in /Users/tombelov/opt/miniconda3/lib/python3.9/site-packages (from pymorphy2) (2.4.417127.4579844)\n",
            "Requirement already satisfied: dawg-python>=0.7.1 in /Users/tombelov/opt/miniconda3/lib/python3.9/site-packages (from pymorphy2) (0.7.2)\n"
          ]
        }
      ],
      "metadata": {
        "colab": {
          "base_uri": "https://localhost:8080/"
        },
        "id": "DRwnXCzEFTtC",
        "outputId": "ca379267-98a3-4f5f-d283-8d852d5b7fac"
      }
    },
    {
      "cell_type": "markdown",
      "source": [
        "### Задание\n",
        "\n",
        "### Берем отызывы за лето (из архива с материалами или предыдущего занятия)"
      ],
      "metadata": {
        "id": "iW8yo94jDixu"
      }
    },
    {
      "cell_type": "code",
      "execution_count": 4,
      "source": [
        "import pandas as pd\n",
        "import os"
      ],
      "outputs": [],
      "metadata": {
        "id": "i0KuW8hmExFY"
      }
    },
    {
      "cell_type": "code",
      "execution_count": 5,
      "source": [
        "df = pd.read_excel(os.path.join(data_path, 'reviews.xls'))\n",
        "df.head(10)"
      ],
      "outputs": [
        {
          "output_type": "execute_result",
          "data": {
            "text/plain": [
              "   Rating                                            Content        Date\n",
              "0       5                                     It just works!  2017-08-14\n",
              "1       4  В целом удобноное приложение...из минусов хотя...  2017-08-14\n",
              "2       5                                        Отлично все  2017-08-14\n",
              "3       5  Стал зависать на 1% работы антивируса. Дальше ...  2017-08-14\n",
              "4       5                     Очень удобно, работает быстро.  2017-08-14\n",
              "5       5                                Всё удобно норм 👍👍👍  2017-08-14\n",
              "6       5                          Очень удобное приложение.  2017-08-14\n",
              "7       5                                     Все устраивает  2017-08-14\n",
              "8       5  У меня работает все четко. В отличии от банком...  2017-08-14\n",
              "9       5                                  Очень все хорошо👍  2017-08-14"
            ],
            "text/html": [
              "<div>\n",
              "<style scoped>\n",
              "    .dataframe tbody tr th:only-of-type {\n",
              "        vertical-align: middle;\n",
              "    }\n",
              "\n",
              "    .dataframe tbody tr th {\n",
              "        vertical-align: top;\n",
              "    }\n",
              "\n",
              "    .dataframe thead th {\n",
              "        text-align: right;\n",
              "    }\n",
              "</style>\n",
              "<table border=\"1\" class=\"dataframe\">\n",
              "  <thead>\n",
              "    <tr style=\"text-align: right;\">\n",
              "      <th></th>\n",
              "      <th>Rating</th>\n",
              "      <th>Content</th>\n",
              "      <th>Date</th>\n",
              "    </tr>\n",
              "  </thead>\n",
              "  <tbody>\n",
              "    <tr>\n",
              "      <th>0</th>\n",
              "      <td>5</td>\n",
              "      <td>It just works!</td>\n",
              "      <td>2017-08-14</td>\n",
              "    </tr>\n",
              "    <tr>\n",
              "      <th>1</th>\n",
              "      <td>4</td>\n",
              "      <td>В целом удобноное приложение...из минусов хотя...</td>\n",
              "      <td>2017-08-14</td>\n",
              "    </tr>\n",
              "    <tr>\n",
              "      <th>2</th>\n",
              "      <td>5</td>\n",
              "      <td>Отлично все</td>\n",
              "      <td>2017-08-14</td>\n",
              "    </tr>\n",
              "    <tr>\n",
              "      <th>3</th>\n",
              "      <td>5</td>\n",
              "      <td>Стал зависать на 1% работы антивируса. Дальше ...</td>\n",
              "      <td>2017-08-14</td>\n",
              "    </tr>\n",
              "    <tr>\n",
              "      <th>4</th>\n",
              "      <td>5</td>\n",
              "      <td>Очень удобно, работает быстро.</td>\n",
              "      <td>2017-08-14</td>\n",
              "    </tr>\n",
              "    <tr>\n",
              "      <th>5</th>\n",
              "      <td>5</td>\n",
              "      <td>Всё удобно норм 👍👍👍</td>\n",
              "      <td>2017-08-14</td>\n",
              "    </tr>\n",
              "    <tr>\n",
              "      <th>6</th>\n",
              "      <td>5</td>\n",
              "      <td>Очень удобное приложение.</td>\n",
              "      <td>2017-08-14</td>\n",
              "    </tr>\n",
              "    <tr>\n",
              "      <th>7</th>\n",
              "      <td>5</td>\n",
              "      <td>Все устраивает</td>\n",
              "      <td>2017-08-14</td>\n",
              "    </tr>\n",
              "    <tr>\n",
              "      <th>8</th>\n",
              "      <td>5</td>\n",
              "      <td>У меня работает все четко. В отличии от банком...</td>\n",
              "      <td>2017-08-14</td>\n",
              "    </tr>\n",
              "    <tr>\n",
              "      <th>9</th>\n",
              "      <td>5</td>\n",
              "      <td>Очень все хорошо👍</td>\n",
              "      <td>2017-08-14</td>\n",
              "    </tr>\n",
              "  </tbody>\n",
              "</table>\n",
              "</div>"
            ]
          },
          "metadata": {},
          "execution_count": 5
        }
      ],
      "metadata": {
        "colab": {
          "base_uri": "https://localhost:8080/",
          "height": 362
        },
        "id": "OaK8ocslE0Gn",
        "outputId": "df1a86ca-16cb-4ad0-8a79-03cfeb4a8218"
      }
    },
    {
      "cell_type": "markdown",
      "source": [
        "### Препроцессинг"
      ],
      "metadata": {
        "id": "9DfSuRxpFKVd"
      }
    },
    {
      "cell_type": "code",
      "execution_count": 6,
      "source": [
        "max_words = 200\n",
        "max_len = 40\n",
        "num_classes = 1\n",
        "\n",
        "# Training\n",
        "epochs = 20\n",
        "batch_size = 512\n",
        "print_batch_n = 100"
      ],
      "outputs": [],
      "metadata": {
        "id": "Y1IQdmEMHepK"
      }
    },
    {
      "cell_type": "code",
      "execution_count": 7,
      "source": [
        "from string import punctuation\n",
        "from stop_words import get_stop_words\n",
        "from pymorphy2 import MorphAnalyzer\n",
        "import re"
      ],
      "outputs": [],
      "metadata": {
        "id": "mCPtGGDPE5tP"
      }
    },
    {
      "cell_type": "code",
      "execution_count": 8,
      "source": [
        "sw = set(get_stop_words(\"ru\"))\n",
        "exclude = set(punctuation)\n",
        "morpher = MorphAnalyzer()\n",
        "\n",
        "def preprocess_text(txt):\n",
        "    txt = str(txt)\n",
        "    txt = \"\".join(c for c in txt if c not in exclude)\n",
        "    txt = txt.lower()\n",
        "    txt = re.sub(\"\\sне\", \"не\", txt)\n",
        "    txt = [morpher.parse(word)[0].normal_form for word in txt.split() if word not in sw]\n",
        "    return \" \".join(txt)\n",
        "\n",
        "df['Content'] = df['Content'].apply(preprocess_text)\n",
        "df['Rating'] = df['Rating'].apply(lambda x: f'{x}')"
      ],
      "outputs": [],
      "metadata": {
        "id": "flEaXVHEFrml"
      }
    },
    {
      "cell_type": "code",
      "execution_count": 9,
      "source": [
        "from sklearn.model_selection import train_test_split\n",
        "\n",
        "X_train, X_test, y_train, y_test = train_test_split(df.drop(columns=['Rating', 'Date']), df['Rating'], test_size=0.33, random_state=42)"
      ],
      "outputs": [],
      "metadata": {
        "id": "0719ncB7GXe1"
      }
    },
    {
      "cell_type": "code",
      "execution_count": 10,
      "source": [
        "train_corpus = \" \".join(X_train[\"Content\"])\n",
        "train_corpus = train_corpus.lower()"
      ],
      "outputs": [],
      "metadata": {
        "id": "Gx-nVL8qHCNP"
      }
    },
    {
      "cell_type": "code",
      "execution_count": 11,
      "source": [
        "import nltk\n",
        "from nltk.tokenize import word_tokenize\n",
        "nltk.download(\"punkt\")\n",
        "\n",
        "tokens = word_tokenize(train_corpus)"
      ],
      "outputs": [
        {
          "output_type": "stream",
          "name": "stderr",
          "text": [
            "[nltk_data] Downloading package punkt to /Users/tombelov/nltk_data...\n",
            "[nltk_data]   Package punkt is already up-to-date!\n"
          ]
        }
      ],
      "metadata": {
        "colab": {
          "base_uri": "https://localhost:8080/"
        },
        "id": "Y7oSFmbcHPx1",
        "outputId": "7095ca90-09e6-4244-8390-46327543f6dd"
      }
    },
    {
      "cell_type": "code",
      "execution_count": 12,
      "source": [
        "tokens_filtered = [word for word in tokens if word.isalnum()]\n",
        "tokens_filtered[:10]"
      ],
      "outputs": [
        {
          "output_type": "execute_result",
          "data": {
            "text/plain": [
              "['наконецтый',\n",
              " 'исправить',\n",
              " 'чушь',\n",
              " 'снеоргинальный',\n",
              " 'прошивка',\n",
              " 'приложение',\n",
              " 'удобно',\n",
              " 'пользоваться',\n",
              " 'удобно',\n",
              " 'использование']"
            ]
          },
          "metadata": {},
          "execution_count": 12
        }
      ],
      "metadata": {
        "colab": {
          "base_uri": "https://localhost:8080/"
        },
        "id": "JoXODHGDHVnx",
        "outputId": "033d85c6-5563-4c43-eb74-b469330d825f"
      }
    },
    {
      "cell_type": "code",
      "execution_count": 13,
      "source": [
        "from nltk.probability import FreqDist\n",
        "dist = FreqDist(tokens_filtered)\n",
        "tokens_filtered_top = [pair[0] for pair in dist.most_common(max_words-1)]\n",
        "tokens_filtered_top[:10]"
      ],
      "outputs": [
        {
          "output_type": "execute_result",
          "data": {
            "text/plain": [
              "['приложение',\n",
              " 'удобно',\n",
              " 'работать',\n",
              " 'удобный',\n",
              " 'отлично',\n",
              " 'нравиться',\n",
              " 'хороший',\n",
              " 'отличный',\n",
              " 'телефон',\n",
              " 'супер']"
            ]
          },
          "metadata": {},
          "execution_count": 13
        }
      ],
      "metadata": {
        "colab": {
          "base_uri": "https://localhost:8080/"
        },
        "id": "A7H1i3NXHZaR",
        "outputId": "b3de195f-b968-4f2d-92d5-4a913f10d047"
      }
    },
    {
      "cell_type": "code",
      "execution_count": 14,
      "source": [
        "vocabulary = {v: k for k, v in dict(enumerate(tokens_filtered_top, 1)).items()}\n",
        "vocabulary"
      ],
      "outputs": [
        {
          "output_type": "execute_result",
          "data": {
            "text/plain": [
              "{'приложение': 1,\n",
              " 'удобно': 2,\n",
              " 'работать': 3,\n",
              " 'удобный': 4,\n",
              " 'отлично': 5,\n",
              " 'нравиться': 6,\n",
              " 'хороший': 7,\n",
              " 'отличный': 8,\n",
              " 'телефон': 9,\n",
              " 'супер': 10,\n",
              " 'быстро': 11,\n",
              " 'обновление': 12,\n",
              " 'пароль': 13,\n",
              " 'мочь': 14,\n",
              " 'пользоваться': 15,\n",
              " 'антивирус': 16,\n",
              " 'банк': 17,\n",
              " 'вход': 18,\n",
              " 'устраивать': 19,\n",
              " 'сбербанк': 20,\n",
              " 'раз': 21,\n",
              " 'прошивка': 22,\n",
              " 'карта': 23,\n",
              " 'проблема': 24,\n",
              " 'рута': 25,\n",
              " 'программа': 26,\n",
              " 'ошибка': 27,\n",
              " 'разработчик': 28,\n",
              " 'сделать': 29,\n",
              " 'приходиться': 30,\n",
              " 'вводить': 31,\n",
              " 'перевод': 32,\n",
              " 'счёт': 33,\n",
              " 'писать': 34,\n",
              " 'норма': 35,\n",
              " 'деньга': 36,\n",
              " 'довольный': 37,\n",
              " 'около': 38,\n",
              " 'постоянно': 39,\n",
              " 'нормально': 40,\n",
              " 'код': 41,\n",
              " 'исправить': 42,\n",
              " 'смс': 43,\n",
              " 'платёж': 44,\n",
              " 'понятно': 45,\n",
              " 'последний': 46,\n",
              " 'функция': 47,\n",
              " 'зайти': 48,\n",
              " 'свой': 49,\n",
              " 'вылетать': 50,\n",
              " 'мобильный': 51,\n",
              " 'стать': 52,\n",
              " 'шаблон': 53,\n",
              " 'приходить': 54,\n",
              " 'возможность': 55,\n",
              " 'право': 56,\n",
              " 'делать': 57,\n",
              " 'иня': 58,\n",
              " 'проверка': 59,\n",
              " 'класс': 60,\n",
              " 'установить': 61,\n",
              " 'root': 62,\n",
              " 'заходить': 63,\n",
              " '5': 64,\n",
              " 'meizu': 65,\n",
              " 'работа': 66,\n",
              " 'операция': 67,\n",
              " 'оплата': 68,\n",
              " 'нужный': 69,\n",
              " 'онлайн': 70,\n",
              " 'войти': 71,\n",
              " 'ввод': 72,\n",
              " 'функционал': 73,\n",
              " 'мой': 74,\n",
              " 'доступ': 75,\n",
              " 'версия': 76,\n",
              " 'первый': 77,\n",
              " 'молодец': 78,\n",
              " 'один': 79,\n",
              " 'отпечаток': 80,\n",
              " 'удалить': 81,\n",
              " 'полный': 82,\n",
              " 'вообще': 83,\n",
              " 'номер': 84,\n",
              " 'новый': 85,\n",
              " 'интернет': 86,\n",
              " 'самый': 87,\n",
              " '2': 88,\n",
              " 'изз': 89,\n",
              " 'круто': 90,\n",
              " 'уведомление': 91,\n",
              " 'убрать': 92,\n",
              " 'просить': 93,\n",
              " 'какой': 94,\n",
              " 'запуск': 95,\n",
              " 'приложениен': 96,\n",
              " 'перестать': 97,\n",
              " 'ян': 98,\n",
              " 'клиент': 99,\n",
              " 'понравиться': 100,\n",
              " 'ваш': 101,\n",
              " 'оплатить': 102,\n",
              " 'рука': 103,\n",
              " 'устройство': 104,\n",
              " 'кредит': 105,\n",
              " 'простой': 106,\n",
              " 'легко': 107,\n",
              " 'плохо': 108,\n",
              " 'удалять': 109,\n",
              " 'выдавать': 110,\n",
              " 'оплачивать': 111,\n",
              " 'вирус': 112,\n",
              " 'целое': 113,\n",
              " 'сбер': 114,\n",
              " 'палец': 115,\n",
              " 'запускаться': 116,\n",
              " 'дом': 117,\n",
              " 'выходить': 118,\n",
              " 'плохой': 119,\n",
              " '3': 120,\n",
              " 'добавить': 121,\n",
              " 'сразу': 122,\n",
              " 'большой': 123,\n",
              " 'ждать': 124,\n",
              " 'нормальный': 125,\n",
              " 'открываться': 126,\n",
              " 'замечательный': 127,\n",
              " 'другой': 128,\n",
              " 'безопасность': 129,\n",
              " 'быстрый': 130,\n",
              " 'минус': 131,\n",
              " 'любой': 132,\n",
              " 'ввести': 133,\n",
              " 'оригинальный': 134,\n",
              " 'никакой': 135,\n",
              " 'интерфейс': 136,\n",
              " 'каждый': 137,\n",
              " 'дать': 138,\n",
              " 'услуга': 139,\n",
              " 'ничегон': 140,\n",
              " 'идти': 141,\n",
              " 'грузиться': 142,\n",
              " 'месяц': 143,\n",
              " 'знать': 144,\n",
              " 'проверять': 145,\n",
              " 'отзыв': 146,\n",
              " 'переводить': 147,\n",
              " 'инициализация': 148,\n",
              " 'сообщение': 149,\n",
              " 'хотеть': 150,\n",
              " 'звезда': 151,\n",
              " 'установка': 152,\n",
              " '4': 153,\n",
              " 'сервис': 154,\n",
              " 'устанавливаться': 155,\n",
              " 'дело': 156,\n",
              " 'банкомат': 157,\n",
              " 'контакт': 158,\n",
              " 'классный': 159,\n",
              " 'главное': 160,\n",
              " 'видеть': 161,\n",
              " 'загружаться': 162,\n",
              " 'минута': 163,\n",
              " 'скачать': 164,\n",
              " 'давать': 165,\n",
              " 'вернуть': 166,\n",
              " 'андроид': 167,\n",
              " 'ставить': 168,\n",
              " 'долгий': 169,\n",
              " 'попытка': 170,\n",
              " 'перевести': 171,\n",
              " 'загрузка': 172,\n",
              " 'остальной': 173,\n",
              " 'тормозить': 174,\n",
              " 'смартфон': 175,\n",
              " 'финансы': 176,\n",
              " 'найти': 177,\n",
              " 'решить': 178,\n",
              " 'встроить': 179,\n",
              " 'чётко': 180,\n",
              " 'использование': 181,\n",
              " 'прийтись': 182,\n",
              " 'сумма': 183,\n",
              " 'классно': 184,\n",
              " 'зависать': 185,\n",
              " 'хотеться': 186,\n",
              " 'история': 187,\n",
              " 'полезный': 188,\n",
              " 'получаться': 189,\n",
              " '10': 190,\n",
              " 'доступно': 191,\n",
              " 'система': 192,\n",
              " 'средство': 193,\n",
              " 'ужасный': 194,\n",
              " 'связь': 195,\n",
              " 'прога': 196,\n",
              " 'пин': 197,\n",
              " 'общий': 198,\n",
              " 'заново': 199}"
            ]
          },
          "metadata": {},
          "execution_count": 14
        }
      ],
      "metadata": {
        "colab": {
          "base_uri": "https://localhost:8080/"
        },
        "id": "oN8vz2GpHaLW",
        "outputId": "cf1d11fa-b8ee-48c0-b487-446cfac0a4f0"
      }
    },
    {
      "cell_type": "code",
      "execution_count": 15,
      "source": [
        "import numpy as np\n",
        "\n",
        "def text_to_sequence(text, maxlen):\n",
        "    result = []\n",
        "\n",
        "    tokens = word_tokenize(text.lower())\n",
        "    tokens_filtered = [word for word in tokens if word.isalnum()]\n",
        "    \n",
        "    for word in tokens_filtered:\n",
        "        if word in vocabulary:\n",
        "            result.append(vocabulary[word])\n",
        "\n",
        "    padding = [0] * (maxlen - len(result))\n",
        "\n",
        "    return padding + result[-maxlen:]"
      ],
      "outputs": [],
      "metadata": {
        "id": "ORhFHG36H5Hk"
      }
    },
    {
      "cell_type": "code",
      "execution_count": 16,
      "source": [
        "X_train = np.asarray([text_to_sequence(text, max_len) for text in X_train[\"Content\"]], dtype=np.int32)\n",
        "X_test = np.asarray([text_to_sequence(text, max_len) for text in X_test[\"Content\"]], dtype=np.int32)"
      ],
      "outputs": [],
      "metadata": {
        "id": "AZ6lGHllIKhO"
      }
    },
    {
      "cell_type": "code",
      "execution_count": 17,
      "source": [
        "X_train, X_test"
      ],
      "outputs": [
        {
          "output_type": "execute_result",
          "data": {
            "text/plain": [
              "(array([[  0,   0,   0, ...,   1,   2,  15],\n",
              "        [  0,   0,   0, ...,   0,   2, 181],\n",
              "        [  0,   0,   0, ...,   0,   0,   5],\n",
              "        ...,\n",
              "        [  0,   0,   0, ..., 164,  27,  84],\n",
              "        [  0,   0,   0, ...,   0,   0,  20],\n",
              "        [  0,   0,   0, ...,   0, 113,   5]], dtype=int32),\n",
              " array([[ 0,  0,  0, ...,  0,  0,  5],\n",
              "        [ 0,  0,  0, ...,  0,  6,  2],\n",
              "        [ 0,  0,  0, ...,  1, 14, 48],\n",
              "        ...,\n",
              "        [ 0,  0,  0, ...,  1,  2, 11],\n",
              "        [ 0,  0,  0, ..., 15,  1, 42],\n",
              "        [ 0,  0,  0, ..., 32,  1, 91]], dtype=int32))"
            ]
          },
          "metadata": {},
          "execution_count": 17
        }
      ],
      "metadata": {
        "colab": {
          "base_uri": "https://localhost:8080/"
        },
        "id": "ABOalYjuIYo3",
        "outputId": "70e51f97-0e44-4677-fdda-ddad31ebcbe4"
      }
    },
    {
      "cell_type": "code",
      "execution_count": 18,
      "source": [
        "import numpy as np\n",
        "import keras\n",
        "from tensorflow.keras.utils import to_categorical\n",
        "from keras.models import Sequential, Model\n",
        "from keras.layers import Dense, Dropout, Activation, Input, Embedding, Conv1D, GlobalMaxPool1D\n",
        "from keras.preprocessing.text import Tokenizer\n",
        "from keras.preprocessing.sequence import pad_sequences\n",
        "from keras.callbacks import TensorBoard \n",
        "from keras.objectives import categorical_crossentropy\n",
        "from keras.callbacks import EarlyStopping"
      ],
      "outputs": [],
      "metadata": {
        "id": "oDTe8VZYIf3c"
      }
    },
    {
      "cell_type": "code",
      "execution_count": 19,
      "source": [
        "y_train.shape"
      ],
      "outputs": [
        {
          "output_type": "execute_result",
          "data": {
            "text/plain": [
              "(13841,)"
            ]
          },
          "metadata": {},
          "execution_count": 19
        }
      ],
      "metadata": {
        "colab": {
          "base_uri": "https://localhost:8080/"
        },
        "id": "WTn-Z0fqKZO0",
        "outputId": "c03b2a5b-2b0f-46ea-8d20-6aaf5953a244"
      }
    },
    {
      "cell_type": "code",
      "execution_count": 20,
      "source": [
        "num_classes = len(df['Rating'].value_counts()) + 1\n",
        "num_classes"
      ],
      "outputs": [
        {
          "output_type": "execute_result",
          "data": {
            "text/plain": [
              "6"
            ]
          },
          "metadata": {},
          "execution_count": 20
        }
      ],
      "metadata": {
        "colab": {
          "base_uri": "https://localhost:8080/"
        },
        "id": "6DgdjJ4pLaER",
        "outputId": "b7938c70-5643-4084-f7e2-a1a1aad85b07"
      }
    },
    {
      "cell_type": "code",
      "execution_count": 21,
      "source": [
        "y_train = to_categorical(y_train, num_classes)\n",
        "y_test = to_categorical(y_test, num_classes)"
      ],
      "outputs": [],
      "metadata": {
        "id": "3H9HmFVHIg9s"
      }
    },
    {
      "cell_type": "markdown",
      "source": [
        "1. Создаем и учим модель с обычным Embedding"
      ],
      "metadata": {
        "id": "mkW2EYl9EBCP"
      }
    },
    {
      "cell_type": "code",
      "execution_count": 22,
      "source": [
        "model = Sequential()\n",
        "model.add(Embedding(input_dim=max_words, output_dim=128, input_length=max_len))\n",
        "model.add(Conv1D(128, 3))\n",
        "model.add(Activation(\"relu\"))\n",
        "model.add(GlobalMaxPool1D())\n",
        "model.add(Dense(10))\n",
        "model.add(Activation(\"relu\"))\n",
        "model.add(Dense(num_classes))\n",
        "model.add(Activation('softmax'))"
      ],
      "outputs": [],
      "metadata": {
        "id": "8WcjLNYDwcgr"
      }
    },
    {
      "cell_type": "code",
      "execution_count": 23,
      "source": [
        "model.compile(loss='categorical_crossentropy',\n",
        "              optimizer='adam',\n",
        "              metrics=['accuracy'])"
      ],
      "outputs": [],
      "metadata": {
        "id": "4mTU9jVzwyTX"
      }
    },
    {
      "cell_type": "code",
      "execution_count": 24,
      "source": [
        "!pip install tensorflow==2.5.0"
      ],
      "outputs": [
        {
          "output_type": "stream",
          "name": "stdout",
          "text": [
            "Requirement already satisfied: tensorflow==2.5.0 in /Users/tombelov/opt/miniconda3/lib/python3.9/site-packages (2.5.0)\n",
            "Requirement already satisfied: grpcio~=1.34.0 in /Users/tombelov/opt/miniconda3/lib/python3.9/site-packages (from tensorflow==2.5.0) (1.34.1)\n",
            "Requirement already satisfied: wrapt~=1.12.1 in /Users/tombelov/opt/miniconda3/lib/python3.9/site-packages (from tensorflow==2.5.0) (1.12.1)\n",
            "Requirement already satisfied: typing-extensions~=3.7.4 in /Users/tombelov/opt/miniconda3/lib/python3.9/site-packages (from tensorflow==2.5.0) (3.7.4.3)\n",
            "Requirement already satisfied: protobuf>=3.9.2 in /Users/tombelov/opt/miniconda3/lib/python3.9/site-packages (from tensorflow==2.5.0) (3.17.3)\n",
            "Requirement already satisfied: gast==0.4.0 in /Users/tombelov/opt/miniconda3/lib/python3.9/site-packages (from tensorflow==2.5.0) (0.4.0)\n",
            "Requirement already satisfied: six~=1.15.0 in /Users/tombelov/opt/miniconda3/lib/python3.9/site-packages (from tensorflow==2.5.0) (1.15.0)\n",
            "Requirement already satisfied: flatbuffers~=1.12.0 in /Users/tombelov/opt/miniconda3/lib/python3.9/site-packages (from tensorflow==2.5.0) (1.12)\n",
            "Requirement already satisfied: astunparse~=1.6.3 in /Users/tombelov/opt/miniconda3/lib/python3.9/site-packages (from tensorflow==2.5.0) (1.6.3)\n",
            "Requirement already satisfied: wheel~=0.35 in /Users/tombelov/opt/miniconda3/lib/python3.9/site-packages (from tensorflow==2.5.0) (0.36.1)\n",
            "Requirement already satisfied: keras-nightly~=2.5.0.dev in /Users/tombelov/opt/miniconda3/lib/python3.9/site-packages (from tensorflow==2.5.0) (2.5.0.dev2021032900)\n",
            "Requirement already satisfied: numpy~=1.19.2 in /Users/tombelov/opt/miniconda3/lib/python3.9/site-packages (from tensorflow==2.5.0) (1.19.5)\n",
            "Requirement already satisfied: opt-einsum~=3.3.0 in /Users/tombelov/opt/miniconda3/lib/python3.9/site-packages (from tensorflow==2.5.0) (3.3.0)\n",
            "Requirement already satisfied: termcolor~=1.1.0 in /Users/tombelov/opt/miniconda3/lib/python3.9/site-packages (from tensorflow==2.5.0) (1.1.0)\n",
            "Requirement already satisfied: google-pasta~=0.2 in /Users/tombelov/opt/miniconda3/lib/python3.9/site-packages (from tensorflow==2.5.0) (0.2.0)\n",
            "Requirement already satisfied: tensorboard~=2.5 in /Users/tombelov/opt/miniconda3/lib/python3.9/site-packages (from tensorflow==2.5.0) (2.5.0)\n",
            "Requirement already satisfied: h5py~=3.1.0 in /Users/tombelov/opt/miniconda3/lib/python3.9/site-packages (from tensorflow==2.5.0) (3.1.0)\n",
            "Requirement already satisfied: tensorflow-estimator<2.6.0,>=2.5.0rc0 in /Users/tombelov/opt/miniconda3/lib/python3.9/site-packages (from tensorflow==2.5.0) (2.5.0)\n",
            "Requirement already satisfied: absl-py~=0.10 in /Users/tombelov/opt/miniconda3/lib/python3.9/site-packages (from tensorflow==2.5.0) (0.13.0)\n",
            "Requirement already satisfied: keras-preprocessing~=1.1.2 in /Users/tombelov/opt/miniconda3/lib/python3.9/site-packages (from tensorflow==2.5.0) (1.1.2)\n",
            "Requirement already satisfied: six~=1.15.0 in /Users/tombelov/opt/miniconda3/lib/python3.9/site-packages (from tensorflow==2.5.0) (1.15.0)\n",
            "Requirement already satisfied: six~=1.15.0 in /Users/tombelov/opt/miniconda3/lib/python3.9/site-packages (from tensorflow==2.5.0) (1.15.0)\n",
            "Requirement already satisfied: wheel~=0.35 in /Users/tombelov/opt/miniconda3/lib/python3.9/site-packages (from tensorflow==2.5.0) (0.36.1)\n",
            "Requirement already satisfied: six~=1.15.0 in /Users/tombelov/opt/miniconda3/lib/python3.9/site-packages (from tensorflow==2.5.0) (1.15.0)\n",
            "Requirement already satisfied: six~=1.15.0 in /Users/tombelov/opt/miniconda3/lib/python3.9/site-packages (from tensorflow==2.5.0) (1.15.0)\n",
            "Requirement already satisfied: numpy~=1.19.2 in /Users/tombelov/opt/miniconda3/lib/python3.9/site-packages (from tensorflow==2.5.0) (1.19.5)\n",
            "Requirement already satisfied: six~=1.15.0 in /Users/tombelov/opt/miniconda3/lib/python3.9/site-packages (from tensorflow==2.5.0) (1.15.0)\n",
            "Requirement already satisfied: numpy~=1.19.2 in /Users/tombelov/opt/miniconda3/lib/python3.9/site-packages (from tensorflow==2.5.0) (1.19.5)\n",
            "Requirement already satisfied: numpy~=1.19.2 in /Users/tombelov/opt/miniconda3/lib/python3.9/site-packages (from tensorflow==2.5.0) (1.19.5)\n",
            "Requirement already satisfied: six~=1.15.0 in /Users/tombelov/opt/miniconda3/lib/python3.9/site-packages (from tensorflow==2.5.0) (1.15.0)\n",
            "Requirement already satisfied: setuptools>=41.0.0 in /Users/tombelov/opt/miniconda3/lib/python3.9/site-packages (from tensorboard~=2.5->tensorflow==2.5.0) (51.0.0.post20201207)\n",
            "Requirement already satisfied: google-auth<2,>=1.6.3 in /Users/tombelov/opt/miniconda3/lib/python3.9/site-packages (from tensorboard~=2.5->tensorflow==2.5.0) (1.34.0)\n",
            "Requirement already satisfied: grpcio~=1.34.0 in /Users/tombelov/opt/miniconda3/lib/python3.9/site-packages (from tensorflow==2.5.0) (1.34.1)\n",
            "Requirement already satisfied: tensorboard-data-server<0.7.0,>=0.6.0 in /Users/tombelov/opt/miniconda3/lib/python3.9/site-packages (from tensorboard~=2.5->tensorflow==2.5.0) (0.6.1)\n",
            "Requirement already satisfied: absl-py~=0.10 in /Users/tombelov/opt/miniconda3/lib/python3.9/site-packages (from tensorflow==2.5.0) (0.13.0)\n",
            "Requirement already satisfied: markdown>=2.6.8 in /Users/tombelov/opt/miniconda3/lib/python3.9/site-packages (from tensorboard~=2.5->tensorflow==2.5.0) (3.3.4)\n",
            "Requirement already satisfied: requests<3,>=2.21.0 in /Users/tombelov/opt/miniconda3/lib/python3.9/site-packages (from tensorboard~=2.5->tensorflow==2.5.0) (2.25.0)\n",
            "Requirement already satisfied: tensorboard-plugin-wit>=1.6.0 in /Users/tombelov/opt/miniconda3/lib/python3.9/site-packages (from tensorboard~=2.5->tensorflow==2.5.0) (1.8.0)\n",
            "Requirement already satisfied: google-auth-oauthlib<0.5,>=0.4.1 in /Users/tombelov/opt/miniconda3/lib/python3.9/site-packages (from tensorboard~=2.5->tensorflow==2.5.0) (0.4.4)\n",
            "Requirement already satisfied: numpy~=1.19.2 in /Users/tombelov/opt/miniconda3/lib/python3.9/site-packages (from tensorflow==2.5.0) (1.19.5)\n",
            "Requirement already satisfied: werkzeug>=0.11.15 in /Users/tombelov/opt/miniconda3/lib/python3.9/site-packages (from tensorboard~=2.5->tensorflow==2.5.0) (2.0.1)\n",
            "Requirement already satisfied: wheel~=0.35 in /Users/tombelov/opt/miniconda3/lib/python3.9/site-packages (from tensorflow==2.5.0) (0.36.1)\n",
            "Requirement already satisfied: protobuf>=3.9.2 in /Users/tombelov/opt/miniconda3/lib/python3.9/site-packages (from tensorflow==2.5.0) (3.17.3)\n",
            "Requirement already satisfied: setuptools>=41.0.0 in /Users/tombelov/opt/miniconda3/lib/python3.9/site-packages (from tensorboard~=2.5->tensorflow==2.5.0) (51.0.0.post20201207)\n",
            "Requirement already satisfied: pyasn1-modules>=0.2.1 in /Users/tombelov/opt/miniconda3/lib/python3.9/site-packages (from google-auth<2,>=1.6.3->tensorboard~=2.5->tensorflow==2.5.0) (0.2.8)\n",
            "Requirement already satisfied: six~=1.15.0 in /Users/tombelov/opt/miniconda3/lib/python3.9/site-packages (from tensorflow==2.5.0) (1.15.0)\n",
            "Requirement already satisfied: rsa<5,>=3.1.4 in /Users/tombelov/opt/miniconda3/lib/python3.9/site-packages (from google-auth<2,>=1.6.3->tensorboard~=2.5->tensorflow==2.5.0) (4.7.2)\n",
            "Requirement already satisfied: cachetools<5.0,>=2.0.0 in /Users/tombelov/opt/miniconda3/lib/python3.9/site-packages (from google-auth<2,>=1.6.3->tensorboard~=2.5->tensorflow==2.5.0) (4.2.2)\n",
            "Requirement already satisfied: google-auth<2,>=1.6.3 in /Users/tombelov/opt/miniconda3/lib/python3.9/site-packages (from tensorboard~=2.5->tensorflow==2.5.0) (1.34.0)\n",
            "Requirement already satisfied: requests-oauthlib>=0.7.0 in /Users/tombelov/opt/miniconda3/lib/python3.9/site-packages (from google-auth-oauthlib<0.5,>=0.4.1->tensorboard~=2.5->tensorflow==2.5.0) (1.3.0)\n",
            "Requirement already satisfied: pyasn1<0.5.0,>=0.4.6 in /Users/tombelov/opt/miniconda3/lib/python3.9/site-packages (from pyasn1-modules>=0.2.1->google-auth<2,>=1.6.3->tensorboard~=2.5->tensorflow==2.5.0) (0.4.8)\n",
            "Requirement already satisfied: idna<3,>=2.5 in /Users/tombelov/opt/miniconda3/lib/python3.9/site-packages (from requests<3,>=2.21.0->tensorboard~=2.5->tensorflow==2.5.0) (2.10)\n",
            "Requirement already satisfied: urllib3<1.27,>=1.21.1 in /Users/tombelov/opt/miniconda3/lib/python3.9/site-packages (from requests<3,>=2.21.0->tensorboard~=2.5->tensorflow==2.5.0) (1.25.11)\n",
            "Requirement already satisfied: certifi>=2017.4.17 in /Users/tombelov/opt/miniconda3/lib/python3.9/site-packages (from requests<3,>=2.21.0->tensorboard~=2.5->tensorflow==2.5.0) (2021.5.30)\n",
            "Requirement already satisfied: chardet<4,>=3.0.2 in /Users/tombelov/opt/miniconda3/lib/python3.9/site-packages (from requests<3,>=2.21.0->tensorboard~=2.5->tensorflow==2.5.0) (3.0.4)\n",
            "Requirement already satisfied: oauthlib>=3.0.0 in /Users/tombelov/opt/miniconda3/lib/python3.9/site-packages (from requests-oauthlib>=0.7.0->google-auth-oauthlib<0.5,>=0.4.1->tensorboard~=2.5->tensorflow==2.5.0) (3.1.1)\n",
            "Requirement already satisfied: requests<3,>=2.21.0 in /Users/tombelov/opt/miniconda3/lib/python3.9/site-packages (from tensorboard~=2.5->tensorflow==2.5.0) (2.25.0)\n",
            "Requirement already satisfied: pyasn1<0.5.0,>=0.4.6 in /Users/tombelov/opt/miniconda3/lib/python3.9/site-packages (from pyasn1-modules>=0.2.1->google-auth<2,>=1.6.3->tensorboard~=2.5->tensorflow==2.5.0) (0.4.8)\n"
          ]
        }
      ],
      "metadata": {
        "colab": {
          "base_uri": "https://localhost:8080/"
        },
        "id": "mhVa-XFJRUgj",
        "outputId": "7cecf8eb-1ef8-4c83-e3f0-0520d1c91bc4"
      }
    },
    {
      "cell_type": "code",
      "execution_count": 25,
      "source": [
        "tensorboard=TensorBoard(log_dir='./logs', write_graph=True, write_images=True)\n",
        "early_stopping=EarlyStopping(monitor='val_loss')  \n",
        "\n",
        "history = model.fit(X_train, y_train,\n",
        "                    batch_size=batch_size,\n",
        "                    epochs=epochs,\n",
        "                    verbose=1,\n",
        "                    validation_split=0.1,\n",
        "                    callbacks=[tensorboard, early_stopping])"
      ],
      "outputs": [
        {
          "output_type": "stream",
          "name": "stdout",
          "text": [
            "Epoch 1/20\n",
            "25/25 [==============================] - 11s 59ms/step - loss: 1.5644 - accuracy: 0.6370 - val_loss: 1.0197 - val_accuracy: 0.7011\n"
          ]
        }
      ],
      "metadata": {
        "colab": {
          "base_uri": "https://localhost:8080/"
        },
        "id": "K42jI6QOw9QQ",
        "outputId": "4a632672-8031-41a8-c462-245ab4591cd6"
      }
    },
    {
      "cell_type": "code",
      "execution_count": 26,
      "source": [
        "score = model.evaluate(X_test, y_test, batch_size=batch_size, verbose=1)\n",
        "print('\\n')\n",
        "print('Test score:', score[0])\n",
        "print('Test accuracy:', score[1])"
      ],
      "outputs": [
        {
          "output_type": "stream",
          "name": "stdout",
          "text": [
            "14/14 [==============================] - 0s 7ms/step - loss: 0.9983 - accuracy: 0.7125\n",
            "\n",
            "\n",
            "Test score: 0.9983162879943848\n",
            "Test accuracy: 0.7125256657600403\n"
          ]
        }
      ],
      "metadata": {
        "colab": {
          "base_uri": "https://localhost:8080/"
        },
        "id": "ZOOlCVqXxPCv",
        "outputId": "12767b80-4bec-43fb-a70e-d6ddc854a3b0"
      }
    },
    {
      "cell_type": "code",
      "execution_count": 27,
      "source": [
        "results = model.predict(X_test, batch_size=batch_size, verbose=1)"
      ],
      "outputs": [
        {
          "output_type": "stream",
          "name": "stdout",
          "text": [
            "14/14 [==============================] - 0s 6ms/step\n"
          ]
        }
      ],
      "metadata": {
        "colab": {
          "base_uri": "https://localhost:8080/"
        },
        "id": "YBQawWwkyMY1",
        "outputId": "19af6e23-39aa-42d2-9307-3ac08ee5a8b9"
      }
    },
    {
      "cell_type": "markdown",
      "source": [
        "\n",
        "2. Рассмотреть 2-а варианта сеточек\n",
        "\n",
        "2.1 Инициализировать tf.keras.layers.Embedding предобученными векторами взять к примеру с https://rusvectores.org/ru/\n",
        "\n",
        "2.2 Инициализировать слой tf.keras.layers.Embedding по умолчанию (ну то есть вам ничего не делать с весами)\n",
        "\n",
        "Сравнить две архитектуры с предобученными весами и когда tf.keras.layers.Embedding обучается сразу со всей сеточкой, что получилось лучше"
      ],
      "metadata": {
        "id": "FdFkzwuNEv5N"
      }
    },
    {
      "cell_type": "markdown",
      "source": [
        "2. Создаем и учим модель с предзагруженным Embedding\n",
        "\n",
        "грузим с сайта https://rusvectores.org/ru/  \n",
        "модель ruwikiruscorpora_tokens_elmo_1024_2019"
      ],
      "metadata": {
        "id": "Vxo80OI1ERL0"
      }
    },
    {
      "cell_type": "code",
      "execution_count": 28,
      "source": [
        "!pip install --upgrade simple_elmo"
      ],
      "outputs": [
        {
          "output_type": "stream",
          "name": "stdout",
          "text": [
            "Requirement already satisfied: simple_elmo in /Users/tombelov/opt/miniconda3/lib/python3.9/site-packages (0.8.0)\n",
            "Requirement already satisfied: numpy in /Users/tombelov/opt/miniconda3/lib/python3.9/site-packages (from simple_elmo) (1.19.5)\n",
            "Requirement already satisfied: pandas in /Users/tombelov/opt/miniconda3/lib/python3.9/site-packages (from simple_elmo) (1.3.0)\n",
            "Requirement already satisfied: h5py in /Users/tombelov/opt/miniconda3/lib/python3.9/site-packages (from simple_elmo) (3.1.0)\n",
            "Requirement already satisfied: scipy in /Users/tombelov/opt/miniconda3/lib/python3.9/site-packages (from simple_elmo) (1.6.3)\n",
            "Requirement already satisfied: smart-open>1.8.1 in /Users/tombelov/opt/miniconda3/lib/python3.9/site-packages (from simple_elmo) (5.1.0)\n",
            "Requirement already satisfied: numpy in /Users/tombelov/opt/miniconda3/lib/python3.9/site-packages (from simple_elmo) (1.19.5)\n",
            "Requirement already satisfied: python-dateutil>=2.7.3 in /Users/tombelov/opt/miniconda3/lib/python3.9/site-packages (from pandas->simple_elmo) (2.8.1)\n",
            "Requirement already satisfied: numpy in /Users/tombelov/opt/miniconda3/lib/python3.9/site-packages (from simple_elmo) (1.19.5)\n",
            "Requirement already satisfied: pytz>=2017.3 in /Users/tombelov/opt/miniconda3/lib/python3.9/site-packages (from pandas->simple_elmo) (2021.1)\n",
            "Requirement already satisfied: six>=1.5 in /Users/tombelov/opt/miniconda3/lib/python3.9/site-packages (from python-dateutil>=2.7.3->pandas->simple_elmo) (1.15.0)\n",
            "Requirement already satisfied: numpy in /Users/tombelov/opt/miniconda3/lib/python3.9/site-packages (from simple_elmo) (1.19.5)\n"
          ]
        }
      ],
      "metadata": {
        "colab": {
          "base_uri": "https://localhost:8080/"
        },
        "id": "wcZ1URByMLO1",
        "outputId": "20b87196-ad61-447d-888d-e6f7809240e3"
      }
    },
    {
      "cell_type": "code",
      "execution_count": 29,
      "source": [
        "from simple_elmo import ElmoModel\n",
        "model_elmo = ElmoModel()\n",
        "model_elmo.load(os.path.join(data_path, 'model'))"
      ],
      "outputs": [
        {
          "output_type": "stream",
          "name": "stderr",
          "text": [
            "2021-07-29 20:46:12,219 : INFO : Loading model from ./model...\n",
            "2021-07-29 20:46:12,222 : INFO : We will cache the vocabulary of 100 tokens.\n",
            "/Users/tombelov/opt/miniconda3/lib/python3.9/site-packages/tensorflow/python/keras/layers/legacy_rnn/rnn_cell_impl.py:909: UserWarning: `tf.nn.rnn_cell.LSTMCell` is deprecated and will be removed in a future version. This class is equivalent as `tf.keras.layers.LSTMCell`, and will be replaced by that in Tensorflow 2.0.\n",
            "  warnings.warn(\"`tf.nn.rnn_cell.LSTMCell` is deprecated and will be \"\n",
            "/Users/tombelov/opt/miniconda3/lib/python3.9/site-packages/tensorflow/python/keras/engine/base_layer_v1.py:1700: UserWarning: `layer.add_variable` is deprecated and will be removed in a future version. Please use `layer.add_weight` method instead.\n",
            "  warnings.warn('`layer.add_variable` is deprecated and '\n"
          ]
        },
        {
          "output_type": "execute_result",
          "data": {
            "text/plain": [
              "'The model is now loaded.'"
            ]
          },
          "metadata": {},
          "execution_count": 29
        }
      ],
      "metadata": {
        "colab": {
          "base_uri": "https://localhost:8080/",
          "height": 159
        },
        "id": "J7lrvc0oML27",
        "outputId": "015b8656-7682-45e2-be8b-b00738f589c0"
      }
    },
    {
      "cell_type": "code",
      "execution_count": 30,
      "source": [
        "vectors = model_elmo.get_elmo_vectors(df['Content'])"
      ],
      "outputs": [
        {
          "output_type": "stream",
          "name": "stderr",
          "text": [
            "2021-07-29 20:46:19,637 : INFO : Warming up ELMo on 32 sentences...\n",
            "2021-07-29 20:46:23,359 : INFO : Warming up finished.\n",
            "2021-07-29 20:46:23,371 : INFO : Texts in the current batch: 32\n",
            "2021-07-29 20:46:26,470 : INFO : Texts in the current batch: 32\n",
            "2021-07-29 20:46:31,171 : INFO : Texts in the current batch: 32\n",
            "2021-07-29 20:46:34,475 : INFO : Texts in the current batch: 32\n",
            "2021-07-29 20:46:38,364 : INFO : Texts in the current batch: 32\n",
            "2021-07-29 20:46:43,736 : INFO : Texts in the current batch: 32\n",
            "2021-07-29 20:46:49,922 : INFO : Texts in the current batch: 32\n",
            "2021-07-29 20:46:51,815 : INFO : Texts in the current batch: 32\n",
            "2021-07-29 20:46:55,528 : INFO : Texts in the current batch: 32\n",
            "2021-07-29 20:47:02,287 : INFO : Texts in the current batch: 32\n",
            "2021-07-29 20:47:13,449 : INFO : Texts in the current batch: 32\n",
            "2021-07-29 20:47:20,950 : INFO : Texts in the current batch: 32\n",
            "2021-07-29 20:47:34,303 : INFO : Texts in the current batch: 32\n",
            "2021-07-29 20:47:44,941 : INFO : Texts in the current batch: 32\n",
            "2021-07-29 20:47:49,941 : INFO : Texts in the current batch: 32\n",
            "2021-07-29 20:48:11,533 : INFO : Texts in the current batch: 32\n",
            "2021-07-29 20:48:15,361 : INFO : Texts in the current batch: 32\n",
            "2021-07-29 20:48:18,262 : INFO : Texts in the current batch: 32\n",
            "2021-07-29 20:48:22,644 : INFO : Texts in the current batch: 32\n",
            "2021-07-29 20:48:29,369 : INFO : Texts in the current batch: 32\n",
            "2021-07-29 20:48:34,228 : INFO : Texts in the current batch: 32\n",
            "2021-07-29 20:48:38,748 : INFO : Texts in the current batch: 32\n",
            "2021-07-29 20:48:41,639 : INFO : Texts in the current batch: 32\n",
            "2021-07-29 20:48:48,144 : INFO : Texts in the current batch: 32\n",
            "2021-07-29 20:48:53,570 : INFO : Texts in the current batch: 32\n",
            "2021-07-29 20:48:56,443 : INFO : Texts in the current batch: 32\n",
            "2021-07-29 20:49:01,049 : INFO : Texts in the current batch: 32\n",
            "2021-07-29 20:49:05,351 : INFO : Texts in the current batch: 32\n",
            "2021-07-29 20:49:11,775 : INFO : Texts in the current batch: 32\n",
            "2021-07-29 20:49:17,862 : INFO : Texts in the current batch: 32\n",
            "2021-07-29 20:49:34,212 : INFO : Texts in the current batch: 32\n",
            "2021-07-29 20:49:35,776 : INFO : Texts in the current batch: 32\n",
            "2021-07-29 20:49:39,046 : INFO : Texts in the current batch: 32\n",
            "2021-07-29 20:49:42,397 : INFO : Texts in the current batch: 32\n",
            "2021-07-29 20:49:50,760 : INFO : Texts in the current batch: 32\n",
            "2021-07-29 20:49:56,021 : INFO : Texts in the current batch: 32\n",
            "2021-07-29 20:50:01,426 : INFO : Texts in the current batch: 32\n",
            "2021-07-29 20:50:05,660 : INFO : Texts in the current batch: 32\n",
            "2021-07-29 20:50:09,639 : INFO : Texts in the current batch: 32\n",
            "2021-07-29 20:50:13,824 : INFO : Texts in the current batch: 32\n",
            "2021-07-29 20:50:19,943 : INFO : Texts in the current batch: 32\n",
            "2021-07-29 20:50:23,121 : INFO : Texts in the current batch: 32\n",
            "2021-07-29 20:50:26,775 : INFO : Texts in the current batch: 32\n",
            "2021-07-29 20:50:38,933 : INFO : Texts in the current batch: 32\n",
            "2021-07-29 20:50:45,324 : INFO : Texts in the current batch: 32\n",
            "2021-07-29 20:50:49,653 : INFO : Texts in the current batch: 32\n",
            "2021-07-29 20:50:56,863 : INFO : Texts in the current batch: 32\n",
            "2021-07-29 20:51:02,645 : INFO : Texts in the current batch: 32\n",
            "2021-07-29 20:51:07,043 : INFO : Texts in the current batch: 32\n",
            "2021-07-29 20:51:09,079 : INFO : Texts in the current batch: 32\n",
            "2021-07-29 20:51:15,754 : INFO : Texts in the current batch: 32\n",
            "2021-07-29 20:51:26,395 : INFO : Texts in the current batch: 32\n",
            "2021-07-29 20:51:30,314 : INFO : Texts in the current batch: 32\n",
            "2021-07-29 20:51:35,471 : INFO : Texts in the current batch: 32\n",
            "2021-07-29 20:51:42,449 : INFO : Texts in the current batch: 32\n",
            "2021-07-29 20:51:49,985 : INFO : Texts in the current batch: 32\n",
            "2021-07-29 20:52:06,062 : INFO : Texts in the current batch: 32\n",
            "2021-07-29 20:52:14,619 : INFO : Texts in the current batch: 32\n",
            "2021-07-29 20:52:18,714 : INFO : Texts in the current batch: 32\n",
            "2021-07-29 20:52:23,492 : INFO : Texts in the current batch: 32\n",
            "2021-07-29 20:52:28,224 : INFO : Texts in the current batch: 32\n",
            "2021-07-29 20:52:34,741 : INFO : Texts in the current batch: 32\n",
            "2021-07-29 20:52:42,658 : INFO : Texts in the current batch: 32\n",
            "2021-07-29 20:52:52,722 : INFO : Texts in the current batch: 32\n",
            "2021-07-29 20:52:55,676 : INFO : Texts in the current batch: 32\n",
            "2021-07-29 20:53:01,056 : INFO : Texts in the current batch: 32\n",
            "2021-07-29 20:53:13,313 : INFO : Texts in the current batch: 32\n",
            "2021-07-29 20:53:16,528 : INFO : Texts in the current batch: 32\n",
            "2021-07-29 20:53:24,470 : INFO : Texts in the current batch: 32\n",
            "2021-07-29 20:53:28,212 : INFO : Texts in the current batch: 32\n",
            "2021-07-29 20:53:31,156 : INFO : Texts in the current batch: 32\n",
            "2021-07-29 20:53:34,185 : INFO : Texts in the current batch: 32\n",
            "2021-07-29 20:53:39,336 : INFO : Texts in the current batch: 32\n",
            "2021-07-29 20:53:47,496 : INFO : Texts in the current batch: 32\n",
            "2021-07-29 20:53:51,971 : INFO : Texts in the current batch: 32\n",
            "2021-07-29 20:53:54,948 : INFO : Texts in the current batch: 32\n",
            "2021-07-29 20:53:58,833 : INFO : Texts in the current batch: 32\n",
            "2021-07-29 20:54:06,053 : INFO : Texts in the current batch: 32\n",
            "2021-07-29 20:54:09,951 : INFO : Texts in the current batch: 32\n",
            "2021-07-29 20:54:13,243 : INFO : Texts in the current batch: 32\n",
            "2021-07-29 20:54:17,082 : INFO : Texts in the current batch: 32\n",
            "2021-07-29 20:54:31,660 : INFO : Texts in the current batch: 32\n",
            "2021-07-29 20:54:33,633 : INFO : Texts in the current batch: 32\n",
            "2021-07-29 20:54:36,807 : INFO : Texts in the current batch: 32\n",
            "2021-07-29 20:54:41,449 : INFO : Texts in the current batch: 32\n",
            "2021-07-29 20:54:44,050 : INFO : Texts in the current batch: 32\n",
            "2021-07-29 20:54:48,376 : INFO : Texts in the current batch: 32\n",
            "2021-07-29 20:54:54,257 : INFO : Texts in the current batch: 32\n",
            "2021-07-29 20:54:58,171 : INFO : Texts in the current batch: 32\n",
            "2021-07-29 20:55:01,192 : INFO : Texts in the current batch: 32\n",
            "2021-07-29 20:55:06,493 : INFO : Texts in the current batch: 32\n",
            "2021-07-29 20:55:10,239 : INFO : Texts in the current batch: 32\n",
            "2021-07-29 20:55:15,126 : INFO : Texts in the current batch: 32\n",
            "2021-07-29 20:55:20,636 : INFO : Texts in the current batch: 32\n",
            "2021-07-29 20:55:28,294 : INFO : Texts in the current batch: 32\n",
            "2021-07-29 20:55:34,560 : INFO : Texts in the current batch: 32\n",
            "2021-07-29 20:55:40,290 : INFO : Texts in the current batch: 32\n",
            "2021-07-29 20:55:47,838 : INFO : Texts in the current batch: 32\n",
            "2021-07-29 20:55:56,004 : INFO : Texts in the current batch: 32\n",
            "2021-07-29 20:56:01,119 : INFO : Texts in the current batch: 32\n",
            "2021-07-29 20:56:06,184 : INFO : Texts in the current batch: 32\n",
            "2021-07-29 20:56:08,641 : INFO : Texts in the current batch: 32\n",
            "2021-07-29 20:56:10,902 : INFO : Texts in the current batch: 32\n",
            "2021-07-29 20:56:18,950 : INFO : Texts in the current batch: 32\n",
            "2021-07-29 20:56:24,947 : INFO : Texts in the current batch: 32\n",
            "2021-07-29 20:56:36,468 : INFO : Texts in the current batch: 32\n",
            "2021-07-29 20:56:39,905 : INFO : Texts in the current batch: 32\n",
            "2021-07-29 20:57:14,177 : INFO : Texts in the current batch: 32\n",
            "2021-07-29 20:57:18,336 : INFO : Texts in the current batch: 32\n",
            "2021-07-29 20:57:24,627 : INFO : Texts in the current batch: 32\n",
            "2021-07-29 20:57:27,870 : INFO : Texts in the current batch: 32\n",
            "2021-07-29 20:57:31,461 : INFO : Texts in the current batch: 32\n",
            "2021-07-29 20:57:38,473 : INFO : Texts in the current batch: 32\n",
            "2021-07-29 20:57:41,323 : INFO : Texts in the current batch: 32\n",
            "2021-07-29 20:57:46,674 : INFO : Texts in the current batch: 32\n",
            "2021-07-29 20:57:53,040 : INFO : Texts in the current batch: 32\n",
            "2021-07-29 20:57:57,210 : INFO : Texts in the current batch: 32\n",
            "2021-07-29 20:58:01,622 : INFO : Texts in the current batch: 32\n",
            "2021-07-29 20:58:05,517 : INFO : Texts in the current batch: 32\n",
            "2021-07-29 20:58:12,073 : INFO : Texts in the current batch: 32\n",
            "2021-07-29 20:58:18,583 : INFO : Texts in the current batch: 32\n",
            "2021-07-29 20:58:24,115 : INFO : Texts in the current batch: 32\n",
            "2021-07-29 20:58:31,106 : INFO : Texts in the current batch: 32\n",
            "2021-07-29 20:58:38,517 : INFO : Texts in the current batch: 32\n",
            "2021-07-29 20:58:41,838 : INFO : Texts in the current batch: 32\n",
            "2021-07-29 20:58:44,872 : INFO : Texts in the current batch: 32\n",
            "2021-07-29 20:58:57,045 : INFO : Texts in the current batch: 32\n",
            "2021-07-29 20:59:04,552 : INFO : Texts in the current batch: 32\n",
            "2021-07-29 20:59:11,166 : INFO : Texts in the current batch: 32\n",
            "2021-07-29 20:59:17,857 : INFO : Texts in the current batch: 32\n",
            "2021-07-29 20:59:23,071 : INFO : Texts in the current batch: 32\n",
            "2021-07-29 20:59:33,954 : INFO : Texts in the current batch: 32\n",
            "2021-07-29 20:59:38,294 : INFO : Texts in the current batch: 32\n",
            "2021-07-29 20:59:41,379 : INFO : Texts in the current batch: 32\n",
            "2021-07-29 20:59:48,149 : INFO : Texts in the current batch: 32\n",
            "2021-07-29 20:59:57,039 : INFO : Texts in the current batch: 32\n",
            "2021-07-29 20:59:59,991 : INFO : Texts in the current batch: 32\n",
            "2021-07-29 21:00:05,197 : INFO : Texts in the current batch: 32\n",
            "2021-07-29 21:00:08,104 : INFO : Texts in the current batch: 32\n",
            "2021-07-29 21:00:11,988 : INFO : Texts in the current batch: 32\n",
            "2021-07-29 21:00:16,007 : INFO : Texts in the current batch: 32\n",
            "2021-07-29 21:00:21,804 : INFO : Texts in the current batch: 32\n",
            "2021-07-29 21:00:24,930 : INFO : Texts in the current batch: 32\n",
            "2021-07-29 21:00:28,729 : INFO : Texts in the current batch: 32\n",
            "2021-07-29 21:00:35,933 : INFO : Texts in the current batch: 32\n",
            "2021-07-29 21:00:45,807 : INFO : Texts in the current batch: 32\n",
            "2021-07-29 21:00:51,560 : INFO : Texts in the current batch: 32\n",
            "2021-07-29 21:00:54,438 : INFO : Texts in the current batch: 32\n",
            "2021-07-29 21:00:58,736 : INFO : Texts in the current batch: 32\n",
            "2021-07-29 21:01:03,298 : INFO : Texts in the current batch: 32\n",
            "2021-07-29 21:01:11,630 : INFO : Texts in the current batch: 32\n",
            "2021-07-29 21:01:15,033 : INFO : Texts in the current batch: 32\n",
            "2021-07-29 21:01:18,244 : INFO : Texts in the current batch: 32\n",
            "2021-07-29 21:01:24,235 : INFO : Texts in the current batch: 32\n",
            "2021-07-29 21:01:30,528 : INFO : Texts in the current batch: 32\n",
            "2021-07-29 21:01:35,578 : INFO : Texts in the current batch: 32\n",
            "2021-07-29 21:01:40,588 : INFO : Texts in the current batch: 32\n",
            "2021-07-29 21:01:45,812 : INFO : Texts in the current batch: 32\n",
            "2021-07-29 21:01:57,380 : INFO : Texts in the current batch: 32\n",
            "2021-07-29 21:02:01,416 : INFO : Texts in the current batch: 32\n",
            "2021-07-29 21:02:10,322 : INFO : Texts in the current batch: 32\n",
            "2021-07-29 21:02:23,087 : INFO : Texts in the current batch: 32\n",
            "2021-07-29 21:02:30,982 : INFO : Texts in the current batch: 32\n",
            "2021-07-29 21:02:35,055 : INFO : Texts in the current batch: 32\n",
            "2021-07-29 21:02:38,831 : INFO : Texts in the current batch: 32\n",
            "2021-07-29 21:02:45,021 : INFO : Texts in the current batch: 32\n",
            "2021-07-29 21:02:56,796 : INFO : Texts in the current batch: 32\n",
            "2021-07-29 21:03:01,565 : INFO : Texts in the current batch: 32\n",
            "2021-07-29 21:03:09,803 : INFO : Texts in the current batch: 32\n",
            "2021-07-29 21:03:15,118 : INFO : Texts in the current batch: 32\n",
            "2021-07-29 21:03:18,292 : INFO : Texts in the current batch: 32\n",
            "2021-07-29 21:03:24,306 : INFO : Texts in the current batch: 32\n",
            "2021-07-29 21:03:38,665 : INFO : Texts in the current batch: 32\n",
            "2021-07-29 21:03:50,667 : INFO : Texts in the current batch: 32\n",
            "2021-07-29 21:03:53,910 : INFO : Texts in the current batch: 32\n",
            "2021-07-29 21:03:59,378 : INFO : Texts in the current batch: 32\n",
            "2021-07-29 21:04:05,331 : INFO : Texts in the current batch: 32\n",
            "2021-07-29 21:04:17,062 : INFO : Texts in the current batch: 32\n",
            "2021-07-29 21:04:27,489 : INFO : Texts in the current batch: 32\n",
            "2021-07-29 21:04:37,079 : INFO : Texts in the current batch: 32\n",
            "2021-07-29 21:04:48,513 : INFO : Texts in the current batch: 32\n",
            "2021-07-29 21:04:55,018 : INFO : Texts in the current batch: 32\n",
            "2021-07-29 21:04:58,145 : INFO : Texts in the current batch: 32\n",
            "2021-07-29 21:05:05,683 : INFO : Texts in the current batch: 32\n",
            "2021-07-29 21:05:11,256 : INFO : Texts in the current batch: 32\n",
            "2021-07-29 21:05:16,950 : INFO : Texts in the current batch: 32\n",
            "2021-07-29 21:05:26,966 : INFO : Texts in the current batch: 32\n",
            "2021-07-29 21:05:34,908 : INFO : Texts in the current batch: 32\n",
            "2021-07-29 21:05:38,805 : INFO : Texts in the current batch: 32\n",
            "2021-07-29 21:05:53,191 : INFO : Texts in the current batch: 32\n",
            "2021-07-29 21:06:08,400 : INFO : Texts in the current batch: 32\n",
            "2021-07-29 21:06:15,305 : INFO : Texts in the current batch: 32\n",
            "2021-07-29 21:06:25,070 : INFO : Texts in the current batch: 32\n",
            "2021-07-29 21:06:34,737 : INFO : Texts in the current batch: 32\n",
            "2021-07-29 21:06:37,251 : INFO : Texts in the current batch: 32\n",
            "2021-07-29 21:06:46,033 : INFO : Texts in the current batch: 32\n",
            "2021-07-29 21:06:50,773 : INFO : Texts in the current batch: 32\n",
            "2021-07-29 21:06:59,489 : INFO : Texts in the current batch: 32\n",
            "2021-07-29 21:07:04,288 : INFO : Texts in the current batch: 32\n",
            "2021-07-29 21:07:14,211 : INFO : Texts in the current batch: 32\n",
            "2021-07-29 21:07:19,453 : INFO : Texts in the current batch: 32\n",
            "2021-07-29 21:07:21,867 : INFO : Texts in the current batch: 32\n",
            "2021-07-29 21:07:27,393 : INFO : Texts in the current batch: 32\n",
            "2021-07-29 21:07:34,143 : INFO : Texts in the current batch: 32\n",
            "2021-07-29 21:07:38,632 : INFO : Texts in the current batch: 32\n",
            "2021-07-29 21:07:45,348 : INFO : Texts in the current batch: 32\n",
            "2021-07-29 21:07:48,438 : INFO : Texts in the current batch: 32\n",
            "2021-07-29 21:07:56,080 : INFO : Texts in the current batch: 32\n",
            "2021-07-29 21:08:05,620 : INFO : Texts in the current batch: 32\n",
            "2021-07-29 21:08:13,027 : INFO : Texts in the current batch: 32\n",
            "2021-07-29 21:08:15,725 : INFO : Texts in the current batch: 32\n",
            "2021-07-29 21:08:26,567 : INFO : Texts in the current batch: 32\n",
            "2021-07-29 21:08:30,051 : INFO : Texts in the current batch: 32\n",
            "2021-07-29 21:08:34,943 : INFO : Texts in the current batch: 32\n",
            "2021-07-29 21:08:38,597 : INFO : Texts in the current batch: 32\n",
            "2021-07-29 21:08:43,424 : INFO : Texts in the current batch: 32\n",
            "2021-07-29 21:08:47,560 : INFO : Texts in the current batch: 32\n",
            "2021-07-29 21:08:51,647 : INFO : Texts in the current batch: 32\n",
            "2021-07-29 21:09:01,146 : INFO : Texts in the current batch: 32\n",
            "2021-07-29 21:09:05,236 : INFO : Texts in the current batch: 32\n",
            "2021-07-29 21:09:10,717 : INFO : Texts in the current batch: 32\n",
            "2021-07-29 21:09:14,166 : INFO : Texts in the current batch: 32\n",
            "2021-07-29 21:09:19,095 : INFO : Texts in the current batch: 32\n",
            "2021-07-29 21:09:22,078 : INFO : Texts in the current batch: 32\n",
            "2021-07-29 21:09:29,014 : INFO : Texts in the current batch: 32\n",
            "2021-07-29 21:09:38,069 : INFO : Texts in the current batch: 32\n",
            "2021-07-29 21:09:45,785 : INFO : Texts in the current batch: 32\n",
            "2021-07-29 21:09:55,404 : INFO : Texts in the current batch: 32\n",
            "2021-07-29 21:10:02,236 : INFO : Texts in the current batch: 32\n",
            "2021-07-29 21:10:06,357 : INFO : Texts in the current batch: 32\n",
            "2021-07-29 21:10:11,197 : INFO : Texts in the current batch: 32\n",
            "2021-07-29 21:10:16,980 : INFO : Texts in the current batch: 32\n",
            "2021-07-29 21:10:20,052 : INFO : Texts in the current batch: 32\n",
            "2021-07-29 21:10:24,627 : INFO : Texts in the current batch: 32\n",
            "2021-07-29 21:10:37,363 : INFO : Texts in the current batch: 32\n",
            "2021-07-29 21:10:43,440 : INFO : Texts in the current batch: 32\n",
            "2021-07-29 21:10:47,152 : INFO : Texts in the current batch: 32\n",
            "2021-07-29 21:10:49,478 : INFO : Texts in the current batch: 32\n",
            "2021-07-29 21:10:53,349 : INFO : Texts in the current batch: 32\n",
            "2021-07-29 21:10:58,510 : INFO : Texts in the current batch: 32\n",
            "2021-07-29 21:11:06,681 : INFO : Texts in the current batch: 32\n",
            "2021-07-29 21:11:10,502 : INFO : Texts in the current batch: 32\n",
            "2021-07-29 21:11:16,601 : INFO : Texts in the current batch: 32\n",
            "2021-07-29 21:11:21,027 : INFO : Texts in the current batch: 32\n",
            "2021-07-29 21:11:26,513 : INFO : Texts in the current batch: 32\n",
            "2021-07-29 21:11:29,875 : INFO : Texts in the current batch: 32\n",
            "2021-07-29 21:11:37,975 : INFO : Texts in the current batch: 32\n",
            "2021-07-29 21:11:46,826 : INFO : Texts in the current batch: 32\n",
            "2021-07-29 21:11:58,698 : INFO : Texts in the current batch: 32\n",
            "2021-07-29 21:12:06,263 : INFO : Texts in the current batch: 32\n",
            "2021-07-29 21:12:09,391 : INFO : Texts in the current batch: 32\n",
            "2021-07-29 21:12:11,372 : INFO : Texts in the current batch: 32\n",
            "2021-07-29 21:12:30,361 : INFO : Texts in the current batch: 32\n",
            "2021-07-29 21:12:49,803 : INFO : Texts in the current batch: 32\n",
            "2021-07-29 21:12:56,404 : INFO : Texts in the current batch: 32\n",
            "2021-07-29 21:12:59,091 : INFO : Texts in the current batch: 32\n",
            "2021-07-29 21:13:05,480 : INFO : Texts in the current batch: 32\n",
            "2021-07-29 21:13:10,214 : INFO : Texts in the current batch: 32\n",
            "2021-07-29 21:13:16,494 : INFO : Texts in the current batch: 32\n",
            "2021-07-29 21:13:20,398 : INFO : Texts in the current batch: 32\n",
            "2021-07-29 21:13:24,211 : INFO : Texts in the current batch: 32\n",
            "2021-07-29 21:13:28,087 : INFO : Texts in the current batch: 32\n",
            "2021-07-29 21:13:33,901 : INFO : Texts in the current batch: 32\n",
            "2021-07-29 21:13:36,820 : INFO : Texts in the current batch: 32\n",
            "2021-07-29 21:13:40,332 : INFO : Texts in the current batch: 32\n",
            "2021-07-29 21:13:44,829 : INFO : Texts in the current batch: 32\n",
            "2021-07-29 21:13:50,141 : INFO : Texts in the current batch: 32\n",
            "2021-07-29 21:13:54,518 : INFO : Texts in the current batch: 32\n",
            "2021-07-29 21:13:58,094 : INFO : Texts in the current batch: 32\n",
            "2021-07-29 21:14:02,406 : INFO : Texts in the current batch: 32\n",
            "2021-07-29 21:14:12,839 : INFO : Texts in the current batch: 32\n",
            "2021-07-29 21:14:19,870 : INFO : Texts in the current batch: 32\n",
            "2021-07-29 21:14:26,407 : INFO : Texts in the current batch: 32\n",
            "2021-07-29 21:14:33,166 : INFO : Texts in the current batch: 32\n",
            "2021-07-29 21:14:47,124 : INFO : Texts in the current batch: 32\n",
            "2021-07-29 21:14:50,095 : INFO : Texts in the current batch: 32\n",
            "2021-07-29 21:14:53,058 : INFO : Texts in the current batch: 32\n",
            "2021-07-29 21:15:00,551 : INFO : Texts in the current batch: 32\n",
            "2021-07-29 21:15:04,471 : INFO : Texts in the current batch: 32\n",
            "2021-07-29 21:15:14,936 : INFO : Texts in the current batch: 32\n",
            "2021-07-29 21:15:19,767 : INFO : Texts in the current batch: 32\n",
            "2021-07-29 21:15:25,079 : INFO : Texts in the current batch: 32\n",
            "2021-07-29 21:15:29,223 : INFO : Texts in the current batch: 32\n",
            "2021-07-29 21:15:32,594 : INFO : Texts in the current batch: 32\n",
            "2021-07-29 21:15:34,657 : INFO : Texts in the current batch: 32\n",
            "2021-07-29 21:15:37,205 : INFO : Texts in the current batch: 32\n",
            "2021-07-29 21:15:44,185 : INFO : Texts in the current batch: 32\n",
            "2021-07-29 21:15:54,586 : INFO : Texts in the current batch: 32\n",
            "2021-07-29 21:16:04,082 : INFO : Texts in the current batch: 32\n",
            "2021-07-29 21:16:14,775 : INFO : Texts in the current batch: 32\n",
            "2021-07-29 21:16:18,634 : INFO : Texts in the current batch: 32\n",
            "2021-07-29 21:16:24,350 : INFO : Texts in the current batch: 32\n",
            "2021-07-29 21:16:28,921 : INFO : Texts in the current batch: 32\n",
            "2021-07-29 21:16:33,269 : INFO : Texts in the current batch: 32\n",
            "2021-07-29 21:16:38,323 : INFO : Texts in the current batch: 32\n",
            "2021-07-29 21:16:43,710 : INFO : Texts in the current batch: 32\n",
            "2021-07-29 21:16:48,082 : INFO : Texts in the current batch: 32\n",
            "2021-07-29 21:16:53,411 : INFO : Texts in the current batch: 32\n",
            "2021-07-29 21:16:57,424 : INFO : Texts in the current batch: 32\n",
            "2021-07-29 21:17:06,976 : INFO : Texts in the current batch: 32\n",
            "2021-07-29 21:17:14,944 : INFO : Texts in the current batch: 32\n",
            "2021-07-29 21:17:18,180 : INFO : Texts in the current batch: 32\n",
            "2021-07-29 21:17:22,457 : INFO : Texts in the current batch: 32\n",
            "2021-07-29 21:17:28,626 : INFO : Texts in the current batch: 32\n",
            "2021-07-29 21:17:35,517 : INFO : Texts in the current batch: 32\n",
            "2021-07-29 21:17:45,667 : INFO : Texts in the current batch: 32\n",
            "2021-07-29 21:17:53,383 : INFO : Texts in the current batch: 32\n",
            "2021-07-29 21:18:03,768 : INFO : Texts in the current batch: 32\n",
            "2021-07-29 21:18:26,630 : INFO : Texts in the current batch: 32\n",
            "2021-07-29 21:18:30,353 : INFO : Texts in the current batch: 32\n",
            "2021-07-29 21:18:34,363 : INFO : Texts in the current batch: 32\n",
            "2021-07-29 21:18:40,571 : INFO : Texts in the current batch: 32\n",
            "2021-07-29 21:18:45,013 : INFO : Texts in the current batch: 32\n",
            "2021-07-29 21:18:47,655 : INFO : Texts in the current batch: 32\n",
            "2021-07-29 21:18:53,688 : INFO : Texts in the current batch: 32\n",
            "2021-07-29 21:18:56,255 : INFO : Texts in the current batch: 32\n",
            "2021-07-29 21:18:59,462 : INFO : Texts in the current batch: 32\n",
            "2021-07-29 21:19:04,652 : INFO : Texts in the current batch: 32\n",
            "2021-07-29 21:19:08,340 : INFO : Texts in the current batch: 32\n",
            "2021-07-29 21:19:15,633 : INFO : Texts in the current batch: 32\n",
            "2021-07-29 21:19:26,711 : INFO : Texts in the current batch: 32\n",
            "2021-07-29 21:19:36,157 : INFO : Texts in the current batch: 32\n",
            "2021-07-29 21:19:42,510 : INFO : Texts in the current batch: 32\n",
            "2021-07-29 21:19:55,505 : INFO : Texts in the current batch: 32\n",
            "2021-07-29 21:20:02,713 : INFO : Texts in the current batch: 32\n",
            "2021-07-29 21:20:07,363 : INFO : Texts in the current batch: 32\n",
            "2021-07-29 21:20:10,516 : INFO : Texts in the current batch: 32\n",
            "2021-07-29 21:20:14,637 : INFO : Texts in the current batch: 32\n",
            "2021-07-29 21:20:20,516 : INFO : Texts in the current batch: 32\n",
            "2021-07-29 21:20:27,444 : INFO : Texts in the current batch: 32\n",
            "2021-07-29 21:20:33,415 : INFO : Texts in the current batch: 32\n",
            "2021-07-29 21:20:39,087 : INFO : Texts in the current batch: 32\n",
            "2021-07-29 21:20:45,121 : INFO : Texts in the current batch: 32\n",
            "2021-07-29 21:20:48,072 : INFO : Texts in the current batch: 32\n",
            "2021-07-29 21:20:51,255 : INFO : Texts in the current batch: 32\n",
            "2021-07-29 21:20:58,446 : INFO : Texts in the current batch: 32\n",
            "2021-07-29 21:21:01,895 : INFO : Texts in the current batch: 32\n",
            "2021-07-29 21:21:06,796 : INFO : Texts in the current batch: 32\n",
            "2021-07-29 21:21:17,510 : INFO : Texts in the current batch: 32\n",
            "2021-07-29 21:21:25,447 : INFO : Texts in the current batch: 32\n",
            "2021-07-29 21:21:29,778 : INFO : Texts in the current batch: 32\n",
            "2021-07-29 21:21:34,652 : INFO : Texts in the current batch: 32\n",
            "2021-07-29 21:21:38,182 : INFO : Texts in the current batch: 32\n",
            "2021-07-29 21:21:40,478 : INFO : Texts in the current batch: 32\n",
            "2021-07-29 21:21:43,487 : INFO : Texts in the current batch: 32\n",
            "2021-07-29 21:21:46,298 : INFO : Texts in the current batch: 32\n",
            "2021-07-29 21:21:52,225 : INFO : Texts in the current batch: 32\n",
            "2021-07-29 21:22:00,145 : INFO : Texts in the current batch: 32\n",
            "2021-07-29 21:22:15,706 : INFO : Texts in the current batch: 32\n",
            "2021-07-29 21:22:26,797 : INFO : Texts in the current batch: 32\n",
            "2021-07-29 21:22:33,437 : INFO : Texts in the current batch: 32\n",
            "2021-07-29 21:22:39,492 : INFO : Texts in the current batch: 32\n",
            "2021-07-29 21:22:47,066 : INFO : Texts in the current batch: 32\n",
            "2021-07-29 21:22:57,726 : INFO : Texts in the current batch: 32\n",
            "2021-07-29 21:23:02,197 : INFO : Texts in the current batch: 32\n",
            "2021-07-29 21:23:05,940 : INFO : Texts in the current batch: 32\n",
            "2021-07-29 21:23:08,778 : INFO : Texts in the current batch: 32\n",
            "2021-07-29 21:23:15,022 : INFO : Texts in the current batch: 32\n",
            "2021-07-29 21:23:20,307 : INFO : Texts in the current batch: 32\n",
            "2021-07-29 21:23:26,888 : INFO : Texts in the current batch: 32\n",
            "2021-07-29 21:23:37,917 : INFO : Texts in the current batch: 32\n",
            "2021-07-29 21:23:43,769 : INFO : Texts in the current batch: 32\n",
            "2021-07-29 21:23:49,135 : INFO : Texts in the current batch: 32\n",
            "2021-07-29 21:23:51,468 : INFO : Texts in the current batch: 32\n",
            "2021-07-29 21:23:54,099 : INFO : Texts in the current batch: 32\n",
            "2021-07-29 21:24:00,077 : INFO : Texts in the current batch: 32\n",
            "2021-07-29 21:24:05,266 : INFO : Texts in the current batch: 32\n",
            "2021-07-29 21:24:12,462 : INFO : Texts in the current batch: 32\n",
            "2021-07-29 21:24:20,106 : INFO : Texts in the current batch: 32\n",
            "2021-07-29 21:24:22,530 : INFO : Texts in the current batch: 32\n",
            "2021-07-29 21:24:28,374 : INFO : Texts in the current batch: 32\n",
            "2021-07-29 21:24:35,693 : INFO : Texts in the current batch: 32\n",
            "2021-07-29 21:24:43,577 : INFO : Texts in the current batch: 32\n",
            "2021-07-29 21:24:51,234 : INFO : Texts in the current batch: 32\n",
            "2021-07-29 21:24:55,845 : INFO : Texts in the current batch: 32\n",
            "2021-07-29 21:24:58,374 : INFO : Texts in the current batch: 32\n",
            "2021-07-29 21:25:04,234 : INFO : Texts in the current batch: 32\n",
            "2021-07-29 21:25:09,563 : INFO : Texts in the current batch: 32\n",
            "2021-07-29 21:25:12,812 : INFO : Texts in the current batch: 32\n",
            "2021-07-29 21:25:21,823 : INFO : Texts in the current batch: 32\n",
            "2021-07-29 21:25:25,257 : INFO : Texts in the current batch: 32\n",
            "2021-07-29 21:25:31,792 : INFO : Texts in the current batch: 32\n",
            "2021-07-29 21:25:37,316 : INFO : Texts in the current batch: 32\n",
            "2021-07-29 21:25:53,801 : INFO : Texts in the current batch: 32\n",
            "2021-07-29 21:26:03,870 : INFO : Texts in the current batch: 32\n",
            "2021-07-29 21:26:07,854 : INFO : Texts in the current batch: 32\n",
            "2021-07-29 21:26:16,202 : INFO : Texts in the current batch: 32\n",
            "2021-07-29 21:26:20,618 : INFO : Texts in the current batch: 32\n",
            "2021-07-29 21:26:27,016 : INFO : Texts in the current batch: 32\n",
            "2021-07-29 21:26:32,018 : INFO : Texts in the current batch: 32\n",
            "2021-07-29 21:26:39,648 : INFO : Texts in the current batch: 32\n",
            "2021-07-29 21:26:44,120 : INFO : Texts in the current batch: 32\n",
            "2021-07-29 21:26:54,891 : INFO : Texts in the current batch: 32\n",
            "2021-07-29 21:27:01,818 : INFO : Texts in the current batch: 32\n",
            "2021-07-29 21:27:07,979 : INFO : Texts in the current batch: 32\n",
            "2021-07-29 21:27:14,209 : INFO : Texts in the current batch: 32\n",
            "2021-07-29 21:27:24,075 : INFO : Texts in the current batch: 32\n",
            "2021-07-29 21:27:34,340 : INFO : Texts in the current batch: 32\n",
            "2021-07-29 21:27:41,865 : INFO : Texts in the current batch: 32\n",
            "2021-07-29 21:27:45,800 : INFO : Texts in the current batch: 32\n",
            "2021-07-29 21:27:55,648 : INFO : Texts in the current batch: 32\n",
            "2021-07-29 21:28:00,764 : INFO : Texts in the current batch: 32\n",
            "2021-07-29 21:28:07,420 : INFO : Texts in the current batch: 32\n",
            "2021-07-29 21:28:13,429 : INFO : Texts in the current batch: 32\n",
            "2021-07-29 21:28:15,695 : INFO : Texts in the current batch: 32\n",
            "2021-07-29 21:28:22,824 : INFO : Texts in the current batch: 32\n",
            "2021-07-29 21:28:26,068 : INFO : Texts in the current batch: 32\n",
            "2021-07-29 21:28:28,340 : INFO : Texts in the current batch: 32\n",
            "2021-07-29 21:28:32,455 : INFO : Texts in the current batch: 32\n",
            "2021-07-29 21:28:36,309 : INFO : Texts in the current batch: 32\n",
            "2021-07-29 21:28:39,747 : INFO : Texts in the current batch: 32\n",
            "2021-07-29 21:28:46,909 : INFO : Texts in the current batch: 32\n",
            "2021-07-29 21:28:53,435 : INFO : Texts in the current batch: 32\n",
            "2021-07-29 21:28:58,577 : INFO : Texts in the current batch: 32\n",
            "2021-07-29 21:29:03,937 : INFO : Texts in the current batch: 32\n",
            "2021-07-29 21:29:08,477 : INFO : Texts in the current batch: 32\n",
            "2021-07-29 21:29:12,971 : INFO : Texts in the current batch: 32\n",
            "2021-07-29 21:29:22,929 : INFO : Texts in the current batch: 32\n",
            "2021-07-29 21:29:29,259 : INFO : Texts in the current batch: 32\n",
            "2021-07-29 21:29:38,492 : INFO : Texts in the current batch: 32\n",
            "2021-07-29 21:29:42,805 : INFO : Texts in the current batch: 32\n",
            "2021-07-29 21:29:48,754 : INFO : Texts in the current batch: 32\n",
            "2021-07-29 21:29:53,104 : INFO : Texts in the current batch: 32\n",
            "2021-07-29 21:29:56,225 : INFO : Texts in the current batch: 32\n",
            "2021-07-29 21:30:00,526 : INFO : Texts in the current batch: 32\n",
            "2021-07-29 21:30:06,252 : INFO : Texts in the current batch: 32\n",
            "2021-07-29 21:30:12,392 : INFO : Texts in the current batch: 32\n",
            "2021-07-29 21:30:22,562 : INFO : Texts in the current batch: 32\n",
            "2021-07-29 21:30:25,766 : INFO : Texts in the current batch: 32\n",
            "2021-07-29 21:30:34,496 : INFO : Texts in the current batch: 32\n",
            "2021-07-29 21:30:38,315 : INFO : Texts in the current batch: 32\n",
            "2021-07-29 21:30:40,953 : INFO : Texts in the current batch: 32\n",
            "2021-07-29 21:30:45,823 : INFO : Texts in the current batch: 32\n",
            "2021-07-29 21:30:49,283 : INFO : Texts in the current batch: 32\n",
            "2021-07-29 21:31:00,475 : INFO : Texts in the current batch: 32\n",
            "2021-07-29 21:31:04,487 : INFO : Texts in the current batch: 32\n",
            "2021-07-29 21:31:10,977 : INFO : Texts in the current batch: 32\n",
            "2021-07-29 21:31:16,418 : INFO : Texts in the current batch: 32\n",
            "2021-07-29 21:31:35,641 : INFO : Texts in the current batch: 32\n",
            "2021-07-29 21:31:41,361 : INFO : Texts in the current batch: 32\n",
            "2021-07-29 21:31:47,139 : INFO : Texts in the current batch: 32\n",
            "2021-07-29 21:31:50,417 : INFO : Texts in the current batch: 32\n",
            "2021-07-29 21:31:53,503 : INFO : Texts in the current batch: 32\n",
            "2021-07-29 21:32:00,866 : INFO : Texts in the current batch: 32\n",
            "2021-07-29 21:32:04,809 : INFO : Texts in the current batch: 32\n",
            "2021-07-29 21:32:13,762 : INFO : Texts in the current batch: 32\n",
            "2021-07-29 21:32:19,366 : INFO : Texts in the current batch: 32\n",
            "2021-07-29 21:32:31,430 : INFO : Texts in the current batch: 32\n",
            "2021-07-29 21:32:44,963 : INFO : Texts in the current batch: 32\n",
            "2021-07-29 21:32:48,287 : INFO : Texts in the current batch: 32\n",
            "2021-07-29 21:32:50,078 : INFO : Texts in the current batch: 32\n",
            "2021-07-29 21:32:55,446 : INFO : Texts in the current batch: 32\n",
            "2021-07-29 21:32:59,596 : INFO : Texts in the current batch: 32\n",
            "2021-07-29 21:33:04,087 : INFO : Texts in the current batch: 32\n",
            "2021-07-29 21:33:09,600 : INFO : Texts in the current batch: 32\n",
            "2021-07-29 21:33:13,858 : INFO : Texts in the current batch: 32\n",
            "2021-07-29 21:33:17,567 : INFO : Texts in the current batch: 32\n",
            "2021-07-29 21:33:24,320 : INFO : Texts in the current batch: 32\n",
            "2021-07-29 21:33:28,115 : INFO : Texts in the current batch: 32\n",
            "2021-07-29 21:33:31,097 : INFO : Texts in the current batch: 32\n",
            "2021-07-29 21:33:35,024 : INFO : Texts in the current batch: 32\n",
            "2021-07-29 21:33:38,695 : INFO : Texts in the current batch: 32\n",
            "2021-07-29 21:33:45,231 : INFO : Texts in the current batch: 32\n",
            "2021-07-29 21:33:52,234 : INFO : Texts in the current batch: 32\n",
            "2021-07-29 21:33:58,356 : INFO : Texts in the current batch: 32\n",
            "2021-07-29 21:34:05,613 : INFO : Texts in the current batch: 32\n",
            "2021-07-29 21:34:09,419 : INFO : Texts in the current batch: 32\n",
            "2021-07-29 21:34:19,827 : INFO : Texts in the current batch: 32\n",
            "2021-07-29 21:34:25,170 : INFO : Texts in the current batch: 32\n",
            "2021-07-29 21:34:31,712 : INFO : Texts in the current batch: 32\n",
            "2021-07-29 21:34:35,514 : INFO : Texts in the current batch: 32\n",
            "2021-07-29 21:34:40,870 : INFO : Texts in the current batch: 32\n",
            "2021-07-29 21:34:44,872 : INFO : Texts in the current batch: 32\n",
            "2021-07-29 21:34:48,158 : INFO : Texts in the current batch: 32\n",
            "2021-07-29 21:34:52,190 : INFO : Texts in the current batch: 32\n",
            "2021-07-29 21:34:57,574 : INFO : Texts in the current batch: 32\n",
            "2021-07-29 21:35:12,137 : INFO : Texts in the current batch: 32\n",
            "2021-07-29 21:35:19,117 : INFO : Texts in the current batch: 32\n",
            "2021-07-29 21:35:21,716 : INFO : Texts in the current batch: 32\n",
            "2021-07-29 21:35:31,872 : INFO : Texts in the current batch: 32\n",
            "2021-07-29 21:35:36,027 : INFO : Texts in the current batch: 32\n",
            "2021-07-29 21:35:40,233 : INFO : Texts in the current batch: 32\n",
            "2021-07-29 21:35:46,756 : INFO : Texts in the current batch: 32\n",
            "2021-07-29 21:36:00,630 : INFO : Texts in the current batch: 32\n",
            "2021-07-29 21:36:03,365 : INFO : Texts in the current batch: 32\n",
            "2021-07-29 21:36:13,336 : INFO : Texts in the current batch: 32\n",
            "2021-07-29 21:36:23,834 : INFO : Texts in the current batch: 32\n",
            "2021-07-29 21:36:31,411 : INFO : Texts in the current batch: 32\n",
            "2021-07-29 21:36:35,476 : INFO : Texts in the current batch: 32\n",
            "2021-07-29 21:36:46,266 : INFO : Texts in the current batch: 32\n",
            "2021-07-29 21:36:52,985 : INFO : Texts in the current batch: 32\n",
            "2021-07-29 21:36:55,570 : INFO : Texts in the current batch: 32\n",
            "2021-07-29 21:37:03,397 : INFO : Texts in the current batch: 32\n",
            "2021-07-29 21:37:08,632 : INFO : Texts in the current batch: 32\n",
            "2021-07-29 21:37:15,865 : INFO : Texts in the current batch: 32\n",
            "2021-07-29 21:37:21,603 : INFO : Texts in the current batch: 32\n",
            "2021-07-29 21:37:26,879 : INFO : Texts in the current batch: 32\n",
            "2021-07-29 21:37:31,034 : INFO : Texts in the current batch: 32\n",
            "2021-07-29 21:37:36,754 : INFO : Texts in the current batch: 32\n",
            "2021-07-29 21:37:43,090 : INFO : Texts in the current batch: 32\n",
            "2021-07-29 21:37:50,192 : INFO : Texts in the current batch: 32\n",
            "2021-07-29 21:37:58,362 : INFO : Texts in the current batch: 32\n",
            "2021-07-29 21:38:04,360 : INFO : Texts in the current batch: 32\n",
            "2021-07-29 21:38:07,876 : INFO : Texts in the current batch: 32\n",
            "2021-07-29 21:38:12,626 : INFO : Texts in the current batch: 32\n",
            "2021-07-29 21:38:21,426 : INFO : Texts in the current batch: 32\n",
            "2021-07-29 21:38:31,473 : INFO : Texts in the current batch: 32\n",
            "2021-07-29 21:38:40,159 : INFO : Texts in the current batch: 32\n",
            "2021-07-29 21:38:43,542 : INFO : Texts in the current batch: 32\n",
            "2021-07-29 21:38:47,992 : INFO : Texts in the current batch: 32\n",
            "2021-07-29 21:39:00,390 : INFO : Texts in the current batch: 32\n",
            "2021-07-29 21:39:06,100 : INFO : Texts in the current batch: 32\n",
            "2021-07-29 21:39:12,585 : INFO : Texts in the current batch: 32\n",
            "2021-07-29 21:39:20,084 : INFO : Texts in the current batch: 32\n",
            "2021-07-29 21:39:23,082 : INFO : Texts in the current batch: 32\n",
            "2021-07-29 21:39:47,613 : INFO : Texts in the current batch: 32\n",
            "2021-07-29 21:39:53,667 : INFO : Texts in the current batch: 32\n",
            "2021-07-29 21:39:58,179 : INFO : Texts in the current batch: 32\n",
            "2021-07-29 21:40:10,664 : INFO : Texts in the current batch: 32\n",
            "2021-07-29 21:40:16,716 : INFO : Texts in the current batch: 32\n",
            "2021-07-29 21:40:25,109 : INFO : Texts in the current batch: 32\n",
            "2021-07-29 21:40:27,438 : INFO : Texts in the current batch: 32\n",
            "2021-07-29 21:40:32,443 : INFO : Texts in the current batch: 32\n",
            "2021-07-29 21:40:42,058 : INFO : Texts in the current batch: 32\n",
            "2021-07-29 21:40:45,813 : INFO : Texts in the current batch: 32\n",
            "2021-07-29 21:40:52,059 : INFO : Texts in the current batch: 32\n",
            "2021-07-29 21:40:58,745 : INFO : Texts in the current batch: 32\n",
            "2021-07-29 21:41:08,952 : INFO : Texts in the current batch: 32\n",
            "2021-07-29 21:41:17,723 : INFO : Texts in the current batch: 32\n",
            "2021-07-29 21:41:25,691 : INFO : Texts in the current batch: 32\n",
            "2021-07-29 21:41:30,915 : INFO : Texts in the current batch: 32\n",
            "2021-07-29 21:41:36,008 : INFO : Texts in the current batch: 32\n",
            "2021-07-29 21:41:45,927 : INFO : Texts in the current batch: 32\n",
            "2021-07-29 21:41:53,919 : INFO : Texts in the current batch: 32\n",
            "2021-07-29 21:42:00,157 : INFO : Texts in the current batch: 32\n",
            "2021-07-29 21:42:11,639 : INFO : Texts in the current batch: 32\n",
            "2021-07-29 21:42:19,487 : INFO : Texts in the current batch: 32\n",
            "2021-07-29 21:42:26,330 : INFO : Texts in the current batch: 32\n",
            "2021-07-29 21:42:32,162 : INFO : Texts in the current batch: 32\n",
            "2021-07-29 21:42:51,436 : INFO : Texts in the current batch: 32\n",
            "2021-07-29 21:42:56,045 : INFO : Texts in the current batch: 32\n",
            "2021-07-29 21:42:59,730 : INFO : Texts in the current batch: 32\n",
            "2021-07-29 21:43:07,348 : INFO : Texts in the current batch: 32\n",
            "2021-07-29 21:43:11,901 : INFO : Texts in the current batch: 32\n",
            "2021-07-29 21:43:20,582 : INFO : Texts in the current batch: 32\n",
            "2021-07-29 21:43:30,608 : INFO : Texts in the current batch: 32\n",
            "2021-07-29 21:43:36,032 : INFO : Texts in the current batch: 32\n",
            "2021-07-29 21:43:45,319 : INFO : Texts in the current batch: 32\n",
            "2021-07-29 21:43:56,301 : INFO : Texts in the current batch: 32\n",
            "2021-07-29 21:44:01,427 : INFO : Texts in the current batch: 32\n",
            "2021-07-29 21:44:07,140 : INFO : Texts in the current batch: 32\n",
            "2021-07-29 21:44:11,272 : INFO : Texts in the current batch: 32\n",
            "2021-07-29 21:44:13,794 : INFO : Texts in the current batch: 32\n",
            "2021-07-29 21:44:19,300 : INFO : Texts in the current batch: 32\n",
            "2021-07-29 21:44:23,199 : INFO : Texts in the current batch: 32\n",
            "2021-07-29 21:44:25,565 : INFO : Texts in the current batch: 32\n",
            "2021-07-29 21:44:32,897 : INFO : Texts in the current batch: 32\n",
            "2021-07-29 21:44:36,530 : INFO : Texts in the current batch: 32\n",
            "2021-07-29 21:44:42,382 : INFO : Texts in the current batch: 32\n",
            "2021-07-29 21:44:47,078 : INFO : Texts in the current batch: 32\n",
            "2021-07-29 21:44:58,588 : INFO : Texts in the current batch: 32\n",
            "2021-07-29 21:45:02,564 : INFO : Texts in the current batch: 32\n",
            "2021-07-29 21:45:06,514 : INFO : Texts in the current batch: 32\n",
            "2021-07-29 21:45:11,692 : INFO : Texts in the current batch: 32\n",
            "2021-07-29 21:45:16,932 : INFO : Texts in the current batch: 32\n",
            "2021-07-29 21:45:21,155 : INFO : Texts in the current batch: 32\n",
            "2021-07-29 21:45:28,397 : INFO : Texts in the current batch: 32\n",
            "2021-07-29 21:45:35,235 : INFO : Texts in the current batch: 32\n",
            "2021-07-29 21:45:41,077 : INFO : Texts in the current batch: 32\n",
            "2021-07-29 21:45:46,140 : INFO : Texts in the current batch: 32\n",
            "2021-07-29 21:45:50,174 : INFO : Texts in the current batch: 32\n",
            "2021-07-29 21:45:54,915 : INFO : Texts in the current batch: 32\n",
            "2021-07-29 21:45:59,307 : INFO : Texts in the current batch: 32\n",
            "2021-07-29 21:46:03,464 : INFO : Texts in the current batch: 32\n",
            "2021-07-29 21:46:07,471 : INFO : Texts in the current batch: 32\n",
            "2021-07-29 21:46:15,351 : INFO : Texts in the current batch: 32\n",
            "2021-07-29 21:46:23,821 : INFO : Texts in the current batch: 32\n",
            "2021-07-29 21:46:35,993 : INFO : Texts in the current batch: 32\n",
            "2021-07-29 21:46:44,475 : INFO : Texts in the current batch: 32\n",
            "2021-07-29 21:46:50,540 : INFO : Texts in the current batch: 32\n",
            "2021-07-29 21:46:53,713 : INFO : Texts in the current batch: 32\n",
            "2021-07-29 21:46:57,778 : INFO : Texts in the current batch: 32\n",
            "2021-07-29 21:47:02,416 : INFO : Texts in the current batch: 32\n",
            "2021-07-29 21:47:13,591 : INFO : Texts in the current batch: 32\n",
            "2021-07-29 21:47:19,960 : INFO : Texts in the current batch: 32\n",
            "2021-07-29 21:47:26,385 : INFO : Texts in the current batch: 32\n",
            "2021-07-29 21:47:29,927 : INFO : Texts in the current batch: 32\n",
            "2021-07-29 21:47:32,748 : INFO : Texts in the current batch: 32\n",
            "2021-07-29 21:47:52,015 : INFO : Texts in the current batch: 32\n",
            "2021-07-29 21:47:57,966 : INFO : Texts in the current batch: 32\n",
            "2021-07-29 21:48:07,726 : INFO : Texts in the current batch: 32\n",
            "2021-07-29 21:48:15,946 : INFO : Texts in the current batch: 32\n",
            "2021-07-29 21:48:22,362 : INFO : Texts in the current batch: 32\n",
            "2021-07-29 21:48:31,789 : INFO : Texts in the current batch: 32\n",
            "2021-07-29 21:48:36,714 : INFO : Texts in the current batch: 32\n",
            "2021-07-29 21:48:40,407 : INFO : Texts in the current batch: 32\n",
            "2021-07-29 21:48:45,434 : INFO : Texts in the current batch: 32\n",
            "2021-07-29 21:48:59,062 : INFO : Texts in the current batch: 32\n",
            "2021-07-29 21:49:05,815 : INFO : Texts in the current batch: 32\n",
            "2021-07-29 21:49:08,082 : INFO : Texts in the current batch: 32\n",
            "2021-07-29 21:49:15,487 : INFO : Texts in the current batch: 32\n",
            "2021-07-29 21:49:20,856 : INFO : Texts in the current batch: 32\n",
            "2021-07-29 21:49:25,426 : INFO : Texts in the current batch: 32\n",
            "2021-07-29 21:49:30,840 : INFO : Texts in the current batch: 32\n",
            "2021-07-29 21:49:42,184 : INFO : Texts in the current batch: 32\n",
            "2021-07-29 21:49:47,610 : INFO : Texts in the current batch: 32\n",
            "2021-07-29 21:49:54,495 : INFO : Texts in the current batch: 32\n",
            "2021-07-29 21:50:02,996 : INFO : Texts in the current batch: 32\n",
            "2021-07-29 21:50:10,422 : INFO : Texts in the current batch: 32\n",
            "2021-07-29 21:50:13,804 : INFO : Texts in the current batch: 32\n",
            "2021-07-29 21:50:21,684 : INFO : Texts in the current batch: 32\n",
            "2021-07-29 21:50:29,032 : INFO : Texts in the current batch: 32\n",
            "2021-07-29 21:50:34,755 : INFO : Texts in the current batch: 32\n",
            "2021-07-29 21:50:43,362 : INFO : Texts in the current batch: 32\n",
            "2021-07-29 21:50:48,304 : INFO : Texts in the current batch: 32\n",
            "2021-07-29 21:50:56,173 : INFO : Texts in the current batch: 32\n",
            "2021-07-29 21:51:05,352 : INFO : Texts in the current batch: 32\n",
            "2021-07-29 21:51:16,809 : INFO : Texts in the current batch: 32\n",
            "2021-07-29 21:51:22,009 : INFO : Texts in the current batch: 32\n",
            "2021-07-29 21:51:27,201 : INFO : Texts in the current batch: 32\n",
            "2021-07-29 21:51:31,786 : INFO : Texts in the current batch: 32\n",
            "2021-07-29 21:51:36,113 : INFO : Texts in the current batch: 32\n",
            "2021-07-29 21:51:40,755 : INFO : Texts in the current batch: 32\n",
            "2021-07-29 21:51:44,404 : INFO : Texts in the current batch: 32\n",
            "2021-07-29 21:52:26,373 : INFO : Texts in the current batch: 32\n",
            "2021-07-29 21:52:31,927 : INFO : Texts in the current batch: 32\n",
            "2021-07-29 21:52:38,253 : INFO : Texts in the current batch: 32\n",
            "2021-07-29 21:52:46,321 : INFO : Texts in the current batch: 32\n",
            "2021-07-29 21:52:51,336 : INFO : Texts in the current batch: 32\n",
            "2021-07-29 21:52:58,739 : INFO : Texts in the current batch: 32\n",
            "2021-07-29 21:53:07,769 : INFO : Texts in the current batch: 32\n",
            "2021-07-29 21:53:12,458 : INFO : Texts in the current batch: 32\n",
            "2021-07-29 21:53:17,362 : INFO : Texts in the current batch: 32\n",
            "2021-07-29 21:53:21,767 : INFO : Texts in the current batch: 32\n",
            "2021-07-29 21:53:38,088 : INFO : Texts in the current batch: 32\n",
            "2021-07-29 21:53:43,972 : INFO : Texts in the current batch: 32\n",
            "2021-07-29 21:53:53,561 : INFO : Texts in the current batch: 32\n",
            "2021-07-29 21:53:57,553 : INFO : Texts in the current batch: 32\n",
            "2021-07-29 21:54:02,346 : INFO : Texts in the current batch: 32\n",
            "2021-07-29 21:54:06,392 : INFO : Texts in the current batch: 32\n",
            "2021-07-29 21:54:11,439 : INFO : Texts in the current batch: 32\n",
            "2021-07-29 21:54:17,821 : INFO : Texts in the current batch: 32\n",
            "2021-07-29 21:54:24,344 : INFO : Texts in the current batch: 32\n",
            "2021-07-29 21:54:32,642 : INFO : Texts in the current batch: 32\n",
            "2021-07-29 21:54:41,043 : INFO : Texts in the current batch: 32\n",
            "2021-07-29 21:54:48,496 : INFO : Texts in the current batch: 19\n"
          ]
        }
      ],
      "metadata": {
        "id": "H3gVb0_ZMpeo"
      }
    },
    {
      "cell_type": "markdown",
      "source": [
        "на строчке выше отваливаюсь по RAM в colab, попробую решить вопрос на локальной машине"
      ],
      "metadata": {
        "id": "aiMpMGLqXMaO"
      }
    },
    {
      "cell_type": "code",
      "execution_count": 31,
      "source": [
        "import pickle\n",
        "with open('embeddings.pickle', 'wb') as f:\n",
        "    pickle.dump(vectors, f)"
      ],
      "outputs": [],
      "metadata": {
        "id": "_B_TTHXkQrvu"
      }
    },
    {
      "cell_type": "code",
      "execution_count": null,
      "source": [
        "vectors"
      ],
      "outputs": [
        {
          "output_type": "error",
          "ename": "Error",
          "evalue": "Session cannot generate requests",
          "traceback": [
            "Error: Session cannot generate requests",
            "at w.executeCodeCell (/Users/tombelov/.vscode/extensions/ms-toolsai.jupyter-2021.8.1054968649/out/client/extension.js:90:320068)",
            "at w.execute (/Users/tombelov/.vscode/extensions/ms-toolsai.jupyter-2021.8.1054968649/out/client/extension.js:90:319389)",
            "at w.start (/Users/tombelov/.vscode/extensions/ms-toolsai.jupyter-2021.8.1054968649/out/client/extension.js:90:315205)",
            "at runMicrotasks (<anonymous>)",
            "at processTicksAndRejections (internal/process/task_queues.js:93:5)",
            "at async t.CellExecutionQueue.executeQueuedCells (/Users/tombelov/.vscode/extensions/ms-toolsai.jupyter-2021.8.1054968649/out/client/extension.js:90:329732)",
            "at async t.CellExecutionQueue.start (/Users/tombelov/.vscode/extensions/ms-toolsai.jupyter-2021.8.1054968649/out/client/extension.js:90:329272)"
          ]
        }
      ],
      "metadata": {}
    },
    {
      "cell_type": "code",
      "execution_count": null,
      "source": [],
      "outputs": [],
      "metadata": {}
    }
  ]
}