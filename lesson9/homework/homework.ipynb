{
  "nbformat": 4,
  "nbformat_minor": 2,
  "metadata": {
    "accelerator": "GPU",
    "colab": {
      "name": "text_generation.ipynb",
      "provenance": [],
      "collapsed_sections": [],
      "toc_visible": true
    },
    "kernelspec": {
      "name": "python3",
      "display_name": "Python 3.9.1 64-bit ('base': conda)"
    },
    "language_info": {
      "name": "python",
      "version": "3.9.1",
      "mimetype": "text/x-python",
      "codemirror_mode": {
        "name": "ipython",
        "version": 3
      },
      "pygments_lexer": "ipython3",
      "nbconvert_exporter": "python",
      "file_extension": ".py"
    },
    "interpreter": {
      "hash": "5822cce0dfea77bd1b5b649d2f91871660e133f67e755bca28128586ccbc8559"
    }
  },
  "cells": [
    {
      "cell_type": "code",
      "execution_count": 2,
      "source": [
        "import tensorflow as tf\n",
        "\n",
        "import numpy as np\n",
        "import os\n",
        "import time"
      ],
      "outputs": [],
      "metadata": {
        "id": "yG_n40gFzf9s"
      }
    },
    {
      "cell_type": "code",
      "execution_count": 3,
      "source": [
        "path_to_file = '../bible.txt'"
      ],
      "outputs": [],
      "metadata": {
        "id": "-an5tHuaRmqD"
      }
    },
    {
      "cell_type": "code",
      "execution_count": 4,
      "source": [
        "text = open(path_to_file, 'rb').read().decode(encoding='utf-8')\n",
        "# length of text is the number of characters in it\n",
        "print('Length of text: {} characters'.format(len(text)))"
      ],
      "outputs": [
        {
          "output_type": "stream",
          "name": "stdout",
          "text": [
            "Length of text: 834418 characters\n"
          ]
        }
      ],
      "metadata": {
        "colab": {
          "base_uri": "https://localhost:8080/"
        },
        "id": "aavnuByVymwK",
        "outputId": "f0df7edc-a294-4eee-e658-25d20772c4d3"
      }
    },
    {
      "cell_type": "code",
      "execution_count": 5,
      "source": [
        "print(text[:500])"
      ],
      "outputs": [
        {
          "output_type": "stream",
          "name": "stdout",
          "text": [
            " Евангелие\n",
            "\n",
            "\n",
            "\n",
            " От Матфея святое благовествование\n",
            "\n",
            "\n",
            " Глава 1\n",
            "\n",
            "  1  Родословие Иисуса Христа, Сына Давидова, Сына Авраамова.\n",
            "  2  Авраам родил Исаака; Исаак родил Иакова; Иаков родил Иуду и братьев его;\n",
            "  3  Иуда родил Фареса и Зару от Фамари; Фарес родил Есрома; Есром родил Арама;\n",
            "  4  Арам родил Аминадава; Аминадав родил Наассона; Наассон родил Салмона;\n",
            "  5  Салмон родил Вооза от Рахавы; Вооз родил Овида от Руфи; Овид родил Иессея;\n",
            "  6  Иессей родил Давида царя; Давид царь родил Со\n"
          ]
        }
      ],
      "metadata": {
        "colab": {
          "base_uri": "https://localhost:8080/"
        },
        "id": "Duhg9NrUymwO",
        "outputId": "652733c3-66d9-4be2-d6f7-6d402bb35d32"
      }
    },
    {
      "cell_type": "code",
      "execution_count": 6,
      "source": [
        "text = text + text"
      ],
      "outputs": [],
      "metadata": {
        "id": "jtNGSzKn1o-6"
      }
    },
    {
      "cell_type": "code",
      "execution_count": 7,
      "source": [
        "# The unique characters in the file\n",
        "vocab = sorted(set(text))\n",
        "print('{} unique characters'.format(len(vocab)))"
      ],
      "outputs": [
        {
          "output_type": "stream",
          "name": "stdout",
          "text": [
            "88 unique characters\n"
          ]
        }
      ],
      "metadata": {
        "colab": {
          "base_uri": "https://localhost:8080/"
        },
        "id": "IlCgQBRVymwR",
        "outputId": "170b3409-5f31-4503-8d01-6ab765c323d9"
      }
    },
    {
      "cell_type": "code",
      "execution_count": 8,
      "source": [
        "# Creating a mapping from unique characters to indices\n",
        "char2idx = {u:i for i, u in enumerate(vocab)}\n",
        "idx2char = np.array(vocab)\n",
        "\n",
        "text_as_int = np.array([char2idx[c] for c in text])"
      ],
      "outputs": [],
      "metadata": {
        "id": "IalZLbvOzf-F"
      }
    },
    {
      "cell_type": "code",
      "execution_count": 9,
      "source": [
        "text_as_int, len(text_as_int), len(text)"
      ],
      "outputs": [
        {
          "output_type": "execute_result",
          "data": {
            "text/plain": [
              "(array([ 2, 32, 56, ...,  0,  1,  0]), 1668836, 1668836)"
            ]
          },
          "metadata": {},
          "execution_count": 9
        }
      ],
      "metadata": {
        "colab": {
          "base_uri": "https://localhost:8080/"
        },
        "id": "p-DhY8bbTY3g",
        "outputId": "94211a35-5265-4eeb-9aac-869ebbe27399"
      }
    },
    {
      "cell_type": "markdown",
      "source": [
        "### train and target"
      ],
      "metadata": {
        "id": "hgsVvVxnymwf"
      }
    },
    {
      "cell_type": "code",
      "execution_count": 9,
      "source": [
        "# The maximum length sentence you want for a single input in characters\n",
        "seq_length = 100\n",
        "examples_per_epoch = len(text)//(seq_length+1)\n",
        "\n",
        "# Create training examples / targets\n",
        "char_dataset = tf.data.Dataset.from_tensor_slices(text_as_int)\n",
        "\n",
        "for i in char_dataset.take(5):\n",
        "    print(idx2char[i.numpy()])"
      ],
      "outputs": [
        {
          "output_type": "stream",
          "name": "stdout",
          "text": [
            " \n",
            "Е\n",
            "в\n",
            "а\n",
            "н\n"
          ]
        }
      ],
      "metadata": {
        "colab": {
          "base_uri": "https://localhost:8080/"
        },
        "id": "0UHJDA39zf-O",
        "outputId": "9f8a095e-eb85-4201-e6fb-3b97b29022a1"
      }
    },
    {
      "cell_type": "code",
      "execution_count": 10,
      "source": [
        "sequences = char_dataset.batch(seq_length+1, drop_remainder=True)\n",
        "\n",
        "for item in sequences.take(5):\n",
        "    print(repr(''.join(idx2char[item.numpy()])))"
      ],
      "outputs": [
        {
          "output_type": "stream",
          "name": "stdout",
          "text": [
            "' Евангелие\\r\\n\\r\\n\\r\\n\\r\\n От Матфея святое благовествование\\r\\n\\r\\n\\r\\n Глава 1\\r\\n\\r\\n  1 \\xa0Родословие Иисуса Христа, '\n",
            "'Сына Давидова, Сына Авраамова.\\r\\n  2 \\xa0Авраам родил Исаака; Исаак родил Иакова; Иаков родил Иуду и брат'\n",
            "'ьев его;\\r\\n  3 \\xa0Иуда родил Фареса и Зару от Фамари; Фарес родил Есрома; Есром родил Арама;\\r\\n  4 \\xa0Арам '\n",
            "'родил Аминадава; Аминадав родил Наассона; Наассон родил Салмона;\\r\\n  5 \\xa0Салмон родил Вооза от Рахавы; '\n",
            "'Вооз родил Овида от Руфи; Овид родил Иессея;\\r\\n  6 \\xa0Иессей родил Давида царя; Давид царь родил Соломон'\n"
          ]
        }
      ],
      "metadata": {
        "colab": {
          "base_uri": "https://localhost:8080/"
        },
        "id": "l4hkDU3i7ozi",
        "outputId": "a95f5655-02f5-46c0-c4ca-17f2fa64855c"
      }
    },
    {
      "cell_type": "code",
      "execution_count": 11,
      "source": [
        "def split_input_target(chunk):\n",
        "    input_text = chunk[:-1]\n",
        "    target_text = chunk[1:]\n",
        "    return input_text, target_text\n",
        "\n",
        "dataset = sequences.map(split_input_target)"
      ],
      "outputs": [],
      "metadata": {
        "id": "9NGu-FkO_kYU"
      }
    },
    {
      "cell_type": "markdown",
      "source": [
        "Print the first example input and target values:"
      ],
      "metadata": {
        "id": "hiCopyGZymwi"
      }
    },
    {
      "cell_type": "code",
      "execution_count": 12,
      "source": [
        "for input_example, target_example in  dataset.take(1):\n",
        "    print('Input data: ', repr(''.join(idx2char[input_example.numpy()])))\n",
        "    print('Target data:', repr(''.join(idx2char[target_example.numpy()])))"
      ],
      "outputs": [
        {
          "output_type": "stream",
          "name": "stdout",
          "text": [
            "Input data:  ' Евангелие\\r\\n\\r\\n\\r\\n\\r\\n От Матфея святое благовествование\\r\\n\\r\\n\\r\\n Глава 1\\r\\n\\r\\n  1 \\xa0Родословие Иисуса Христа,'\n",
            "Target data: 'Евангелие\\r\\n\\r\\n\\r\\n\\r\\n От Матфея святое благовествование\\r\\n\\r\\n\\r\\n Глава 1\\r\\n\\r\\n  1 \\xa0Родословие Иисуса Христа, '\n"
          ]
        }
      ],
      "metadata": {
        "colab": {
          "base_uri": "https://localhost:8080/"
        },
        "id": "GNbw-iR0ymwj",
        "outputId": "b9ca9a35-2661-4436-86e8-3880a280baf6"
      }
    },
    {
      "cell_type": "code",
      "execution_count": 13,
      "source": [
        "# Batch size\n",
        "BATCH_SIZE = 64\n",
        "\n",
        "# Buffer size to shuffle the dataset\n",
        "# (TF data is designed to work with possibly infinite sequences,\n",
        "# so it doesn't attempt to shuffle the entire sequence in memory. Instead,\n",
        "# it maintains a buffer in which it shuffles elements).\n",
        "BUFFER_SIZE = 10000\n",
        "\n",
        "dataset = dataset.shuffle(BUFFER_SIZE).batch(BATCH_SIZE, drop_remainder=True)\n",
        "\n",
        "dataset"
      ],
      "outputs": [
        {
          "output_type": "execute_result",
          "data": {
            "text/plain": [
              "<BatchDataset shapes: ((64, 100), (64, 100)), types: (tf.int64, tf.int64)>"
            ]
          },
          "metadata": {},
          "execution_count": 13
        }
      ],
      "metadata": {
        "colab": {
          "base_uri": "https://localhost:8080/"
        },
        "id": "p2pGotuNzf-S",
        "outputId": "a26482c2-fbcf-47c5-c344-8a2b71d568f1"
      }
    },
    {
      "cell_type": "code",
      "execution_count": 14,
      "source": [
        "# Length of the vocabulary in chars\n",
        "vocab_size = len(vocab)\n",
        "\n",
        "# The embedding dimension\n",
        "embedding_dim = 128\n",
        "\n",
        "# Number of RNN units\n",
        "rnn_units = 1024"
      ],
      "outputs": [],
      "metadata": {
        "id": "zHT8cLh7EAsg"
      }
    },
    {
      "cell_type": "code",
      "execution_count": 15,
      "source": [
        "model = tf.keras.Sequential(\n",
        "    [\n",
        "        tf.keras.layers.Embedding(vocab_size, embedding_dim),\n",
        "        tf.keras.layers.LSTM(rnn_units, return_sequences=True),\n",
        "        tf.keras.layers.Dense(vocab_size)\n",
        "    ]\n",
        ")"
      ],
      "outputs": [],
      "metadata": {
        "id": "ZUzZLkyC1UpP"
      }
    },
    {
      "cell_type": "code",
      "execution_count": 16,
      "source": [
        "class RNNgenerator(tf.keras.Model):\n",
        "    def __init__(self, vocab_size, embedding_dim, batch_size):\n",
        "        super(RNNgenerator, self).__init__()\n",
        "        \n",
        "        self.emb = tf.keras.layers.Embedding(vocab_size, embedding_dim)\n",
        "                                 \n",
        "        self.gru1 = tf.keras.layers.GRU(rnn_units,\n",
        "                            return_sequences=True,\n",
        "                            recurrent_initializer='glorot_uniform')\n",
        "        self.gru2 = tf.keras.layers.GRU(rnn_units,\n",
        "                            return_sequences=True,\n",
        "                            recurrent_initializer='glorot_uniform')\n",
        "                           \n",
        "        self.fc = tf.keras.layers.Dense(vocab_size)\n",
        "\n",
        "    def call(self, x):\n",
        "        emb_x = self.emb(x)\n",
        "        x1 = self.gru1(emb_x)\n",
        "        x = x1\n",
        "        for _ in range(3):\n",
        "            x = self.gru2(x)\n",
        "        #x = self.gru1(x)\n",
        "        x = (x + x1)/2\n",
        "        return self.fc(x)\n",
        "\n",
        "model = RNNgenerator(vocab_size, embedding_dim, BATCH_SIZE)"
      ],
      "outputs": [],
      "metadata": {
        "id": "tm1u0iNSaLOi"
      }
    },
    {
      "cell_type": "code",
      "execution_count": 17,
      "source": [
        "def build_model(vocab_size, embedding_dim, rnn_units, batch_size):\n",
        "    model = tf.keras.Sequential([\n",
        "        tf.keras.layers.Embedding(vocab_size, embedding_dim,\n",
        "                                  batch_input_shape=[batch_size, None]),\n",
        "                                 \n",
        "        tf.keras.layers.LSTM(rnn_units,\n",
        "                            return_sequences=True,\n",
        "                            stateful=True,\n",
        "                            recurrent_initializer='glorot_uniform'),\n",
        "\n",
        "        tf.keras.layers.LSTM(rnn_units,\n",
        "                            return_sequences=True,\n",
        "                            stateful=True,\n",
        "                            recurrent_initializer='glorot_uniform'),\n",
        "\n",
        "         tf.keras.layers.LSTM(rnn_units,\n",
        "                            return_sequences=True,\n",
        "                            stateful=True,\n",
        "                            recurrent_initializer='glorot_uniform'),\n",
        "        \n",
        "        tf.keras.layers.LSTM(rnn_units,\n",
        "                            return_sequences=True,\n",
        "                            stateful=True,\n",
        "                            recurrent_initializer='glorot_uniform'),\n",
        "                                   \n",
        "        tf.keras.layers.Dense(vocab_size)\n",
        "    ])\n",
        "    return model"
      ],
      "outputs": [],
      "metadata": {
        "id": "MtCrdfzEI2N0"
      }
    },
    {
      "cell_type": "code",
      "execution_count": null,
      "source": [],
      "outputs": [],
      "metadata": {
        "id": "dDElUEe0LUO_"
      }
    },
    {
      "cell_type": "code",
      "execution_count": 18,
      "source": [
        "def build_model(vocab_size, embedding_dim, rnn_units, batch_size):\n",
        "    model = tf.keras.Sequential([\n",
        "        tf.keras.layers.Embedding(vocab_size, embedding_dim),\n",
        "                                 \n",
        "        tf.keras.layers.GRU(rnn_units,\n",
        "                            return_sequences=True,\n",
        "                            stateful=False,\n",
        "                            recurrent_initializer='glorot_uniform'),\n",
        "\n",
        "        tf.keras.layers.GRU(rnn_units,\n",
        "                            return_sequences=True,\n",
        "                            stateful=False,\n",
        "                            recurrent_initializer='glorot_uniform'),\n",
        "\n",
        "         tf.keras.layers.GRU(rnn_units,\n",
        "                            return_sequences=True,\n",
        "                            stateful=False,\n",
        "                            recurrent_initializer='glorot_uniform'),\n",
        "                                   \n",
        "        tf.keras.layers.Dense(vocab_size)\n",
        "    ])\n",
        "    return model"
      ],
      "outputs": [],
      "metadata": {
        "id": "FNfDlxWZ8NXK"
      }
    },
    {
      "cell_type": "code",
      "execution_count": 19,
      "source": [
        "model = build_model(\n",
        "    vocab_size=len(vocab),\n",
        "    embedding_dim=embedding_dim,\n",
        "    rnn_units=rnn_units,\n",
        "    batch_size=BATCH_SIZE)"
      ],
      "outputs": [],
      "metadata": {
        "id": "wwsrpOik5zhv"
      }
    },
    {
      "cell_type": "code",
      "execution_count": 20,
      "source": [
        "for input_example_batch, target_example_batch in dataset.take(1):\n",
        "    example_batch_predictions = model(input_example_batch)\n",
        "    print(example_batch_predictions.shape, \"# (batch_size, sequence_length, vocab_size)\")"
      ],
      "outputs": [
        {
          "output_type": "stream",
          "name": "stdout",
          "text": [
            "(64, 100, 88) # (batch_size, sequence_length, vocab_size)\n"
          ]
        }
      ],
      "metadata": {
        "colab": {
          "base_uri": "https://localhost:8080/"
        },
        "id": "C-_70kKAPrPU",
        "outputId": "6c58b346-6633-418a-a795-6e02729800d9"
      }
    },
    {
      "cell_type": "code",
      "execution_count": 21,
      "source": [
        "model.summary()"
      ],
      "outputs": [
        {
          "output_type": "stream",
          "name": "stdout",
          "text": [
            "Model: \"sequential_1\"\n",
            "_________________________________________________________________\n",
            "Layer (type)                 Output Shape              Param #   \n",
            "=================================================================\n",
            "embedding_2 (Embedding)      (None, None, 128)         11264     \n",
            "_________________________________________________________________\n",
            "gru_2 (GRU)                  (None, None, 1024)        3545088   \n",
            "_________________________________________________________________\n",
            "gru_3 (GRU)                  (None, None, 1024)        6297600   \n",
            "_________________________________________________________________\n",
            "gru_4 (GRU)                  (None, None, 1024)        6297600   \n",
            "_________________________________________________________________\n",
            "dense_2 (Dense)              (None, None, 88)          90200     \n",
            "=================================================================\n",
            "Total params: 16,241,752\n",
            "Trainable params: 16,241,752\n",
            "Non-trainable params: 0\n",
            "_________________________________________________________________\n"
          ]
        }
      ],
      "metadata": {
        "colab": {
          "base_uri": "https://localhost:8080/"
        },
        "id": "vPGmAAXmVLGC",
        "outputId": "86160459-1146-4513-f71e-3da2a4374ee5"
      }
    },
    {
      "cell_type": "code",
      "execution_count": 22,
      "source": [
        "example_batch_predictions[0]"
      ],
      "outputs": [
        {
          "output_type": "execute_result",
          "data": {
            "text/plain": [
              "<tf.Tensor: shape=(100, 88), dtype=float32, numpy=\n",
              "array([[ 3.8717419e-04,  4.9504539e-04, -4.9765961e-04, ...,\n",
              "        -3.9090408e-04,  1.1322787e-03,  7.3167827e-04],\n",
              "       [ 4.3125133e-04,  8.8875357e-04, -1.4990410e-03, ...,\n",
              "         5.7589066e-05,  1.9211144e-03,  4.9542275e-04],\n",
              "       [ 7.1455771e-04,  1.6016746e-03, -1.5993377e-03, ...,\n",
              "         1.6167706e-03,  2.3126327e-03,  1.0426301e-03],\n",
              "       ...,\n",
              "       [ 2.7031756e-03, -9.6849422e-04, -4.5023235e-03, ...,\n",
              "        -3.5595004e-03,  5.6592808e-03,  2.8479854e-03],\n",
              "       [ 3.1707436e-03, -2.8883945e-04, -4.9850922e-03, ...,\n",
              "        -3.0793624e-03,  6.0811089e-03,  3.2833894e-03],\n",
              "       [ 2.9445298e-03, -7.9178018e-04, -5.8287946e-03, ...,\n",
              "        -2.3779003e-03,  5.9041744e-03,  3.0803126e-03]], dtype=float32)>"
            ]
          },
          "metadata": {},
          "execution_count": 22
        }
      ],
      "metadata": {
        "colab": {
          "base_uri": "https://localhost:8080/"
        },
        "id": "aFkC1pcZjQFq",
        "outputId": "d730a3a1-01db-4c35-d2b4-3760578234de"
      }
    },
    {
      "cell_type": "code",
      "execution_count": 23,
      "source": [
        "sampled_indices = tf.random.categorical(example_batch_predictions[0], num_samples=1)\n",
        "sampled_indices = tf.squeeze(sampled_indices,axis=-1).numpy()"
      ],
      "outputs": [],
      "metadata": {
        "id": "4V4MfFg0RQJg"
      }
    },
    {
      "cell_type": "code",
      "execution_count": 24,
      "source": [
        "print(\"Input: \\n\", repr(\"\".join(idx2char[input_example_batch[0]])))\n",
        "print()\n",
        "print(\"Next Char Predictions: \\n\", repr(\"\".join(idx2char[sampled_indices ])))"
      ],
      "outputs": [
        {
          "output_type": "stream",
          "name": "stdout",
          "text": [
            "Input: \n",
            " 'н Человеческий идёт по предназначению, но горе тому человеку, которым Он предаётся.\\r\\n  23 \\xa0И они нач'\n",
            "\n",
            "Next Char Predictions: \n",
            " '0\\nМтХ9вНШх\\xa0ъОвЧяею0Н\\r\\xa0?эХ«хщ,К(ВъУо2ая;б-л1ъЭ4ШФУЖъ ]\\rЯа] ]ФщёнЯсмсэЯЧ]сгОШ!5рщлрСъпфжГр рьФВ96Ю;фХЗ'\n"
          ]
        }
      ],
      "metadata": {
        "colab": {
          "base_uri": "https://localhost:8080/"
        },
        "id": "xWcFwPwLSo05",
        "outputId": "85b36d91-7186-4774-cf7d-49cbdd4addf3"
      }
    },
    {
      "cell_type": "markdown",
      "source": [
        "## Train the model"
      ],
      "metadata": {
        "id": "LJL0Q0YPY6Ee"
      }
    },
    {
      "cell_type": "code",
      "execution_count": 25,
      "source": [
        "def loss(labels, logits):\n",
        "    return tf.keras.losses.sparse_categorical_crossentropy(labels, logits, from_logits=True)\n",
        "\n",
        "example_batch_loss = loss(target_example_batch, example_batch_predictions)\n",
        "print(\"Prediction shape: \", example_batch_predictions.shape, \" # (batch_size, sequence_length, vocab_size)\")\n",
        "print(\"scalar_loss:      \", example_batch_loss.numpy().mean())"
      ],
      "outputs": [
        {
          "output_type": "stream",
          "name": "stdout",
          "text": [
            "Prediction shape:  (64, 100, 88)  # (batch_size, sequence_length, vocab_size)\n",
            "scalar_loss:       4.477438\n"
          ]
        }
      ],
      "metadata": {
        "colab": {
          "base_uri": "https://localhost:8080/"
        },
        "id": "4HrXTACTdzY-",
        "outputId": "0a54954d-25ab-4494-f9e6-76392e879790"
      }
    },
    {
      "cell_type": "code",
      "execution_count": 26,
      "source": [
        "model.compile(optimizer='adam', loss=loss)"
      ],
      "outputs": [],
      "metadata": {
        "id": "DDl1_Een6rL0"
      }
    },
    {
      "cell_type": "markdown",
      "source": [
        "### Configure checkpoints"
      ],
      "metadata": {
        "id": "ieSJdchZggUj"
      }
    },
    {
      "cell_type": "code",
      "execution_count": 27,
      "source": [
        "# Directory where the checkpoints will be saved\n",
        "checkpoint_dir = './training_checkpoints'\n",
        "# Name of the checkpoint files\n",
        "checkpoint_prefix = os.path.join(checkpoint_dir, \"ckpt_{epoch}\")\n",
        "\n",
        "checkpoint_callback = tf.keras.callbacks.ModelCheckpoint(\n",
        "    filepath=checkpoint_prefix,\n",
        "    period=20,\n",
        "    save_weights_only=True)"
      ],
      "outputs": [
        {
          "output_type": "stream",
          "name": "stdout",
          "text": [
            "WARNING:tensorflow:`period` argument is deprecated. Please use `save_freq` to specify the frequency in number of batches seen.\n"
          ]
        }
      ],
      "metadata": {
        "id": "W6fWTriUZP-n",
        "colab": {
          "base_uri": "https://localhost:8080/"
        },
        "outputId": "4ec37348-53a1-412d-e65d-0c54791425c3"
      }
    },
    {
      "cell_type": "markdown",
      "source": [
        "### Execute the training"
      ],
      "metadata": {
        "id": "3Ky3F_BhgkTW"
      }
    },
    {
      "cell_type": "code",
      "execution_count": 28,
      "source": [
        "EPOCHS = 20"
      ],
      "outputs": [],
      "metadata": {
        "id": "7yGBE2zxMMHs"
      }
    },
    {
      "cell_type": "code",
      "execution_count": 29,
      "source": [
        "history = model.fit(dataset, epochs=EPOCHS, callbacks=[checkpoint_callback])"
      ],
      "outputs": [
        {
          "output_type": "stream",
          "name": "stdout",
          "text": [
            "Epoch 1/20\n",
            "258/258 [==============================] - 1076s 4s/step - loss: 2.5948\n",
            "Epoch 2/20\n",
            "258/258 [==============================] - 1145s 4s/step - loss: 1.5777\n",
            "Epoch 3/20\n",
            "258/258 [==============================] - 1149s 4s/step - loss: 1.2998\n",
            "Epoch 4/20\n",
            "258/258 [==============================] - 1081s 4s/step - loss: 1.1485\n",
            "Epoch 5/20\n",
            "258/258 [==============================] - 1086s 4s/step - loss: 1.0181\n",
            "Epoch 6/20\n",
            "258/258 [==============================] - 1002s 4s/step - loss: 0.8860\n",
            "Epoch 7/20\n",
            "258/258 [==============================] - 1001s 4s/step - loss: 0.7556\n",
            "Epoch 8/20\n",
            "258/258 [==============================] - 1000s 4s/step - loss: 0.6311\n",
            "Epoch 9/20\n",
            "258/258 [==============================] - 1004s 4s/step - loss: 0.5229\n",
            "Epoch 10/20\n",
            "258/258 [==============================] - 1003s 4s/step - loss: 0.4356\n",
            "Epoch 11/20\n",
            "258/258 [==============================] - 1003s 4s/step - loss: 0.3677\n",
            "Epoch 12/20\n",
            "258/258 [==============================] - 1004s 4s/step - loss: 0.3189\n",
            "Epoch 13/20\n",
            "258/258 [==============================] - 1004s 4s/step - loss: 0.2865\n",
            "Epoch 14/20\n",
            "258/258 [==============================] - 1005s 4s/step - loss: 0.2649\n",
            "Epoch 15/20\n",
            "258/258 [==============================] - 1005s 4s/step - loss: 0.2539\n",
            "Epoch 16/20\n",
            "258/258 [==============================] - 1006s 4s/step - loss: 0.2487\n",
            "Epoch 17/20\n",
            "258/258 [==============================] - 1005s 4s/step - loss: 0.2471\n",
            "Epoch 18/20\n",
            "258/258 [==============================] - 1003s 4s/step - loss: 0.2433\n",
            "Epoch 19/20\n",
            "258/258 [==============================] - 1004s 4s/step - loss: 0.2455\n",
            "Epoch 20/20\n",
            "258/258 [==============================] - 1004s 4s/step - loss: 0.2489\n"
          ]
        }
      ],
      "metadata": {
        "colab": {
          "base_uri": "https://localhost:8080/"
        },
        "id": "UK-hmKjYVoll",
        "outputId": "5a3e841d-63db-4ca8-d333-0b0cdc3f28fa"
      }
    },
    {
      "cell_type": "markdown",
      "source": [
        "## Generate text"
      ],
      "metadata": {
        "id": "kKkD5M6eoSiN"
      }
    },
    {
      "cell_type": "code",
      "execution_count": 30,
      "source": [
        "tf.train.latest_checkpoint(checkpoint_dir)"
      ],
      "outputs": [
        {
          "output_type": "execute_result",
          "data": {
            "text/plain": [
              "'./training_checkpoints/ckpt_20'"
            ]
          },
          "metadata": {},
          "execution_count": 30
        }
      ],
      "metadata": {
        "colab": {
          "base_uri": "https://localhost:8080/",
          "height": 35
        },
        "id": "zk2WJ2-XjkGz",
        "outputId": "1fafbae0-6e40-490e-9fdf-efd167d1f77c"
      }
    },
    {
      "cell_type": "code",
      "execution_count": 31,
      "source": [
        "model = build_model(vocab_size, embedding_dim, rnn_units, batch_size=1)\n",
        "model.load_weights(tf.train.latest_checkpoint(checkpoint_dir))\n",
        "model.build(tf.TensorShape([1, None]))"
      ],
      "outputs": [],
      "metadata": {
        "id": "LycQ-ot_jjyu"
      }
    },
    {
      "cell_type": "code",
      "execution_count": 32,
      "source": [
        "model.summary()"
      ],
      "outputs": [
        {
          "output_type": "stream",
          "name": "stdout",
          "text": [
            "Model: \"sequential_2\"\n",
            "_________________________________________________________________\n",
            "Layer (type)                 Output Shape              Param #   \n",
            "=================================================================\n",
            "embedding_3 (Embedding)      (None, None, 128)         11264     \n",
            "_________________________________________________________________\n",
            "gru_5 (GRU)                  (None, None, 1024)        3545088   \n",
            "_________________________________________________________________\n",
            "gru_6 (GRU)                  (None, None, 1024)        6297600   \n",
            "_________________________________________________________________\n",
            "gru_7 (GRU)                  (None, None, 1024)        6297600   \n",
            "_________________________________________________________________\n",
            "dense_3 (Dense)              (None, None, 88)          90200     \n",
            "=================================================================\n",
            "Total params: 16,241,752\n",
            "Trainable params: 16,241,752\n",
            "Non-trainable params: 0\n",
            "_________________________________________________________________\n"
          ]
        }
      ],
      "metadata": {
        "colab": {
          "base_uri": "https://localhost:8080/"
        },
        "id": "71xa6jnYVrAN",
        "outputId": "d0e5023a-0520-4ded-b237-2201bc6955ae"
      }
    },
    {
      "cell_type": "code",
      "execution_count": 33,
      "source": [
        "def generate_text(model, start_string):\n",
        "    # Evaluation step (generating text using the learned model)\n",
        "\n",
        "    # Number of characters to generate\n",
        "    num_generate = 500\n",
        "\n",
        "    # Converting our start string to numbers (vectorizing)\n",
        "    input_eval = [char2idx[s] for s in start_string]\n",
        "    input_eval = tf.expand_dims(input_eval, 0)\n",
        "\n",
        "    # Empty string to store our results\n",
        "    text_generated = []\n",
        "\n",
        "    # Low temperature results in more predictable text.\n",
        "    # Higher temperature results in more surprising text.\n",
        "    # Experiment to find the best setting.\n",
        "    temperature = 0.1\n",
        "\n",
        "    # Here batch size == 1\n",
        "    model.reset_states()\n",
        "    for i in range(num_generate):\n",
        "        predictions = model(input_eval)\n",
        "        predictions = tf.squeeze(predictions, 0)\n",
        "        # using a categorical distribution to predict the character returned by the model\n",
        "        predictions = predictions / temperature\n",
        "        predicted_id = tf.random.categorical(predictions, num_samples=1)[-1, 0].numpy()\n",
        "\n",
        "        # Pass the predicted character as the next input to the model\n",
        "        # along with the previous hidden state\n",
        "        input_eval = tf.expand_dims([predicted_id], 0)\n",
        "\n",
        "        text_generated.append(idx2char[predicted_id])\n",
        "\n",
        "    return (start_string + ''.join(text_generated))"
      ],
      "outputs": [],
      "metadata": {
        "id": "WvuwZBX5Ogfd"
      }
    },
    {
      "cell_type": "code",
      "execution_count": 34,
      "source": [
        "text_ = generate_text(model, start_string=u\"И вот идет уже \")\n",
        "print(text_)"
      ],
      "outputs": [
        {
          "output_type": "stream",
          "name": "stdout",
          "text": [
            "И вот идет уже ни и и и и и и и и и и и и и и и во и и и ни и и и и и и и и и и и ни и и и и и и ни ни и и и и и и и и ни и и и и и и и и и и и и и ни и ни и и и и и во и и и во и и и и и и и и во и и пре и и и и и и и и и и и во и и и и и и во и и и и и и и и и и ни и и ни и и и и и пре и и и и и и и и и ни и и и и и и и и ни во и и и и ни и и и и и и и и и и и и и и и и и и и и и и и и и и и и и и и и и и и и и и и и и и и и пре и и и и и и во и и и и и ни пре и и и и и и и сто и и и и и и и и и и и и и и и \n"
          ]
        }
      ],
      "metadata": {
        "colab": {
          "base_uri": "https://localhost:8080/"
        },
        "id": "ktovv0RFhrkn",
        "outputId": "50f914bc-de42-4648-895e-89104d093d44"
      }
    },
    {
      "cell_type": "code",
      "execution_count": null,
      "source": [],
      "outputs": [],
      "metadata": {
        "id": "4wqVniuFpofL"
      }
    }
  ]
}